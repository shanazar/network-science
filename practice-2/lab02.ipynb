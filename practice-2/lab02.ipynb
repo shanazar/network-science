{
 "nbformat": 4,
 "nbformat_minor": 0,
 "metadata": {
  "colab": {
   "provenance": []
  },
  "kernelspec": {
   "display_name": "Python 3",
   "language": "python",
   "name": "python3"
  },
  "language_info": {
   "codemirror_mode": {
    "name": "ipython",
    "version": 3
   },
   "file_extension": ".py",
   "mimetype": "text/x-python",
   "name": "python",
   "nbconvert_exporter": "python",
   "pygments_lexer": "ipython3",
   "version": "3.9.1"
  }
 },
 "cells": [
  {
   "cell_type": "markdown",
   "metadata": {
    "id": "kF9wFG4bMonS"
   },
   "source": [
    "\n",
    "<h1><center> <font color='black'>  Network Science (LTAT.02.011) - Practice Session - 02  </font></center></h1>\n",
    "<h2><center> <font color='black'> Introduction to Network Analysis</font></center></h3>\n",
    "<h2><center> <font color='black'> University of Tartu</font></center></h3>\n"
   ]
  },
  {
   "cell_type": "markdown",
   "metadata": {
    "id": "wvt4ACYmMonb"
   },
   "source": [
    "================================================================================================================"
   ]
  },
  {
   "cell_type": "markdown",
   "metadata": {
    "id": "O3RaLGGrRU0M"
   },
   "source": [
    "# Today's session agenda:\n",
    "1. **Get familiar with the graphs and how to work with them;**\n",
    "2. **Analyse the data about media companies. Figure out their connections;**\n",
    "3. **Learn about various way of displaying statistic on the graphs**\n"
   ]
  },
  {
   "cell_type": "markdown",
   "source": [],
   "metadata": {
    "collapsed": false
   }
  },
  {
   "cell_type": "markdown",
   "metadata": {
    "id": "dFq0e0YVpF3V"
   },
   "source": [
    "# Install python and Jupyter notebook (Windows)"
   ]
  },
  {
   "cell_type": "markdown",
   "metadata": {
    "id": "ZoQi35EupF3W"
   },
   "source": [
    "* Python: https://youtu.be/UvcQlPZ8ecA\n",
    "* Jupyter notebook: https://youtu.be/pmreXCM2Z9A"
   ]
  },
  {
   "cell_type": "markdown",
   "metadata": {
    "id": "S_iUr47MMonk"
   },
   "source": [
    "# Libraries needed:\n",
    "\n",
    "**We need following libraries: igraph**\n"
   ]
  },
  {
   "cell_type": "code",
   "metadata": {
    "id": "MZpu9qTx1GCs"
   },
   "source": [
    "#Libraries needed for igraph plot fuction to work properly in colab (Thanks to Joonas Ariva)\n",
    "!pip install python-igraph==0.8.3\n",
    "#!apt install libcairo2-dev pkg-config python3-dev\n",
    "#!pip install python-igraph leidenalg cairocffi"
   ],
   "execution_count": null,
   "outputs": []
  },
  {
   "cell_type": "code",
   "source": [
    "!apt install libcairo2-dev pkg-config python3-dev"
   ],
   "metadata": {
    "id": "hF7S3oV5qk49"
   },
   "execution_count": null,
   "outputs": []
  },
  {
   "cell_type": "code",
   "source": [
    "!pip install python-igraph leidenalg cairocffi"
   ],
   "metadata": {
    "id": "SJgMN2Kvq1W5"
   },
   "execution_count": null,
   "outputs": []
  },
  {
   "cell_type": "code",
   "metadata": {
    "id": "VLehHD7rMonp",
    "ExecuteTime": {
     "end_time": "2024-03-19T07:57:52.890709Z",
     "start_time": "2024-03-19T07:57:52.097738Z"
    }
   },
   "source": [
    "# Installing and importing igraph library\n",
    "#!pip install python-igraph\n",
    "import igraph as ig"
   ],
   "execution_count": 1,
   "outputs": []
  },
  {
   "cell_type": "markdown",
   "metadata": {
    "id": "CjHx7QacpF3a"
   },
   "source": [
    "The above statement import the 'igraph' library in the current namespace, but rather than using the name igraph, we will refer it as 'ig'."
   ]
  },
  {
   "cell_type": "code",
   "metadata": {
    "id": "6zmNvtzvpF3b",
    "colab": {
     "base_uri": "https://localhost:8080/"
    },
    "outputId": "f54e818f-22f3-4ecc-bcc2-838a7503e2c3",
    "ExecuteTime": {
     "end_time": "2024-03-19T07:57:52.921659Z",
     "start_time": "2024-03-19T07:57:52.892807Z"
    }
   },
   "source": [
    "#Check its version\n",
    "print(ig.__version__)"
   ],
   "execution_count": 2,
   "outputs": [
    {
     "name": "stdout",
     "output_type": "stream",
     "text": [
      "0.11.4\n"
     ]
    }
   ]
  },
  {
   "cell_type": "markdown",
   "metadata": {
    "id": "y5Yn4BjipF3d"
   },
   "source": [
    "# Creating a sample graph from scratch"
   ]
  },
  {
   "cell_type": "code",
   "metadata": {
    "id": "3b6yQufBpF3e",
    "ExecuteTime": {
     "end_time": "2024-03-19T07:57:52.937661Z",
     "start_time": "2024-03-19T07:57:52.923658Z"
    }
   },
   "source": [
    "g = ig.Graph()"
   ],
   "execution_count": 3,
   "outputs": []
  },
  {
   "cell_type": "markdown",
   "metadata": {
    "id": "k7STPoOjpF3e"
   },
   "source": [
    "The above statement created an undirected graph with no vertices or edges and assigned it to the variable g. We called igraph inbuild class Graph() to build graph g. To confirm that it’s really an igraph graph, we can print it:"
   ]
  },
  {
   "cell_type": "code",
   "metadata": {
    "id": "foxR8pXnpF3f",
    "colab": {
     "base_uri": "https://localhost:8080/"
    },
    "outputId": "4a22403e-403c-4995-906f-972f07765035",
    "ExecuteTime": {
     "end_time": "2024-03-19T07:57:52.953870Z",
     "start_time": "2024-03-19T07:57:52.938661Z"
    }
   },
   "source": [
    "g"
   ],
   "execution_count": 4,
   "outputs": [
    {
     "data": {
      "text/plain": "<igraph.Graph at 0x1f27f4e3440>"
     },
     "execution_count": 4,
     "metadata": {},
     "output_type": "execute_result"
    }
   ]
  },
  {
   "cell_type": "markdown",
   "metadata": {
    "id": "5pYoRF2zpF3f"
   },
   "source": [
    "This tells us that g is an instance of igraph’s Graph class and that it is currently living at the memory address 0x1e46e216040 (the exact output will almost surely be different for your platform). To obtain a more user-friendly output, we can try to print the graph using Python’s print statement:"
   ]
  },
  {
   "cell_type": "code",
   "metadata": {
    "id": "P1jZJIVSpF3g",
    "colab": {
     "base_uri": "https://localhost:8080/"
    },
    "outputId": "b27bb4ac-0516-442e-f028-d7ac7e921acc",
    "ExecuteTime": {
     "end_time": "2024-03-19T07:57:52.969890Z",
     "start_time": "2024-03-19T07:57:52.956585Z"
    }
   },
   "source": [
    "print(g)"
   ],
   "execution_count": 5,
   "outputs": [
    {
     "name": "stdout",
     "output_type": "stream",
     "text": [
      "IGRAPH U--- 0 0 --\n"
     ]
    }
   ]
  },
  {
   "cell_type": "markdown",
   "metadata": {
    "id": "6ElcRs-upF3g"
   },
   "source": [
    "Above we can find some important information about the graph:\n",
    "\n",
    "* Four character long code, where 'U' means undirected graph\n",
    "* First number - the number of nodes\n",
    "* Second number - the number of edges in the graph"
   ]
  },
  {
   "cell_type": "code",
   "metadata": {
    "id": "kp9u9fmepF3h",
    "ExecuteTime": {
     "end_time": "2024-03-19T07:57:53.373359Z",
     "start_time": "2024-03-19T07:57:53.360891Z"
    }
   },
   "source": [
    "# Let's add some vertices\n",
    "g.add_vertices(3)\n",
    "#0, 1, 2"
   ],
   "execution_count": 6,
   "outputs": []
  },
  {
   "cell_type": "markdown",
   "metadata": {
    "id": "RgQ2USOtpF3h"
   },
   "source": [
    "The above statement access the add_vertices() method of the Graph class using the same class object g, and it adds the given number of vertices to the graph."
   ]
  },
  {
   "cell_type": "code",
   "metadata": {
    "id": "LCTpU7hspF3h",
    "colab": {
     "base_uri": "https://localhost:8080/"
    },
    "outputId": "1df9c45e-92c4-4273-a423-e6d12ef5657e",
    "ExecuteTime": {
     "end_time": "2024-03-19T07:57:53.682781Z",
     "start_time": "2024-03-19T07:57:53.673112Z"
    }
   },
   "source": [
    "print(g)"
   ],
   "execution_count": 7,
   "outputs": [
    {
     "name": "stdout",
     "output_type": "stream",
     "text": [
      "IGRAPH U--- 3 0 --\n"
     ]
    }
   ]
  },
  {
   "cell_type": "markdown",
   "metadata": {
    "id": "kWdANdiapF3i"
   },
   "source": [
    "Now our graph has three vertices but no edges. Let’s add some edges as well! We can add edges by calling add_edges() method of the Graph class using the object g - but in order to add edges, we have to refer to existing vertices somehow. igraph uses integer vertex IDs starting from zero, thus the first vertex of your graph has index zero, the second vertex has index 1 and so on. Edges are specified by pairs of integers, so [(0,1), (1,2)] denotes a list of two edges: one between the first and the second, and the other one between the second and the third vertices of the graph. Passing this list to add_edges() method adds these two edges to our graph:"
   ]
  },
  {
   "cell_type": "code",
   "metadata": {
    "id": "3KnLdkY-pF3j",
    "ExecuteTime": {
     "end_time": "2024-03-19T07:57:54.069420Z",
     "start_time": "2024-03-19T07:57:54.055937Z"
    }
   },
   "source": [
    "g.add_edges([(0,1), (1,2)])"
   ],
   "execution_count": 8,
   "outputs": []
  },
  {
   "cell_type": "code",
   "metadata": {
    "id": "FmF7xudMpF3j",
    "colab": {
     "base_uri": "https://localhost:8080/"
    },
    "outputId": "dad51aa9-106b-4bda-e17d-daae1228bfd1",
    "ExecuteTime": {
     "end_time": "2024-03-19T07:57:54.301905Z",
     "start_time": "2024-03-19T07:57:54.291414Z"
    }
   },
   "source": [
    "print(g)"
   ],
   "execution_count": 9,
   "outputs": [
    {
     "name": "stdout",
     "output_type": "stream",
     "text": [
      "IGRAPH U--- 3 2 --\n",
      "+ edges:\n",
      "0--1 1--2\n"
     ]
    }
   ]
  },
  {
   "cell_type": "markdown",
   "metadata": {
    "id": "XsSUpj9WpF3k"
   },
   "source": [
    "Above we can find some important information about the graph:\n",
    "\n",
    "* Four character long code, where 'U' means undirected graph\n",
    "* First number - the number of nodes\n",
    "* Second number - the number of edges in the graph\n",
    "* List of edges"
   ]
  },
  {
   "cell_type": "code",
   "metadata": {
    "id": "zVR5Qu0PpF3l",
    "colab": {
     "base_uri": "https://localhost:8080/",
     "height": 314
    },
    "outputId": "1591f06d-87e5-407d-9e6c-7d98a7a7393e",
    "ExecuteTime": {
     "end_time": "2024-03-19T07:57:55.215203Z",
     "start_time": "2024-03-19T07:57:54.644142Z"
    }
   },
   "source": [
    "#Let's try to add edges to invalid ID vetices\n",
    "g.add_edges((5, 0))"
   ],
   "execution_count": 10,
   "outputs": [
    {
     "ename": "TypeError",
     "evalue": "iterable must return pairs of integers or strings",
     "output_type": "error",
     "traceback": [
      "\u001B[1;31m---------------------------------------------------------------------------\u001B[0m",
      "\u001B[1;31mTypeError\u001B[0m                                 Traceback (most recent call last)",
      "Cell \u001B[1;32mIn[10], line 2\u001B[0m\n\u001B[0;32m      1\u001B[0m \u001B[38;5;66;03m#Let's try to add edges to invalid ID vetices\u001B[39;00m\n\u001B[1;32m----> 2\u001B[0m \u001B[43mg\u001B[49m\u001B[38;5;241;43m.\u001B[39;49m\u001B[43madd_edges\u001B[49m\u001B[43m(\u001B[49m\u001B[43m(\u001B[49m\u001B[38;5;241;43m5\u001B[39;49m\u001B[43m,\u001B[49m\u001B[43m \u001B[49m\u001B[38;5;241;43m0\u001B[39;49m\u001B[43m)\u001B[49m\u001B[43m)\u001B[49m\n",
      "File \u001B[1;32m~\\AppData\\Local\\Programs\\Python\\Python38\\lib\\site-packages\\igraph\\basic.py:42\u001B[0m, in \u001B[0;36m_add_edges\u001B[1;34m(graph, es, attributes)\u001B[0m\n\u001B[0;32m     32\u001B[0m \u001B[38;5;250m\u001B[39m\u001B[38;5;124;03m\"\"\"Adds some edges to the graph.\u001B[39;00m\n\u001B[0;32m     33\u001B[0m \n\u001B[0;32m     34\u001B[0m \u001B[38;5;124;03m@param es: the list of edges to be added. Every edge is represented\u001B[39;00m\n\u001B[1;32m   (...)\u001B[0m\n\u001B[0;32m     39\u001B[0m \u001B[38;5;124;03m  edges.\u001B[39;00m\n\u001B[0;32m     40\u001B[0m \u001B[38;5;124;03m\"\"\"\u001B[39;00m\n\u001B[0;32m     41\u001B[0m eid \u001B[38;5;241m=\u001B[39m graph\u001B[38;5;241m.\u001B[39mecount()\n\u001B[1;32m---> 42\u001B[0m res \u001B[38;5;241m=\u001B[39m \u001B[43mGraphBase\u001B[49m\u001B[38;5;241;43m.\u001B[39;49m\u001B[43madd_edges\u001B[49m\u001B[43m(\u001B[49m\u001B[43mgraph\u001B[49m\u001B[43m,\u001B[49m\u001B[43m \u001B[49m\u001B[43mes\u001B[49m\u001B[43m)\u001B[49m\n\u001B[0;32m     43\u001B[0m n \u001B[38;5;241m=\u001B[39m graph\u001B[38;5;241m.\u001B[39mecount() \u001B[38;5;241m-\u001B[39m eid\n\u001B[0;32m     44\u001B[0m \u001B[38;5;28;01mif\u001B[39;00m (attributes \u001B[38;5;129;01mis\u001B[39;00m \u001B[38;5;129;01mnot\u001B[39;00m \u001B[38;5;28;01mNone\u001B[39;00m) \u001B[38;5;129;01mand\u001B[39;00m (n \u001B[38;5;241m>\u001B[39m \u001B[38;5;241m0\u001B[39m):\n",
      "\u001B[1;31mTypeError\u001B[0m: iterable must return pairs of integers or strings"
     ]
    }
   ]
  },
  {
   "cell_type": "markdown",
   "metadata": {
    "id": "GY8dXcGJpF3m"
   },
   "source": [
    "Most igraph functions will raise an igraph.core.InternalError if something goes wrong. The message corresponding to the exception gives you a short textual explanation of what went wrong (cannot add edges, invalid vertex id) along with the corresponding line in the C source where the error occurred."
   ]
  },
  {
   "cell_type": "code",
   "metadata": {
    "id": "7Mxdj_q8pF3m",
    "colab": {
     "base_uri": "https://localhost:8080/"
    },
    "outputId": "d1c3c07c-63f3-412c-ebb1-89107d0b0c1b",
    "ExecuteTime": {
     "end_time": "2024-03-19T07:57:55.353482Z",
     "start_time": "2024-03-19T07:57:55.346065Z"
    }
   },
   "source": [
    "#Let us go on with our graph g and add some more vertices and edges to it:\n",
    "g.add_edges([(2, 0)])\n",
    "g.add_vertices(3)\n",
    "#0,1,2,3,4,5\n",
    "g.add_edges([(2, 3), (3, 4), (4, 5), (5, 3)])\n",
    "print(g)"
   ],
   "execution_count": 11,
   "outputs": [
    {
     "name": "stdout",
     "output_type": "stream",
     "text": [
      "IGRAPH U--- 6 7 --\n",
      "+ edges:\n",
      "0--1 1--2 0--2 2--3 3--4 4--5 3--5\n"
     ]
    }
   ]
  },
  {
   "cell_type": "markdown",
   "metadata": {
    "id": "bswLQspJpF3n"
   },
   "source": [
    "Note: Edges also have IDs, similarly to vertices; they also start from zero and edges that were added later have higher IDs than edges that were added earlier. Vertex and edge IDs are always continuous, and a direct consequence of this fact is that if we happen to delete an edge, chances are that some (or all) of the edges will be renumbered. Moreover, if we| delete a vertex, even the vertex IDs will change."
   ]
  },
  {
   "cell_type": "code",
   "metadata": {
    "id": "_A1PSIu1pF3o",
    "colab": {
     "base_uri": "https://localhost:8080/"
    },
    "outputId": "eac8d669-b2f7-42ab-81b1-c3cae1302722",
    "ExecuteTime": {
     "end_time": "2024-03-19T07:57:55.694438Z",
     "start_time": "2024-03-19T07:57:55.685230Z"
    }
   },
   "source": [
    "#get edge ID using get_id method\n",
    "g.get_eid(2, 3)"
   ],
   "execution_count": 12,
   "outputs": [
    {
     "data": {
      "text/plain": "3"
     },
     "execution_count": 12,
     "metadata": {},
     "output_type": "execute_result"
    }
   ]
  },
  {
   "cell_type": "markdown",
   "metadata": {
    "id": "7iMu9deupF3p"
   },
   "source": [
    "Edges can be deleted by delete_edges() method and it requires a list of edge IDs to be deleted (or a single edge ID). Vertices can be deleted by delete_vertices() and it requires a list of vertex IDs to be deleted (or a single vertex ID)."
   ]
  },
  {
   "cell_type": "code",
   "metadata": {
    "id": "bcmuzmuVpF3p",
    "colab": {
     "base_uri": "https://localhost:8080/"
    },
    "outputId": "523479c4-54d9-411f-dbef-0d5f576cd4f4",
    "ExecuteTime": {
     "end_time": "2024-03-19T07:57:56.944006Z",
     "start_time": "2024-03-19T07:57:56.931434Z"
    }
   },
   "source": [
    "#delete edge ID 3\n",
    "g.delete_edges(3)\n",
    "print(g)"
   ],
   "execution_count": 13,
   "outputs": [
    {
     "name": "stdout",
     "output_type": "stream",
     "text": [
      "IGRAPH U--- 6 6 --\n",
      "+ edges:\n",
      "0--1 1--2 0--2 3--4 4--5 3--5\n"
     ]
    }
   ]
  },
  {
   "cell_type": "code",
   "metadata": {
    "id": "g2HAVZyQpF3q",
    "colab": {
     "base_uri": "https://localhost:8080/",
     "height": 288
    },
    "outputId": "245cd621-4c54-444f-9bc7-e623bd460509",
    "ExecuteTime": {
     "end_time": "2024-03-19T07:57:57.547521Z",
     "start_time": "2024-03-19T07:57:57.292049Z"
    }
   },
   "source": [
    "#Let's visualize our graph g\n",
    "ig.plot(g,bbox=(200,200))"
   ],
   "execution_count": 14,
   "outputs": [
    {
     "ename": "AttributeError",
     "evalue": "Plotting not available; please install pycairo or cairocffi",
     "output_type": "error",
     "traceback": [
      "\u001B[1;31m---------------------------------------------------------------------------\u001B[0m",
      "\u001B[1;31mAttributeError\u001B[0m                            Traceback (most recent call last)",
      "Cell \u001B[1;32mIn[14], line 2\u001B[0m\n\u001B[0;32m      1\u001B[0m \u001B[38;5;66;03m#Let's visualize our graph g\u001B[39;00m\n\u001B[1;32m----> 2\u001B[0m \u001B[43mig\u001B[49m\u001B[38;5;241;43m.\u001B[39;49m\u001B[43mplot\u001B[49m\u001B[43m(\u001B[49m\u001B[43mg\u001B[49m\u001B[43m,\u001B[49m\u001B[43mbbox\u001B[49m\u001B[38;5;241;43m=\u001B[39;49m\u001B[43m(\u001B[49m\u001B[38;5;241;43m200\u001B[39;49m\u001B[43m,\u001B[49m\u001B[38;5;241;43m200\u001B[39;49m\u001B[43m)\u001B[49m\u001B[43m)\u001B[49m\n",
      "File \u001B[1;32m~\\AppData\\Local\\Programs\\Python\\Python38\\lib\\site-packages\\igraph\\drawing\\__init__.py:299\u001B[0m, in \u001B[0;36mplot\u001B[1;34m(obj, target, bbox, *args, **kwds)\u001B[0m\n\u001B[0;32m    297\u001B[0m background \u001B[38;5;241m=\u001B[39m kwds\u001B[38;5;241m.\u001B[39mpop(\u001B[38;5;124m\"\u001B[39m\u001B[38;5;124mbackground\u001B[39m\u001B[38;5;124m\"\u001B[39m, \u001B[38;5;124m\"\u001B[39m\u001B[38;5;124mwhite\u001B[39m\u001B[38;5;124m\"\u001B[39m)\n\u001B[0;32m    298\u001B[0m margin \u001B[38;5;241m=\u001B[39m \u001B[38;5;28mfloat\u001B[39m(kwds\u001B[38;5;241m.\u001B[39mpop(\u001B[38;5;124m\"\u001B[39m\u001B[38;5;124mmargin\u001B[39m\u001B[38;5;124m\"\u001B[39m, \u001B[38;5;241m20\u001B[39m))\n\u001B[1;32m--> 299\u001B[0m result \u001B[38;5;241m=\u001B[39m \u001B[43mCairoPlot\u001B[49m\u001B[43m(\u001B[49m\n\u001B[0;32m    300\u001B[0m \u001B[43m    \u001B[49m\u001B[43mtarget\u001B[49m\u001B[38;5;241;43m=\u001B[39;49m\u001B[43mtarget\u001B[49m\u001B[43m,\u001B[49m\n\u001B[0;32m    301\u001B[0m \u001B[43m    \u001B[49m\u001B[43mbbox\u001B[49m\u001B[38;5;241;43m=\u001B[39;49m\u001B[43mbbox\u001B[49m\u001B[43m,\u001B[49m\n\u001B[0;32m    302\u001B[0m \u001B[43m    \u001B[49m\u001B[43mpalette\u001B[49m\u001B[38;5;241;43m=\u001B[39;49m\u001B[43mpalette\u001B[49m\u001B[43m,\u001B[49m\n\u001B[0;32m    303\u001B[0m \u001B[43m    \u001B[49m\u001B[43mbackground\u001B[49m\u001B[38;5;241;43m=\u001B[39;49m\u001B[43mbackground\u001B[49m\u001B[43m,\u001B[49m\n\u001B[0;32m    304\u001B[0m \u001B[43m\u001B[49m\u001B[43m)\u001B[49m\n\u001B[0;32m    305\u001B[0m item_bbox \u001B[38;5;241m=\u001B[39m result\u001B[38;5;241m.\u001B[39mbbox\u001B[38;5;241m.\u001B[39mcontract(margin)\n\u001B[0;32m    306\u001B[0m result\u001B[38;5;241m.\u001B[39madd(obj, item_bbox, \u001B[38;5;241m*\u001B[39margs, \u001B[38;5;241m*\u001B[39m\u001B[38;5;241m*\u001B[39mkwds)\n",
      "File \u001B[1;32m~\\AppData\\Local\\Programs\\Python\\Python38\\lib\\site-packages\\igraph\\drawing\\cairo\\plot.py:148\u001B[0m, in \u001B[0;36mCairoPlot.__init__\u001B[1;34m(self, target, bbox, palette, background)\u001B[0m\n\u001B[0;32m    146\u001B[0m \u001B[38;5;28;01mif\u001B[39;00m target \u001B[38;5;129;01mis\u001B[39;00m \u001B[38;5;28;01mNone\u001B[39;00m:\n\u001B[0;32m    147\u001B[0m     \u001B[38;5;28mself\u001B[39m\u001B[38;5;241m.\u001B[39m_need_tmpfile \u001B[38;5;241m=\u001B[39m \u001B[38;5;28;01mTrue\u001B[39;00m\n\u001B[1;32m--> 148\u001B[0m     \u001B[38;5;28mself\u001B[39m\u001B[38;5;241m.\u001B[39m_surface \u001B[38;5;241m=\u001B[39m \u001B[43mcairo\u001B[49m\u001B[38;5;241;43m.\u001B[39;49m\u001B[43mImageSurface\u001B[49m(\n\u001B[0;32m    149\u001B[0m         cairo\u001B[38;5;241m.\u001B[39mFORMAT_ARGB32, \u001B[38;5;28mint\u001B[39m(\u001B[38;5;28mself\u001B[39m\u001B[38;5;241m.\u001B[39mbbox\u001B[38;5;241m.\u001B[39mwidth), \u001B[38;5;28mint\u001B[39m(\u001B[38;5;28mself\u001B[39m\u001B[38;5;241m.\u001B[39mbbox\u001B[38;5;241m.\u001B[39mheight)\n\u001B[0;32m    150\u001B[0m     )\n\u001B[0;32m    151\u001B[0m \u001B[38;5;28;01melif\u001B[39;00m \u001B[38;5;28misinstance\u001B[39m(target, cairo\u001B[38;5;241m.\u001B[39mSurface):\n\u001B[0;32m    152\u001B[0m     \u001B[38;5;28mself\u001B[39m\u001B[38;5;241m.\u001B[39m_surface \u001B[38;5;241m=\u001B[39m target\n",
      "File \u001B[1;32m~\\AppData\\Local\\Programs\\Python\\Python38\\lib\\site-packages\\igraph\\drawing\\utils.py:428\u001B[0m, in \u001B[0;36mFakeModule.__getattr__\u001B[1;34m(self, _)\u001B[0m\n\u001B[0;32m    427\u001B[0m \u001B[38;5;28;01mdef\u001B[39;00m \u001B[38;5;21m__getattr__\u001B[39m(\u001B[38;5;28mself\u001B[39m, _):\n\u001B[1;32m--> 428\u001B[0m     \u001B[38;5;28;01mraise\u001B[39;00m \u001B[38;5;167;01mAttributeError\u001B[39;00m(\u001B[38;5;28mself\u001B[39m\u001B[38;5;241m.\u001B[39m_message)\n",
      "\u001B[1;31mAttributeError\u001B[0m: Plotting not available; please install pycairo or cairocffi"
     ]
    }
   ]
  },
  {
   "cell_type": "markdown",
   "metadata": {
    "id": "I-63v_3TpF3r"
   },
   "source": [
    "# Creating networks"
   ]
  },
  {
   "cell_type": "code",
   "metadata": {
    "colab": {
     "base_uri": "https://localhost:8080/",
     "height": 342
    },
    "id": "9XTRyH9-Mon9",
    "outputId": "8893c420-3a88-4be6-d85e-cb3ea66e96ad",
    "ExecuteTime": {
     "end_time": "2024-03-19T07:57:57.916459Z",
     "start_time": "2024-03-19T07:57:57.801083Z"
    }
   },
   "source": [
    "# Let’s create an undirected graph with 3 edges.\n",
    "g1 = ig.Graph(edges=[(0,1), (1,2), (2, 0)], n=3, directed=False)\n",
    "#0,1,2\n",
    "print(g1)\n",
    "ig.plot(g1,bbox=(200,200))"
   ],
   "execution_count": 15,
   "outputs": [
    {
     "name": "stdout",
     "output_type": "stream",
     "text": [
      "IGRAPH U--- 3 3 --\n",
      "+ edges:\n",
      "0--1 1--2 0--2\n"
     ]
    },
    {
     "ename": "AttributeError",
     "evalue": "Plotting not available; please install pycairo or cairocffi",
     "output_type": "error",
     "traceback": [
      "\u001B[1;31m---------------------------------------------------------------------------\u001B[0m",
      "\u001B[1;31mAttributeError\u001B[0m                            Traceback (most recent call last)",
      "Cell \u001B[1;32mIn[15], line 5\u001B[0m\n\u001B[0;32m      3\u001B[0m \u001B[38;5;66;03m#0,1,2\u001B[39;00m\n\u001B[0;32m      4\u001B[0m \u001B[38;5;28mprint\u001B[39m(g1)\n\u001B[1;32m----> 5\u001B[0m \u001B[43mig\u001B[49m\u001B[38;5;241;43m.\u001B[39;49m\u001B[43mplot\u001B[49m\u001B[43m(\u001B[49m\u001B[43mg1\u001B[49m\u001B[43m,\u001B[49m\u001B[43mbbox\u001B[49m\u001B[38;5;241;43m=\u001B[39;49m\u001B[43m(\u001B[49m\u001B[38;5;241;43m200\u001B[39;49m\u001B[43m,\u001B[49m\u001B[38;5;241;43m200\u001B[39;49m\u001B[43m)\u001B[49m\u001B[43m)\u001B[49m\n",
      "File \u001B[1;32m~\\AppData\\Local\\Programs\\Python\\Python38\\lib\\site-packages\\igraph\\drawing\\__init__.py:299\u001B[0m, in \u001B[0;36mplot\u001B[1;34m(obj, target, bbox, *args, **kwds)\u001B[0m\n\u001B[0;32m    297\u001B[0m background \u001B[38;5;241m=\u001B[39m kwds\u001B[38;5;241m.\u001B[39mpop(\u001B[38;5;124m\"\u001B[39m\u001B[38;5;124mbackground\u001B[39m\u001B[38;5;124m\"\u001B[39m, \u001B[38;5;124m\"\u001B[39m\u001B[38;5;124mwhite\u001B[39m\u001B[38;5;124m\"\u001B[39m)\n\u001B[0;32m    298\u001B[0m margin \u001B[38;5;241m=\u001B[39m \u001B[38;5;28mfloat\u001B[39m(kwds\u001B[38;5;241m.\u001B[39mpop(\u001B[38;5;124m\"\u001B[39m\u001B[38;5;124mmargin\u001B[39m\u001B[38;5;124m\"\u001B[39m, \u001B[38;5;241m20\u001B[39m))\n\u001B[1;32m--> 299\u001B[0m result \u001B[38;5;241m=\u001B[39m \u001B[43mCairoPlot\u001B[49m\u001B[43m(\u001B[49m\n\u001B[0;32m    300\u001B[0m \u001B[43m    \u001B[49m\u001B[43mtarget\u001B[49m\u001B[38;5;241;43m=\u001B[39;49m\u001B[43mtarget\u001B[49m\u001B[43m,\u001B[49m\n\u001B[0;32m    301\u001B[0m \u001B[43m    \u001B[49m\u001B[43mbbox\u001B[49m\u001B[38;5;241;43m=\u001B[39;49m\u001B[43mbbox\u001B[49m\u001B[43m,\u001B[49m\n\u001B[0;32m    302\u001B[0m \u001B[43m    \u001B[49m\u001B[43mpalette\u001B[49m\u001B[38;5;241;43m=\u001B[39;49m\u001B[43mpalette\u001B[49m\u001B[43m,\u001B[49m\n\u001B[0;32m    303\u001B[0m \u001B[43m    \u001B[49m\u001B[43mbackground\u001B[49m\u001B[38;5;241;43m=\u001B[39;49m\u001B[43mbackground\u001B[49m\u001B[43m,\u001B[49m\n\u001B[0;32m    304\u001B[0m \u001B[43m\u001B[49m\u001B[43m)\u001B[49m\n\u001B[0;32m    305\u001B[0m item_bbox \u001B[38;5;241m=\u001B[39m result\u001B[38;5;241m.\u001B[39mbbox\u001B[38;5;241m.\u001B[39mcontract(margin)\n\u001B[0;32m    306\u001B[0m result\u001B[38;5;241m.\u001B[39madd(obj, item_bbox, \u001B[38;5;241m*\u001B[39margs, \u001B[38;5;241m*\u001B[39m\u001B[38;5;241m*\u001B[39mkwds)\n",
      "File \u001B[1;32m~\\AppData\\Local\\Programs\\Python\\Python38\\lib\\site-packages\\igraph\\drawing\\cairo\\plot.py:148\u001B[0m, in \u001B[0;36mCairoPlot.__init__\u001B[1;34m(self, target, bbox, palette, background)\u001B[0m\n\u001B[0;32m    146\u001B[0m \u001B[38;5;28;01mif\u001B[39;00m target \u001B[38;5;129;01mis\u001B[39;00m \u001B[38;5;28;01mNone\u001B[39;00m:\n\u001B[0;32m    147\u001B[0m     \u001B[38;5;28mself\u001B[39m\u001B[38;5;241m.\u001B[39m_need_tmpfile \u001B[38;5;241m=\u001B[39m \u001B[38;5;28;01mTrue\u001B[39;00m\n\u001B[1;32m--> 148\u001B[0m     \u001B[38;5;28mself\u001B[39m\u001B[38;5;241m.\u001B[39m_surface \u001B[38;5;241m=\u001B[39m \u001B[43mcairo\u001B[49m\u001B[38;5;241;43m.\u001B[39;49m\u001B[43mImageSurface\u001B[49m(\n\u001B[0;32m    149\u001B[0m         cairo\u001B[38;5;241m.\u001B[39mFORMAT_ARGB32, \u001B[38;5;28mint\u001B[39m(\u001B[38;5;28mself\u001B[39m\u001B[38;5;241m.\u001B[39mbbox\u001B[38;5;241m.\u001B[39mwidth), \u001B[38;5;28mint\u001B[39m(\u001B[38;5;28mself\u001B[39m\u001B[38;5;241m.\u001B[39mbbox\u001B[38;5;241m.\u001B[39mheight)\n\u001B[0;32m    150\u001B[0m     )\n\u001B[0;32m    151\u001B[0m \u001B[38;5;28;01melif\u001B[39;00m \u001B[38;5;28misinstance\u001B[39m(target, cairo\u001B[38;5;241m.\u001B[39mSurface):\n\u001B[0;32m    152\u001B[0m     \u001B[38;5;28mself\u001B[39m\u001B[38;5;241m.\u001B[39m_surface \u001B[38;5;241m=\u001B[39m target\n",
      "File \u001B[1;32m~\\AppData\\Local\\Programs\\Python\\Python38\\lib\\site-packages\\igraph\\drawing\\utils.py:428\u001B[0m, in \u001B[0;36mFakeModule.__getattr__\u001B[1;34m(self, _)\u001B[0m\n\u001B[0;32m    427\u001B[0m \u001B[38;5;28;01mdef\u001B[39;00m \u001B[38;5;21m__getattr__\u001B[39m(\u001B[38;5;28mself\u001B[39m, _):\n\u001B[1;32m--> 428\u001B[0m     \u001B[38;5;28;01mraise\u001B[39;00m \u001B[38;5;167;01mAttributeError\u001B[39;00m(\u001B[38;5;28mself\u001B[39m\u001B[38;5;241m.\u001B[39m_message)\n",
      "\u001B[1;31mAttributeError\u001B[0m: Plotting not available; please install pycairo or cairocffi"
     ]
    }
   ]
  },
  {
   "cell_type": "markdown",
   "metadata": {
    "id": "hrJoAjZ5pF3t"
   },
   "source": [
    "On the plot above we have 3 nodes (0,1,2) and undirected edges that connect nodes next way: 0--1, 1--2, 2--0."
   ]
  },
  {
   "cell_type": "code",
   "metadata": {
    "id": "8SXf92qBpF3u",
    "outputId": "279298ee-be23-49fc-b6d7-8ab16acfea25",
    "colab": {
     "base_uri": "https://localhost:8080/",
     "height": 421
    },
    "ExecuteTime": {
     "end_time": "2024-03-19T07:57:58.287726Z",
     "start_time": "2024-03-19T07:57:58.201349Z"
    }
   },
   "source": [
    "#save graph as png\n",
    "ig.plot(g1,\"g1.png\", bbox=(300,300))"
   ],
   "execution_count": 16,
   "outputs": [
    {
     "ename": "AttributeError",
     "evalue": "Plotting not available; please install pycairo or cairocffi",
     "output_type": "error",
     "traceback": [
      "\u001B[1;31m---------------------------------------------------------------------------\u001B[0m",
      "\u001B[1;31mAttributeError\u001B[0m                            Traceback (most recent call last)",
      "Cell \u001B[1;32mIn[16], line 2\u001B[0m\n\u001B[0;32m      1\u001B[0m \u001B[38;5;66;03m#save graph as png\u001B[39;00m\n\u001B[1;32m----> 2\u001B[0m \u001B[43mig\u001B[49m\u001B[38;5;241;43m.\u001B[39;49m\u001B[43mplot\u001B[49m\u001B[43m(\u001B[49m\u001B[43mg1\u001B[49m\u001B[43m,\u001B[49m\u001B[38;5;124;43m\"\u001B[39;49m\u001B[38;5;124;43mg1.png\u001B[39;49m\u001B[38;5;124;43m\"\u001B[39;49m\u001B[43m,\u001B[49m\u001B[43m \u001B[49m\u001B[43mbbox\u001B[49m\u001B[38;5;241;43m=\u001B[39;49m\u001B[43m(\u001B[49m\u001B[38;5;241;43m300\u001B[39;49m\u001B[43m,\u001B[49m\u001B[38;5;241;43m300\u001B[39;49m\u001B[43m)\u001B[49m\u001B[43m)\u001B[49m\n",
      "File \u001B[1;32m~\\AppData\\Local\\Programs\\Python\\Python38\\lib\\site-packages\\igraph\\drawing\\__init__.py:299\u001B[0m, in \u001B[0;36mplot\u001B[1;34m(obj, target, bbox, *args, **kwds)\u001B[0m\n\u001B[0;32m    297\u001B[0m background \u001B[38;5;241m=\u001B[39m kwds\u001B[38;5;241m.\u001B[39mpop(\u001B[38;5;124m\"\u001B[39m\u001B[38;5;124mbackground\u001B[39m\u001B[38;5;124m\"\u001B[39m, \u001B[38;5;124m\"\u001B[39m\u001B[38;5;124mwhite\u001B[39m\u001B[38;5;124m\"\u001B[39m)\n\u001B[0;32m    298\u001B[0m margin \u001B[38;5;241m=\u001B[39m \u001B[38;5;28mfloat\u001B[39m(kwds\u001B[38;5;241m.\u001B[39mpop(\u001B[38;5;124m\"\u001B[39m\u001B[38;5;124mmargin\u001B[39m\u001B[38;5;124m\"\u001B[39m, \u001B[38;5;241m20\u001B[39m))\n\u001B[1;32m--> 299\u001B[0m result \u001B[38;5;241m=\u001B[39m \u001B[43mCairoPlot\u001B[49m\u001B[43m(\u001B[49m\n\u001B[0;32m    300\u001B[0m \u001B[43m    \u001B[49m\u001B[43mtarget\u001B[49m\u001B[38;5;241;43m=\u001B[39;49m\u001B[43mtarget\u001B[49m\u001B[43m,\u001B[49m\n\u001B[0;32m    301\u001B[0m \u001B[43m    \u001B[49m\u001B[43mbbox\u001B[49m\u001B[38;5;241;43m=\u001B[39;49m\u001B[43mbbox\u001B[49m\u001B[43m,\u001B[49m\n\u001B[0;32m    302\u001B[0m \u001B[43m    \u001B[49m\u001B[43mpalette\u001B[49m\u001B[38;5;241;43m=\u001B[39;49m\u001B[43mpalette\u001B[49m\u001B[43m,\u001B[49m\n\u001B[0;32m    303\u001B[0m \u001B[43m    \u001B[49m\u001B[43mbackground\u001B[49m\u001B[38;5;241;43m=\u001B[39;49m\u001B[43mbackground\u001B[49m\u001B[43m,\u001B[49m\n\u001B[0;32m    304\u001B[0m \u001B[43m\u001B[49m\u001B[43m)\u001B[49m\n\u001B[0;32m    305\u001B[0m item_bbox \u001B[38;5;241m=\u001B[39m result\u001B[38;5;241m.\u001B[39mbbox\u001B[38;5;241m.\u001B[39mcontract(margin)\n\u001B[0;32m    306\u001B[0m result\u001B[38;5;241m.\u001B[39madd(obj, item_bbox, \u001B[38;5;241m*\u001B[39margs, \u001B[38;5;241m*\u001B[39m\u001B[38;5;241m*\u001B[39mkwds)\n",
      "File \u001B[1;32m~\\AppData\\Local\\Programs\\Python\\Python38\\lib\\site-packages\\igraph\\drawing\\cairo\\plot.py:151\u001B[0m, in \u001B[0;36mCairoPlot.__init__\u001B[1;34m(self, target, bbox, palette, background)\u001B[0m\n\u001B[0;32m    147\u001B[0m     \u001B[38;5;28mself\u001B[39m\u001B[38;5;241m.\u001B[39m_need_tmpfile \u001B[38;5;241m=\u001B[39m \u001B[38;5;28;01mTrue\u001B[39;00m\n\u001B[0;32m    148\u001B[0m     \u001B[38;5;28mself\u001B[39m\u001B[38;5;241m.\u001B[39m_surface \u001B[38;5;241m=\u001B[39m cairo\u001B[38;5;241m.\u001B[39mImageSurface(\n\u001B[0;32m    149\u001B[0m         cairo\u001B[38;5;241m.\u001B[39mFORMAT_ARGB32, \u001B[38;5;28mint\u001B[39m(\u001B[38;5;28mself\u001B[39m\u001B[38;5;241m.\u001B[39mbbox\u001B[38;5;241m.\u001B[39mwidth), \u001B[38;5;28mint\u001B[39m(\u001B[38;5;28mself\u001B[39m\u001B[38;5;241m.\u001B[39mbbox\u001B[38;5;241m.\u001B[39mheight)\n\u001B[0;32m    150\u001B[0m     )\n\u001B[1;32m--> 151\u001B[0m \u001B[38;5;28;01melif\u001B[39;00m \u001B[38;5;28misinstance\u001B[39m(target, \u001B[43mcairo\u001B[49m\u001B[38;5;241;43m.\u001B[39;49m\u001B[43mSurface\u001B[49m):\n\u001B[0;32m    152\u001B[0m     \u001B[38;5;28mself\u001B[39m\u001B[38;5;241m.\u001B[39m_surface \u001B[38;5;241m=\u001B[39m target\n\u001B[0;32m    153\u001B[0m \u001B[38;5;28;01melse\u001B[39;00m:\n",
      "File \u001B[1;32m~\\AppData\\Local\\Programs\\Python\\Python38\\lib\\site-packages\\igraph\\drawing\\utils.py:428\u001B[0m, in \u001B[0;36mFakeModule.__getattr__\u001B[1;34m(self, _)\u001B[0m\n\u001B[0;32m    427\u001B[0m \u001B[38;5;28;01mdef\u001B[39;00m \u001B[38;5;21m__getattr__\u001B[39m(\u001B[38;5;28mself\u001B[39m, _):\n\u001B[1;32m--> 428\u001B[0m     \u001B[38;5;28;01mraise\u001B[39;00m \u001B[38;5;167;01mAttributeError\u001B[39;00m(\u001B[38;5;28mself\u001B[39m\u001B[38;5;241m.\u001B[39m_message)\n",
      "\u001B[1;31mAttributeError\u001B[0m: Plotting not available; please install pycairo or cairocffi"
     ]
    }
   ]
  },
  {
   "cell_type": "code",
   "metadata": {
    "id": "vYkQ8H-7pF3v",
    "outputId": "9c020997-de3c-4cb8-d46a-e5609271cbc8",
    "colab": {
     "base_uri": "https://localhost:8080/"
    },
    "ExecuteTime": {
     "end_time": "2024-03-19T07:57:58.597595Z",
     "start_time": "2024-03-19T07:57:58.579273Z"
    }
   },
   "source": [
    "#Now let us create another graph:\n",
    "g2 = ig.Graph(edges=[(0,1), (1,2), (2,0), (3,4), (7,4), (3,6), (1,5)], n=8)\n",
    "print(g2)"
   ],
   "execution_count": 17,
   "outputs": [
    {
     "name": "stdout",
     "output_type": "stream",
     "text": [
      "IGRAPH U--- 8 7 --\n",
      "+ edges:\n",
      "0--1 1--2 0--2 3--4 4--7 3--6 1--5\n"
     ]
    }
   ]
  },
  {
   "cell_type": "code",
   "metadata": {
    "id": "IFDYHoDMpF3w",
    "outputId": "aa7a31c1-79ab-4702-d4e6-69136d787f41",
    "colab": {
     "base_uri": "https://localhost:8080/",
     "height": 288
    },
    "ExecuteTime": {
     "end_time": "2024-03-19T07:58:01.083560Z",
     "start_time": "2024-03-19T07:58:01.003192Z"
    }
   },
   "source": [
    "ig.plot(g2, bbox=(200,200))"
   ],
   "execution_count": 18,
   "outputs": [
    {
     "ename": "AttributeError",
     "evalue": "Plotting not available; please install pycairo or cairocffi",
     "output_type": "error",
     "traceback": [
      "\u001B[1;31m---------------------------------------------------------------------------\u001B[0m",
      "\u001B[1;31mAttributeError\u001B[0m                            Traceback (most recent call last)",
      "Cell \u001B[1;32mIn[18], line 1\u001B[0m\n\u001B[1;32m----> 1\u001B[0m \u001B[43mig\u001B[49m\u001B[38;5;241;43m.\u001B[39;49m\u001B[43mplot\u001B[49m\u001B[43m(\u001B[49m\u001B[43mg2\u001B[49m\u001B[43m,\u001B[49m\u001B[43m \u001B[49m\u001B[43mbbox\u001B[49m\u001B[38;5;241;43m=\u001B[39;49m\u001B[43m(\u001B[49m\u001B[38;5;241;43m200\u001B[39;49m\u001B[43m,\u001B[49m\u001B[38;5;241;43m200\u001B[39;49m\u001B[43m)\u001B[49m\u001B[43m)\u001B[49m\n",
      "File \u001B[1;32m~\\AppData\\Local\\Programs\\Python\\Python38\\lib\\site-packages\\igraph\\drawing\\__init__.py:299\u001B[0m, in \u001B[0;36mplot\u001B[1;34m(obj, target, bbox, *args, **kwds)\u001B[0m\n\u001B[0;32m    297\u001B[0m background \u001B[38;5;241m=\u001B[39m kwds\u001B[38;5;241m.\u001B[39mpop(\u001B[38;5;124m\"\u001B[39m\u001B[38;5;124mbackground\u001B[39m\u001B[38;5;124m\"\u001B[39m, \u001B[38;5;124m\"\u001B[39m\u001B[38;5;124mwhite\u001B[39m\u001B[38;5;124m\"\u001B[39m)\n\u001B[0;32m    298\u001B[0m margin \u001B[38;5;241m=\u001B[39m \u001B[38;5;28mfloat\u001B[39m(kwds\u001B[38;5;241m.\u001B[39mpop(\u001B[38;5;124m\"\u001B[39m\u001B[38;5;124mmargin\u001B[39m\u001B[38;5;124m\"\u001B[39m, \u001B[38;5;241m20\u001B[39m))\n\u001B[1;32m--> 299\u001B[0m result \u001B[38;5;241m=\u001B[39m \u001B[43mCairoPlot\u001B[49m\u001B[43m(\u001B[49m\n\u001B[0;32m    300\u001B[0m \u001B[43m    \u001B[49m\u001B[43mtarget\u001B[49m\u001B[38;5;241;43m=\u001B[39;49m\u001B[43mtarget\u001B[49m\u001B[43m,\u001B[49m\n\u001B[0;32m    301\u001B[0m \u001B[43m    \u001B[49m\u001B[43mbbox\u001B[49m\u001B[38;5;241;43m=\u001B[39;49m\u001B[43mbbox\u001B[49m\u001B[43m,\u001B[49m\n\u001B[0;32m    302\u001B[0m \u001B[43m    \u001B[49m\u001B[43mpalette\u001B[49m\u001B[38;5;241;43m=\u001B[39;49m\u001B[43mpalette\u001B[49m\u001B[43m,\u001B[49m\n\u001B[0;32m    303\u001B[0m \u001B[43m    \u001B[49m\u001B[43mbackground\u001B[49m\u001B[38;5;241;43m=\u001B[39;49m\u001B[43mbackground\u001B[49m\u001B[43m,\u001B[49m\n\u001B[0;32m    304\u001B[0m \u001B[43m\u001B[49m\u001B[43m)\u001B[49m\n\u001B[0;32m    305\u001B[0m item_bbox \u001B[38;5;241m=\u001B[39m result\u001B[38;5;241m.\u001B[39mbbox\u001B[38;5;241m.\u001B[39mcontract(margin)\n\u001B[0;32m    306\u001B[0m result\u001B[38;5;241m.\u001B[39madd(obj, item_bbox, \u001B[38;5;241m*\u001B[39margs, \u001B[38;5;241m*\u001B[39m\u001B[38;5;241m*\u001B[39mkwds)\n",
      "File \u001B[1;32m~\\AppData\\Local\\Programs\\Python\\Python38\\lib\\site-packages\\igraph\\drawing\\cairo\\plot.py:148\u001B[0m, in \u001B[0;36mCairoPlot.__init__\u001B[1;34m(self, target, bbox, palette, background)\u001B[0m\n\u001B[0;32m    146\u001B[0m \u001B[38;5;28;01mif\u001B[39;00m target \u001B[38;5;129;01mis\u001B[39;00m \u001B[38;5;28;01mNone\u001B[39;00m:\n\u001B[0;32m    147\u001B[0m     \u001B[38;5;28mself\u001B[39m\u001B[38;5;241m.\u001B[39m_need_tmpfile \u001B[38;5;241m=\u001B[39m \u001B[38;5;28;01mTrue\u001B[39;00m\n\u001B[1;32m--> 148\u001B[0m     \u001B[38;5;28mself\u001B[39m\u001B[38;5;241m.\u001B[39m_surface \u001B[38;5;241m=\u001B[39m \u001B[43mcairo\u001B[49m\u001B[38;5;241;43m.\u001B[39;49m\u001B[43mImageSurface\u001B[49m(\n\u001B[0;32m    149\u001B[0m         cairo\u001B[38;5;241m.\u001B[39mFORMAT_ARGB32, \u001B[38;5;28mint\u001B[39m(\u001B[38;5;28mself\u001B[39m\u001B[38;5;241m.\u001B[39mbbox\u001B[38;5;241m.\u001B[39mwidth), \u001B[38;5;28mint\u001B[39m(\u001B[38;5;28mself\u001B[39m\u001B[38;5;241m.\u001B[39mbbox\u001B[38;5;241m.\u001B[39mheight)\n\u001B[0;32m    150\u001B[0m     )\n\u001B[0;32m    151\u001B[0m \u001B[38;5;28;01melif\u001B[39;00m \u001B[38;5;28misinstance\u001B[39m(target, cairo\u001B[38;5;241m.\u001B[39mSurface):\n\u001B[0;32m    152\u001B[0m     \u001B[38;5;28mself\u001B[39m\u001B[38;5;241m.\u001B[39m_surface \u001B[38;5;241m=\u001B[39m target\n",
      "File \u001B[1;32m~\\AppData\\Local\\Programs\\Python\\Python38\\lib\\site-packages\\igraph\\drawing\\utils.py:428\u001B[0m, in \u001B[0;36mFakeModule.__getattr__\u001B[1;34m(self, _)\u001B[0m\n\u001B[0;32m    427\u001B[0m \u001B[38;5;28;01mdef\u001B[39;00m \u001B[38;5;21m__getattr__\u001B[39m(\u001B[38;5;28mself\u001B[39m, _):\n\u001B[1;32m--> 428\u001B[0m     \u001B[38;5;28;01mraise\u001B[39;00m \u001B[38;5;167;01mAttributeError\u001B[39;00m(\u001B[38;5;28mself\u001B[39m\u001B[38;5;241m.\u001B[39m_message)\n",
      "\u001B[1;31mAttributeError\u001B[0m: Plotting not available; please install pycairo or cairocffi"
     ]
    }
   ]
  },
  {
   "cell_type": "markdown",
   "metadata": {
    "id": "I_9XOUAapF3w"
   },
   "source": [
    "Above is an example of disconnected graph.\n",
    "\n",
    "Having no names of the nodes gives limited information, so let us name them:"
   ]
  },
  {
   "cell_type": "code",
   "metadata": {
    "id": "EmCZwQVFpF31",
    "outputId": "52c03bca-5a9a-4dc0-c9a6-079c3be160a4",
    "colab": {
     "base_uri": "https://localhost:8080/",
     "height": 288
    },
    "ExecuteTime": {
     "end_time": "2024-03-19T07:58:02.227797Z",
     "start_time": "2024-03-19T07:58:02.150737Z"
    }
   },
   "source": [
    "g3 = ig.Graph(edges=[(0,1), (1,2), (2, 0)], n=3, directed=False)\n",
    "ig.plot(g3, bbox=(200,200), vertex_label=[\"Jim\", \"John\", \"Jill\"])"
   ],
   "execution_count": 19,
   "outputs": [
    {
     "ename": "AttributeError",
     "evalue": "Plotting not available; please install pycairo or cairocffi",
     "output_type": "error",
     "traceback": [
      "\u001B[1;31m---------------------------------------------------------------------------\u001B[0m",
      "\u001B[1;31mAttributeError\u001B[0m                            Traceback (most recent call last)",
      "Cell \u001B[1;32mIn[19], line 2\u001B[0m\n\u001B[0;32m      1\u001B[0m g3 \u001B[38;5;241m=\u001B[39m ig\u001B[38;5;241m.\u001B[39mGraph(edges\u001B[38;5;241m=\u001B[39m[(\u001B[38;5;241m0\u001B[39m,\u001B[38;5;241m1\u001B[39m), (\u001B[38;5;241m1\u001B[39m,\u001B[38;5;241m2\u001B[39m), (\u001B[38;5;241m2\u001B[39m, \u001B[38;5;241m0\u001B[39m)], n\u001B[38;5;241m=\u001B[39m\u001B[38;5;241m3\u001B[39m, directed\u001B[38;5;241m=\u001B[39m\u001B[38;5;28;01mFalse\u001B[39;00m)\n\u001B[1;32m----> 2\u001B[0m \u001B[43mig\u001B[49m\u001B[38;5;241;43m.\u001B[39;49m\u001B[43mplot\u001B[49m\u001B[43m(\u001B[49m\u001B[43mg3\u001B[49m\u001B[43m,\u001B[49m\u001B[43m \u001B[49m\u001B[43mbbox\u001B[49m\u001B[38;5;241;43m=\u001B[39;49m\u001B[43m(\u001B[49m\u001B[38;5;241;43m200\u001B[39;49m\u001B[43m,\u001B[49m\u001B[38;5;241;43m200\u001B[39;49m\u001B[43m)\u001B[49m\u001B[43m,\u001B[49m\u001B[43m \u001B[49m\u001B[43mvertex_label\u001B[49m\u001B[38;5;241;43m=\u001B[39;49m\u001B[43m[\u001B[49m\u001B[38;5;124;43m\"\u001B[39;49m\u001B[38;5;124;43mJim\u001B[39;49m\u001B[38;5;124;43m\"\u001B[39;49m\u001B[43m,\u001B[49m\u001B[43m \u001B[49m\u001B[38;5;124;43m\"\u001B[39;49m\u001B[38;5;124;43mJohn\u001B[39;49m\u001B[38;5;124;43m\"\u001B[39;49m\u001B[43m,\u001B[49m\u001B[43m \u001B[49m\u001B[38;5;124;43m\"\u001B[39;49m\u001B[38;5;124;43mJill\u001B[39;49m\u001B[38;5;124;43m\"\u001B[39;49m\u001B[43m]\u001B[49m\u001B[43m)\u001B[49m\n",
      "File \u001B[1;32m~\\AppData\\Local\\Programs\\Python\\Python38\\lib\\site-packages\\igraph\\drawing\\__init__.py:299\u001B[0m, in \u001B[0;36mplot\u001B[1;34m(obj, target, bbox, *args, **kwds)\u001B[0m\n\u001B[0;32m    297\u001B[0m background \u001B[38;5;241m=\u001B[39m kwds\u001B[38;5;241m.\u001B[39mpop(\u001B[38;5;124m\"\u001B[39m\u001B[38;5;124mbackground\u001B[39m\u001B[38;5;124m\"\u001B[39m, \u001B[38;5;124m\"\u001B[39m\u001B[38;5;124mwhite\u001B[39m\u001B[38;5;124m\"\u001B[39m)\n\u001B[0;32m    298\u001B[0m margin \u001B[38;5;241m=\u001B[39m \u001B[38;5;28mfloat\u001B[39m(kwds\u001B[38;5;241m.\u001B[39mpop(\u001B[38;5;124m\"\u001B[39m\u001B[38;5;124mmargin\u001B[39m\u001B[38;5;124m\"\u001B[39m, \u001B[38;5;241m20\u001B[39m))\n\u001B[1;32m--> 299\u001B[0m result \u001B[38;5;241m=\u001B[39m \u001B[43mCairoPlot\u001B[49m\u001B[43m(\u001B[49m\n\u001B[0;32m    300\u001B[0m \u001B[43m    \u001B[49m\u001B[43mtarget\u001B[49m\u001B[38;5;241;43m=\u001B[39;49m\u001B[43mtarget\u001B[49m\u001B[43m,\u001B[49m\n\u001B[0;32m    301\u001B[0m \u001B[43m    \u001B[49m\u001B[43mbbox\u001B[49m\u001B[38;5;241;43m=\u001B[39;49m\u001B[43mbbox\u001B[49m\u001B[43m,\u001B[49m\n\u001B[0;32m    302\u001B[0m \u001B[43m    \u001B[49m\u001B[43mpalette\u001B[49m\u001B[38;5;241;43m=\u001B[39;49m\u001B[43mpalette\u001B[49m\u001B[43m,\u001B[49m\n\u001B[0;32m    303\u001B[0m \u001B[43m    \u001B[49m\u001B[43mbackground\u001B[49m\u001B[38;5;241;43m=\u001B[39;49m\u001B[43mbackground\u001B[49m\u001B[43m,\u001B[49m\n\u001B[0;32m    304\u001B[0m \u001B[43m\u001B[49m\u001B[43m)\u001B[49m\n\u001B[0;32m    305\u001B[0m item_bbox \u001B[38;5;241m=\u001B[39m result\u001B[38;5;241m.\u001B[39mbbox\u001B[38;5;241m.\u001B[39mcontract(margin)\n\u001B[0;32m    306\u001B[0m result\u001B[38;5;241m.\u001B[39madd(obj, item_bbox, \u001B[38;5;241m*\u001B[39margs, \u001B[38;5;241m*\u001B[39m\u001B[38;5;241m*\u001B[39mkwds)\n",
      "File \u001B[1;32m~\\AppData\\Local\\Programs\\Python\\Python38\\lib\\site-packages\\igraph\\drawing\\cairo\\plot.py:148\u001B[0m, in \u001B[0;36mCairoPlot.__init__\u001B[1;34m(self, target, bbox, palette, background)\u001B[0m\n\u001B[0;32m    146\u001B[0m \u001B[38;5;28;01mif\u001B[39;00m target \u001B[38;5;129;01mis\u001B[39;00m \u001B[38;5;28;01mNone\u001B[39;00m:\n\u001B[0;32m    147\u001B[0m     \u001B[38;5;28mself\u001B[39m\u001B[38;5;241m.\u001B[39m_need_tmpfile \u001B[38;5;241m=\u001B[39m \u001B[38;5;28;01mTrue\u001B[39;00m\n\u001B[1;32m--> 148\u001B[0m     \u001B[38;5;28mself\u001B[39m\u001B[38;5;241m.\u001B[39m_surface \u001B[38;5;241m=\u001B[39m \u001B[43mcairo\u001B[49m\u001B[38;5;241;43m.\u001B[39;49m\u001B[43mImageSurface\u001B[49m(\n\u001B[0;32m    149\u001B[0m         cairo\u001B[38;5;241m.\u001B[39mFORMAT_ARGB32, \u001B[38;5;28mint\u001B[39m(\u001B[38;5;28mself\u001B[39m\u001B[38;5;241m.\u001B[39mbbox\u001B[38;5;241m.\u001B[39mwidth), \u001B[38;5;28mint\u001B[39m(\u001B[38;5;28mself\u001B[39m\u001B[38;5;241m.\u001B[39mbbox\u001B[38;5;241m.\u001B[39mheight)\n\u001B[0;32m    150\u001B[0m     )\n\u001B[0;32m    151\u001B[0m \u001B[38;5;28;01melif\u001B[39;00m \u001B[38;5;28misinstance\u001B[39m(target, cairo\u001B[38;5;241m.\u001B[39mSurface):\n\u001B[0;32m    152\u001B[0m     \u001B[38;5;28mself\u001B[39m\u001B[38;5;241m.\u001B[39m_surface \u001B[38;5;241m=\u001B[39m target\n",
      "File \u001B[1;32m~\\AppData\\Local\\Programs\\Python\\Python38\\lib\\site-packages\\igraph\\drawing\\utils.py:428\u001B[0m, in \u001B[0;36mFakeModule.__getattr__\u001B[1;34m(self, _)\u001B[0m\n\u001B[0;32m    427\u001B[0m \u001B[38;5;28;01mdef\u001B[39;00m \u001B[38;5;21m__getattr__\u001B[39m(\u001B[38;5;28mself\u001B[39m, _):\n\u001B[1;32m--> 428\u001B[0m     \u001B[38;5;28;01mraise\u001B[39;00m \u001B[38;5;167;01mAttributeError\u001B[39;00m(\u001B[38;5;28mself\u001B[39m\u001B[38;5;241m.\u001B[39m_message)\n",
      "\u001B[1;31mAttributeError\u001B[0m: Plotting not available; please install pycairo or cairocffi"
     ]
    }
   ]
  },
  {
   "cell_type": "markdown",
   "metadata": {
    "id": "-OunQAjEpF32"
   },
   "source": [
    "# Edge, vertex, and network attributes\n",
    "\n",
    "### Let us assume that our graph is a social network where vertices represent people and edges represent social connections between them."
   ]
  },
  {
   "cell_type": "code",
   "metadata": {
    "id": "zb0hfs8epF33",
    "ExecuteTime": {
     "end_time": "2024-03-19T07:58:03.775096Z",
     "start_time": "2024-03-19T07:58:03.762966Z"
    }
   },
   "source": [
    "#Let us create a simple imaginary social network\n",
    "g = ig.Graph([(0,1), (0,2), (2,3), (3,4), (4,2), (2,5), (5,0), (6,3), (5,6)])"
   ],
   "execution_count": 20,
   "outputs": []
  },
  {
   "cell_type": "markdown",
   "metadata": {
    "id": "6x-JfpX6pF33"
   },
   "source": [
    "Now, let us assume that we want to store the names, ages and genders of people in this network as vertex attributes, and for every connection, we want to store whether this is an informal friendship tie or a formal tie. Every Graph object contains two special members called vs and es, standing for the sequence of all vertices and all edges, respectively. If you try to use vs or es as a Python dictionary, you will manipulate the attribute storage area of the graph:"
   ]
  },
  {
   "cell_type": "code",
   "metadata": {
    "id": "M3JT4AWcpF34",
    "outputId": "a3beb1b4-bcff-4945-838c-7aa89afa2159",
    "colab": {
     "base_uri": "https://localhost:8080/"
    },
    "ExecuteTime": {
     "end_time": "2024-03-19T07:58:05.428685Z",
     "start_time": "2024-03-19T07:58:05.417731Z"
    }
   },
   "source": [
    "g.vs"
   ],
   "execution_count": 21,
   "outputs": [
    {
     "data": {
      "text/plain": "<igraph.seq.VertexSeq at 0x1f27ff752e0>"
     },
     "execution_count": 21,
     "metadata": {},
     "output_type": "execute_result"
    }
   ]
  },
  {
   "cell_type": "code",
   "metadata": {
    "id": "NTaJplzopF37",
    "ExecuteTime": {
     "end_time": "2024-03-19T07:58:05.782958Z",
     "start_time": "2024-03-19T07:58:05.772339Z"
    }
   },
   "source": [
    "g.vs[\"name\"] = [\"Alice\", \"Bob\", \"Claire\", \"Dennis\", \"Esther\", \"Frank\", \"George\"]\n",
    "g.vs[\"age\"] = [25, 31, 18, 47, 22, 23, 50]\n",
    "g.vs[\"gender\"] = [\"f\", \"m\", \"f\", \"m\", \"f\", \"m\", \"m\"]\n",
    "g.es[\"is_formal\"] = [False, False, True, True, True, False, True, False, False]"
   ],
   "execution_count": 22,
   "outputs": []
  },
  {
   "cell_type": "code",
   "metadata": {
    "id": "Hz8XyBrkpF39",
    "outputId": "5edf6412-de4f-490f-f765-3603a99fdb43",
    "colab": {
     "base_uri": "https://localhost:8080/"
    },
    "ExecuteTime": {
     "end_time": "2024-03-19T07:58:06.045329Z",
     "start_time": "2024-03-19T07:58:06.034909Z"
    }
   },
   "source": [
    "print(g)"
   ],
   "execution_count": 23,
   "outputs": [
    {
     "name": "stdout",
     "output_type": "stream",
     "text": [
      "IGRAPH UN-- 7 9 --\n",
      "+ attr: age (v), gender (v), name (v), is_formal (e)\n",
      "+ edges (vertex names):\n",
      " Alice -- Bob, Claire, Frank             Esther -- Claire, Dennis\n",
      "   Bob -- Alice                           Frank -- Alice, Claire, George\n",
      "Claire -- Alice, Dennis, Esther, Frank   George -- Dennis, Frank\n",
      "Dennis -- Claire, Esther, George\n"
     ]
    }
   ]
  },
  {
   "cell_type": "markdown",
   "metadata": {
    "id": "i6hf8YsbpF3_"
   },
   "source": [
    "Now we can see some additional information in summary:\n",
    "\n",
    "* D or U, for a directed or undirected graph\n",
    "* N for a named graph (where nodes have a name attribute)\n",
    "* W for a weighted graph (where edges have a weight attribute)\n",
    "* B for a bipartite (two-mode) graph (where nodes have a type attribute)\n",
    "\n",
    "The two numbers that follow (7 9) refer to the number of nodes and edges in the graph. The description also lists node & edge attributes, for example:\n",
    "\n",
    "* (g/c) - graph-level character attribute\n",
    "* (v/c) - vertex-level character attribute\n",
    "* (e/n) - edge-level numeric attribute"
   ]
  },
  {
   "cell_type": "code",
   "metadata": {
    "id": "WFB5flbEpF4C",
    "outputId": "87c77059-8304-4f61-d3ff-d66c2ca690a6",
    "colab": {
     "base_uri": "https://localhost:8080/"
    },
    "ExecuteTime": {
     "end_time": "2024-03-19T07:58:06.763030Z",
     "start_time": "2024-03-19T07:58:06.749940Z"
    }
   },
   "source": [
    "#Change attribute value at specific index\n",
    "g.es[0]"
   ],
   "execution_count": 24,
   "outputs": [
    {
     "data": {
      "text/plain": "igraph.Edge(<igraph.Graph object at 0x000001F27FF3A640>, 0, {'is_formal': False})"
     },
     "execution_count": 24,
     "metadata": {},
     "output_type": "execute_result"
    }
   ]
  },
  {
   "cell_type": "code",
   "metadata": {
    "id": "4kxQX-repF4D",
    "outputId": "b7c5871f-a287-4171-fe13-fab2cc6365ed",
    "colab": {
     "base_uri": "https://localhost:8080/"
    },
    "ExecuteTime": {
     "end_time": "2024-03-19T07:58:07.303321Z",
     "start_time": "2024-03-19T07:58:07.289838Z"
    }
   },
   "source": [
    "g.vs[0].attributes()"
   ],
   "execution_count": 25,
   "outputs": [
    {
     "data": {
      "text/plain": "{'name': 'Alice', 'age': 25, 'gender': 'f'}"
     },
     "execution_count": 25,
     "metadata": {},
     "output_type": "execute_result"
    }
   ]
  },
  {
   "cell_type": "code",
   "metadata": {
    "id": "kTVt_Py1pF4D",
    "outputId": "760b4eb6-93d1-4970-afcf-b20b9d5de75e",
    "colab": {
     "base_uri": "https://localhost:8080/"
    },
    "ExecuteTime": {
     "end_time": "2024-03-19T07:58:07.661199Z",
     "start_time": "2024-03-19T07:58:07.652962Z"
    }
   },
   "source": [
    "g.es[0][\"is_formal\"] = True\n",
    "g.es[0]"
   ],
   "execution_count": 26,
   "outputs": [
    {
     "data": {
      "text/plain": "igraph.Edge(<igraph.Graph object at 0x000001F27FF3A640>, 0, {'is_formal': True})"
     },
     "execution_count": 26,
     "metadata": {},
     "output_type": "execute_result"
    }
   ]
  },
  {
   "cell_type": "markdown",
   "metadata": {
    "id": "oOk03AhUpF4E"
   },
   "source": [
    "# Graph properties"
   ]
  },
  {
   "cell_type": "markdown",
   "metadata": {
    "id": "S_8URH48pF4F"
   },
   "source": [
    "### 1. **Vertex degree:** The degree of a vertex equals the number of edges adjacent to it. In case of directed networks, we can also define in-degree (the number of edges pointing towards the vertex) and out-degree (the number of edges originating from the vertex). igraph is able to calculate all of them using a simple syntax:"
   ]
  },
  {
   "cell_type": "code",
   "metadata": {
    "id": "vJurr3EzpF4F",
    "outputId": "237d8681-047c-4306-8d46-7fab12fbb69f",
    "colab": {
     "base_uri": "https://localhost:8080/"
    },
    "ExecuteTime": {
     "end_time": "2024-03-19T07:58:09.371963Z",
     "start_time": "2024-03-19T07:58:09.359545Z"
    }
   },
   "source": [
    "#Undirected graph\n",
    "g_undirected = ig.Graph([(0,1), (0,2), (2,3), (3,4), (4,2), (2,5), (5,0), (6,3), (5,6)], directed=False)\n",
    "g_undirected.degree()"
   ],
   "execution_count": 27,
   "outputs": [
    {
     "data": {
      "text/plain": "[3, 1, 4, 3, 2, 3, 2]"
     },
     "execution_count": 27,
     "metadata": {},
     "output_type": "execute_result"
    }
   ]
  },
  {
   "cell_type": "code",
   "metadata": {
    "id": "TukyJElxpF4G",
    "outputId": "44f2764c-cbd1-4fd8-9782-336d604f28b5",
    "colab": {
     "base_uri": "https://localhost:8080/",
     "height": 288
    },
    "ExecuteTime": {
     "end_time": "2024-03-19T07:58:10.318236Z",
     "start_time": "2024-03-19T07:58:10.251107Z"
    }
   },
   "source": [
    "g_undirected.vs[\"name\"] = [\"Alice\", \"Bob\", \"Claire\", \"Dennis\", \"Esther\", \"Frank\", \"George\"]\n",
    "ig.plot(g_undirected, bbox=(200,200), vertex_label=g_undirected.vs[\"name\"])"
   ],
   "execution_count": 28,
   "outputs": [
    {
     "ename": "AttributeError",
     "evalue": "Plotting not available; please install pycairo or cairocffi",
     "output_type": "error",
     "traceback": [
      "\u001B[1;31m---------------------------------------------------------------------------\u001B[0m",
      "\u001B[1;31mAttributeError\u001B[0m                            Traceback (most recent call last)",
      "Cell \u001B[1;32mIn[28], line 2\u001B[0m\n\u001B[0;32m      1\u001B[0m g_undirected\u001B[38;5;241m.\u001B[39mvs[\u001B[38;5;124m\"\u001B[39m\u001B[38;5;124mname\u001B[39m\u001B[38;5;124m\"\u001B[39m] \u001B[38;5;241m=\u001B[39m [\u001B[38;5;124m\"\u001B[39m\u001B[38;5;124mAlice\u001B[39m\u001B[38;5;124m\"\u001B[39m, \u001B[38;5;124m\"\u001B[39m\u001B[38;5;124mBob\u001B[39m\u001B[38;5;124m\"\u001B[39m, \u001B[38;5;124m\"\u001B[39m\u001B[38;5;124mClaire\u001B[39m\u001B[38;5;124m\"\u001B[39m, \u001B[38;5;124m\"\u001B[39m\u001B[38;5;124mDennis\u001B[39m\u001B[38;5;124m\"\u001B[39m, \u001B[38;5;124m\"\u001B[39m\u001B[38;5;124mEsther\u001B[39m\u001B[38;5;124m\"\u001B[39m, \u001B[38;5;124m\"\u001B[39m\u001B[38;5;124mFrank\u001B[39m\u001B[38;5;124m\"\u001B[39m, \u001B[38;5;124m\"\u001B[39m\u001B[38;5;124mGeorge\u001B[39m\u001B[38;5;124m\"\u001B[39m]\n\u001B[1;32m----> 2\u001B[0m \u001B[43mig\u001B[49m\u001B[38;5;241;43m.\u001B[39;49m\u001B[43mplot\u001B[49m\u001B[43m(\u001B[49m\u001B[43mg_undirected\u001B[49m\u001B[43m,\u001B[49m\u001B[43m \u001B[49m\u001B[43mbbox\u001B[49m\u001B[38;5;241;43m=\u001B[39;49m\u001B[43m(\u001B[49m\u001B[38;5;241;43m200\u001B[39;49m\u001B[43m,\u001B[49m\u001B[38;5;241;43m200\u001B[39;49m\u001B[43m)\u001B[49m\u001B[43m,\u001B[49m\u001B[43m \u001B[49m\u001B[43mvertex_label\u001B[49m\u001B[38;5;241;43m=\u001B[39;49m\u001B[43mg_undirected\u001B[49m\u001B[38;5;241;43m.\u001B[39;49m\u001B[43mvs\u001B[49m\u001B[43m[\u001B[49m\u001B[38;5;124;43m\"\u001B[39;49m\u001B[38;5;124;43mname\u001B[39;49m\u001B[38;5;124;43m\"\u001B[39;49m\u001B[43m]\u001B[49m\u001B[43m)\u001B[49m\n",
      "File \u001B[1;32m~\\AppData\\Local\\Programs\\Python\\Python38\\lib\\site-packages\\igraph\\drawing\\__init__.py:299\u001B[0m, in \u001B[0;36mplot\u001B[1;34m(obj, target, bbox, *args, **kwds)\u001B[0m\n\u001B[0;32m    297\u001B[0m background \u001B[38;5;241m=\u001B[39m kwds\u001B[38;5;241m.\u001B[39mpop(\u001B[38;5;124m\"\u001B[39m\u001B[38;5;124mbackground\u001B[39m\u001B[38;5;124m\"\u001B[39m, \u001B[38;5;124m\"\u001B[39m\u001B[38;5;124mwhite\u001B[39m\u001B[38;5;124m\"\u001B[39m)\n\u001B[0;32m    298\u001B[0m margin \u001B[38;5;241m=\u001B[39m \u001B[38;5;28mfloat\u001B[39m(kwds\u001B[38;5;241m.\u001B[39mpop(\u001B[38;5;124m\"\u001B[39m\u001B[38;5;124mmargin\u001B[39m\u001B[38;5;124m\"\u001B[39m, \u001B[38;5;241m20\u001B[39m))\n\u001B[1;32m--> 299\u001B[0m result \u001B[38;5;241m=\u001B[39m \u001B[43mCairoPlot\u001B[49m\u001B[43m(\u001B[49m\n\u001B[0;32m    300\u001B[0m \u001B[43m    \u001B[49m\u001B[43mtarget\u001B[49m\u001B[38;5;241;43m=\u001B[39;49m\u001B[43mtarget\u001B[49m\u001B[43m,\u001B[49m\n\u001B[0;32m    301\u001B[0m \u001B[43m    \u001B[49m\u001B[43mbbox\u001B[49m\u001B[38;5;241;43m=\u001B[39;49m\u001B[43mbbox\u001B[49m\u001B[43m,\u001B[49m\n\u001B[0;32m    302\u001B[0m \u001B[43m    \u001B[49m\u001B[43mpalette\u001B[49m\u001B[38;5;241;43m=\u001B[39;49m\u001B[43mpalette\u001B[49m\u001B[43m,\u001B[49m\n\u001B[0;32m    303\u001B[0m \u001B[43m    \u001B[49m\u001B[43mbackground\u001B[49m\u001B[38;5;241;43m=\u001B[39;49m\u001B[43mbackground\u001B[49m\u001B[43m,\u001B[49m\n\u001B[0;32m    304\u001B[0m \u001B[43m\u001B[49m\u001B[43m)\u001B[49m\n\u001B[0;32m    305\u001B[0m item_bbox \u001B[38;5;241m=\u001B[39m result\u001B[38;5;241m.\u001B[39mbbox\u001B[38;5;241m.\u001B[39mcontract(margin)\n\u001B[0;32m    306\u001B[0m result\u001B[38;5;241m.\u001B[39madd(obj, item_bbox, \u001B[38;5;241m*\u001B[39margs, \u001B[38;5;241m*\u001B[39m\u001B[38;5;241m*\u001B[39mkwds)\n",
      "File \u001B[1;32m~\\AppData\\Local\\Programs\\Python\\Python38\\lib\\site-packages\\igraph\\drawing\\cairo\\plot.py:148\u001B[0m, in \u001B[0;36mCairoPlot.__init__\u001B[1;34m(self, target, bbox, palette, background)\u001B[0m\n\u001B[0;32m    146\u001B[0m \u001B[38;5;28;01mif\u001B[39;00m target \u001B[38;5;129;01mis\u001B[39;00m \u001B[38;5;28;01mNone\u001B[39;00m:\n\u001B[0;32m    147\u001B[0m     \u001B[38;5;28mself\u001B[39m\u001B[38;5;241m.\u001B[39m_need_tmpfile \u001B[38;5;241m=\u001B[39m \u001B[38;5;28;01mTrue\u001B[39;00m\n\u001B[1;32m--> 148\u001B[0m     \u001B[38;5;28mself\u001B[39m\u001B[38;5;241m.\u001B[39m_surface \u001B[38;5;241m=\u001B[39m \u001B[43mcairo\u001B[49m\u001B[38;5;241;43m.\u001B[39;49m\u001B[43mImageSurface\u001B[49m(\n\u001B[0;32m    149\u001B[0m         cairo\u001B[38;5;241m.\u001B[39mFORMAT_ARGB32, \u001B[38;5;28mint\u001B[39m(\u001B[38;5;28mself\u001B[39m\u001B[38;5;241m.\u001B[39mbbox\u001B[38;5;241m.\u001B[39mwidth), \u001B[38;5;28mint\u001B[39m(\u001B[38;5;28mself\u001B[39m\u001B[38;5;241m.\u001B[39mbbox\u001B[38;5;241m.\u001B[39mheight)\n\u001B[0;32m    150\u001B[0m     )\n\u001B[0;32m    151\u001B[0m \u001B[38;5;28;01melif\u001B[39;00m \u001B[38;5;28misinstance\u001B[39m(target, cairo\u001B[38;5;241m.\u001B[39mSurface):\n\u001B[0;32m    152\u001B[0m     \u001B[38;5;28mself\u001B[39m\u001B[38;5;241m.\u001B[39m_surface \u001B[38;5;241m=\u001B[39m target\n",
      "File \u001B[1;32m~\\AppData\\Local\\Programs\\Python\\Python38\\lib\\site-packages\\igraph\\drawing\\utils.py:428\u001B[0m, in \u001B[0;36mFakeModule.__getattr__\u001B[1;34m(self, _)\u001B[0m\n\u001B[0;32m    427\u001B[0m \u001B[38;5;28;01mdef\u001B[39;00m \u001B[38;5;21m__getattr__\u001B[39m(\u001B[38;5;28mself\u001B[39m, _):\n\u001B[1;32m--> 428\u001B[0m     \u001B[38;5;28;01mraise\u001B[39;00m \u001B[38;5;167;01mAttributeError\u001B[39;00m(\u001B[38;5;28mself\u001B[39m\u001B[38;5;241m.\u001B[39m_message)\n",
      "\u001B[1;31mAttributeError\u001B[0m: Plotting not available; please install pycairo or cairocffi"
     ]
    }
   ]
  },
  {
   "cell_type": "markdown",
   "metadata": {
    "id": "KKJbz4kfpF4H"
   },
   "source": [
    "If the graph was directed, we would have been able to calculate the in- and out-degrees separately using g.degree(mode=\"in\") and g.degree(mode=\"out\")."
   ]
  },
  {
   "cell_type": "code",
   "metadata": {
    "id": "svR61TrNpF4H",
    "ExecuteTime": {
     "end_time": "2024-03-19T07:58:11.645114Z",
     "start_time": "2024-03-19T07:58:11.631623Z"
    }
   },
   "source": [
    "#Directed graph\n",
    "g_directed = ig.Graph([(0,1), (0,2), (2,3), (3,4), (4,2), (2,5), (5,0), (6,3), (5,6)], directed=True)"
   ],
   "execution_count": 29,
   "outputs": []
  },
  {
   "cell_type": "code",
   "metadata": {
    "id": "4JsVcgbypF4H",
    "outputId": "1906f5ce-8c73-47f8-e7af-df8ae27cc636",
    "colab": {
     "base_uri": "https://localhost:8080/"
    },
    "ExecuteTime": {
     "end_time": "2024-03-19T07:58:12.663940Z",
     "start_time": "2024-03-19T07:58:12.650767Z"
    }
   },
   "source": [
    "g_directed.degree(mode=\"in\")"
   ],
   "execution_count": 30,
   "outputs": [
    {
     "data": {
      "text/plain": "[1, 1, 2, 2, 1, 1, 1]"
     },
     "execution_count": 30,
     "metadata": {},
     "output_type": "execute_result"
    }
   ]
  },
  {
   "cell_type": "code",
   "metadata": {
    "id": "-XSfcjm5pF4I",
    "outputId": "02a02920-7370-4963-b6b3-6ac50e8f5ede",
    "colab": {
     "base_uri": "https://localhost:8080/"
    },
    "ExecuteTime": {
     "end_time": "2024-03-19T07:58:13.048125Z",
     "start_time": "2024-03-19T07:58:13.040892Z"
    }
   },
   "source": [
    "g_directed.degree(mode=\"out\")"
   ],
   "execution_count": 31,
   "outputs": [
    {
     "data": {
      "text/plain": "[2, 0, 2, 1, 1, 2, 1]"
     },
     "execution_count": 31,
     "metadata": {},
     "output_type": "execute_result"
    }
   ]
  },
  {
   "cell_type": "code",
   "metadata": {
    "id": "SYL4PwHdpF4M",
    "outputId": "b4ce0af9-3685-455c-d369-190a50fe2caa",
    "colab": {
     "base_uri": "https://localhost:8080/",
     "height": 288
    },
    "ExecuteTime": {
     "end_time": "2024-03-19T07:58:13.513620Z",
     "start_time": "2024-03-19T07:58:13.440964Z"
    }
   },
   "source": [
    "g_directed.vs[\"name\"] = [\"Alice\", \"Bob\", \"Claire\", \"Dennis\", \"Esther\", \"Frank\", \"George\"]\n",
    "ig.plot(g_directed, bbox=(200,200), vertex_label=g_directed.vs[\"name\"])"
   ],
   "execution_count": 32,
   "outputs": [
    {
     "ename": "AttributeError",
     "evalue": "Plotting not available; please install pycairo or cairocffi",
     "output_type": "error",
     "traceback": [
      "\u001B[1;31m---------------------------------------------------------------------------\u001B[0m",
      "\u001B[1;31mAttributeError\u001B[0m                            Traceback (most recent call last)",
      "Cell \u001B[1;32mIn[32], line 2\u001B[0m\n\u001B[0;32m      1\u001B[0m g_directed\u001B[38;5;241m.\u001B[39mvs[\u001B[38;5;124m\"\u001B[39m\u001B[38;5;124mname\u001B[39m\u001B[38;5;124m\"\u001B[39m] \u001B[38;5;241m=\u001B[39m [\u001B[38;5;124m\"\u001B[39m\u001B[38;5;124mAlice\u001B[39m\u001B[38;5;124m\"\u001B[39m, \u001B[38;5;124m\"\u001B[39m\u001B[38;5;124mBob\u001B[39m\u001B[38;5;124m\"\u001B[39m, \u001B[38;5;124m\"\u001B[39m\u001B[38;5;124mClaire\u001B[39m\u001B[38;5;124m\"\u001B[39m, \u001B[38;5;124m\"\u001B[39m\u001B[38;5;124mDennis\u001B[39m\u001B[38;5;124m\"\u001B[39m, \u001B[38;5;124m\"\u001B[39m\u001B[38;5;124mEsther\u001B[39m\u001B[38;5;124m\"\u001B[39m, \u001B[38;5;124m\"\u001B[39m\u001B[38;5;124mFrank\u001B[39m\u001B[38;5;124m\"\u001B[39m, \u001B[38;5;124m\"\u001B[39m\u001B[38;5;124mGeorge\u001B[39m\u001B[38;5;124m\"\u001B[39m]\n\u001B[1;32m----> 2\u001B[0m \u001B[43mig\u001B[49m\u001B[38;5;241;43m.\u001B[39;49m\u001B[43mplot\u001B[49m\u001B[43m(\u001B[49m\u001B[43mg_directed\u001B[49m\u001B[43m,\u001B[49m\u001B[43m \u001B[49m\u001B[43mbbox\u001B[49m\u001B[38;5;241;43m=\u001B[39;49m\u001B[43m(\u001B[49m\u001B[38;5;241;43m200\u001B[39;49m\u001B[43m,\u001B[49m\u001B[38;5;241;43m200\u001B[39;49m\u001B[43m)\u001B[49m\u001B[43m,\u001B[49m\u001B[43m \u001B[49m\u001B[43mvertex_label\u001B[49m\u001B[38;5;241;43m=\u001B[39;49m\u001B[43mg_directed\u001B[49m\u001B[38;5;241;43m.\u001B[39;49m\u001B[43mvs\u001B[49m\u001B[43m[\u001B[49m\u001B[38;5;124;43m\"\u001B[39;49m\u001B[38;5;124;43mname\u001B[39;49m\u001B[38;5;124;43m\"\u001B[39;49m\u001B[43m]\u001B[49m\u001B[43m)\u001B[49m\n",
      "File \u001B[1;32m~\\AppData\\Local\\Programs\\Python\\Python38\\lib\\site-packages\\igraph\\drawing\\__init__.py:299\u001B[0m, in \u001B[0;36mplot\u001B[1;34m(obj, target, bbox, *args, **kwds)\u001B[0m\n\u001B[0;32m    297\u001B[0m background \u001B[38;5;241m=\u001B[39m kwds\u001B[38;5;241m.\u001B[39mpop(\u001B[38;5;124m\"\u001B[39m\u001B[38;5;124mbackground\u001B[39m\u001B[38;5;124m\"\u001B[39m, \u001B[38;5;124m\"\u001B[39m\u001B[38;5;124mwhite\u001B[39m\u001B[38;5;124m\"\u001B[39m)\n\u001B[0;32m    298\u001B[0m margin \u001B[38;5;241m=\u001B[39m \u001B[38;5;28mfloat\u001B[39m(kwds\u001B[38;5;241m.\u001B[39mpop(\u001B[38;5;124m\"\u001B[39m\u001B[38;5;124mmargin\u001B[39m\u001B[38;5;124m\"\u001B[39m, \u001B[38;5;241m20\u001B[39m))\n\u001B[1;32m--> 299\u001B[0m result \u001B[38;5;241m=\u001B[39m \u001B[43mCairoPlot\u001B[49m\u001B[43m(\u001B[49m\n\u001B[0;32m    300\u001B[0m \u001B[43m    \u001B[49m\u001B[43mtarget\u001B[49m\u001B[38;5;241;43m=\u001B[39;49m\u001B[43mtarget\u001B[49m\u001B[43m,\u001B[49m\n\u001B[0;32m    301\u001B[0m \u001B[43m    \u001B[49m\u001B[43mbbox\u001B[49m\u001B[38;5;241;43m=\u001B[39;49m\u001B[43mbbox\u001B[49m\u001B[43m,\u001B[49m\n\u001B[0;32m    302\u001B[0m \u001B[43m    \u001B[49m\u001B[43mpalette\u001B[49m\u001B[38;5;241;43m=\u001B[39;49m\u001B[43mpalette\u001B[49m\u001B[43m,\u001B[49m\n\u001B[0;32m    303\u001B[0m \u001B[43m    \u001B[49m\u001B[43mbackground\u001B[49m\u001B[38;5;241;43m=\u001B[39;49m\u001B[43mbackground\u001B[49m\u001B[43m,\u001B[49m\n\u001B[0;32m    304\u001B[0m \u001B[43m\u001B[49m\u001B[43m)\u001B[49m\n\u001B[0;32m    305\u001B[0m item_bbox \u001B[38;5;241m=\u001B[39m result\u001B[38;5;241m.\u001B[39mbbox\u001B[38;5;241m.\u001B[39mcontract(margin)\n\u001B[0;32m    306\u001B[0m result\u001B[38;5;241m.\u001B[39madd(obj, item_bbox, \u001B[38;5;241m*\u001B[39margs, \u001B[38;5;241m*\u001B[39m\u001B[38;5;241m*\u001B[39mkwds)\n",
      "File \u001B[1;32m~\\AppData\\Local\\Programs\\Python\\Python38\\lib\\site-packages\\igraph\\drawing\\cairo\\plot.py:148\u001B[0m, in \u001B[0;36mCairoPlot.__init__\u001B[1;34m(self, target, bbox, palette, background)\u001B[0m\n\u001B[0;32m    146\u001B[0m \u001B[38;5;28;01mif\u001B[39;00m target \u001B[38;5;129;01mis\u001B[39;00m \u001B[38;5;28;01mNone\u001B[39;00m:\n\u001B[0;32m    147\u001B[0m     \u001B[38;5;28mself\u001B[39m\u001B[38;5;241m.\u001B[39m_need_tmpfile \u001B[38;5;241m=\u001B[39m \u001B[38;5;28;01mTrue\u001B[39;00m\n\u001B[1;32m--> 148\u001B[0m     \u001B[38;5;28mself\u001B[39m\u001B[38;5;241m.\u001B[39m_surface \u001B[38;5;241m=\u001B[39m \u001B[43mcairo\u001B[49m\u001B[38;5;241;43m.\u001B[39;49m\u001B[43mImageSurface\u001B[49m(\n\u001B[0;32m    149\u001B[0m         cairo\u001B[38;5;241m.\u001B[39mFORMAT_ARGB32, \u001B[38;5;28mint\u001B[39m(\u001B[38;5;28mself\u001B[39m\u001B[38;5;241m.\u001B[39mbbox\u001B[38;5;241m.\u001B[39mwidth), \u001B[38;5;28mint\u001B[39m(\u001B[38;5;28mself\u001B[39m\u001B[38;5;241m.\u001B[39mbbox\u001B[38;5;241m.\u001B[39mheight)\n\u001B[0;32m    150\u001B[0m     )\n\u001B[0;32m    151\u001B[0m \u001B[38;5;28;01melif\u001B[39;00m \u001B[38;5;28misinstance\u001B[39m(target, cairo\u001B[38;5;241m.\u001B[39mSurface):\n\u001B[0;32m    152\u001B[0m     \u001B[38;5;28mself\u001B[39m\u001B[38;5;241m.\u001B[39m_surface \u001B[38;5;241m=\u001B[39m target\n",
      "File \u001B[1;32m~\\AppData\\Local\\Programs\\Python\\Python38\\lib\\site-packages\\igraph\\drawing\\utils.py:428\u001B[0m, in \u001B[0;36mFakeModule.__getattr__\u001B[1;34m(self, _)\u001B[0m\n\u001B[0;32m    427\u001B[0m \u001B[38;5;28;01mdef\u001B[39;00m \u001B[38;5;21m__getattr__\u001B[39m(\u001B[38;5;28mself\u001B[39m, _):\n\u001B[1;32m--> 428\u001B[0m     \u001B[38;5;28;01mraise\u001B[39;00m \u001B[38;5;167;01mAttributeError\u001B[39;00m(\u001B[38;5;28mself\u001B[39m\u001B[38;5;241m.\u001B[39m_message)\n",
      "\u001B[1;31mAttributeError\u001B[0m: Plotting not available; please install pycairo or cairocffi"
     ]
    }
   ]
  },
  {
   "cell_type": "code",
   "metadata": {
    "id": "T-pn7Kzx1DVX",
    "outputId": "050b6b37-04bf-4cf3-832e-ae47d1f63d5f",
    "colab": {
     "base_uri": "https://localhost:8080/"
    },
    "ExecuteTime": {
     "end_time": "2024-03-19T07:58:15.391613Z",
     "start_time": "2024-03-19T07:58:15.372538Z"
    }
   },
   "source": [
    "print(g_directed)"
   ],
   "execution_count": 33,
   "outputs": [
    {
     "name": "stdout",
     "output_type": "stream",
     "text": [
      "IGRAPH DN-- 7 9 --\n",
      "+ attr: name (v)\n",
      "+ edges (vertex names):\n",
      "Alice->Bob, Alice->Claire, Claire->Dennis, Dennis->Esther, Esther->Claire,\n",
      "Claire->Frank, Frank->Alice, George->Dennis, Frank->George\n"
     ]
    }
   ]
  },
  {
   "cell_type": "code",
   "metadata": {
    "id": "WLGoLWX51DVX",
    "outputId": "6a6775d1-3116-430e-d206-262d9f53f6ec",
    "colab": {
     "base_uri": "https://localhost:8080/"
    },
    "ExecuteTime": {
     "end_time": "2024-03-19T07:58:16.041603Z",
     "start_time": "2024-03-19T07:58:16.033057Z"
    }
   },
   "source": [
    "print(g_undirected)"
   ],
   "execution_count": 34,
   "outputs": [
    {
     "name": "stdout",
     "output_type": "stream",
     "text": [
      "IGRAPH UN-- 7 9 --\n",
      "+ attr: name (v)\n",
      "+ edges (vertex names):\n",
      " Alice -- Bob, Claire, Frank             Esther -- Claire, Dennis\n",
      "   Bob -- Alice                           Frank -- Alice, Claire, George\n",
      "Claire -- Alice, Dennis, Esther, Frank   George -- Dennis, Frank\n",
      "Dennis -- Claire, Esther, George\n"
     ]
    }
   ]
  },
  {
   "cell_type": "markdown",
   "metadata": {
    "id": "b6kucoE1pF4P"
   },
   "source": [
    "### 2. **Edge list:** An edge list is a data structure used to represent a graph as a list of its edges. An edge is defined by its start and end vertex, so each edge may be represented by two numbers. The entire edge list may be represented as a two-column matrix. igraph is able to calculate it using a simple syntax:"
   ]
  },
  {
   "cell_type": "code",
   "metadata": {
    "id": "shvGqJndpF4T",
    "outputId": "a9fef2f5-2498-463f-e675-e098054e12e5",
    "colab": {
     "base_uri": "https://localhost:8080/"
    },
    "ExecuteTime": {
     "end_time": "2024-03-19T07:58:16.583464Z",
     "start_time": "2024-03-19T07:58:16.572463Z"
    }
   },
   "source": [
    "print(g_directed.get_edgelist())"
   ],
   "execution_count": 35,
   "outputs": [
    {
     "name": "stdout",
     "output_type": "stream",
     "text": [
      "[(0, 1), (0, 2), (2, 3), (3, 4), (4, 2), (2, 5), (5, 0), (6, 3), (5, 6)]\n"
     ]
    }
   ]
  },
  {
   "cell_type": "markdown",
   "metadata": {
    "id": "BTsAztbapF4V"
   },
   "source": [
    "### 3. **Adjacency matrix:** An adjacency matrix is a square matrix used to represent a finite graph. The elements of the matrix indicate whether pairs of vertices are adjacent or not in the graph. igraph is able to calculate it using a simple syntax:"
   ]
  },
  {
   "cell_type": "code",
   "metadata": {
    "id": "hBfClVlOpF4V",
    "outputId": "16f0f852-805c-4f75-c453-0c26019a9940",
    "colab": {
     "base_uri": "https://localhost:8080/"
    },
    "ExecuteTime": {
     "end_time": "2024-03-19T07:58:16.982937Z",
     "start_time": "2024-03-19T07:58:16.975785Z"
    }
   },
   "source": [
    "print(g_directed.get_adjacency())"
   ],
   "execution_count": 36,
   "outputs": [
    {
     "name": "stdout",
     "output_type": "stream",
     "text": [
      "[[0, 1, 1, 0, 0, 0, 0]\n",
      " [0, 0, 0, 0, 0, 0, 0]\n",
      " [0, 0, 0, 1, 0, 1, 0]\n",
      " [0, 0, 0, 0, 1, 0, 0]\n",
      " [0, 0, 1, 0, 0, 0, 0]\n",
      " [1, 0, 0, 0, 0, 0, 1]\n",
      " [0, 0, 0, 1, 0, 0, 0]]\n"
     ]
    }
   ]
  },
  {
   "cell_type": "code",
   "metadata": {
    "id": "JXKVC9AXpF4m",
    "outputId": "1317acd8-1b1b-4da4-f7e1-c2d39f7eb722",
    "colab": {
     "base_uri": "https://localhost:8080/",
     "height": 495
    },
    "ExecuteTime": {
     "end_time": "2024-03-19T07:58:17.507323Z",
     "start_time": "2024-03-19T07:58:17.357884Z"
    }
   },
   "source": [
    "from IPython.display import Image\n",
    "Image(\"adjacency_matrix.png\")"
   ],
   "execution_count": 37,
   "outputs": [
    {
     "ename": "FileNotFoundError",
     "evalue": "No such file or directory: 'adjacency_matrix.png'",
     "output_type": "error",
     "traceback": [
      "\u001B[1;31m---------------------------------------------------------------------------\u001B[0m",
      "\u001B[1;31mTypeError\u001B[0m                                 Traceback (most recent call last)",
      "File \u001B[1;32m~\\AppData\\Local\\Programs\\Python\\Python38\\lib\\site-packages\\IPython\\core\\display.py:1045\u001B[0m, in \u001B[0;36mImage._data_and_metadata\u001B[1;34m(self, always_both)\u001B[0m\n\u001B[0;32m   1044\u001B[0m \u001B[38;5;28;01mtry\u001B[39;00m:\n\u001B[1;32m-> 1045\u001B[0m     b64_data \u001B[38;5;241m=\u001B[39m \u001B[43mb2a_base64\u001B[49m\u001B[43m(\u001B[49m\u001B[38;5;28;43mself\u001B[39;49m\u001B[38;5;241;43m.\u001B[39;49m\u001B[43mdata\u001B[49m\u001B[43m,\u001B[49m\u001B[43m \u001B[49m\u001B[43mnewline\u001B[49m\u001B[38;5;241;43m=\u001B[39;49m\u001B[38;5;28;43;01mFalse\u001B[39;49;00m\u001B[43m)\u001B[49m\u001B[38;5;241m.\u001B[39mdecode(\u001B[38;5;124m\"\u001B[39m\u001B[38;5;124mascii\u001B[39m\u001B[38;5;124m\"\u001B[39m)\n\u001B[0;32m   1046\u001B[0m \u001B[38;5;28;01mexcept\u001B[39;00m \u001B[38;5;167;01mTypeError\u001B[39;00m \u001B[38;5;28;01mas\u001B[39;00m e:\n",
      "\u001B[1;31mTypeError\u001B[0m: a bytes-like object is required, not 'str'",
      "\nThe above exception was the direct cause of the following exception:\n",
      "\u001B[1;31mFileNotFoundError\u001B[0m                         Traceback (most recent call last)",
      "File \u001B[1;32m~\\AppData\\Local\\Programs\\Python\\Python38\\lib\\site-packages\\IPython\\core\\formatters.py:974\u001B[0m, in \u001B[0;36mMimeBundleFormatter.__call__\u001B[1;34m(self, obj, include, exclude)\u001B[0m\n\u001B[0;32m    971\u001B[0m     method \u001B[38;5;241m=\u001B[39m get_real_method(obj, \u001B[38;5;28mself\u001B[39m\u001B[38;5;241m.\u001B[39mprint_method)\n\u001B[0;32m    973\u001B[0m     \u001B[38;5;28;01mif\u001B[39;00m method \u001B[38;5;129;01mis\u001B[39;00m \u001B[38;5;129;01mnot\u001B[39;00m \u001B[38;5;28;01mNone\u001B[39;00m:\n\u001B[1;32m--> 974\u001B[0m         \u001B[38;5;28;01mreturn\u001B[39;00m \u001B[43mmethod\u001B[49m\u001B[43m(\u001B[49m\u001B[43minclude\u001B[49m\u001B[38;5;241;43m=\u001B[39;49m\u001B[43minclude\u001B[49m\u001B[43m,\u001B[49m\u001B[43m \u001B[49m\u001B[43mexclude\u001B[49m\u001B[38;5;241;43m=\u001B[39;49m\u001B[43mexclude\u001B[49m\u001B[43m)\u001B[49m\n\u001B[0;32m    975\u001B[0m     \u001B[38;5;28;01mreturn\u001B[39;00m \u001B[38;5;28;01mNone\u001B[39;00m\n\u001B[0;32m    976\u001B[0m \u001B[38;5;28;01melse\u001B[39;00m:\n",
      "File \u001B[1;32m~\\AppData\\Local\\Programs\\Python\\Python38\\lib\\site-packages\\IPython\\core\\display.py:1035\u001B[0m, in \u001B[0;36mImage._repr_mimebundle_\u001B[1;34m(self, include, exclude)\u001B[0m\n\u001B[0;32m   1033\u001B[0m \u001B[38;5;28;01mif\u001B[39;00m \u001B[38;5;28mself\u001B[39m\u001B[38;5;241m.\u001B[39membed:\n\u001B[0;32m   1034\u001B[0m     mimetype \u001B[38;5;241m=\u001B[39m \u001B[38;5;28mself\u001B[39m\u001B[38;5;241m.\u001B[39m_mimetype\n\u001B[1;32m-> 1035\u001B[0m     data, metadata \u001B[38;5;241m=\u001B[39m \u001B[38;5;28;43mself\u001B[39;49m\u001B[38;5;241;43m.\u001B[39;49m\u001B[43m_data_and_metadata\u001B[49m\u001B[43m(\u001B[49m\u001B[43malways_both\u001B[49m\u001B[38;5;241;43m=\u001B[39;49m\u001B[38;5;28;43;01mTrue\u001B[39;49;00m\u001B[43m)\u001B[49m\n\u001B[0;32m   1036\u001B[0m     \u001B[38;5;28;01mif\u001B[39;00m metadata:\n\u001B[0;32m   1037\u001B[0m         metadata \u001B[38;5;241m=\u001B[39m {mimetype: metadata}\n",
      "File \u001B[1;32m~\\AppData\\Local\\Programs\\Python\\Python38\\lib\\site-packages\\IPython\\core\\display.py:1047\u001B[0m, in \u001B[0;36mImage._data_and_metadata\u001B[1;34m(self, always_both)\u001B[0m\n\u001B[0;32m   1045\u001B[0m     b64_data \u001B[38;5;241m=\u001B[39m b2a_base64(\u001B[38;5;28mself\u001B[39m\u001B[38;5;241m.\u001B[39mdata, newline\u001B[38;5;241m=\u001B[39m\u001B[38;5;28;01mFalse\u001B[39;00m)\u001B[38;5;241m.\u001B[39mdecode(\u001B[38;5;124m\"\u001B[39m\u001B[38;5;124mascii\u001B[39m\u001B[38;5;124m\"\u001B[39m)\n\u001B[0;32m   1046\u001B[0m \u001B[38;5;28;01mexcept\u001B[39;00m \u001B[38;5;167;01mTypeError\u001B[39;00m \u001B[38;5;28;01mas\u001B[39;00m e:\n\u001B[1;32m-> 1047\u001B[0m     \u001B[38;5;28;01mraise\u001B[39;00m \u001B[38;5;167;01mFileNotFoundError\u001B[39;00m(\n\u001B[0;32m   1048\u001B[0m         \u001B[38;5;124m\"\u001B[39m\u001B[38;5;124mNo such file or directory: \u001B[39m\u001B[38;5;124m'\u001B[39m\u001B[38;5;132;01m%s\u001B[39;00m\u001B[38;5;124m'\u001B[39m\u001B[38;5;124m\"\u001B[39m \u001B[38;5;241m%\u001B[39m (\u001B[38;5;28mself\u001B[39m\u001B[38;5;241m.\u001B[39mdata)) \u001B[38;5;28;01mfrom\u001B[39;00m \u001B[38;5;21;01me\u001B[39;00m\n\u001B[0;32m   1049\u001B[0m md \u001B[38;5;241m=\u001B[39m {}\n\u001B[0;32m   1050\u001B[0m \u001B[38;5;28;01mif\u001B[39;00m \u001B[38;5;28mself\u001B[39m\u001B[38;5;241m.\u001B[39mmetadata:\n",
      "\u001B[1;31mFileNotFoundError\u001B[0m: No such file or directory: 'adjacency_matrix.png'"
     ]
    },
    {
     "ename": "FileNotFoundError",
     "evalue": "No such file or directory: 'adjacency_matrix.png'",
     "output_type": "error",
     "traceback": [
      "\u001B[1;31m---------------------------------------------------------------------------\u001B[0m",
      "\u001B[1;31mTypeError\u001B[0m                                 Traceback (most recent call last)",
      "File \u001B[1;32m~\\AppData\\Local\\Programs\\Python\\Python38\\lib\\site-packages\\IPython\\core\\display.py:1045\u001B[0m, in \u001B[0;36mImage._data_and_metadata\u001B[1;34m(self, always_both)\u001B[0m\n\u001B[0;32m   1044\u001B[0m \u001B[38;5;28;01mtry\u001B[39;00m:\n\u001B[1;32m-> 1045\u001B[0m     b64_data \u001B[38;5;241m=\u001B[39m \u001B[43mb2a_base64\u001B[49m\u001B[43m(\u001B[49m\u001B[38;5;28;43mself\u001B[39;49m\u001B[38;5;241;43m.\u001B[39;49m\u001B[43mdata\u001B[49m\u001B[43m,\u001B[49m\u001B[43m \u001B[49m\u001B[43mnewline\u001B[49m\u001B[38;5;241;43m=\u001B[39;49m\u001B[38;5;28;43;01mFalse\u001B[39;49;00m\u001B[43m)\u001B[49m\u001B[38;5;241m.\u001B[39mdecode(\u001B[38;5;124m\"\u001B[39m\u001B[38;5;124mascii\u001B[39m\u001B[38;5;124m\"\u001B[39m)\n\u001B[0;32m   1046\u001B[0m \u001B[38;5;28;01mexcept\u001B[39;00m \u001B[38;5;167;01mTypeError\u001B[39;00m \u001B[38;5;28;01mas\u001B[39;00m e:\n",
      "\u001B[1;31mTypeError\u001B[0m: a bytes-like object is required, not 'str'",
      "\nThe above exception was the direct cause of the following exception:\n",
      "\u001B[1;31mFileNotFoundError\u001B[0m                         Traceback (most recent call last)",
      "File \u001B[1;32m~\\AppData\\Local\\Programs\\Python\\Python38\\lib\\site-packages\\IPython\\core\\formatters.py:344\u001B[0m, in \u001B[0;36mBaseFormatter.__call__\u001B[1;34m(self, obj)\u001B[0m\n\u001B[0;32m    342\u001B[0m     method \u001B[38;5;241m=\u001B[39m get_real_method(obj, \u001B[38;5;28mself\u001B[39m\u001B[38;5;241m.\u001B[39mprint_method)\n\u001B[0;32m    343\u001B[0m     \u001B[38;5;28;01mif\u001B[39;00m method \u001B[38;5;129;01mis\u001B[39;00m \u001B[38;5;129;01mnot\u001B[39;00m \u001B[38;5;28;01mNone\u001B[39;00m:\n\u001B[1;32m--> 344\u001B[0m         \u001B[38;5;28;01mreturn\u001B[39;00m \u001B[43mmethod\u001B[49m\u001B[43m(\u001B[49m\u001B[43m)\u001B[49m\n\u001B[0;32m    345\u001B[0m     \u001B[38;5;28;01mreturn\u001B[39;00m \u001B[38;5;28;01mNone\u001B[39;00m\n\u001B[0;32m    346\u001B[0m \u001B[38;5;28;01melse\u001B[39;00m:\n",
      "File \u001B[1;32m~\\AppData\\Local\\Programs\\Python\\Python38\\lib\\site-packages\\IPython\\core\\display.py:1067\u001B[0m, in \u001B[0;36mImage._repr_png_\u001B[1;34m(self)\u001B[0m\n\u001B[0;32m   1065\u001B[0m \u001B[38;5;28;01mdef\u001B[39;00m \u001B[38;5;21m_repr_png_\u001B[39m(\u001B[38;5;28mself\u001B[39m):\n\u001B[0;32m   1066\u001B[0m     \u001B[38;5;28;01mif\u001B[39;00m \u001B[38;5;28mself\u001B[39m\u001B[38;5;241m.\u001B[39membed \u001B[38;5;129;01mand\u001B[39;00m \u001B[38;5;28mself\u001B[39m\u001B[38;5;241m.\u001B[39mformat \u001B[38;5;241m==\u001B[39m \u001B[38;5;28mself\u001B[39m\u001B[38;5;241m.\u001B[39m_FMT_PNG:\n\u001B[1;32m-> 1067\u001B[0m         \u001B[38;5;28;01mreturn\u001B[39;00m \u001B[38;5;28;43mself\u001B[39;49m\u001B[38;5;241;43m.\u001B[39;49m\u001B[43m_data_and_metadata\u001B[49m\u001B[43m(\u001B[49m\u001B[43m)\u001B[49m\n",
      "File \u001B[1;32m~\\AppData\\Local\\Programs\\Python\\Python38\\lib\\site-packages\\IPython\\core\\display.py:1047\u001B[0m, in \u001B[0;36mImage._data_and_metadata\u001B[1;34m(self, always_both)\u001B[0m\n\u001B[0;32m   1045\u001B[0m     b64_data \u001B[38;5;241m=\u001B[39m b2a_base64(\u001B[38;5;28mself\u001B[39m\u001B[38;5;241m.\u001B[39mdata, newline\u001B[38;5;241m=\u001B[39m\u001B[38;5;28;01mFalse\u001B[39;00m)\u001B[38;5;241m.\u001B[39mdecode(\u001B[38;5;124m\"\u001B[39m\u001B[38;5;124mascii\u001B[39m\u001B[38;5;124m\"\u001B[39m)\n\u001B[0;32m   1046\u001B[0m \u001B[38;5;28;01mexcept\u001B[39;00m \u001B[38;5;167;01mTypeError\u001B[39;00m \u001B[38;5;28;01mas\u001B[39;00m e:\n\u001B[1;32m-> 1047\u001B[0m     \u001B[38;5;28;01mraise\u001B[39;00m \u001B[38;5;167;01mFileNotFoundError\u001B[39;00m(\n\u001B[0;32m   1048\u001B[0m         \u001B[38;5;124m\"\u001B[39m\u001B[38;5;124mNo such file or directory: \u001B[39m\u001B[38;5;124m'\u001B[39m\u001B[38;5;132;01m%s\u001B[39;00m\u001B[38;5;124m'\u001B[39m\u001B[38;5;124m\"\u001B[39m \u001B[38;5;241m%\u001B[39m (\u001B[38;5;28mself\u001B[39m\u001B[38;5;241m.\u001B[39mdata)) \u001B[38;5;28;01mfrom\u001B[39;00m \u001B[38;5;21;01me\u001B[39;00m\n\u001B[0;32m   1049\u001B[0m md \u001B[38;5;241m=\u001B[39m {}\n\u001B[0;32m   1050\u001B[0m \u001B[38;5;28;01mif\u001B[39;00m \u001B[38;5;28mself\u001B[39m\u001B[38;5;241m.\u001B[39mmetadata:\n",
      "\u001B[1;31mFileNotFoundError\u001B[0m: No such file or directory: 'adjacency_matrix.png'"
     ]
    },
    {
     "data": {
      "text/plain": "<IPython.core.display.Image object>"
     },
     "execution_count": 37,
     "metadata": {},
     "output_type": "execute_result"
    }
   ]
  },
  {
   "cell_type": "markdown",
   "metadata": {
    "id": "ak9VqwWzpF4o"
   },
   "source": [
    "<h2><center> <font color='black'> Adjacency matrix example</font></center></h3>"
   ]
  },
  {
   "cell_type": "markdown",
   "metadata": {
    "id": "2NuaXSPGpF4o"
   },
   "source": [
    "### 4. **Adjacency list:** An adjacency matrix is a square matrix used to represent a finite graph. The elements of the matrix indicate whether pairs of vertices are adjacent or not in the graph. igraph is able to calculate it using a simple syntax:"
   ]
  },
  {
   "cell_type": "code",
   "metadata": {
    "id": "LiQBL-w_pF4p",
    "outputId": "06f8467b-0522-48d7-fcda-7ce16a6b1963",
    "colab": {
     "base_uri": "https://localhost:8080/",
     "height": 579
    },
    "ExecuteTime": {
     "end_time": "2024-03-19T07:58:18.712244Z",
     "start_time": "2024-03-19T07:58:18.653582Z"
    }
   },
   "source": [
    "from IPython.display import Image\n",
    "Image(\"adjaccency_list.jpg\")"
   ],
   "execution_count": 38,
   "outputs": [
    {
     "ename": "FileNotFoundError",
     "evalue": "No such file or directory: 'adjaccency_list.jpg'",
     "output_type": "error",
     "traceback": [
      "\u001B[1;31m---------------------------------------------------------------------------\u001B[0m",
      "\u001B[1;31mTypeError\u001B[0m                                 Traceback (most recent call last)",
      "File \u001B[1;32m~\\AppData\\Local\\Programs\\Python\\Python38\\lib\\site-packages\\IPython\\core\\display.py:1045\u001B[0m, in \u001B[0;36mImage._data_and_metadata\u001B[1;34m(self, always_both)\u001B[0m\n\u001B[0;32m   1044\u001B[0m \u001B[38;5;28;01mtry\u001B[39;00m:\n\u001B[1;32m-> 1045\u001B[0m     b64_data \u001B[38;5;241m=\u001B[39m \u001B[43mb2a_base64\u001B[49m\u001B[43m(\u001B[49m\u001B[38;5;28;43mself\u001B[39;49m\u001B[38;5;241;43m.\u001B[39;49m\u001B[43mdata\u001B[49m\u001B[43m,\u001B[49m\u001B[43m \u001B[49m\u001B[43mnewline\u001B[49m\u001B[38;5;241;43m=\u001B[39;49m\u001B[38;5;28;43;01mFalse\u001B[39;49;00m\u001B[43m)\u001B[49m\u001B[38;5;241m.\u001B[39mdecode(\u001B[38;5;124m\"\u001B[39m\u001B[38;5;124mascii\u001B[39m\u001B[38;5;124m\"\u001B[39m)\n\u001B[0;32m   1046\u001B[0m \u001B[38;5;28;01mexcept\u001B[39;00m \u001B[38;5;167;01mTypeError\u001B[39;00m \u001B[38;5;28;01mas\u001B[39;00m e:\n",
      "\u001B[1;31mTypeError\u001B[0m: a bytes-like object is required, not 'str'",
      "\nThe above exception was the direct cause of the following exception:\n",
      "\u001B[1;31mFileNotFoundError\u001B[0m                         Traceback (most recent call last)",
      "File \u001B[1;32m~\\AppData\\Local\\Programs\\Python\\Python38\\lib\\site-packages\\IPython\\core\\formatters.py:974\u001B[0m, in \u001B[0;36mMimeBundleFormatter.__call__\u001B[1;34m(self, obj, include, exclude)\u001B[0m\n\u001B[0;32m    971\u001B[0m     method \u001B[38;5;241m=\u001B[39m get_real_method(obj, \u001B[38;5;28mself\u001B[39m\u001B[38;5;241m.\u001B[39mprint_method)\n\u001B[0;32m    973\u001B[0m     \u001B[38;5;28;01mif\u001B[39;00m method \u001B[38;5;129;01mis\u001B[39;00m \u001B[38;5;129;01mnot\u001B[39;00m \u001B[38;5;28;01mNone\u001B[39;00m:\n\u001B[1;32m--> 974\u001B[0m         \u001B[38;5;28;01mreturn\u001B[39;00m \u001B[43mmethod\u001B[49m\u001B[43m(\u001B[49m\u001B[43minclude\u001B[49m\u001B[38;5;241;43m=\u001B[39;49m\u001B[43minclude\u001B[49m\u001B[43m,\u001B[49m\u001B[43m \u001B[49m\u001B[43mexclude\u001B[49m\u001B[38;5;241;43m=\u001B[39;49m\u001B[43mexclude\u001B[49m\u001B[43m)\u001B[49m\n\u001B[0;32m    975\u001B[0m     \u001B[38;5;28;01mreturn\u001B[39;00m \u001B[38;5;28;01mNone\u001B[39;00m\n\u001B[0;32m    976\u001B[0m \u001B[38;5;28;01melse\u001B[39;00m:\n",
      "File \u001B[1;32m~\\AppData\\Local\\Programs\\Python\\Python38\\lib\\site-packages\\IPython\\core\\display.py:1035\u001B[0m, in \u001B[0;36mImage._repr_mimebundle_\u001B[1;34m(self, include, exclude)\u001B[0m\n\u001B[0;32m   1033\u001B[0m \u001B[38;5;28;01mif\u001B[39;00m \u001B[38;5;28mself\u001B[39m\u001B[38;5;241m.\u001B[39membed:\n\u001B[0;32m   1034\u001B[0m     mimetype \u001B[38;5;241m=\u001B[39m \u001B[38;5;28mself\u001B[39m\u001B[38;5;241m.\u001B[39m_mimetype\n\u001B[1;32m-> 1035\u001B[0m     data, metadata \u001B[38;5;241m=\u001B[39m \u001B[38;5;28;43mself\u001B[39;49m\u001B[38;5;241;43m.\u001B[39;49m\u001B[43m_data_and_metadata\u001B[49m\u001B[43m(\u001B[49m\u001B[43malways_both\u001B[49m\u001B[38;5;241;43m=\u001B[39;49m\u001B[38;5;28;43;01mTrue\u001B[39;49;00m\u001B[43m)\u001B[49m\n\u001B[0;32m   1036\u001B[0m     \u001B[38;5;28;01mif\u001B[39;00m metadata:\n\u001B[0;32m   1037\u001B[0m         metadata \u001B[38;5;241m=\u001B[39m {mimetype: metadata}\n",
      "File \u001B[1;32m~\\AppData\\Local\\Programs\\Python\\Python38\\lib\\site-packages\\IPython\\core\\display.py:1047\u001B[0m, in \u001B[0;36mImage._data_and_metadata\u001B[1;34m(self, always_both)\u001B[0m\n\u001B[0;32m   1045\u001B[0m     b64_data \u001B[38;5;241m=\u001B[39m b2a_base64(\u001B[38;5;28mself\u001B[39m\u001B[38;5;241m.\u001B[39mdata, newline\u001B[38;5;241m=\u001B[39m\u001B[38;5;28;01mFalse\u001B[39;00m)\u001B[38;5;241m.\u001B[39mdecode(\u001B[38;5;124m\"\u001B[39m\u001B[38;5;124mascii\u001B[39m\u001B[38;5;124m\"\u001B[39m)\n\u001B[0;32m   1046\u001B[0m \u001B[38;5;28;01mexcept\u001B[39;00m \u001B[38;5;167;01mTypeError\u001B[39;00m \u001B[38;5;28;01mas\u001B[39;00m e:\n\u001B[1;32m-> 1047\u001B[0m     \u001B[38;5;28;01mraise\u001B[39;00m \u001B[38;5;167;01mFileNotFoundError\u001B[39;00m(\n\u001B[0;32m   1048\u001B[0m         \u001B[38;5;124m\"\u001B[39m\u001B[38;5;124mNo such file or directory: \u001B[39m\u001B[38;5;124m'\u001B[39m\u001B[38;5;132;01m%s\u001B[39;00m\u001B[38;5;124m'\u001B[39m\u001B[38;5;124m\"\u001B[39m \u001B[38;5;241m%\u001B[39m (\u001B[38;5;28mself\u001B[39m\u001B[38;5;241m.\u001B[39mdata)) \u001B[38;5;28;01mfrom\u001B[39;00m \u001B[38;5;21;01me\u001B[39;00m\n\u001B[0;32m   1049\u001B[0m md \u001B[38;5;241m=\u001B[39m {}\n\u001B[0;32m   1050\u001B[0m \u001B[38;5;28;01mif\u001B[39;00m \u001B[38;5;28mself\u001B[39m\u001B[38;5;241m.\u001B[39mmetadata:\n",
      "\u001B[1;31mFileNotFoundError\u001B[0m: No such file or directory: 'adjaccency_list.jpg'"
     ]
    },
    {
     "ename": "FileNotFoundError",
     "evalue": "No such file or directory: 'adjaccency_list.jpg'",
     "output_type": "error",
     "traceback": [
      "\u001B[1;31m---------------------------------------------------------------------------\u001B[0m",
      "\u001B[1;31mTypeError\u001B[0m                                 Traceback (most recent call last)",
      "File \u001B[1;32m~\\AppData\\Local\\Programs\\Python\\Python38\\lib\\site-packages\\IPython\\core\\display.py:1045\u001B[0m, in \u001B[0;36mImage._data_and_metadata\u001B[1;34m(self, always_both)\u001B[0m\n\u001B[0;32m   1044\u001B[0m \u001B[38;5;28;01mtry\u001B[39;00m:\n\u001B[1;32m-> 1045\u001B[0m     b64_data \u001B[38;5;241m=\u001B[39m \u001B[43mb2a_base64\u001B[49m\u001B[43m(\u001B[49m\u001B[38;5;28;43mself\u001B[39;49m\u001B[38;5;241;43m.\u001B[39;49m\u001B[43mdata\u001B[49m\u001B[43m,\u001B[49m\u001B[43m \u001B[49m\u001B[43mnewline\u001B[49m\u001B[38;5;241;43m=\u001B[39;49m\u001B[38;5;28;43;01mFalse\u001B[39;49;00m\u001B[43m)\u001B[49m\u001B[38;5;241m.\u001B[39mdecode(\u001B[38;5;124m\"\u001B[39m\u001B[38;5;124mascii\u001B[39m\u001B[38;5;124m\"\u001B[39m)\n\u001B[0;32m   1046\u001B[0m \u001B[38;5;28;01mexcept\u001B[39;00m \u001B[38;5;167;01mTypeError\u001B[39;00m \u001B[38;5;28;01mas\u001B[39;00m e:\n",
      "\u001B[1;31mTypeError\u001B[0m: a bytes-like object is required, not 'str'",
      "\nThe above exception was the direct cause of the following exception:\n",
      "\u001B[1;31mFileNotFoundError\u001B[0m                         Traceback (most recent call last)",
      "File \u001B[1;32m~\\AppData\\Local\\Programs\\Python\\Python38\\lib\\site-packages\\IPython\\core\\formatters.py:344\u001B[0m, in \u001B[0;36mBaseFormatter.__call__\u001B[1;34m(self, obj)\u001B[0m\n\u001B[0;32m    342\u001B[0m     method \u001B[38;5;241m=\u001B[39m get_real_method(obj, \u001B[38;5;28mself\u001B[39m\u001B[38;5;241m.\u001B[39mprint_method)\n\u001B[0;32m    343\u001B[0m     \u001B[38;5;28;01mif\u001B[39;00m method \u001B[38;5;129;01mis\u001B[39;00m \u001B[38;5;129;01mnot\u001B[39;00m \u001B[38;5;28;01mNone\u001B[39;00m:\n\u001B[1;32m--> 344\u001B[0m         \u001B[38;5;28;01mreturn\u001B[39;00m \u001B[43mmethod\u001B[49m\u001B[43m(\u001B[49m\u001B[43m)\u001B[49m\n\u001B[0;32m    345\u001B[0m     \u001B[38;5;28;01mreturn\u001B[39;00m \u001B[38;5;28;01mNone\u001B[39;00m\n\u001B[0;32m    346\u001B[0m \u001B[38;5;28;01melse\u001B[39;00m:\n",
      "File \u001B[1;32m~\\AppData\\Local\\Programs\\Python\\Python38\\lib\\site-packages\\IPython\\core\\display.py:1067\u001B[0m, in \u001B[0;36mImage._repr_png_\u001B[1;34m(self)\u001B[0m\n\u001B[0;32m   1065\u001B[0m \u001B[38;5;28;01mdef\u001B[39;00m \u001B[38;5;21m_repr_png_\u001B[39m(\u001B[38;5;28mself\u001B[39m):\n\u001B[0;32m   1066\u001B[0m     \u001B[38;5;28;01mif\u001B[39;00m \u001B[38;5;28mself\u001B[39m\u001B[38;5;241m.\u001B[39membed \u001B[38;5;129;01mand\u001B[39;00m \u001B[38;5;28mself\u001B[39m\u001B[38;5;241m.\u001B[39mformat \u001B[38;5;241m==\u001B[39m \u001B[38;5;28mself\u001B[39m\u001B[38;5;241m.\u001B[39m_FMT_PNG:\n\u001B[1;32m-> 1067\u001B[0m         \u001B[38;5;28;01mreturn\u001B[39;00m \u001B[38;5;28;43mself\u001B[39;49m\u001B[38;5;241;43m.\u001B[39;49m\u001B[43m_data_and_metadata\u001B[49m\u001B[43m(\u001B[49m\u001B[43m)\u001B[49m\n",
      "File \u001B[1;32m~\\AppData\\Local\\Programs\\Python\\Python38\\lib\\site-packages\\IPython\\core\\display.py:1047\u001B[0m, in \u001B[0;36mImage._data_and_metadata\u001B[1;34m(self, always_both)\u001B[0m\n\u001B[0;32m   1045\u001B[0m     b64_data \u001B[38;5;241m=\u001B[39m b2a_base64(\u001B[38;5;28mself\u001B[39m\u001B[38;5;241m.\u001B[39mdata, newline\u001B[38;5;241m=\u001B[39m\u001B[38;5;28;01mFalse\u001B[39;00m)\u001B[38;5;241m.\u001B[39mdecode(\u001B[38;5;124m\"\u001B[39m\u001B[38;5;124mascii\u001B[39m\u001B[38;5;124m\"\u001B[39m)\n\u001B[0;32m   1046\u001B[0m \u001B[38;5;28;01mexcept\u001B[39;00m \u001B[38;5;167;01mTypeError\u001B[39;00m \u001B[38;5;28;01mas\u001B[39;00m e:\n\u001B[1;32m-> 1047\u001B[0m     \u001B[38;5;28;01mraise\u001B[39;00m \u001B[38;5;167;01mFileNotFoundError\u001B[39;00m(\n\u001B[0;32m   1048\u001B[0m         \u001B[38;5;124m\"\u001B[39m\u001B[38;5;124mNo such file or directory: \u001B[39m\u001B[38;5;124m'\u001B[39m\u001B[38;5;132;01m%s\u001B[39;00m\u001B[38;5;124m'\u001B[39m\u001B[38;5;124m\"\u001B[39m \u001B[38;5;241m%\u001B[39m (\u001B[38;5;28mself\u001B[39m\u001B[38;5;241m.\u001B[39mdata)) \u001B[38;5;28;01mfrom\u001B[39;00m \u001B[38;5;21;01me\u001B[39;00m\n\u001B[0;32m   1049\u001B[0m md \u001B[38;5;241m=\u001B[39m {}\n\u001B[0;32m   1050\u001B[0m \u001B[38;5;28;01mif\u001B[39;00m \u001B[38;5;28mself\u001B[39m\u001B[38;5;241m.\u001B[39mmetadata:\n",
      "\u001B[1;31mFileNotFoundError\u001B[0m: No such file or directory: 'adjaccency_list.jpg'"
     ]
    },
    {
     "data": {
      "text/plain": "<IPython.core.display.Image object>"
     },
     "execution_count": 38,
     "metadata": {},
     "output_type": "execute_result"
    }
   ]
  },
  {
   "cell_type": "markdown",
   "metadata": {
    "id": "g0kAnEdcpF4q"
   },
   "source": [
    "# Network Analysis"
   ]
  },
  {
   "cell_type": "markdown",
   "metadata": {
    "id": "Ube0pg8NpF4q"
   },
   "source": [
    "As we learned basic functions to work with graphs, now we will apply them to use in practice. To be more precise, we will study a dataset to understand how different media organizations are related with each other. That would let us know, which marketing channel is better to use to do advertising.\n",
    "\n",
    "We will start by loading the data:"
   ]
  },
  {
   "cell_type": "code",
   "metadata": {
    "id": "SWnioz7gpF4r",
    "ExecuteTime": {
     "end_time": "2024-03-19T07:58:20.132434Z",
     "start_time": "2024-03-19T07:58:19.675374Z"
    }
   },
   "source": [
    "import pandas as pd\n",
    "nodes = pd.read_csv('InputFileNodes.csv')\n",
    "edges = pd.read_csv('InputFileEdges.csv')"
   ],
   "execution_count": 39,
   "outputs": []
  },
  {
   "cell_type": "code",
   "metadata": {
    "id": "CcTwMU6BpF4s",
    "outputId": "ed137633-64ae-433c-913b-336e0ca7379d",
    "colab": {
     "base_uri": "https://localhost:8080/",
     "height": 582
    },
    "ExecuteTime": {
     "end_time": "2024-03-19T07:58:20.255859Z",
     "start_time": "2024-03-19T07:58:20.232583Z"
    }
   },
   "source": [
    "nodes.head(17)"
   ],
   "execution_count": 40,
   "outputs": [
    {
     "data": {
      "text/plain": "     id                media  media.type type.label  audience.size\n0   s01             NY Times           1  Newspaper             20\n1   s02      Washington Post           1  Newspaper             25\n2   s03  Wall Street Journal           1  Newspaper             30\n3   s04            USA Today           1  Newspaper             32\n4   s05             LA Times           1  Newspaper             20\n5   s06        New York Post           1  Newspaper             50\n6   s07                  CNN           2         TV             56\n7   s08                MSNBC           2         TV             34\n8   s09             FOX News           2         TV             60\n9   s10                  ABC           2         TV             23\n10  s11                  BBC           2         TV             34\n11  s12           Yahoo News           3     Online             33\n12  s13          Google News           3     Online             23\n13  s14          Reuters.com           3     Online             12\n14  s15          NYTimes.com           3     Online             24\n15  s16   WashingtonPost.com           3     Online             28\n16  s17              AOL.com           3     Online             33",
      "text/html": "<div>\n<style scoped>\n    .dataframe tbody tr th:only-of-type {\n        vertical-align: middle;\n    }\n\n    .dataframe tbody tr th {\n        vertical-align: top;\n    }\n\n    .dataframe thead th {\n        text-align: right;\n    }\n</style>\n<table border=\"1\" class=\"dataframe\">\n  <thead>\n    <tr style=\"text-align: right;\">\n      <th></th>\n      <th>id</th>\n      <th>media</th>\n      <th>media.type</th>\n      <th>type.label</th>\n      <th>audience.size</th>\n    </tr>\n  </thead>\n  <tbody>\n    <tr>\n      <th>0</th>\n      <td>s01</td>\n      <td>NY Times</td>\n      <td>1</td>\n      <td>Newspaper</td>\n      <td>20</td>\n    </tr>\n    <tr>\n      <th>1</th>\n      <td>s02</td>\n      <td>Washington Post</td>\n      <td>1</td>\n      <td>Newspaper</td>\n      <td>25</td>\n    </tr>\n    <tr>\n      <th>2</th>\n      <td>s03</td>\n      <td>Wall Street Journal</td>\n      <td>1</td>\n      <td>Newspaper</td>\n      <td>30</td>\n    </tr>\n    <tr>\n      <th>3</th>\n      <td>s04</td>\n      <td>USA Today</td>\n      <td>1</td>\n      <td>Newspaper</td>\n      <td>32</td>\n    </tr>\n    <tr>\n      <th>4</th>\n      <td>s05</td>\n      <td>LA Times</td>\n      <td>1</td>\n      <td>Newspaper</td>\n      <td>20</td>\n    </tr>\n    <tr>\n      <th>5</th>\n      <td>s06</td>\n      <td>New York Post</td>\n      <td>1</td>\n      <td>Newspaper</td>\n      <td>50</td>\n    </tr>\n    <tr>\n      <th>6</th>\n      <td>s07</td>\n      <td>CNN</td>\n      <td>2</td>\n      <td>TV</td>\n      <td>56</td>\n    </tr>\n    <tr>\n      <th>7</th>\n      <td>s08</td>\n      <td>MSNBC</td>\n      <td>2</td>\n      <td>TV</td>\n      <td>34</td>\n    </tr>\n    <tr>\n      <th>8</th>\n      <td>s09</td>\n      <td>FOX News</td>\n      <td>2</td>\n      <td>TV</td>\n      <td>60</td>\n    </tr>\n    <tr>\n      <th>9</th>\n      <td>s10</td>\n      <td>ABC</td>\n      <td>2</td>\n      <td>TV</td>\n      <td>23</td>\n    </tr>\n    <tr>\n      <th>10</th>\n      <td>s11</td>\n      <td>BBC</td>\n      <td>2</td>\n      <td>TV</td>\n      <td>34</td>\n    </tr>\n    <tr>\n      <th>11</th>\n      <td>s12</td>\n      <td>Yahoo News</td>\n      <td>3</td>\n      <td>Online</td>\n      <td>33</td>\n    </tr>\n    <tr>\n      <th>12</th>\n      <td>s13</td>\n      <td>Google News</td>\n      <td>3</td>\n      <td>Online</td>\n      <td>23</td>\n    </tr>\n    <tr>\n      <th>13</th>\n      <td>s14</td>\n      <td>Reuters.com</td>\n      <td>3</td>\n      <td>Online</td>\n      <td>12</td>\n    </tr>\n    <tr>\n      <th>14</th>\n      <td>s15</td>\n      <td>NYTimes.com</td>\n      <td>3</td>\n      <td>Online</td>\n      <td>24</td>\n    </tr>\n    <tr>\n      <th>15</th>\n      <td>s16</td>\n      <td>WashingtonPost.com</td>\n      <td>3</td>\n      <td>Online</td>\n      <td>28</td>\n    </tr>\n    <tr>\n      <th>16</th>\n      <td>s17</td>\n      <td>AOL.com</td>\n      <td>3</td>\n      <td>Online</td>\n      <td>33</td>\n    </tr>\n  </tbody>\n</table>\n</div>"
     },
     "execution_count": 40,
     "metadata": {},
     "output_type": "execute_result"
    }
   ]
  },
  {
   "cell_type": "code",
   "metadata": {
    "id": "89R6P-fn1DVd",
    "outputId": "a4a52294-8b6c-4b31-d2d2-8d4ff8bc3930",
    "colab": {
     "base_uri": "https://localhost:8080/"
    },
    "ExecuteTime": {
     "end_time": "2024-03-19T07:58:20.918466Z",
     "start_time": "2024-03-19T07:58:20.904639Z"
    }
   },
   "source": [
    "nodes.shape"
   ],
   "execution_count": 41,
   "outputs": [
    {
     "data": {
      "text/plain": "(17, 5)"
     },
     "execution_count": 41,
     "metadata": {},
     "output_type": "execute_result"
    }
   ]
  },
  {
   "cell_type": "code",
   "metadata": {
    "id": "mbcggX0CpF4t",
    "outputId": "d05abee6-bea0-431f-eb79-dccd980c74e7",
    "colab": {
     "base_uri": "https://localhost:8080/"
    },
    "ExecuteTime": {
     "end_time": "2024-03-19T07:58:21.663347Z",
     "start_time": "2024-03-19T07:58:21.646609Z"
    }
   },
   "source": [
    "nodes.info()"
   ],
   "execution_count": 42,
   "outputs": [
    {
     "name": "stdout",
     "output_type": "stream",
     "text": [
      "<class 'pandas.core.frame.DataFrame'>\n",
      "RangeIndex: 17 entries, 0 to 16\n",
      "Data columns (total 5 columns):\n",
      " #   Column         Non-Null Count  Dtype \n",
      "---  ------         --------------  ----- \n",
      " 0   id             17 non-null     object\n",
      " 1   media          17 non-null     object\n",
      " 2   media.type     17 non-null     int64 \n",
      " 3   type.label     17 non-null     object\n",
      " 4   audience.size  17 non-null     int64 \n",
      "dtypes: int64(2), object(3)\n",
      "memory usage: 808.0+ bytes\n"
     ]
    }
   ]
  },
  {
   "cell_type": "code",
   "metadata": {
    "id": "7zUcl61qpF4v",
    "outputId": "b53c7cd0-a924-475c-d003-a101a4fa53a4",
    "colab": {
     "base_uri": "https://localhost:8080/",
     "height": 206
    },
    "ExecuteTime": {
     "end_time": "2024-03-19T07:58:22.126250Z",
     "start_time": "2024-03-19T07:58:22.111191Z"
    }
   },
   "source": [
    "edges.head()"
   ],
   "execution_count": 43,
   "outputs": [
    {
     "data": {
      "text/plain": "  from   to  weight       type\n0  s01  s02      10  hyperlink\n1  s01  s02      12  hyperlink\n2  s01  s03      22  hyperlink\n3  s01  s04      21  hyperlink\n4  s04  s11      22    mention",
      "text/html": "<div>\n<style scoped>\n    .dataframe tbody tr th:only-of-type {\n        vertical-align: middle;\n    }\n\n    .dataframe tbody tr th {\n        vertical-align: top;\n    }\n\n    .dataframe thead th {\n        text-align: right;\n    }\n</style>\n<table border=\"1\" class=\"dataframe\">\n  <thead>\n    <tr style=\"text-align: right;\">\n      <th></th>\n      <th>from</th>\n      <th>to</th>\n      <th>weight</th>\n      <th>type</th>\n    </tr>\n  </thead>\n  <tbody>\n    <tr>\n      <th>0</th>\n      <td>s01</td>\n      <td>s02</td>\n      <td>10</td>\n      <td>hyperlink</td>\n    </tr>\n    <tr>\n      <th>1</th>\n      <td>s01</td>\n      <td>s02</td>\n      <td>12</td>\n      <td>hyperlink</td>\n    </tr>\n    <tr>\n      <th>2</th>\n      <td>s01</td>\n      <td>s03</td>\n      <td>22</td>\n      <td>hyperlink</td>\n    </tr>\n    <tr>\n      <th>3</th>\n      <td>s01</td>\n      <td>s04</td>\n      <td>21</td>\n      <td>hyperlink</td>\n    </tr>\n    <tr>\n      <th>4</th>\n      <td>s04</td>\n      <td>s11</td>\n      <td>22</td>\n      <td>mention</td>\n    </tr>\n  </tbody>\n</table>\n</div>"
     },
     "execution_count": 43,
     "metadata": {},
     "output_type": "execute_result"
    }
   ]
  },
  {
   "cell_type": "code",
   "metadata": {
    "id": "TbpbmD0LpF4w",
    "outputId": "13c43927-d942-44b8-f40b-824376155011",
    "colab": {
     "base_uri": "https://localhost:8080/"
    },
    "ExecuteTime": {
     "end_time": "2024-03-19T07:58:23.105176Z",
     "start_time": "2024-03-19T07:58:23.091499Z"
    }
   },
   "source": [
    "edges.info()"
   ],
   "execution_count": 44,
   "outputs": [
    {
     "name": "stdout",
     "output_type": "stream",
     "text": [
      "<class 'pandas.core.frame.DataFrame'>\n",
      "RangeIndex: 51 entries, 0 to 50\n",
      "Data columns (total 4 columns):\n",
      " #   Column  Non-Null Count  Dtype \n",
      "---  ------  --------------  ----- \n",
      " 0   from    51 non-null     object\n",
      " 1   to      51 non-null     object\n",
      " 2   weight  51 non-null     int64 \n",
      " 3   type    51 non-null     object\n",
      "dtypes: int64(1), object(3)\n",
      "memory usage: 1.7+ KB\n"
     ]
    }
   ]
  },
  {
   "cell_type": "code",
   "metadata": {
    "id": "IS6JRHFtpF4y",
    "ExecuteTime": {
     "end_time": "2024-03-19T07:58:23.401778Z",
     "start_time": "2024-03-19T07:58:23.391176Z"
    }
   },
   "source": [
    "g = ig.Graph.TupleList(edges.values,directed=True,\n",
    "                       edge_attrs=edges.columns[2:])"
   ],
   "execution_count": 45,
   "outputs": []
  },
  {
   "cell_type": "code",
   "outputs": [
    {
     "data": {
      "text/plain": "Index(['weight', 'type'], dtype='object')"
     },
     "execution_count": 48,
     "metadata": {},
     "output_type": "execute_result"
    }
   ],
   "source": [
    "edges.columns[2:]"
   ],
   "metadata": {
    "collapsed": false,
    "ExecuteTime": {
     "end_time": "2024-03-19T07:58:35.715613Z",
     "start_time": "2024-03-19T07:58:35.707320Z"
    }
   },
   "execution_count": 48
  },
  {
   "cell_type": "code",
   "outputs": [
    {
     "data": {
      "text/plain": "array([['s01', 's02', 10, 'hyperlink'],\n       ['s01', 's02', 12, 'hyperlink'],\n       ['s01', 's03', 22, 'hyperlink'],\n       ['s01', 's04', 21, 'hyperlink'],\n       ['s04', 's11', 22, 'mention'],\n       ['s05', 's15', 21, 'mention'],\n       ['s06', 's17', 21, 'mention'],\n       ['s08', 's09', 11, 'mention'],\n       ['s08', 's09', 12, 'mention'],\n       ['s03', 's04', 22, 'hyperlink'],\n       ['s04', 's03', 23, 'hyperlink'],\n       ['s01', 's15', 20, 'mention'],\n       ['s15', 's01', 11, 'hyperlink'],\n       ['s15', 's01', 11, 'hyperlink'],\n       ['s16', 's17', 21, 'mention'],\n       ['s16', 's06', 23, 'hyperlink'],\n       ['s06', 's16', 21, 'hyperlink'],\n       ['s09', 's10', 21, 'mention'],\n       ['s08', 's07', 21, 'mention'],\n       ['s07', 's08', 22, 'mention'],\n       ['s07', 's10', 21, 'hyperlink'],\n       ['s05', 's02', 21, 'hyperlink'],\n       ['s02', 's03', 21, 'hyperlink'],\n       ['s02', 's01', 23, 'hyperlink'],\n       ['s03', 's01', 21, 'hyperlink'],\n       ['s12', 's13', 22, 'hyperlink'],\n       ['s12', 's14', 22, 'mention'],\n       ['s14', 's13', 21, 'mention'],\n       ['s13', 's12', 21, 'hyperlink'],\n       ['s05', 's09', 2, 'hyperlink'],\n       ['s02', 's10', 5, 'hyperlink'],\n       ['s03', 's12', 1, 'hyperlink'],\n       ['s04', 's06', 1, 'mention'],\n       ['s10', 's03', 2, 'hyperlink'],\n       ['s03', 's10', 2, 'mention'],\n       ['s04', 's12', 3, 'hyperlink'],\n       ['s13', 's17', 1, 'mention'],\n       ['s14', 's11', 1, 'mention'],\n       ['s03', 's11', 1, 'hyperlink'],\n       ['s12', 's06', 2, 'mention'],\n       ['s04', 's17', 2, 'mention'],\n       ['s17', 's04', 4, 'hyperlink'],\n       ['s08', 's03', 2, 'hyperlink'],\n       ['s03', 's08', 4, 'hyperlink'],\n       ['s07', 's14', 4, 'mention'],\n       ['s15', 's06', 4, 'hyperlink'],\n       ['s15', 's04', 1, 'hyperlink'],\n       ['s05', 's01', 1, 'mention'],\n       ['s02', 's09', 1, 'hyperlink'],\n       ['s03', 's05', 1, 'hyperlink'],\n       ['s07', 's03', 1, 'mention']], dtype=object)"
     },
     "execution_count": 49,
     "metadata": {},
     "output_type": "execute_result"
    }
   ],
   "source": [
    "edges.values"
   ],
   "metadata": {
    "collapsed": false,
    "ExecuteTime": {
     "end_time": "2024-03-19T07:58:47.004860Z",
     "start_time": "2024-03-19T07:58:46.995867Z"
    }
   },
   "execution_count": 49
  },
  {
   "cell_type": "code",
   "metadata": {
    "id": "ecksWrVApF4y",
    "outputId": "a8112622-b909-4589-d0eb-1fb57619a495",
    "colab": {
     "base_uri": "https://localhost:8080/"
    },
    "ExecuteTime": {
     "end_time": "2024-03-19T07:58:23.649937Z",
     "start_time": "2024-03-19T07:58:23.640643Z"
    }
   },
   "source": [
    "print(g)"
   ],
   "execution_count": 46,
   "outputs": [
    {
     "name": "stdout",
     "output_type": "stream",
     "text": [
      "IGRAPH DNW- 17 51 --\n",
      "+ attr: name (v), type (e), weight (e)\n",
      "+ edges (vertex names):\n",
      "s01 -> s02, s02, s03, s04, s15             s09 -> s10\n",
      "s02 -> s01, s03, s09, s10                  s16 -> s06, s17\n",
      "s03 -> s01, s04, s11, s05, s08, s10, s12   s10 -> s03\n",
      "s04 -> s03, s11, s06, s17, s12             s07 -> s03, s08, s10, s14\n",
      "s11 ->                                     s12 -> s06, s13, s14\n",
      "s05 -> s01, s02, s15, s09                  s13 -> s17, s12\n",
      "s15 -> s01, s01, s04, s06                  s14 -> s11, s13\n",
      "s06 -> s17, s16\n",
      "s17 -> s04\n",
      "s08 -> s03, s09, s09, s07\n"
     ]
    }
   ]
  },
  {
   "cell_type": "code",
   "metadata": {
    "id": "YOAj1Zg8pF4z",
    "ExecuteTime": {
     "end_time": "2024-03-19T07:58:23.916590Z",
     "start_time": "2024-03-19T07:58:23.897546Z"
    }
   },
   "source": [
    "nodes_df = nodes.set_index(['id'])\n",
    "for column in nodes_df:\n",
    "    g.vs[column] = nodes_df.loc[g.vs['name'],column]"
   ],
   "execution_count": 47,
   "outputs": []
  },
  {
   "cell_type": "code",
   "source": [
    "nodes.set_index(['id'])"
   ],
   "metadata": {
    "colab": {
     "base_uri": "https://localhost:8080/",
     "height": 613
    },
    "id": "4fgXxnXYGg30",
    "outputId": "326c6a15-16e8-41c9-f12d-3fcf9d54e7db"
   },
   "execution_count": null,
   "outputs": [
    {
     "output_type": "execute_result",
     "data": {
      "text/plain": [
       "                   media  media.type type.label  audience.size\n",
       "id                                                            \n",
       "s01             NY Times           1  Newspaper             20\n",
       "s02      Washington Post           1  Newspaper             25\n",
       "s03  Wall Street Journal           1  Newspaper             30\n",
       "s04            USA Today           1  Newspaper             32\n",
       "s05             LA Times           1  Newspaper             20\n",
       "s06        New York Post           1  Newspaper             50\n",
       "s07                  CNN           2         TV             56\n",
       "s08                MSNBC           2         TV             34\n",
       "s09             FOX News           2         TV             60\n",
       "s10                  ABC           2         TV             23\n",
       "s11                  BBC           2         TV             34\n",
       "s12           Yahoo News           3     Online             33\n",
       "s13          Google News           3     Online             23\n",
       "s14          Reuters.com           3     Online             12\n",
       "s15          NYTimes.com           3     Online             24\n",
       "s16   WashingtonPost.com           3     Online             28\n",
       "s17              AOL.com           3     Online             33"
      ],
      "text/html": [
       "\n",
       "  <div id=\"df-2cc19b35-e4a7-4c8e-b657-ea4b94dbd4a6\">\n",
       "    <div class=\"colab-df-container\">\n",
       "      <div>\n",
       "<style scoped>\n",
       "    .dataframe tbody tr th:only-of-type {\n",
       "        vertical-align: middle;\n",
       "    }\n",
       "\n",
       "    .dataframe tbody tr th {\n",
       "        vertical-align: top;\n",
       "    }\n",
       "\n",
       "    .dataframe thead th {\n",
       "        text-align: right;\n",
       "    }\n",
       "</style>\n",
       "<table border=\"1\" class=\"dataframe\">\n",
       "  <thead>\n",
       "    <tr style=\"text-align: right;\">\n",
       "      <th></th>\n",
       "      <th>media</th>\n",
       "      <th>media.type</th>\n",
       "      <th>type.label</th>\n",
       "      <th>audience.size</th>\n",
       "    </tr>\n",
       "    <tr>\n",
       "      <th>id</th>\n",
       "      <th></th>\n",
       "      <th></th>\n",
       "      <th></th>\n",
       "      <th></th>\n",
       "    </tr>\n",
       "  </thead>\n",
       "  <tbody>\n",
       "    <tr>\n",
       "      <th>s01</th>\n",
       "      <td>NY Times</td>\n",
       "      <td>1</td>\n",
       "      <td>Newspaper</td>\n",
       "      <td>20</td>\n",
       "    </tr>\n",
       "    <tr>\n",
       "      <th>s02</th>\n",
       "      <td>Washington Post</td>\n",
       "      <td>1</td>\n",
       "      <td>Newspaper</td>\n",
       "      <td>25</td>\n",
       "    </tr>\n",
       "    <tr>\n",
       "      <th>s03</th>\n",
       "      <td>Wall Street Journal</td>\n",
       "      <td>1</td>\n",
       "      <td>Newspaper</td>\n",
       "      <td>30</td>\n",
       "    </tr>\n",
       "    <tr>\n",
       "      <th>s04</th>\n",
       "      <td>USA Today</td>\n",
       "      <td>1</td>\n",
       "      <td>Newspaper</td>\n",
       "      <td>32</td>\n",
       "    </tr>\n",
       "    <tr>\n",
       "      <th>s05</th>\n",
       "      <td>LA Times</td>\n",
       "      <td>1</td>\n",
       "      <td>Newspaper</td>\n",
       "      <td>20</td>\n",
       "    </tr>\n",
       "    <tr>\n",
       "      <th>s06</th>\n",
       "      <td>New York Post</td>\n",
       "      <td>1</td>\n",
       "      <td>Newspaper</td>\n",
       "      <td>50</td>\n",
       "    </tr>\n",
       "    <tr>\n",
       "      <th>s07</th>\n",
       "      <td>CNN</td>\n",
       "      <td>2</td>\n",
       "      <td>TV</td>\n",
       "      <td>56</td>\n",
       "    </tr>\n",
       "    <tr>\n",
       "      <th>s08</th>\n",
       "      <td>MSNBC</td>\n",
       "      <td>2</td>\n",
       "      <td>TV</td>\n",
       "      <td>34</td>\n",
       "    </tr>\n",
       "    <tr>\n",
       "      <th>s09</th>\n",
       "      <td>FOX News</td>\n",
       "      <td>2</td>\n",
       "      <td>TV</td>\n",
       "      <td>60</td>\n",
       "    </tr>\n",
       "    <tr>\n",
       "      <th>s10</th>\n",
       "      <td>ABC</td>\n",
       "      <td>2</td>\n",
       "      <td>TV</td>\n",
       "      <td>23</td>\n",
       "    </tr>\n",
       "    <tr>\n",
       "      <th>s11</th>\n",
       "      <td>BBC</td>\n",
       "      <td>2</td>\n",
       "      <td>TV</td>\n",
       "      <td>34</td>\n",
       "    </tr>\n",
       "    <tr>\n",
       "      <th>s12</th>\n",
       "      <td>Yahoo News</td>\n",
       "      <td>3</td>\n",
       "      <td>Online</td>\n",
       "      <td>33</td>\n",
       "    </tr>\n",
       "    <tr>\n",
       "      <th>s13</th>\n",
       "      <td>Google News</td>\n",
       "      <td>3</td>\n",
       "      <td>Online</td>\n",
       "      <td>23</td>\n",
       "    </tr>\n",
       "    <tr>\n",
       "      <th>s14</th>\n",
       "      <td>Reuters.com</td>\n",
       "      <td>3</td>\n",
       "      <td>Online</td>\n",
       "      <td>12</td>\n",
       "    </tr>\n",
       "    <tr>\n",
       "      <th>s15</th>\n",
       "      <td>NYTimes.com</td>\n",
       "      <td>3</td>\n",
       "      <td>Online</td>\n",
       "      <td>24</td>\n",
       "    </tr>\n",
       "    <tr>\n",
       "      <th>s16</th>\n",
       "      <td>WashingtonPost.com</td>\n",
       "      <td>3</td>\n",
       "      <td>Online</td>\n",
       "      <td>28</td>\n",
       "    </tr>\n",
       "    <tr>\n",
       "      <th>s17</th>\n",
       "      <td>AOL.com</td>\n",
       "      <td>3</td>\n",
       "      <td>Online</td>\n",
       "      <td>33</td>\n",
       "    </tr>\n",
       "  </tbody>\n",
       "</table>\n",
       "</div>\n",
       "      <button class=\"colab-df-convert\" onclick=\"convertToInteractive('df-2cc19b35-e4a7-4c8e-b657-ea4b94dbd4a6')\"\n",
       "              title=\"Convert this dataframe to an interactive table.\"\n",
       "              style=\"display:none;\">\n",
       "        \n",
       "  <svg xmlns=\"http://www.w3.org/2000/svg\" height=\"24px\"viewBox=\"0 0 24 24\"\n",
       "       width=\"24px\">\n",
       "    <path d=\"M0 0h24v24H0V0z\" fill=\"none\"/>\n",
       "    <path d=\"M18.56 5.44l.94 2.06.94-2.06 2.06-.94-2.06-.94-.94-2.06-.94 2.06-2.06.94zm-11 1L8.5 8.5l.94-2.06 2.06-.94-2.06-.94L8.5 2.5l-.94 2.06-2.06.94zm10 10l.94 2.06.94-2.06 2.06-.94-2.06-.94-.94-2.06-.94 2.06-2.06.94z\"/><path d=\"M17.41 7.96l-1.37-1.37c-.4-.4-.92-.59-1.43-.59-.52 0-1.04.2-1.43.59L10.3 9.45l-7.72 7.72c-.78.78-.78 2.05 0 2.83L4 21.41c.39.39.9.59 1.41.59.51 0 1.02-.2 1.41-.59l7.78-7.78 2.81-2.81c.8-.78.8-2.07 0-2.86zM5.41 20L4 18.59l7.72-7.72 1.47 1.35L5.41 20z\"/>\n",
       "  </svg>\n",
       "      </button>\n",
       "      \n",
       "  <style>\n",
       "    .colab-df-container {\n",
       "      display:flex;\n",
       "      flex-wrap:wrap;\n",
       "      gap: 12px;\n",
       "    }\n",
       "\n",
       "    .colab-df-convert {\n",
       "      background-color: #E8F0FE;\n",
       "      border: none;\n",
       "      border-radius: 50%;\n",
       "      cursor: pointer;\n",
       "      display: none;\n",
       "      fill: #1967D2;\n",
       "      height: 32px;\n",
       "      padding: 0 0 0 0;\n",
       "      width: 32px;\n",
       "    }\n",
       "\n",
       "    .colab-df-convert:hover {\n",
       "      background-color: #E2EBFA;\n",
       "      box-shadow: 0px 1px 2px rgba(60, 64, 67, 0.3), 0px 1px 3px 1px rgba(60, 64, 67, 0.15);\n",
       "      fill: #174EA6;\n",
       "    }\n",
       "\n",
       "    [theme=dark] .colab-df-convert {\n",
       "      background-color: #3B4455;\n",
       "      fill: #D2E3FC;\n",
       "    }\n",
       "\n",
       "    [theme=dark] .colab-df-convert:hover {\n",
       "      background-color: #434B5C;\n",
       "      box-shadow: 0px 1px 3px 1px rgba(0, 0, 0, 0.15);\n",
       "      filter: drop-shadow(0px 1px 2px rgba(0, 0, 0, 0.3));\n",
       "      fill: #FFFFFF;\n",
       "    }\n",
       "  </style>\n",
       "\n",
       "      <script>\n",
       "        const buttonEl =\n",
       "          document.querySelector('#df-2cc19b35-e4a7-4c8e-b657-ea4b94dbd4a6 button.colab-df-convert');\n",
       "        buttonEl.style.display =\n",
       "          google.colab.kernel.accessAllowed ? 'block' : 'none';\n",
       "\n",
       "        async function convertToInteractive(key) {\n",
       "          const element = document.querySelector('#df-2cc19b35-e4a7-4c8e-b657-ea4b94dbd4a6');\n",
       "          const dataTable =\n",
       "            await google.colab.kernel.invokeFunction('convertToInteractive',\n",
       "                                                     [key], {});\n",
       "          if (!dataTable) return;\n",
       "\n",
       "          const docLinkHtml = 'Like what you see? Visit the ' +\n",
       "            '<a target=\"_blank\" href=https://colab.research.google.com/notebooks/data_table.ipynb>data table notebook</a>'\n",
       "            + ' to learn more about interactive tables.';\n",
       "          element.innerHTML = '';\n",
       "          dataTable['output_type'] = 'display_data';\n",
       "          await google.colab.output.renderOutput(dataTable, element);\n",
       "          const docLink = document.createElement('div');\n",
       "          docLink.innerHTML = docLinkHtml;\n",
       "          element.appendChild(docLink);\n",
       "        }\n",
       "      </script>\n",
       "    </div>\n",
       "  </div>\n",
       "  "
      ]
     },
     "metadata": {},
     "execution_count": 114
    }
   ]
  },
  {
   "cell_type": "code",
   "metadata": {
    "id": "ZCKH3jsC1DVf",
    "outputId": "5c643eca-9c8d-4592-f786-5aa0c5953d25",
    "colab": {
     "base_uri": "https://localhost:8080/",
     "height": 174
    }
   },
   "source": [
    "nodes_df = nodes.set_index(['id'])\n",
    "nodes_df.head(3)"
   ],
   "execution_count": null,
   "outputs": [
    {
     "output_type": "execute_result",
     "data": {
      "text/plain": [
       "                   media  media.type type.label  audience.size\n",
       "id                                                            \n",
       "s01             NY Times           1  Newspaper             20\n",
       "s02      Washington Post           1  Newspaper             25\n",
       "s03  Wall Street Journal           1  Newspaper             30"
      ],
      "text/html": [
       "\n",
       "  <div id=\"df-08b25f83-f105-44ec-a0b2-5b42ab592bf4\">\n",
       "    <div class=\"colab-df-container\">\n",
       "      <div>\n",
       "<style scoped>\n",
       "    .dataframe tbody tr th:only-of-type {\n",
       "        vertical-align: middle;\n",
       "    }\n",
       "\n",
       "    .dataframe tbody tr th {\n",
       "        vertical-align: top;\n",
       "    }\n",
       "\n",
       "    .dataframe thead th {\n",
       "        text-align: right;\n",
       "    }\n",
       "</style>\n",
       "<table border=\"1\" class=\"dataframe\">\n",
       "  <thead>\n",
       "    <tr style=\"text-align: right;\">\n",
       "      <th></th>\n",
       "      <th>media</th>\n",
       "      <th>media.type</th>\n",
       "      <th>type.label</th>\n",
       "      <th>audience.size</th>\n",
       "    </tr>\n",
       "    <tr>\n",
       "      <th>id</th>\n",
       "      <th></th>\n",
       "      <th></th>\n",
       "      <th></th>\n",
       "      <th></th>\n",
       "    </tr>\n",
       "  </thead>\n",
       "  <tbody>\n",
       "    <tr>\n",
       "      <th>s01</th>\n",
       "      <td>NY Times</td>\n",
       "      <td>1</td>\n",
       "      <td>Newspaper</td>\n",
       "      <td>20</td>\n",
       "    </tr>\n",
       "    <tr>\n",
       "      <th>s02</th>\n",
       "      <td>Washington Post</td>\n",
       "      <td>1</td>\n",
       "      <td>Newspaper</td>\n",
       "      <td>25</td>\n",
       "    </tr>\n",
       "    <tr>\n",
       "      <th>s03</th>\n",
       "      <td>Wall Street Journal</td>\n",
       "      <td>1</td>\n",
       "      <td>Newspaper</td>\n",
       "      <td>30</td>\n",
       "    </tr>\n",
       "  </tbody>\n",
       "</table>\n",
       "</div>\n",
       "      <button class=\"colab-df-convert\" onclick=\"convertToInteractive('df-08b25f83-f105-44ec-a0b2-5b42ab592bf4')\"\n",
       "              title=\"Convert this dataframe to an interactive table.\"\n",
       "              style=\"display:none;\">\n",
       "        \n",
       "  <svg xmlns=\"http://www.w3.org/2000/svg\" height=\"24px\"viewBox=\"0 0 24 24\"\n",
       "       width=\"24px\">\n",
       "    <path d=\"M0 0h24v24H0V0z\" fill=\"none\"/>\n",
       "    <path d=\"M18.56 5.44l.94 2.06.94-2.06 2.06-.94-2.06-.94-.94-2.06-.94 2.06-2.06.94zm-11 1L8.5 8.5l.94-2.06 2.06-.94-2.06-.94L8.5 2.5l-.94 2.06-2.06.94zm10 10l.94 2.06.94-2.06 2.06-.94-2.06-.94-.94-2.06-.94 2.06-2.06.94z\"/><path d=\"M17.41 7.96l-1.37-1.37c-.4-.4-.92-.59-1.43-.59-.52 0-1.04.2-1.43.59L10.3 9.45l-7.72 7.72c-.78.78-.78 2.05 0 2.83L4 21.41c.39.39.9.59 1.41.59.51 0 1.02-.2 1.41-.59l7.78-7.78 2.81-2.81c.8-.78.8-2.07 0-2.86zM5.41 20L4 18.59l7.72-7.72 1.47 1.35L5.41 20z\"/>\n",
       "  </svg>\n",
       "      </button>\n",
       "      \n",
       "  <style>\n",
       "    .colab-df-container {\n",
       "      display:flex;\n",
       "      flex-wrap:wrap;\n",
       "      gap: 12px;\n",
       "    }\n",
       "\n",
       "    .colab-df-convert {\n",
       "      background-color: #E8F0FE;\n",
       "      border: none;\n",
       "      border-radius: 50%;\n",
       "      cursor: pointer;\n",
       "      display: none;\n",
       "      fill: #1967D2;\n",
       "      height: 32px;\n",
       "      padding: 0 0 0 0;\n",
       "      width: 32px;\n",
       "    }\n",
       "\n",
       "    .colab-df-convert:hover {\n",
       "      background-color: #E2EBFA;\n",
       "      box-shadow: 0px 1px 2px rgba(60, 64, 67, 0.3), 0px 1px 3px 1px rgba(60, 64, 67, 0.15);\n",
       "      fill: #174EA6;\n",
       "    }\n",
       "\n",
       "    [theme=dark] .colab-df-convert {\n",
       "      background-color: #3B4455;\n",
       "      fill: #D2E3FC;\n",
       "    }\n",
       "\n",
       "    [theme=dark] .colab-df-convert:hover {\n",
       "      background-color: #434B5C;\n",
       "      box-shadow: 0px 1px 3px 1px rgba(0, 0, 0, 0.15);\n",
       "      filter: drop-shadow(0px 1px 2px rgba(0, 0, 0, 0.3));\n",
       "      fill: #FFFFFF;\n",
       "    }\n",
       "  </style>\n",
       "\n",
       "      <script>\n",
       "        const buttonEl =\n",
       "          document.querySelector('#df-08b25f83-f105-44ec-a0b2-5b42ab592bf4 button.colab-df-convert');\n",
       "        buttonEl.style.display =\n",
       "          google.colab.kernel.accessAllowed ? 'block' : 'none';\n",
       "\n",
       "        async function convertToInteractive(key) {\n",
       "          const element = document.querySelector('#df-08b25f83-f105-44ec-a0b2-5b42ab592bf4');\n",
       "          const dataTable =\n",
       "            await google.colab.kernel.invokeFunction('convertToInteractive',\n",
       "                                                     [key], {});\n",
       "          if (!dataTable) return;\n",
       "\n",
       "          const docLinkHtml = 'Like what you see? Visit the ' +\n",
       "            '<a target=\"_blank\" href=https://colab.research.google.com/notebooks/data_table.ipynb>data table notebook</a>'\n",
       "            + ' to learn more about interactive tables.';\n",
       "          element.innerHTML = '';\n",
       "          dataTable['output_type'] = 'display_data';\n",
       "          await google.colab.output.renderOutput(dataTable, element);\n",
       "          const docLink = document.createElement('div');\n",
       "          docLink.innerHTML = docLinkHtml;\n",
       "          element.appendChild(docLink);\n",
       "        }\n",
       "      </script>\n",
       "    </div>\n",
       "  </div>\n",
       "  "
      ]
     },
     "metadata": {},
     "execution_count": 116
    }
   ]
  },
  {
   "cell_type": "code",
   "metadata": {
    "id": "otzSQ0LwpF4z",
    "outputId": "0c5c8e19-a71d-4acd-8fc6-785ae208b5a8",
    "colab": {
     "base_uri": "https://localhost:8080/"
    }
   },
   "source": [
    "print(g)"
   ],
   "execution_count": null,
   "outputs": [
    {
     "output_type": "stream",
     "name": "stdout",
     "text": [
      "IGRAPH DNW- 17 51 --\n",
      "+ attr: audience.size (v), media (v), media.type (v), name (v), type.label\n",
      "  (v), type (e), weight (e)\n",
      "+ edges (vertex names):\n",
      "s01 -> s02, s02, s03, s04, s15             s09 -> s10\n",
      "s02 -> s01, s03, s09, s10                  s16 -> s06, s17\n",
      "s03 -> s01, s04, s11, s05, s08, s10, s12   s10 -> s03\n",
      "s04 -> s03, s11, s06, s17, s12             s07 -> s03, s08, s10, s14\n",
      "s11 ->                                     s12 -> s06, s13, s14\n",
      "s05 -> s01, s02, s15, s09                  s13 -> s17, s12\n",
      "s15 -> s01, s01, s04, s06                  s14 -> s11, s13\n",
      "s06 -> s17, s16\n",
      "s17 -> s04\n",
      "s08 -> s03, s09, s09, s07\n"
     ]
    }
   ]
  },
  {
   "cell_type": "code",
   "metadata": {
    "id": "2l94CXg5pF40"
   },
   "source": [
    "G = ig.Graph.DictList(\n",
    "          vertices=nodes.to_dict('records'),\n",
    "          edges=edges.to_dict('records'),\n",
    "          directed=True,\n",
    "          vertex_name_attr='id',\n",
    "          edge_foreign_keys=('from', 'to'));"
   ],
   "execution_count": null,
   "outputs": []
  },
  {
   "cell_type": "code",
   "metadata": {
    "id": "93fJoxYepF40",
    "outputId": "2045b895-d874-4e2d-9a8d-48f9a3dc0c38",
    "colab": {
     "base_uri": "https://localhost:8080/"
    }
   },
   "source": [
    "print(G)"
   ],
   "execution_count": null,
   "outputs": [
    {
     "output_type": "stream",
     "name": "stdout",
     "text": [
      "IGRAPH D-W- 17 51 --\n",
      "+ attr: audience.size (v), id (v), media (v), media.type (v), type.label (v),\n",
      "  from (e), to (e), type (e), weight (e)\n",
      "+ edges:\n",
      " 0 ->  1  1  2  3 14          7 ->  2  6  8  8            14 ->  0  0  3  5\n",
      " 1 ->  0  2  8  9             8 ->  9                     15 ->  5 16\n",
      " 2 ->  0  3  4  7  9 10 11    9 ->  2                     16 ->  3\n",
      " 3 ->  2  5 10 11 16         10 ->\n",
      " 4 ->  0  1  8 14            11 ->  5 12 13\n",
      " 5 -> 15 16                  12 -> 11 16\n",
      " 6 ->  2  7  9 13            13 -> 10 12\n"
     ]
    }
   ]
  },
  {
   "cell_type": "markdown",
   "metadata": {
    "id": "CN06Br081DVg"
   },
   "source": [
    "### Exercise 1:Sanity checks to clean edge dataset"
   ]
  },
  {
   "cell_type": "code",
   "metadata": {
    "id": "J6qs36S6pF41",
    "outputId": "36e8b3ba-af6a-4a98-8264-e77572810ac2",
    "colab": {
     "base_uri": "https://localhost:8080/"
    }
   },
   "source": [
    "# Sanity checks to clean edge dataset\n",
    "'''\n",
    "# Todo\n",
    "1. Number of nodes in the 'InputFileNodes.csv' data. #nodes.shape[0]\n",
    "2. Number of unique nodes in the 'InputFileNodes.csv' data. #nodes['columnname'].nunique()\n",
    "3. Number of rows in the 'InputFileEdges.csv' data.\n",
    "4. Number of unique edges (from, to) in the 'InputFileEdges.csv' data. #edges['columnnames'].nunique()\n",
    "'''\n",
    "\n",
    "print('Please try to do the four mentioned questions.')"
   ],
   "execution_count": null,
   "outputs": [
    {
     "output_type": "stream",
     "name": "stdout",
     "text": [
      "Please try to do the four mentioned questions.\n"
     ]
    }
   ]
  },
  {
   "cell_type": "markdown",
   "metadata": {
    "id": "u6IsPYX9pF41"
   },
   "source": [
    "As you can see, total amount of edges is bigger then unique edges with combination (from,to). This shows us that there are nodes with two or more edges.\n",
    "\n",
    "We will collapse all links of the same type between the same two nodes by summing their weights:"
   ]
  },
  {
   "cell_type": "code",
   "metadata": {
    "id": "wpQ8_qv5pF41",
    "outputId": "7f3d43df-3f5e-40ea-9ad5-919d27c13139",
    "colab": {
     "base_uri": "https://localhost:8080/"
    }
   },
   "source": [
    "links = edges.groupby(['from', 'to', 'type'])['weight'].sum().reset_index()\n",
    "print(edges.shape,'\\n',links.shape)"
   ],
   "execution_count": null,
   "outputs": [
    {
     "output_type": "stream",
     "name": "stdout",
     "text": [
      "(51, 4) \n",
      " (48, 4)\n"
     ]
    }
   ]
  },
  {
   "cell_type": "code",
   "metadata": {
    "id": "cOonsAMqpF42"
   },
   "source": [
    "g = ig.Graph.TupleList(links.values,directed=True,\n",
    "                       edge_attrs=links.columns[2:])\n",
    "\n",
    "for column in nodes_df:\n",
    "    g.vs[column] = nodes_df.loc[g.vs['name'],column]"
   ],
   "execution_count": null,
   "outputs": []
  },
  {
   "cell_type": "code",
   "metadata": {
    "id": "xZrBeLH_pF42",
    "outputId": "0df08080-2767-4586-b234-38be84ad785a",
    "colab": {
     "base_uri": "https://localhost:8080/",
     "height": 421
    }
   },
   "source": [
    "ig.plot(g, \"Graph.png\", bbox=(300,300), vertex_label=g.vs[\"name\"])"
   ],
   "execution_count": null,
   "outputs": [
    {
     "output_type": "execute_result",
     "data": {
      "text/plain": [
       "<igraph.drawing.cairo.plot.CairoPlot at 0x7f48bebfa580>"
      ],
      "image/svg+xml": "<?xml version=\"1.0\" encoding=\"UTF-8\"?>\n<svg xmlns=\"http://www.w3.org/2000/svg\" xmlns:xlink=\"http://www.w3.org/1999/xlink\" width=\"300pt\" height=\"300pt\" viewBox=\"0 0 300 300\" version=\"1.1\">\n<defs>\n<g>\n<symbol overflow=\"visible\" id=\"glyph0-0\">\n<path style=\"stroke:none;\" d=\"M 0.46875 0 L 0.46875 -9.328125 L 4.1875 -9.328125 L 4.1875 0 Z M 0.9375 -0.46875 L 3.71875 -0.46875 L 3.71875 -8.859375 L 0.9375 -8.859375 Z M 0.9375 -0.46875 \"/>\n</symbol>\n<symbol overflow=\"visible\" id=\"glyph0-1\">\n<path style=\"stroke:none;\" d=\"M 7.25 -2.109375 C 7.25 -1.765625 7.179688 -1.453125 7.046875 -1.171875 C 6.910156 -0.898438 6.710938 -0.664062 6.453125 -0.46875 C 6.203125 -0.269531 5.890625 -0.117188 5.515625 -0.015625 C 5.148438 0.0859375 4.726562 0.140625 4.25 0.140625 C 3.820312 0.140625 3.4375 0.109375 3.09375 0.046875 C 2.75 -0.015625 2.445312 -0.113281 2.1875 -0.25 C 1.925781 -0.394531 1.707031 -0.582031 1.53125 -0.8125 C 1.351562 -1.050781 1.222656 -1.347656 1.140625 -1.703125 L 2.234375 -1.90625 C 2.285156 -1.65625 2.367188 -1.457031 2.484375 -1.3125 C 2.609375 -1.164062 2.753906 -1.050781 2.921875 -0.96875 C 3.097656 -0.894531 3.296875 -0.84375 3.515625 -0.8125 C 3.742188 -0.789062 3.988281 -0.78125 4.25 -0.78125 C 4.507812 -0.78125 4.75 -0.796875 4.96875 -0.828125 C 5.195312 -0.867188 5.394531 -0.9375 5.5625 -1.03125 C 5.726562 -1.125 5.859375 -1.242188 5.953125 -1.390625 C 6.046875 -1.546875 6.09375 -1.734375 6.09375 -1.953125 C 6.09375 -2.179688 6.035156 -2.363281 5.921875 -2.5 C 5.804688 -2.632812 5.644531 -2.75 5.4375 -2.84375 C 5.238281 -2.945312 5 -3.03125 4.71875 -3.09375 C 4.445312 -3.164062 4.148438 -3.242188 3.828125 -3.328125 C 3.535156 -3.410156 3.242188 -3.492188 2.953125 -3.578125 C 2.671875 -3.671875 2.414062 -3.789062 2.1875 -3.9375 C 1.96875 -4.082031 1.785156 -4.269531 1.640625 -4.5 C 1.503906 -4.726562 1.4375 -5.019531 1.4375 -5.375 C 1.4375 -6.039062 1.675781 -6.5625 2.15625 -6.9375 C 2.644531 -7.320312 3.347656 -7.515625 4.265625 -7.515625 C 4.617188 -7.515625 4.953125 -7.476562 5.265625 -7.40625 C 5.585938 -7.34375 5.867188 -7.238281 6.109375 -7.09375 C 6.359375 -6.957031 6.566406 -6.773438 6.734375 -6.546875 C 6.898438 -6.316406 7.015625 -6.046875 7.078125 -5.734375 L 5.96875 -5.59375 C 5.9375 -5.800781 5.867188 -5.96875 5.765625 -6.09375 C 5.660156 -6.226562 5.53125 -6.332031 5.375 -6.40625 C 5.21875 -6.476562 5.046875 -6.523438 4.859375 -6.546875 C 4.671875 -6.578125 4.472656 -6.59375 4.265625 -6.59375 C 3.140625 -6.59375 2.578125 -6.25 2.578125 -5.5625 C 2.578125 -5.351562 2.625 -5.179688 2.71875 -5.046875 C 2.820312 -4.921875 2.960938 -4.8125 3.140625 -4.71875 C 3.316406 -4.632812 3.53125 -4.5625 3.78125 -4.5 C 4.03125 -4.445312 4.300781 -4.378906 4.59375 -4.296875 C 4.882812 -4.222656 5.1875 -4.140625 5.5 -4.046875 C 5.8125 -3.953125 6.097656 -3.820312 6.359375 -3.65625 C 6.617188 -3.5 6.832031 -3.296875 7 -3.046875 C 7.164062 -2.804688 7.25 -2.492188 7.25 -2.109375 Z M 7.25 -2.109375 \"/>\n</symbol>\n<symbol overflow=\"visible\" id=\"glyph0-2\">\n<path style=\"stroke:none;\" d=\"M 7.546875 -4.609375 C 7.546875 -3.722656 7.457031 -2.976562 7.28125 -2.375 C 7.101562 -1.769531 6.863281 -1.28125 6.5625 -0.90625 C 6.257812 -0.53125 5.898438 -0.257812 5.484375 -0.09375 C 5.078125 0.0625 4.640625 0.140625 4.171875 0.140625 C 3.703125 0.140625 3.265625 0.0625 2.859375 -0.09375 C 2.453125 -0.257812 2.097656 -0.53125 1.796875 -0.90625 C 1.503906 -1.28125 1.269531 -1.769531 1.09375 -2.375 C 0.925781 -2.976562 0.84375 -3.722656 0.84375 -4.609375 C 0.84375 -5.546875 0.925781 -6.316406 1.09375 -6.921875 C 1.269531 -7.535156 1.507812 -8.019531 1.8125 -8.375 C 2.113281 -8.738281 2.46875 -8.992188 2.875 -9.140625 C 3.289062 -9.285156 3.738281 -9.359375 4.21875 -9.359375 C 4.675781 -9.359375 5.109375 -9.285156 5.515625 -9.140625 C 5.921875 -8.992188 6.269531 -8.738281 6.5625 -8.375 C 6.863281 -8.019531 7.101562 -7.535156 7.28125 -6.921875 C 7.457031 -6.316406 7.546875 -5.546875 7.546875 -4.609375 Z M 6.296875 -4.609375 C 6.296875 -5.335938 6.25 -5.941406 6.15625 -6.421875 C 6.0625 -6.910156 5.925781 -7.296875 5.75 -7.578125 C 5.570312 -7.867188 5.351562 -8.070312 5.09375 -8.1875 C 4.832031 -8.3125 4.539062 -8.375 4.21875 -8.375 C 3.875 -8.375 3.566406 -8.3125 3.296875 -8.1875 C 3.035156 -8.0625 2.8125 -7.851562 2.625 -7.5625 C 2.445312 -7.28125 2.3125 -6.898438 2.21875 -6.421875 C 2.132812 -5.941406 2.09375 -5.335938 2.09375 -4.609375 C 2.09375 -3.910156 2.140625 -3.320312 2.234375 -2.84375 C 2.328125 -2.363281 2.460938 -1.976562 2.640625 -1.6875 C 2.816406 -1.394531 3.035156 -1.1875 3.296875 -1.0625 C 3.554688 -0.9375 3.851562 -0.875 4.1875 -0.875 C 4.507812 -0.875 4.800781 -0.9375 5.0625 -1.0625 C 5.320312 -1.1875 5.539062 -1.394531 5.71875 -1.6875 C 5.90625 -1.976562 6.046875 -2.363281 6.140625 -2.84375 C 6.242188 -3.320312 6.296875 -3.910156 6.296875 -4.609375 Z M 3.390625 -3.796875 L 3.390625 -5.5 L 5 -5.5 L 5 -3.796875 Z M 3.390625 -3.796875 \"/>\n</symbol>\n<symbol overflow=\"visible\" id=\"glyph0-3\">\n<path style=\"stroke:none;\" d=\"M 1.078125 0 L 1.078125 -0.984375 L 4.078125 -0.984375 L 4.078125 -7.96875 C 3.984375 -7.789062 3.828125 -7.617188 3.609375 -7.453125 C 3.390625 -7.296875 3.140625 -7.15625 2.859375 -7.03125 C 2.578125 -6.914062 2.273438 -6.820312 1.953125 -6.75 C 1.628906 -6.675781 1.316406 -6.640625 1.015625 -6.640625 L 1.015625 -7.65625 C 1.347656 -7.65625 1.675781 -7.691406 2 -7.765625 C 2.332031 -7.847656 2.640625 -7.957031 2.921875 -8.09375 C 3.203125 -8.238281 3.453125 -8.40625 3.671875 -8.59375 C 3.890625 -8.78125 4.054688 -8.988281 4.171875 -9.21875 L 5.3125 -9.21875 L 5.3125 -0.984375 L 7.71875 -0.984375 L 7.71875 0 Z M 1.078125 0 \"/>\n</symbol>\n<symbol overflow=\"visible\" id=\"glyph0-4\">\n<path style=\"stroke:none;\" d=\"M 0.984375 0 L 0.984375 -0.796875 C 1.179688 -1.242188 1.441406 -1.648438 1.765625 -2.015625 C 2.097656 -2.390625 2.453125 -2.742188 2.828125 -3.078125 C 3.203125 -3.410156 3.578125 -3.726562 3.953125 -4.03125 C 4.328125 -4.332031 4.664062 -4.628906 4.96875 -4.921875 C 5.269531 -5.210938 5.515625 -5.507812 5.703125 -5.8125 C 5.898438 -6.113281 6 -6.4375 6 -6.78125 C 6 -7.050781 5.953125 -7.285156 5.859375 -7.484375 C 5.773438 -7.679688 5.648438 -7.84375 5.484375 -7.96875 C 5.328125 -8.101562 5.132812 -8.203125 4.90625 -8.265625 C 4.6875 -8.328125 4.441406 -8.359375 4.171875 -8.359375 C 3.929688 -8.359375 3.703125 -8.320312 3.484375 -8.25 C 3.273438 -8.1875 3.085938 -8.082031 2.921875 -7.9375 C 2.765625 -7.800781 2.632812 -7.628906 2.53125 -7.421875 C 2.4375 -7.222656 2.375 -6.992188 2.34375 -6.734375 L 1.09375 -6.84375 C 1.132812 -7.1875 1.226562 -7.507812 1.375 -7.8125 C 1.519531 -8.125 1.71875 -8.394531 1.96875 -8.625 C 2.21875 -8.851562 2.523438 -9.03125 2.890625 -9.15625 C 3.265625 -9.289062 3.691406 -9.359375 4.171875 -9.359375 C 4.648438 -9.359375 5.078125 -9.300781 5.453125 -9.1875 C 5.835938 -9.082031 6.164062 -8.925781 6.4375 -8.71875 C 6.707031 -8.507812 6.910156 -8.242188 7.046875 -7.921875 C 7.191406 -7.609375 7.265625 -7.25 7.265625 -6.84375 C 7.265625 -6.414062 7.164062 -6.019531 6.96875 -5.65625 C 6.769531 -5.289062 6.515625 -4.941406 6.203125 -4.609375 C 5.898438 -4.285156 5.5625 -3.972656 5.1875 -3.671875 C 4.8125 -3.378906 4.445312 -3.085938 4.09375 -2.796875 C 3.738281 -2.503906 3.414062 -2.210938 3.125 -1.921875 C 2.832031 -1.628906 2.613281 -1.320312 2.46875 -1 L 7.40625 -1 L 7.40625 0 Z M 0.984375 0 \"/>\n</symbol>\n<symbol overflow=\"visible\" id=\"glyph0-5\">\n<path style=\"stroke:none;\" d=\"M 7.515625 -2.53125 C 7.515625 -2.113281 7.441406 -1.738281 7.296875 -1.40625 C 7.148438 -1.082031 6.9375 -0.804688 6.65625 -0.578125 C 6.382812 -0.347656 6.046875 -0.171875 5.640625 -0.046875 C 5.234375 0.078125 4.769531 0.140625 4.25 0.140625 C 3.65625 0.140625 3.148438 0.0664062 2.734375 -0.078125 C 2.328125 -0.234375 1.988281 -0.429688 1.71875 -0.671875 C 1.457031 -0.921875 1.257812 -1.195312 1.125 -1.5 C 1 -1.8125 0.914062 -2.132812 0.875 -2.46875 L 2.140625 -2.59375 C 2.179688 -2.332031 2.25 -2.097656 2.34375 -1.890625 C 2.445312 -1.679688 2.582031 -1.5 2.75 -1.34375 C 2.914062 -1.195312 3.125 -1.082031 3.375 -1 C 3.625 -0.914062 3.914062 -0.875 4.25 -0.875 C 4.863281 -0.875 5.347656 -1.019531 5.703125 -1.3125 C 6.054688 -1.601562 6.234375 -2.023438 6.234375 -2.578125 C 6.234375 -2.878906 6.15625 -3.132812 6 -3.34375 C 5.84375 -3.550781 5.644531 -3.710938 5.40625 -3.828125 C 5.175781 -3.953125 4.921875 -4.035156 4.640625 -4.078125 C 4.367188 -4.128906 4.117188 -4.15625 3.890625 -4.15625 L 3.1875 -4.15625 L 3.1875 -5.234375 L 3.859375 -5.234375 C 4.085938 -5.234375 4.328125 -5.257812 4.578125 -5.3125 C 4.828125 -5.375 5.054688 -5.46875 5.265625 -5.59375 C 5.472656 -5.71875 5.644531 -5.878906 5.78125 -6.078125 C 5.914062 -6.285156 5.984375 -6.53125 5.984375 -6.8125 C 5.984375 -7.300781 5.832031 -7.679688 5.53125 -7.953125 C 5.226562 -8.222656 4.773438 -8.359375 4.171875 -8.359375 C 3.628906 -8.359375 3.191406 -8.21875 2.859375 -7.9375 C 2.523438 -7.65625 2.332031 -7.265625 2.28125 -6.765625 L 1.046875 -6.859375 C 1.085938 -7.285156 1.195312 -7.65625 1.375 -7.96875 C 1.5625 -8.28125 1.796875 -8.539062 2.078125 -8.75 C 2.359375 -8.957031 2.675781 -9.109375 3.03125 -9.203125 C 3.394531 -9.304688 3.78125 -9.359375 4.1875 -9.359375 C 4.726562 -9.359375 5.191406 -9.296875 5.578125 -9.171875 C 5.960938 -9.046875 6.273438 -8.875 6.515625 -8.65625 C 6.765625 -8.4375 6.945312 -8.175781 7.0625 -7.875 C 7.1875 -7.582031 7.25 -7.273438 7.25 -6.953125 C 7.25 -6.691406 7.207031 -6.441406 7.125 -6.203125 C 7.039062 -5.972656 6.914062 -5.757812 6.75 -5.5625 C 6.582031 -5.375 6.367188 -5.207031 6.109375 -5.0625 C 5.859375 -4.914062 5.566406 -4.804688 5.234375 -4.734375 L 5.234375 -4.703125 C 5.609375 -4.671875 5.9375 -4.582031 6.21875 -4.4375 C 6.5 -4.300781 6.734375 -4.132812 6.921875 -3.9375 C 7.117188 -3.738281 7.265625 -3.519531 7.359375 -3.28125 C 7.460938 -3.039062 7.515625 -2.789062 7.515625 -2.53125 Z M 7.515625 -2.53125 \"/>\n</symbol>\n<symbol overflow=\"visible\" id=\"glyph0-6\">\n<path style=\"stroke:none;\" d=\"M 6.40625 -2.1875 L 6.40625 0 L 5.171875 0 L 5.171875 -2.1875 L 0.703125 -2.1875 L 0.703125 -3.140625 L 5.046875 -9.21875 L 6.40625 -9.21875 L 6.40625 -3.15625 L 7.6875 -3.15625 L 7.6875 -2.1875 Z M 5.171875 -7.890625 L 1.75 -3.15625 L 5.171875 -3.15625 Z M 5.171875 -7.890625 \"/>\n</symbol>\n<symbol overflow=\"visible\" id=\"glyph0-7\">\n<path style=\"stroke:none;\" d=\"M 7.515625 -3.03125 C 7.515625 -2.582031 7.441406 -2.160156 7.296875 -1.765625 C 7.148438 -1.378906 6.929688 -1.046875 6.640625 -0.765625 C 6.359375 -0.484375 6.003906 -0.257812 5.578125 -0.09375 C 5.148438 0.0625 4.65625 0.140625 4.09375 0.140625 C 3.59375 0.140625 3.148438 0.0820312 2.765625 -0.03125 C 2.390625 -0.15625 2.070312 -0.320312 1.8125 -0.53125 C 1.550781 -0.738281 1.34375 -0.976562 1.1875 -1.25 C 1.039062 -1.53125 0.9375 -1.832031 0.875 -2.15625 L 2.125 -2.296875 C 2.164062 -2.117188 2.234375 -1.941406 2.328125 -1.765625 C 2.421875 -1.597656 2.546875 -1.445312 2.703125 -1.3125 C 2.859375 -1.175781 3.050781 -1.066406 3.28125 -0.984375 C 3.507812 -0.910156 3.789062 -0.875 4.125 -0.875 C 4.4375 -0.875 4.722656 -0.921875 4.984375 -1.015625 C 5.242188 -1.109375 5.46875 -1.242188 5.65625 -1.421875 C 5.84375 -1.609375 5.984375 -1.835938 6.078125 -2.109375 C 6.179688 -2.378906 6.234375 -2.679688 6.234375 -3.015625 C 6.234375 -3.285156 6.1875 -3.535156 6.09375 -3.765625 C 6 -4.003906 5.863281 -4.207031 5.6875 -4.375 C 5.507812 -4.550781 5.289062 -4.6875 5.03125 -4.78125 C 4.769531 -4.882812 4.476562 -4.9375 4.15625 -4.9375 C 3.945312 -4.9375 3.753906 -4.914062 3.578125 -4.875 C 3.410156 -4.84375 3.25 -4.796875 3.09375 -4.734375 C 2.945312 -4.671875 2.8125 -4.59375 2.6875 -4.5 C 2.570312 -4.414062 2.460938 -4.332031 2.359375 -4.25 L 1.15625 -4.25 L 1.484375 -9.21875 L 6.953125 -9.21875 L 6.953125 -8.234375 L 2.609375 -8.234375 L 2.40625 -5.328125 C 2.625 -5.492188 2.894531 -5.632812 3.21875 -5.75 C 3.550781 -5.875 3.945312 -5.9375 4.40625 -5.9375 C 4.882812 -5.9375 5.3125 -5.863281 5.6875 -5.71875 C 6.070312 -5.570312 6.398438 -5.367188 6.671875 -5.109375 C 6.941406 -4.859375 7.148438 -4.554688 7.296875 -4.203125 C 7.441406 -3.847656 7.515625 -3.457031 7.515625 -3.03125 Z M 7.515625 -3.03125 \"/>\n</symbol>\n<symbol overflow=\"visible\" id=\"glyph0-8\">\n<path style=\"stroke:none;\" d=\"M 7.4375 -4.8125 C 7.4375 -4 7.351562 -3.285156 7.1875 -2.671875 C 7.03125 -2.054688 6.800781 -1.539062 6.5 -1.125 C 6.195312 -0.707031 5.832031 -0.390625 5.40625 -0.171875 C 4.976562 0.0351562 4.488281 0.140625 3.9375 0.140625 C 3.570312 0.140625 3.238281 0.0976562 2.9375 0.015625 C 2.644531 -0.0546875 2.382812 -0.171875 2.15625 -0.328125 C 1.925781 -0.484375 1.726562 -0.6875 1.5625 -0.9375 C 1.394531 -1.195312 1.257812 -1.507812 1.15625 -1.875 L 2.34375 -2.0625 C 2.46875 -1.644531 2.664062 -1.335938 2.9375 -1.140625 C 3.207031 -0.953125 3.550781 -0.859375 3.96875 -0.859375 C 4.300781 -0.859375 4.601562 -0.929688 4.875 -1.078125 C 5.15625 -1.234375 5.390625 -1.460938 5.578125 -1.765625 C 5.773438 -2.066406 5.925781 -2.441406 6.03125 -2.890625 C 6.144531 -3.335938 6.207031 -3.851562 6.21875 -4.4375 C 6.125 -4.226562 5.992188 -4.035156 5.828125 -3.859375 C 5.660156 -3.691406 5.46875 -3.550781 5.25 -3.4375 C 5.039062 -3.320312 4.8125 -3.234375 4.5625 -3.171875 C 4.320312 -3.109375 4.078125 -3.078125 3.828125 -3.078125 C 3.390625 -3.078125 2.992188 -3.15625 2.640625 -3.3125 C 2.285156 -3.46875 1.984375 -3.679688 1.734375 -3.953125 C 1.492188 -4.234375 1.304688 -4.566406 1.171875 -4.953125 C 1.035156 -5.335938 0.96875 -5.765625 0.96875 -6.234375 C 0.96875 -6.703125 1.035156 -7.128906 1.171875 -7.515625 C 1.316406 -7.898438 1.523438 -8.226562 1.796875 -8.5 C 2.078125 -8.78125 2.414062 -8.992188 2.8125 -9.140625 C 3.207031 -9.285156 3.660156 -9.359375 4.171875 -9.359375 C 5.242188 -9.359375 6.054688 -8.976562 6.609375 -8.21875 C 7.160156 -7.46875 7.4375 -6.332031 7.4375 -4.8125 Z M 6.09375 -5.890625 C 6.09375 -6.222656 6.050781 -6.535156 5.96875 -6.828125 C 5.882812 -7.128906 5.757812 -7.394531 5.59375 -7.625 C 5.425781 -7.851562 5.21875 -8.035156 4.96875 -8.171875 C 4.726562 -8.304688 4.445312 -8.375 4.125 -8.375 C 3.832031 -8.375 3.566406 -8.320312 3.328125 -8.21875 C 3.085938 -8.113281 2.882812 -7.96875 2.71875 -7.78125 C 2.5625 -7.59375 2.4375 -7.363281 2.34375 -7.09375 C 2.257812 -6.832031 2.21875 -6.546875 2.21875 -6.234375 C 2.21875 -5.929688 2.253906 -5.644531 2.328125 -5.375 C 2.410156 -5.113281 2.53125 -4.882812 2.6875 -4.6875 C 2.851562 -4.488281 3.050781 -4.332031 3.28125 -4.21875 C 3.519531 -4.101562 3.796875 -4.046875 4.109375 -4.046875 C 4.335938 -4.046875 4.566406 -4.082031 4.796875 -4.15625 C 5.035156 -4.238281 5.25 -4.359375 5.4375 -4.515625 C 5.632812 -4.671875 5.789062 -4.863281 5.90625 -5.09375 C 6.03125 -5.320312 6.09375 -5.585938 6.09375 -5.890625 Z M 6.09375 -5.890625 \"/>\n</symbol>\n<symbol overflow=\"visible\" id=\"glyph0-9\">\n<path style=\"stroke:none;\" d=\"M 7.484375 -2.578125 C 7.484375 -2.203125 7.414062 -1.847656 7.28125 -1.515625 C 7.15625 -1.179688 6.957031 -0.890625 6.6875 -0.640625 C 6.425781 -0.398438 6.085938 -0.207031 5.671875 -0.0625 C 5.253906 0.0703125 4.765625 0.140625 4.203125 0.140625 C 3.628906 0.140625 3.132812 0.0703125 2.71875 -0.0625 C 2.3125 -0.207031 1.972656 -0.398438 1.703125 -0.640625 C 1.429688 -0.890625 1.226562 -1.175781 1.09375 -1.5 C 0.96875 -1.832031 0.90625 -2.191406 0.90625 -2.578125 C 0.90625 -2.898438 0.957031 -3.191406 1.0625 -3.453125 C 1.175781 -3.710938 1.320312 -3.9375 1.5 -4.125 C 1.675781 -4.320312 1.878906 -4.476562 2.109375 -4.59375 C 2.347656 -4.707031 2.585938 -4.785156 2.828125 -4.828125 L 2.828125 -4.859375 C 2.554688 -4.921875 2.316406 -5.019531 2.109375 -5.15625 C 1.898438 -5.300781 1.722656 -5.46875 1.578125 -5.65625 C 1.429688 -5.851562 1.320312 -6.066406 1.25 -6.296875 C 1.175781 -6.523438 1.140625 -6.757812 1.140625 -7 C 1.140625 -7.3125 1.203125 -7.609375 1.328125 -7.890625 C 1.460938 -8.171875 1.65625 -8.421875 1.90625 -8.640625 C 2.164062 -8.859375 2.484375 -9.03125 2.859375 -9.15625 C 3.234375 -9.289062 3.671875 -9.359375 4.171875 -9.359375 C 4.691406 -9.359375 5.144531 -9.289062 5.53125 -9.15625 C 5.914062 -9.03125 6.234375 -8.859375 6.484375 -8.640625 C 6.742188 -8.421875 6.929688 -8.164062 7.046875 -7.875 C 7.171875 -7.59375 7.234375 -7.296875 7.234375 -6.984375 C 7.234375 -6.742188 7.195312 -6.507812 7.125 -6.28125 C 7.050781 -6.0625 6.941406 -5.851562 6.796875 -5.65625 C 6.648438 -5.46875 6.472656 -5.300781 6.265625 -5.15625 C 6.054688 -5.019531 5.8125 -4.925781 5.53125 -4.875 L 5.53125 -4.84375 C 5.8125 -4.800781 6.066406 -4.71875 6.296875 -4.59375 C 6.535156 -4.476562 6.742188 -4.320312 6.921875 -4.125 C 7.097656 -3.9375 7.234375 -3.710938 7.328125 -3.453125 C 7.429688 -3.191406 7.484375 -2.898438 7.484375 -2.578125 Z M 5.96875 -6.921875 C 5.96875 -7.128906 5.9375 -7.328125 5.875 -7.515625 C 5.8125 -7.703125 5.707031 -7.863281 5.5625 -8 C 5.425781 -8.132812 5.242188 -8.242188 5.015625 -8.328125 C 4.785156 -8.410156 4.503906 -8.453125 4.171875 -8.453125 C 3.847656 -8.453125 3.570312 -8.410156 3.34375 -8.328125 C 3.125 -8.242188 2.941406 -8.132812 2.796875 -8 C 2.648438 -7.863281 2.546875 -7.703125 2.484375 -7.515625 C 2.421875 -7.328125 2.390625 -7.128906 2.390625 -6.921875 C 2.390625 -6.753906 2.414062 -6.578125 2.46875 -6.390625 C 2.519531 -6.203125 2.609375 -6.03125 2.734375 -5.875 C 2.867188 -5.71875 3.050781 -5.585938 3.28125 -5.484375 C 3.519531 -5.378906 3.820312 -5.328125 4.1875 -5.328125 C 4.570312 -5.328125 4.878906 -5.378906 5.109375 -5.484375 C 5.347656 -5.585938 5.53125 -5.71875 5.65625 -5.875 C 5.78125 -6.03125 5.863281 -6.203125 5.90625 -6.390625 C 5.945312 -6.578125 5.96875 -6.753906 5.96875 -6.921875 Z M 6.203125 -2.703125 C 6.203125 -2.910156 6.171875 -3.113281 6.109375 -3.3125 C 6.046875 -3.507812 5.9375 -3.691406 5.78125 -3.859375 C 5.625 -4.023438 5.414062 -4.15625 5.15625 -4.25 C 4.894531 -4.351562 4.566406 -4.40625 4.171875 -4.40625 C 3.804688 -4.40625 3.5 -4.351562 3.25 -4.25 C 3 -4.15625 2.796875 -4.023438 2.640625 -3.859375 C 2.484375 -3.691406 2.367188 -3.503906 2.296875 -3.296875 C 2.222656 -3.097656 2.1875 -2.890625 2.1875 -2.671875 C 2.1875 -2.398438 2.222656 -2.148438 2.296875 -1.921875 C 2.367188 -1.691406 2.484375 -1.492188 2.640625 -1.328125 C 2.796875 -1.160156 3.003906 -1.023438 3.265625 -0.921875 C 3.523438 -0.828125 3.84375 -0.78125 4.21875 -0.78125 C 4.59375 -0.78125 4.90625 -0.828125 5.15625 -0.921875 C 5.40625 -1.015625 5.609375 -1.144531 5.765625 -1.3125 C 5.921875 -1.488281 6.03125 -1.691406 6.09375 -1.921875 C 6.164062 -2.160156 6.203125 -2.421875 6.203125 -2.703125 Z M 6.203125 -2.703125 \"/>\n</symbol>\n<symbol overflow=\"visible\" id=\"glyph0-10\">\n<path style=\"stroke:none;\" d=\"M 7.5 -3.046875 C 7.5 -2.585938 7.429688 -2.164062 7.296875 -1.78125 C 7.160156 -1.394531 6.957031 -1.054688 6.6875 -0.765625 C 6.425781 -0.484375 6.101562 -0.257812 5.71875 -0.09375 C 5.332031 0.0625 4.882812 0.140625 4.375 0.140625 C 3.820312 0.140625 3.332031 0.0351562 2.90625 -0.171875 C 2.488281 -0.390625 2.140625 -0.691406 1.859375 -1.078125 C 1.585938 -1.472656 1.378906 -1.945312 1.234375 -2.5 C 1.097656 -3.0625 1.03125 -3.691406 1.03125 -4.390625 C 1.03125 -5.191406 1.109375 -5.898438 1.265625 -6.515625 C 1.421875 -7.140625 1.644531 -7.660156 1.9375 -8.078125 C 2.238281 -8.503906 2.601562 -8.820312 3.03125 -9.03125 C 3.457031 -9.25 3.941406 -9.359375 4.484375 -9.359375 C 4.804688 -9.359375 5.109375 -9.320312 5.390625 -9.25 C 5.679688 -9.1875 5.941406 -9.078125 6.171875 -8.921875 C 6.410156 -8.773438 6.617188 -8.578125 6.796875 -8.328125 C 6.972656 -8.078125 7.113281 -7.769531 7.21875 -7.40625 L 6.046875 -7.1875 C 5.921875 -7.601562 5.71875 -7.90625 5.4375 -8.09375 C 5.15625 -8.28125 4.832031 -8.375 4.46875 -8.375 C 4.125 -8.375 3.816406 -8.289062 3.546875 -8.125 C 3.273438 -7.96875 3.039062 -7.738281 2.84375 -7.4375 C 2.65625 -7.132812 2.507812 -6.757812 2.40625 -6.3125 C 2.300781 -5.863281 2.25 -5.34375 2.25 -4.75 C 2.476562 -5.164062 2.796875 -5.476562 3.203125 -5.6875 C 3.609375 -5.90625 4.070312 -6.015625 4.59375 -6.015625 C 5.03125 -6.015625 5.425781 -5.941406 5.78125 -5.796875 C 6.144531 -5.660156 6.453125 -5.460938 6.703125 -5.203125 C 6.953125 -4.941406 7.144531 -4.628906 7.28125 -4.265625 C 7.425781 -3.898438 7.5 -3.492188 7.5 -3.046875 Z M 6.234375 -3 C 6.234375 -3.300781 6.191406 -3.578125 6.109375 -3.828125 C 6.035156 -4.085938 5.914062 -4.304688 5.75 -4.484375 C 5.582031 -4.671875 5.378906 -4.816406 5.140625 -4.921875 C 4.898438 -5.023438 4.617188 -5.078125 4.296875 -5.078125 C 4.078125 -5.078125 3.851562 -5.035156 3.625 -4.953125 C 3.394531 -4.878906 3.1875 -4.769531 3 -4.625 C 2.820312 -4.476562 2.671875 -4.289062 2.546875 -4.0625 C 2.429688 -3.84375 2.375 -3.582031 2.375 -3.28125 C 2.375 -2.957031 2.421875 -2.648438 2.515625 -2.359375 C 2.609375 -2.066406 2.738281 -1.804688 2.90625 -1.578125 C 3.082031 -1.359375 3.289062 -1.179688 3.53125 -1.046875 C 3.769531 -0.921875 4.039062 -0.859375 4.34375 -0.859375 C 4.632812 -0.859375 4.894531 -0.90625 5.125 -1 C 5.363281 -1.101562 5.566406 -1.25 5.734375 -1.4375 C 5.898438 -1.625 6.023438 -1.847656 6.109375 -2.109375 C 6.191406 -2.378906 6.234375 -2.675781 6.234375 -3 Z M 6.234375 -3 \"/>\n</symbol>\n<symbol overflow=\"visible\" id=\"glyph0-11\">\n<path style=\"stroke:none;\" d=\"M 7.3125 -8.265625 C 6.875 -7.640625 6.457031 -6.988281 6.0625 -6.3125 C 5.675781 -5.644531 5.332031 -4.960938 5.03125 -4.265625 C 4.738281 -3.578125 4.503906 -2.875 4.328125 -2.15625 C 4.160156 -1.445312 4.078125 -0.726562 4.078125 0 L 2.796875 0 C 2.796875 -0.71875 2.882812 -1.4375 3.0625 -2.15625 C 3.25 -2.875 3.492188 -3.582031 3.796875 -4.28125 C 4.097656 -4.976562 4.445312 -5.660156 4.84375 -6.328125 C 5.25 -6.992188 5.675781 -7.628906 6.125 -8.234375 L 1.078125 -8.234375 L 1.078125 -9.21875 L 7.3125 -9.21875 Z M 7.3125 -8.265625 \"/>\n</symbol>\n</g>\n</defs>\n<g id=\"surface189\">\n<rect x=\"0\" y=\"0\" width=\"300\" height=\"300\" style=\"fill:rgb(100%,100%,100%);fill-opacity:1;stroke:none;\"/>\n<path style=\"fill:none;stroke-width:1;stroke-linecap:butt;stroke-linejoin:miter;stroke:rgb(26.666667%,26.666667%,26.666667%);stroke-opacity:1;stroke-miterlimit:10;\" d=\"M 179.867188 190.664062 C 163.234375 194.164062 160.925781 208.515625 152.976562 221.339844 \"/>\n<path style=\" stroke:none;fill-rule:nonzero;fill:rgb(26.666667%,26.666667%,26.666667%);fill-opacity:1;\" d=\"M 145.460938 233.46875 L 149.035156 218.898438 L 156.917969 223.78125 L 145.460938 233.46875 \"/>\n<path style=\"fill:none;stroke-width:1;stroke-linecap:butt;stroke-linejoin:miter;stroke:rgb(26.666667%,26.666667%,26.666667%);stroke-opacity:1;stroke-miterlimit:10;\" d=\"M 179.867188 190.664062 C 170.171875 171.566406 153.890625 161.261719 133.753906 167.960938 \"/>\n<path style=\" stroke:none;fill-rule:nonzero;fill:rgb(26.666667%,26.666667%,26.666667%);fill-opacity:1;\" d=\"M 120.21875 172.464844 L 132.292969 163.5625 L 135.21875 172.359375 L 120.21875 172.464844 \"/>\n<path style=\"fill:none;stroke-width:1;stroke-linecap:butt;stroke-linejoin:miter;stroke:rgb(26.666667%,26.666667%,26.666667%);stroke-opacity:1;stroke-miterlimit:10;\" d=\"M 179.867188 190.664062 L 173.574219 138.515625 \"/>\n<path style=\" stroke:none;fill-rule:nonzero;fill:rgb(26.666667%,26.666667%,26.666667%);fill-opacity:1;\" d=\"M 171.863281 124.355469 L 178.175781 137.960938 L 168.972656 139.074219 L 171.863281 124.355469 \"/>\n<path style=\"fill:none;stroke-width:1;stroke-linecap:butt;stroke-linejoin:miter;stroke:rgb(26.666667%,26.666667%,26.666667%);stroke-opacity:1;stroke-miterlimit:10;\" d=\"M 179.867188 190.664062 C 195.167969 195.535156 205.238281 189.304688 216.257812 177.984375 \"/>\n<path style=\" stroke:none;fill-rule:nonzero;fill:rgb(26.666667%,26.666667%,26.666667%);fill-opacity:1;\" d=\"M 226.210938 167.765625 L 219.578125 181.21875 L 212.9375 174.753906 L 226.210938 167.765625 \"/>\n<path style=\"fill:none;stroke-width:1;stroke-linecap:butt;stroke-linejoin:miter;stroke:rgb(26.666667%,26.666667%,26.666667%);stroke-opacity:1;stroke-miterlimit:10;\" d=\"M 140.40625 241.621094 C 167.484375 244.738281 204.421875 216.566406 196.882812 208.613281 \"/>\n<path style=\" stroke:none;fill-rule:nonzero;fill:rgb(26.666667%,26.666667%,26.666667%);fill-opacity:1;\" d=\"M 187.070312 198.257812 L 200.246094 205.421875 L 193.519531 211.800781 L 187.070312 198.257812 \"/>\n<path style=\"fill:none;stroke-width:1;stroke-linecap:butt;stroke-linejoin:miter;stroke:rgb(26.666667%,26.666667%,26.666667%);stroke-opacity:1;stroke-miterlimit:10;\" d=\"M 140.40625 241.621094 L 120.988281 197.667969 \"/>\n<path style=\" stroke:none;fill-rule:nonzero;fill:rgb(26.666667%,26.666667%,26.666667%);fill-opacity:1;\" d=\"M 115.222656 184.617188 L 125.226562 195.792969 L 116.75 199.539062 L 115.222656 184.617188 \"/>\n<path style=\"fill:none;stroke-width:1;stroke-linecap:butt;stroke-linejoin:miter;stroke:rgb(26.666667%,26.666667%,26.666667%);stroke-opacity:1;stroke-miterlimit:10;\" d=\"M 140.40625 241.621094 L 115.769531 263.773438 \"/>\n<path style=\" stroke:none;fill-rule:nonzero;fill:rgb(26.666667%,26.666667%,26.666667%);fill-opacity:1;\" d=\"M 105.164062 273.3125 L 112.671875 260.328125 L 118.871094 267.222656 L 105.164062 273.3125 \"/>\n<path style=\"fill:none;stroke-width:1;stroke-linecap:butt;stroke-linejoin:miter;stroke:rgb(26.666667%,26.666667%,26.666667%);stroke-opacity:1;stroke-miterlimit:10;\" d=\"M 140.40625 241.621094 L 97.765625 234.019531 \"/>\n<path style=\" stroke:none;fill-rule:nonzero;fill:rgb(26.666667%,26.666667%,26.666667%);fill-opacity:1;\" d=\"M 83.722656 231.515625 L 98.582031 229.457031 L 96.953125 238.582031 L 83.722656 231.515625 \"/>\n<path style=\"fill:none;stroke-width:1;stroke-linecap:butt;stroke-linejoin:miter;stroke:rgb(26.666667%,26.666667%,26.666667%);stroke-opacity:1;stroke-miterlimit:10;\" d=\"M 111.183594 175.472656 C 120.738281 195.019531 137.78125 206.9375 157.675781 199.242188 \"/>\n<path style=\" stroke:none;fill-rule:nonzero;fill:rgb(26.666667%,26.666667%,26.666667%);fill-opacity:1;\" d=\"M 170.980469 194.097656 L 159.347656 203.566406 L 156.003906 194.921875 L 170.980469 194.097656 \"/>\n<path style=\"fill:none;stroke-width:1;stroke-linecap:butt;stroke-linejoin:miter;stroke:rgb(26.666667%,26.666667%,26.666667%);stroke-opacity:1;stroke-miterlimit:10;\" d=\"M 111.183594 175.472656 C 139.085938 177.289062 163.714844 165.859375 167.375 138.785156 \"/>\n<path style=\" stroke:none;fill-rule:nonzero;fill:rgb(26.666667%,26.666667%,26.666667%);fill-opacity:1;\" d=\"M 169.285156 124.648438 L 171.96875 139.40625 L 162.78125 138.164062 L 169.285156 124.648438 \"/>\n<path style=\"fill:none;stroke-width:1;stroke-linecap:butt;stroke-linejoin:miter;stroke:rgb(26.666667%,26.666667%,26.666667%);stroke-opacity:1;stroke-miterlimit:10;\" d=\"M 111.183594 175.472656 L 166.144531 220.128906 \"/>\n<path style=\" stroke:none;fill-rule:nonzero;fill:rgb(26.666667%,26.666667%,26.666667%);fill-opacity:1;\" d=\"M 177.214844 229.125 L 163.222656 223.726562 L 169.066406 216.53125 L 177.214844 229.125 \"/>\n<path style=\"fill:none;stroke-width:1;stroke-linecap:butt;stroke-linejoin:miter;stroke:rgb(26.666667%,26.666667%,26.666667%);stroke-opacity:1;stroke-miterlimit:10;\" d=\"M 111.183594 175.472656 C 86.125 171.039062 75.042969 191.226562 56.6875 203.042969 \"/>\n<path style=\" stroke:none;fill-rule:nonzero;fill:rgb(26.666667%,26.666667%,26.666667%);fill-opacity:1;\" d=\"M 44.695312 210.761719 L 54.179688 199.144531 L 59.199219 206.9375 L 44.695312 210.761719 \"/>\n<path style=\"fill:none;stroke-width:1;stroke-linecap:butt;stroke-linejoin:miter;stroke:rgb(26.666667%,26.666667%,26.666667%);stroke-opacity:1;stroke-miterlimit:10;\" d=\"M 111.183594 175.472656 C 95.367188 182.839844 98.710938 205.175781 91.425781 212.390625 \"/>\n<path style=\" stroke:none;fill-rule:nonzero;fill:rgb(26.666667%,26.666667%,26.666667%);fill-opacity:1;\" d=\"M 81.289062 222.425781 L 88.164062 209.097656 L 94.6875 215.683594 L 81.289062 222.425781 \"/>\n<path style=\"fill:none;stroke-width:1;stroke-linecap:butt;stroke-linejoin:miter;stroke:rgb(26.666667%,26.666667%,26.666667%);stroke-opacity:1;stroke-miterlimit:10;\" d=\"M 111.183594 175.472656 L 88.648438 133.621094 \"/>\n<path style=\" stroke:none;fill-rule:nonzero;fill:rgb(26.666667%,26.666667%,26.666667%);fill-opacity:1;\" d=\"M 81.882812 121.0625 L 92.726562 131.425781 L 84.566406 135.820312 L 81.882812 121.0625 \"/>\n<path style=\"fill:none;stroke-width:1;stroke-linecap:butt;stroke-linejoin:miter;stroke:rgb(26.666667%,26.666667%,26.666667%);stroke-opacity:1;stroke-miterlimit:10;\" d=\"M 111.183594 175.472656 L 123.554688 97.082031 \"/>\n<path style=\" stroke:none;fill-rule:nonzero;fill:rgb(26.666667%,26.666667%,26.666667%);fill-opacity:1;\" d=\"M 125.777344 82.988281 L 128.132812 97.804688 L 118.976562 96.359375 L 125.777344 82.988281 \"/>\n<path style=\"fill:none;stroke-width:1;stroke-linecap:butt;stroke-linejoin:miter;stroke:rgb(26.666667%,26.666667%,26.666667%);stroke-opacity:1;stroke-miterlimit:10;\" d=\"M 170.664062 114.425781 C 143.164062 113.238281 121.753906 125 116.152344 151.746094 \"/>\n<path style=\" stroke:none;fill-rule:nonzero;fill:rgb(26.666667%,26.666667%,26.666667%);fill-opacity:1;\" d=\"M 113.226562 165.707031 L 111.613281 150.796875 L 120.6875 152.695312 L 113.226562 165.707031 \"/>\n<path style=\"fill:none;stroke-width:1;stroke-linecap:butt;stroke-linejoin:miter;stroke:rgb(26.666667%,26.666667%,26.666667%);stroke-opacity:1;stroke-miterlimit:10;\" d=\"M 170.664062 114.425781 L 217.257812 84.953125 \"/>\n<path style=\" stroke:none;fill-rule:nonzero;fill:rgb(26.666667%,26.666667%,26.666667%);fill-opacity:1;\" d=\"M 229.3125 77.328125 L 219.734375 88.871094 L 214.777344 81.039062 L 229.3125 77.328125 \"/>\n<path style=\"fill:none;stroke-width:1;stroke-linecap:butt;stroke-linejoin:miter;stroke:rgb(26.666667%,26.666667%,26.666667%);stroke-opacity:1;stroke-miterlimit:10;\" d=\"M 170.664062 114.425781 L 101.402344 112.820312 \"/>\n<path style=\" stroke:none;fill-rule:nonzero;fill:rgb(26.666667%,26.666667%,26.666667%);fill-opacity:1;\" d=\"M 87.140625 112.488281 L 101.507812 108.1875 L 101.292969 117.453125 L 87.140625 112.488281 \"/>\n<path style=\"fill:none;stroke-width:1;stroke-linecap:butt;stroke-linejoin:miter;stroke:rgb(26.666667%,26.666667%,26.666667%);stroke-opacity:1;stroke-miterlimit:10;\" d=\"M 170.664062 114.425781 L 144.898438 89.859375 \"/>\n<path style=\" stroke:none;fill-rule:nonzero;fill:rgb(26.666667%,26.666667%,26.666667%);fill-opacity:1;\" d=\"M 134.574219 80.011719 L 148.097656 86.503906 L 141.699219 93.210938 L 134.574219 80.011719 \"/>\n<path style=\"fill:none;stroke-width:1;stroke-linecap:butt;stroke-linejoin:miter;stroke:rgb(26.666667%,26.666667%,26.666667%);stroke-opacity:1;stroke-miterlimit:10;\" d=\"M 170.664062 114.425781 C 189.113281 100.734375 179.027344 74.242188 186.367188 61.566406 \"/>\n<path style=\" stroke:none;fill-rule:nonzero;fill:rgb(26.666667%,26.666667%,26.666667%);fill-opacity:1;\" d=\"M 193.515625 49.222656 L 190.378906 63.890625 L 182.355469 59.246094 L 193.515625 49.222656 \"/>\n<path style=\"fill:none;stroke-width:1;stroke-linecap:butt;stroke-linejoin:miter;stroke:rgb(26.666667%,26.666667%,26.666667%);stroke-opacity:1;stroke-miterlimit:10;\" d=\"M 184.976562 235.433594 L 182.621094 214.773438 \"/>\n<path style=\" stroke:none;fill-rule:nonzero;fill:rgb(26.666667%,26.666667%,26.666667%);fill-opacity:1;\" d=\"M 181.003906 200.597656 L 187.226562 214.246094 L 178.015625 215.296875 L 181.003906 200.597656 \"/>\n<path style=\"fill:none;stroke-width:1;stroke-linecap:butt;stroke-linejoin:miter;stroke:rgb(26.666667%,26.666667%,26.666667%);stroke-opacity:1;stroke-miterlimit:10;\" d=\"M 184.976562 235.433594 L 164.441406 238.285156 \"/>\n<path style=\" stroke:none;fill-rule:nonzero;fill:rgb(26.666667%,26.666667%,26.666667%);fill-opacity:1;\" d=\"M 150.3125 240.246094 L 163.804688 233.691406 L 165.078125 242.875 L 150.3125 240.246094 \"/>\n<path style=\"fill:none;stroke-width:1;stroke-linecap:butt;stroke-linejoin:miter;stroke:rgb(26.666667%,26.666667%,26.666667%);stroke-opacity:1;stroke-miterlimit:10;\" d=\"M 184.976562 235.433594 L 119.335938 268.960938 \"/>\n<path style=\" stroke:none;fill-rule:nonzero;fill:rgb(26.666667%,26.666667%,26.666667%);fill-opacity:1;\" d=\"M 106.632812 275.449219 L 117.226562 264.832031 L 121.445312 273.089844 L 106.632812 275.449219 \"/>\n<path style=\"fill:none;stroke-width:1;stroke-linecap:butt;stroke-linejoin:miter;stroke:rgb(26.666667%,26.666667%,26.666667%);stroke-opacity:1;stroke-miterlimit:10;\" d=\"M 184.976562 235.433594 L 220.183594 180.839844 \"/>\n<path style=\" stroke:none;fill-rule:nonzero;fill:rgb(26.666667%,26.666667%,26.666667%);fill-opacity:1;\" d=\"M 227.914062 168.851562 L 224.078125 183.351562 L 216.289062 178.328125 L 227.914062 168.851562 \"/>\n<path style=\"fill:none;stroke-width:1;stroke-linecap:butt;stroke-linejoin:miter;stroke:rgb(26.666667%,26.666667%,26.666667%);stroke-opacity:1;stroke-miterlimit:10;\" d=\"M 237.761719 71.980469 C 254.691406 64.023438 253.132812 35.503906 258.800781 32.328125 \"/>\n<path style=\" stroke:none;fill-rule:nonzero;fill:rgb(26.666667%,26.666667%,26.666667%);fill-opacity:1;\" d=\"M 271.25 25.359375 L 261.066406 36.371094 L 256.535156 28.285156 L 271.25 25.359375 \"/>\n<path style=\"fill:none;stroke-width:1;stroke-linecap:butt;stroke-linejoin:miter;stroke:rgb(26.666667%,26.666667%,26.666667%);stroke-opacity:1;stroke-miterlimit:10;\" d=\"M 237.761719 71.980469 L 217.421875 55.859375 \"/>\n<path style=\" stroke:none;fill-rule:nonzero;fill:rgb(26.666667%,26.666667%,26.666667%);fill-opacity:1;\" d=\"M 206.238281 46.996094 L 220.300781 52.226562 L 214.542969 59.492188 L 206.238281 46.996094 \"/>\n<path style=\"fill:none;stroke-width:1;stroke-linecap:butt;stroke-linejoin:miter;stroke:rgb(26.666667%,26.666667%,26.666667%);stroke-opacity:1;stroke-miterlimit:10;\" d=\"M 20 168.796875 L 86.980469 173.699219 \"/>\n<path style=\" stroke:none;fill-rule:nonzero;fill:rgb(26.666667%,26.666667%,26.666667%);fill-opacity:1;\" d=\"M 101.210938 174.742188 L 86.644531 178.324219 L 87.320312 169.078125 L 101.210938 174.742188 \"/>\n<path style=\"fill:none;stroke-width:1;stroke-linecap:butt;stroke-linejoin:miter;stroke:rgb(26.666667%,26.666667%,26.666667%);stroke-opacity:1;stroke-miterlimit:10;\" d=\"M 20 168.796875 C 39.980469 170.628906 62.871094 195.527344 55.722656 201.082031 \"/>\n<path style=\" stroke:none;fill-rule:nonzero;fill:rgb(26.666667%,26.666667%,26.666667%);fill-opacity:1;\" d=\"M 44.457031 209.832031 L 52.878906 197.421875 L 58.566406 204.742188 L 44.457031 209.832031 \"/>\n<path style=\"fill:none;stroke-width:1;stroke-linecap:butt;stroke-linejoin:miter;stroke:rgb(26.666667%,26.666667%,26.666667%);stroke-opacity:1;stroke-miterlimit:10;\" d=\"M 20 168.796875 L 57.808594 211.578125 \"/>\n<path style=\" stroke:none;fill-rule:nonzero;fill:rgb(26.666667%,26.666667%,26.666667%);fill-opacity:1;\" d=\"M 67.257812 222.265625 L 54.335938 214.648438 L 61.28125 208.507812 L 67.257812 222.265625 \"/>\n<path style=\"fill:none;stroke-width:1;stroke-linecap:butt;stroke-linejoin:miter;stroke:rgb(26.666667%,26.666667%,26.666667%);stroke-opacity:1;stroke-miterlimit:10;\" d=\"M 20 168.796875 L 32.734375 97.339844 \"/>\n<path style=\" stroke:none;fill-rule:nonzero;fill:rgb(26.666667%,26.666667%,26.666667%);fill-opacity:1;\" d=\"M 35.234375 83.296875 L 37.296875 98.152344 L 28.167969 96.527344 L 35.234375 83.296875 \"/>\n<path style=\"fill:none;stroke-width:1;stroke-linecap:butt;stroke-linejoin:miter;stroke:rgb(26.666667%,26.666667%,26.666667%);stroke-opacity:1;stroke-miterlimit:10;\" d=\"M 36.335938 216.144531 C 72.785156 231.359375 131.4375 196.148438 128.226562 192.871094 \"/>\n<path style=\" stroke:none;fill-rule:nonzero;fill:rgb(26.666667%,26.666667%,26.666667%);fill-opacity:1;\" d=\"M 118.246094 182.679688 L 131.539062 189.628906 L 124.914062 196.117188 L 118.246094 182.679688 \"/>\n<path style=\"fill:none;stroke-width:1;stroke-linecap:butt;stroke-linejoin:miter;stroke:rgb(26.666667%,26.666667%,26.666667%);stroke-opacity:1;stroke-miterlimit:10;\" d=\"M 36.335938 216.144531 C 23.1875 195.234375 20.828125 168.339844 41.203125 157.0625 \"/>\n<path style=\" stroke:none;fill-rule:nonzero;fill:rgb(26.666667%,26.666667%,26.666667%);fill-opacity:1;\" d=\"M 28.722656 163.972656 L 38.957031 153.007812 L 43.449219 161.117188 L 28.722656 163.972656 \"/>\n<path style=\"fill:none;stroke-width:1;stroke-linecap:butt;stroke-linejoin:miter;stroke:rgb(26.666667%,26.666667%,26.666667%);stroke-opacity:1;stroke-miterlimit:10;\" d=\"M 36.335938 216.144531 L 80.910156 262.507812 \"/>\n<path style=\" stroke:none;fill-rule:nonzero;fill:rgb(26.666667%,26.666667%,26.666667%);fill-opacity:1;\" d=\"M 90.796875 272.792969 L 77.566406 265.71875 L 84.25 259.292969 L 90.796875 272.792969 \"/>\n<path style=\"fill:none;stroke-width:1;stroke-linecap:butt;stroke-linejoin:miter;stroke:rgb(26.666667%,26.666667%,26.666667%);stroke-opacity:1;stroke-miterlimit:10;\" d=\"M 97.726562 280 L 84.285156 251.683594 \"/>\n<path style=\" stroke:none;fill-rule:nonzero;fill:rgb(26.666667%,26.666667%,26.666667%);fill-opacity:1;\" d=\"M 78.167969 238.792969 L 88.472656 249.695312 L 80.097656 253.667969 L 78.167969 238.792969 \"/>\n<path style=\"fill:none;stroke-width:1;stroke-linecap:butt;stroke-linejoin:miter;stroke:rgb(26.666667%,26.666667%,26.666667%);stroke-opacity:1;stroke-miterlimit:10;\" d=\"M 73.878906 229.761719 C 105.640625 229.484375 136.164062 184.078125 134.460938 183.492188 \"/>\n<path style=\" stroke:none;fill-rule:nonzero;fill:rgb(26.666667%,26.666667%,26.666667%);fill-opacity:1;\" d=\"M 120.972656 178.84375 L 135.96875 179.109375 L 132.949219 187.875 L 120.972656 178.84375 \"/>\n<path style=\"fill:none;stroke-width:1;stroke-linecap:butt;stroke-linejoin:miter;stroke:rgb(26.666667%,26.666667%,26.666667%);stroke-opacity:1;stroke-miterlimit:10;\" d=\"M 127.335938 73.113281 L 213.5 72.230469 \"/>\n<path style=\" stroke:none;fill-rule:nonzero;fill:rgb(26.666667%,26.666667%,26.666667%);fill-opacity:1;\" d=\"M 227.765625 72.085938 L 213.546875 76.867188 L 213.453125 67.59375 L 227.765625 72.085938 \"/>\n<path style=\"fill:none;stroke-width:1;stroke-linecap:butt;stroke-linejoin:miter;stroke:rgb(26.666667%,26.666667%,26.666667%);stroke-opacity:1;stroke-miterlimit:10;\" d=\"M 127.335938 73.113281 C 131.585938 60.011719 121.828125 52.582031 116.628906 41.839844 \"/>\n<path style=\" stroke:none;fill-rule:nonzero;fill:rgb(26.666667%,26.666667%,26.666667%);fill-opacity:1;\" d=\"M 110.410156 29 L 120.800781 39.820312 L 112.453125 43.859375 L 110.410156 29 \"/>\n<path style=\"fill:none;stroke-width:1;stroke-linecap:butt;stroke-linejoin:miter;stroke:rgb(26.666667%,26.666667%,26.666667%);stroke-opacity:1;stroke-miterlimit:10;\" d=\"M 127.335938 73.113281 L 61.253906 73.359375 \"/>\n<path style=\" stroke:none;fill-rule:nonzero;fill:rgb(26.666667%,26.666667%,26.666667%);fill-opacity:1;\" d=\"M 46.988281 73.414062 L 61.238281 68.722656 L 61.273438 77.996094 L 46.988281 73.414062 \"/>\n<path style=\"fill:none;stroke-width:1;stroke-linecap:butt;stroke-linejoin:miter;stroke:rgb(26.666667%,26.666667%,26.666667%);stroke-opacity:1;stroke-miterlimit:10;\" d=\"M 106.054688 20 C 92.078125 36.683594 90.441406 71.65625 103.238281 72.160156 \"/>\n<path style=\" stroke:none;fill-rule:nonzero;fill:rgb(26.666667%,26.666667%,26.666667%);fill-opacity:1;\" d=\"M 117.492188 72.722656 L 103.054688 76.792969 L 103.421875 67.53125 L 117.492188 72.722656 \"/>\n<path style=\"fill:none;stroke-width:1;stroke-linecap:butt;stroke-linejoin:miter;stroke:rgb(26.666667%,26.666667%,26.666667%);stroke-opacity:1;stroke-miterlimit:10;\" d=\"M 106.054688 20 L 174.730469 35.457031 \"/>\n<path style=\" stroke:none;fill-rule:nonzero;fill:rgb(26.666667%,26.666667%,26.666667%);fill-opacity:1;\" d=\"M 188.648438 38.589844 L 173.710938 39.980469 L 175.746094 30.933594 L 188.648438 38.589844 \"/>\n<path style=\"fill:none;stroke-width:1;stroke-linecap:butt;stroke-linejoin:miter;stroke:rgb(26.666667%,26.666667%,26.666667%);stroke-opacity:1;stroke-miterlimit:10;\" d=\"M 36.988281 73.449219 L 59.691406 95.394531 \"/>\n<path style=\" stroke:none;fill-rule:nonzero;fill:rgb(26.666667%,26.666667%,26.666667%);fill-opacity:1;\" d=\"M 69.949219 105.308594 L 56.472656 98.726562 L 62.914062 92.0625 L 69.949219 105.308594 \"/>\n<path style=\"fill:none;stroke-width:1;stroke-linecap:butt;stroke-linejoin:miter;stroke:rgb(26.666667%,26.666667%,26.666667%);stroke-opacity:1;stroke-miterlimit:10;\" d=\"M 36.988281 73.449219 L 86.867188 34.851562 \"/>\n<path style=\" stroke:none;fill-rule:nonzero;fill:rgb(26.666667%,26.666667%,26.666667%);fill-opacity:1;\" d=\"M 98.148438 26.121094 L 89.703125 38.515625 L 84.027344 31.1875 L 98.148438 26.121094 \"/>\n<path style=\"fill:none;stroke-width:1;stroke-linecap:butt;stroke-linejoin:miter;stroke:rgb(26.666667%,26.666667%,26.666667%);stroke-opacity:1;stroke-miterlimit:10;\" d=\"M 233.335938 160.449219 C 215.960938 151.1875 191.558594 150.996094 186.640625 167.683594 \"/>\n<path style=\" stroke:none;fill-rule:nonzero;fill:rgb(26.666667%,26.666667%,26.666667%);fill-opacity:1;\" d=\"M 182.609375 181.371094 L 182.195312 166.375 L 191.085938 168.996094 L 182.609375 181.371094 \"/>\n<path style=\"fill:none;stroke-width:1;stroke-linecap:butt;stroke-linejoin:miter;stroke:rgb(26.666667%,26.666667%,26.666667%);stroke-opacity:1;stroke-miterlimit:10;\" d=\"M 233.335938 160.449219 L 190.222656 128.789062 \"/>\n<path style=\" stroke:none;fill-rule:nonzero;fill:rgb(26.666667%,26.666667%,26.666667%);fill-opacity:1;\" d=\"M 178.726562 120.34375 L 192.96875 125.054688 L 187.480469 132.527344 L 178.726562 120.34375 \"/>\n<path style=\"fill:none;stroke-width:1;stroke-linecap:butt;stroke-linejoin:miter;stroke:rgb(26.666667%,26.666667%,26.666667%);stroke-opacity:1;stroke-miterlimit:10;\" d=\"M 233.335938 160.449219 L 236.550781 96.21875 \"/>\n<path style=\" stroke:none;fill-rule:nonzero;fill:rgb(26.666667%,26.666667%,26.666667%);fill-opacity:1;\" d=\"M 237.261719 81.96875 L 241.179688 96.449219 L 231.921875 95.984375 L 237.261719 81.96875 \"/>\n<path style=\"fill:none;stroke-width:1;stroke-linecap:butt;stroke-linejoin:miter;stroke:rgb(26.666667%,26.666667%,26.666667%);stroke-opacity:1;stroke-miterlimit:10;\" d=\"M 280 20.457031 C 245.363281 20.21875 220.195312 70.480469 213.15625 69.878906 \"/>\n<path style=\" stroke:none;fill-rule:nonzero;fill:rgb(26.666667%,26.666667%,26.666667%);fill-opacity:1;\" d=\"M 227.371094 71.09375 L 212.761719 74.496094 L 213.554688 65.261719 L 227.371094 71.09375 \"/>\n<path style=\"fill:none;stroke-width:1;stroke-linecap:butt;stroke-linejoin:miter;stroke:rgb(26.666667%,26.666667%,26.666667%);stroke-opacity:1;stroke-miterlimit:10;\" d=\"M 280 20.457031 L 221.949219 34.917969 \"/>\n<path style=\" stroke:none;fill-rule:nonzero;fill:rgb(26.666667%,26.666667%,26.666667%);fill-opacity:1;\" d=\"M 208.105469 38.367188 L 220.828125 30.421875 L 223.070312 39.417969 L 208.105469 38.367188 \"/>\n<path style=\"fill:none;stroke-width:1;stroke-linecap:butt;stroke-linejoin:miter;stroke:rgb(26.666667%,26.666667%,26.666667%);stroke-opacity:1;stroke-miterlimit:10;\" d=\"M 198.402344 40.785156 C 164.941406 50.121094 137.71875 103.671875 147.601562 106.894531 \"/>\n<path style=\" stroke:none;fill-rule:nonzero;fill:rgb(26.666667%,26.666667%,26.666667%);fill-opacity:1;\" d=\"M 161.160156 111.324219 L 146.160156 111.304688 L 149.039062 102.488281 L 161.160156 111.324219 \"/>\n<path style=\"fill-rule:nonzero;fill:rgb(100%,0%,0%);fill-opacity:1;stroke-width:1;stroke-linecap:butt;stroke-linejoin:miter;stroke:rgb(0%,0%,0%);stroke-opacity:1;stroke-miterlimit:10;\" d=\"M 189.867188 190.664062 C 189.867188 196.183594 185.390625 200.664062 179.867188 200.664062 C 174.347656 200.664062 169.867188 196.183594 169.867188 190.664062 C 169.867188 185.140625 174.347656 180.664062 179.867188 180.664062 C 185.390625 180.664062 189.867188 185.140625 189.867188 190.664062 \"/>\n<path style=\"fill-rule:nonzero;fill:rgb(100%,0%,0%);fill-opacity:1;stroke-width:1;stroke-linecap:butt;stroke-linejoin:miter;stroke:rgb(0%,0%,0%);stroke-opacity:1;stroke-miterlimit:10;\" d=\"M 150.40625 241.621094 C 150.40625 247.144531 145.929688 251.621094 140.40625 251.621094 C 134.882812 251.621094 130.40625 247.144531 130.40625 241.621094 C 130.40625 236.097656 134.882812 231.621094 140.40625 231.621094 C 145.929688 231.621094 150.40625 236.097656 150.40625 241.621094 \"/>\n<path style=\"fill-rule:nonzero;fill:rgb(100%,0%,0%);fill-opacity:1;stroke-width:1;stroke-linecap:butt;stroke-linejoin:miter;stroke:rgb(0%,0%,0%);stroke-opacity:1;stroke-miterlimit:10;\" d=\"M 121.183594 175.472656 C 121.183594 180.996094 116.707031 185.472656 111.183594 185.472656 C 105.660156 185.472656 101.183594 180.996094 101.183594 175.472656 C 101.183594 169.949219 105.660156 165.472656 111.183594 165.472656 C 116.707031 165.472656 121.183594 169.949219 121.183594 175.472656 \"/>\n<path style=\"fill-rule:nonzero;fill:rgb(100%,0%,0%);fill-opacity:1;stroke-width:1;stroke-linecap:butt;stroke-linejoin:miter;stroke:rgb(0%,0%,0%);stroke-opacity:1;stroke-miterlimit:10;\" d=\"M 180.664062 114.425781 C 180.664062 119.949219 176.1875 124.425781 170.664062 124.425781 C 165.140625 124.425781 160.664062 119.949219 160.664062 114.425781 C 160.664062 108.902344 165.140625 104.425781 170.664062 104.425781 C 176.1875 104.425781 180.664062 108.902344 180.664062 114.425781 \"/>\n<path style=\"fill-rule:nonzero;fill:rgb(100%,0%,0%);fill-opacity:1;stroke-width:1;stroke-linecap:butt;stroke-linejoin:miter;stroke:rgb(0%,0%,0%);stroke-opacity:1;stroke-miterlimit:10;\" d=\"M 243.335938 160.449219 C 243.335938 165.972656 238.855469 170.449219 233.335938 170.449219 C 227.8125 170.449219 223.335938 165.972656 223.335938 160.449219 C 223.335938 154.925781 227.8125 150.449219 233.335938 150.449219 C 238.855469 150.449219 243.335938 154.925781 243.335938 160.449219 \"/>\n<path style=\"fill-rule:nonzero;fill:rgb(100%,0%,0%);fill-opacity:1;stroke-width:1;stroke-linecap:butt;stroke-linejoin:miter;stroke:rgb(0%,0%,0%);stroke-opacity:1;stroke-miterlimit:10;\" d=\"M 107.726562 280 C 107.726562 285.523438 103.25 290 97.726562 290 C 92.203125 290 87.726562 285.523438 87.726562 280 C 87.726562 274.476562 92.203125 270 97.726562 270 C 103.25 270 107.726562 274.476562 107.726562 280 \"/>\n<path style=\"fill-rule:nonzero;fill:rgb(100%,0%,0%);fill-opacity:1;stroke-width:1;stroke-linecap:butt;stroke-linejoin:miter;stroke:rgb(0%,0%,0%);stroke-opacity:1;stroke-miterlimit:10;\" d=\"M 83.878906 229.761719 C 83.878906 235.285156 79.402344 239.761719 73.878906 239.761719 C 68.355469 239.761719 63.878906 235.285156 63.878906 229.761719 C 63.878906 224.238281 68.355469 219.761719 73.878906 219.761719 C 79.402344 219.761719 83.878906 224.238281 83.878906 229.761719 \"/>\n<path style=\"fill-rule:nonzero;fill:rgb(100%,0%,0%);fill-opacity:1;stroke-width:1;stroke-linecap:butt;stroke-linejoin:miter;stroke:rgb(0%,0%,0%);stroke-opacity:1;stroke-miterlimit:10;\" d=\"M 194.976562 235.433594 C 194.976562 240.953125 190.5 245.433594 184.976562 245.433594 C 179.453125 245.433594 174.976562 240.953125 174.976562 235.433594 C 174.976562 229.910156 179.453125 225.433594 184.976562 225.433594 C 190.5 225.433594 194.976562 229.910156 194.976562 235.433594 \"/>\n<path style=\"fill-rule:nonzero;fill:rgb(100%,0%,0%);fill-opacity:1;stroke-width:1;stroke-linecap:butt;stroke-linejoin:miter;stroke:rgb(0%,0%,0%);stroke-opacity:1;stroke-miterlimit:10;\" d=\"M 46.335938 216.144531 C 46.335938 221.664062 41.859375 226.144531 36.335938 226.144531 C 30.8125 226.144531 26.335938 221.664062 26.335938 216.144531 C 26.335938 210.621094 30.8125 206.144531 36.335938 206.144531 C 41.859375 206.144531 46.335938 210.621094 46.335938 216.144531 \"/>\n<path style=\"fill-rule:nonzero;fill:rgb(100%,0%,0%);fill-opacity:1;stroke-width:1;stroke-linecap:butt;stroke-linejoin:miter;stroke:rgb(0%,0%,0%);stroke-opacity:1;stroke-miterlimit:10;\" d=\"M 87.140625 112.257812 C 87.140625 117.78125 82.664062 122.257812 77.140625 122.257812 C 71.617188 122.257812 67.140625 117.78125 67.140625 112.257812 C 67.140625 106.734375 71.617188 102.257812 77.140625 102.257812 C 82.664062 102.257812 87.140625 106.734375 87.140625 112.257812 \"/>\n<path style=\"fill-rule:nonzero;fill:rgb(100%,0%,0%);fill-opacity:1;stroke-width:1;stroke-linecap:butt;stroke-linejoin:miter;stroke:rgb(0%,0%,0%);stroke-opacity:1;stroke-miterlimit:10;\" d=\"M 137.335938 73.113281 C 137.335938 78.636719 132.859375 83.113281 127.335938 83.113281 C 121.8125 83.113281 117.335938 78.636719 117.335938 73.113281 C 117.335938 67.589844 121.8125 63.113281 127.335938 63.113281 C 132.859375 63.113281 137.335938 67.589844 137.335938 73.113281 \"/>\n<path style=\"fill-rule:nonzero;fill:rgb(100%,0%,0%);fill-opacity:1;stroke-width:1;stroke-linecap:butt;stroke-linejoin:miter;stroke:rgb(0%,0%,0%);stroke-opacity:1;stroke-miterlimit:10;\" d=\"M 247.761719 71.980469 C 247.761719 77.503906 243.285156 81.980469 237.761719 81.980469 C 232.242188 81.980469 227.761719 77.503906 227.761719 71.980469 C 227.761719 66.460938 232.242188 61.980469 237.761719 61.980469 C 243.285156 61.980469 247.761719 66.460938 247.761719 71.980469 \"/>\n<path style=\"fill-rule:nonzero;fill:rgb(100%,0%,0%);fill-opacity:1;stroke-width:1;stroke-linecap:butt;stroke-linejoin:miter;stroke:rgb(0%,0%,0%);stroke-opacity:1;stroke-miterlimit:10;\" d=\"M 208.402344 40.785156 C 208.402344 46.308594 203.925781 50.785156 198.402344 50.785156 C 192.878906 50.785156 188.402344 46.308594 188.402344 40.785156 C 188.402344 35.261719 192.878906 30.785156 198.402344 30.785156 C 203.925781 30.785156 208.402344 35.261719 208.402344 40.785156 \"/>\n<path style=\"fill-rule:nonzero;fill:rgb(100%,0%,0%);fill-opacity:1;stroke-width:1;stroke-linecap:butt;stroke-linejoin:miter;stroke:rgb(0%,0%,0%);stroke-opacity:1;stroke-miterlimit:10;\" d=\"M 290 20.457031 C 290 25.980469 285.523438 30.457031 280 30.457031 C 274.476562 30.457031 270 25.980469 270 20.457031 C 270 14.933594 274.476562 10.457031 280 10.457031 C 285.523438 10.457031 290 14.933594 290 20.457031 \"/>\n<path style=\"fill-rule:nonzero;fill:rgb(100%,0%,0%);fill-opacity:1;stroke-width:1;stroke-linecap:butt;stroke-linejoin:miter;stroke:rgb(0%,0%,0%);stroke-opacity:1;stroke-miterlimit:10;\" d=\"M 30 168.796875 C 30 174.320312 25.523438 178.796875 20 178.796875 C 14.476562 178.796875 10 174.320312 10 168.796875 C 10 163.273438 14.476562 158.796875 20 158.796875 C 25.523438 158.796875 30 163.273438 30 168.796875 \"/>\n<path style=\"fill-rule:nonzero;fill:rgb(100%,0%,0%);fill-opacity:1;stroke-width:1;stroke-linecap:butt;stroke-linejoin:miter;stroke:rgb(0%,0%,0%);stroke-opacity:1;stroke-miterlimit:10;\" d=\"M 46.988281 73.449219 C 46.988281 78.972656 42.511719 83.449219 36.988281 83.449219 C 31.46875 83.449219 26.988281 78.972656 26.988281 73.449219 C 26.988281 67.925781 31.46875 63.449219 36.988281 63.449219 C 42.511719 63.449219 46.988281 67.925781 46.988281 73.449219 \"/>\n<path style=\"fill-rule:nonzero;fill:rgb(100%,0%,0%);fill-opacity:1;stroke-width:1;stroke-linecap:butt;stroke-linejoin:miter;stroke:rgb(0%,0%,0%);stroke-opacity:1;stroke-miterlimit:10;\" d=\"M 116.054688 20 C 116.054688 25.523438 111.578125 30 106.054688 30 C 100.53125 30 96.054688 25.523438 96.054688 20 C 96.054688 14.476562 100.53125 10 106.054688 10 C 111.578125 10 116.054688 14.476562 116.054688 20 \"/>\n<g style=\"fill:rgb(0%,0%,0%);fill-opacity:1;\">\n  <use xlink:href=\"#glyph0-1\" x=\"167.035156\" y=\"197.445312\"/>\n  <use xlink:href=\"#glyph0-2\" x=\"175.436523\" y=\"197.445312\"/>\n  <use xlink:href=\"#glyph0-3\" x=\"183.837891\" y=\"197.445312\"/>\n</g>\n<g style=\"fill:rgb(0%,0%,0%);fill-opacity:1;\">\n  <use xlink:href=\"#glyph0-1\" x=\"127.730469\" y=\"248.40625\"/>\n  <use xlink:href=\"#glyph0-2\" x=\"136.131836\" y=\"248.40625\"/>\n  <use xlink:href=\"#glyph0-4\" x=\"144.533203\" y=\"248.40625\"/>\n</g>\n<g style=\"fill:rgb(0%,0%,0%);fill-opacity:1;\">\n  <use xlink:href=\"#glyph0-1\" x=\"98.453125\" y=\"182.257812\"/>\n  <use xlink:href=\"#glyph0-2\" x=\"106.854492\" y=\"182.257812\"/>\n  <use xlink:href=\"#glyph0-5\" x=\"115.255859\" y=\"182.257812\"/>\n</g>\n<g style=\"fill:rgb(0%,0%,0%);fill-opacity:1;\">\n  <use xlink:href=\"#glyph0-1\" x=\"157.847656\" y=\"121.210938\"/>\n  <use xlink:href=\"#glyph0-2\" x=\"166.249023\" y=\"121.210938\"/>\n  <use xlink:href=\"#glyph0-6\" x=\"174.650391\" y=\"121.210938\"/>\n</g>\n<g style=\"fill:rgb(0%,0%,0%);fill-opacity:1;\">\n  <use xlink:href=\"#glyph0-1\" x=\"220.605469\" y=\"167.160156\"/>\n  <use xlink:href=\"#glyph0-3\" x=\"229.006836\" y=\"167.160156\"/>\n  <use xlink:href=\"#glyph0-7\" x=\"237.408203\" y=\"167.160156\"/>\n</g>\n<g style=\"fill:rgb(0%,0%,0%);fill-opacity:1;\">\n  <use xlink:href=\"#glyph0-1\" x=\"85.039062\" y=\"286.785156\"/>\n  <use xlink:href=\"#glyph0-2\" x=\"93.44043\" y=\"286.785156\"/>\n  <use xlink:href=\"#glyph0-8\" x=\"101.841797\" y=\"286.785156\"/>\n</g>\n<g style=\"fill:rgb(0%,0%,0%);fill-opacity:1;\">\n  <use xlink:href=\"#glyph0-1\" x=\"61.136719\" y=\"236.546875\"/>\n  <use xlink:href=\"#glyph0-3\" x=\"69.538086\" y=\"236.546875\"/>\n  <use xlink:href=\"#glyph0-2\" x=\"77.939453\" y=\"236.546875\"/>\n</g>\n<g style=\"fill:rgb(0%,0%,0%);fill-opacity:1;\">\n  <use xlink:href=\"#glyph0-1\" x=\"172.25\" y=\"242.214844\"/>\n  <use xlink:href=\"#glyph0-2\" x=\"180.651367\" y=\"242.214844\"/>\n  <use xlink:href=\"#glyph0-7\" x=\"189.052734\" y=\"242.214844\"/>\n</g>\n<g style=\"fill:rgb(0%,0%,0%);fill-opacity:1;\">\n  <use xlink:href=\"#glyph0-1\" x=\"23.625\" y=\"222.925781\"/>\n  <use xlink:href=\"#glyph0-2\" x=\"32.026367\" y=\"222.925781\"/>\n  <use xlink:href=\"#glyph0-9\" x=\"40.427734\" y=\"222.925781\"/>\n</g>\n<g style=\"fill:rgb(0%,0%,0%);fill-opacity:1;\">\n  <use xlink:href=\"#glyph0-1\" x=\"64.308594\" y=\"118.96875\"/>\n  <use xlink:href=\"#glyph0-3\" x=\"72.709961\" y=\"118.96875\"/>\n  <use xlink:href=\"#glyph0-3\" x=\"81.111328\" y=\"118.96875\"/>\n</g>\n<g style=\"fill:rgb(0%,0%,0%);fill-opacity:1;\">\n  <use xlink:href=\"#glyph0-1\" x=\"114.660156\" y=\"79.898438\"/>\n  <use xlink:href=\"#glyph0-3\" x=\"123.061523\" y=\"79.898438\"/>\n  <use xlink:href=\"#glyph0-4\" x=\"131.462891\" y=\"79.898438\"/>\n</g>\n<g style=\"fill:rgb(0%,0%,0%);fill-opacity:1;\">\n  <use xlink:href=\"#glyph0-1\" x=\"225.046875\" y=\"78.765625\"/>\n  <use xlink:href=\"#glyph0-2\" x=\"233.448242\" y=\"78.765625\"/>\n  <use xlink:href=\"#glyph0-10\" x=\"241.849609\" y=\"78.765625\"/>\n</g>\n<g style=\"fill:rgb(0%,0%,0%);fill-opacity:1;\">\n  <use xlink:href=\"#glyph0-1\" x=\"185.777344\" y=\"47.5\"/>\n  <use xlink:href=\"#glyph0-3\" x=\"194.178711\" y=\"47.5\"/>\n  <use xlink:href=\"#glyph0-11\" x=\"202.580078\" y=\"47.5\"/>\n</g>\n<g style=\"fill:rgb(0%,0%,0%);fill-opacity:1;\">\n  <use xlink:href=\"#glyph0-1\" x=\"267.28125\" y=\"27.242188\"/>\n  <use xlink:href=\"#glyph0-3\" x=\"275.682617\" y=\"27.242188\"/>\n  <use xlink:href=\"#glyph0-10\" x=\"284.083984\" y=\"27.242188\"/>\n</g>\n<g style=\"fill:rgb(0%,0%,0%);fill-opacity:1;\">\n  <use xlink:href=\"#glyph0-1\" x=\"7.375\" y=\"175.582031\"/>\n  <use xlink:href=\"#glyph0-2\" x=\"15.776367\" y=\"175.582031\"/>\n  <use xlink:href=\"#glyph0-11\" x=\"24.177734\" y=\"175.582031\"/>\n</g>\n<g style=\"fill:rgb(0%,0%,0%);fill-opacity:1;\">\n  <use xlink:href=\"#glyph0-1\" x=\"24.171875\" y=\"80.164062\"/>\n  <use xlink:href=\"#glyph0-3\" x=\"32.573242\" y=\"80.164062\"/>\n  <use xlink:href=\"#glyph0-6\" x=\"40.974609\" y=\"80.164062\"/>\n</g>\n<g style=\"fill:rgb(0%,0%,0%);fill-opacity:1;\">\n  <use xlink:href=\"#glyph0-1\" x=\"93.328125\" y=\"26.785156\"/>\n  <use xlink:href=\"#glyph0-3\" x=\"101.729492\" y=\"26.785156\"/>\n  <use xlink:href=\"#glyph0-5\" x=\"110.130859\" y=\"26.785156\"/>\n</g>\n</g>\n</svg>\n"
     },
     "metadata": {
      "image/svg+xml": {
       "isolated": true
      }
     },
     "execution_count": 123
    }
   ]
  },
  {
   "cell_type": "markdown",
   "metadata": {
    "id": "GB1E5g04pF44"
   },
   "source": [
    "# Layouts and plotting"
   ]
  },
  {
   "cell_type": "code",
   "metadata": {
    "id": "hxtnlLYppF45"
   },
   "source": [
    "layout1 = g.layout_kamada_kawai()\n",
    "#or\n",
    "layout1 = g.layout(\"kk\")"
   ],
   "execution_count": null,
   "outputs": []
  },
  {
   "cell_type": "code",
   "metadata": {
    "id": "YZDz-h4CpF45",
    "outputId": "316574f0-9908-416e-c047-71421b39c4ea",
    "colab": {
     "base_uri": "https://localhost:8080/",
     "height": 421
    }
   },
   "source": [
    "ig.plot(g, bbox=(300,300), vertex_label=g.vs[\"name\"], layout=layout1)"
   ],
   "execution_count": null,
   "outputs": [
    {
     "output_type": "execute_result",
     "data": {
      "text/plain": [
       "<igraph.drawing.cairo.plot.CairoPlot at 0x7f48bd2f9cd0>"
      ],
      "image/svg+xml": "<?xml version=\"1.0\" encoding=\"UTF-8\"?>\n<svg xmlns=\"http://www.w3.org/2000/svg\" xmlns:xlink=\"http://www.w3.org/1999/xlink\" width=\"300pt\" height=\"300pt\" viewBox=\"0 0 300 300\" version=\"1.1\">\n<defs>\n<g>\n<symbol overflow=\"visible\" id=\"glyph0-0\">\n<path style=\"stroke:none;\" d=\"M 0.46875 0 L 0.46875 -9.328125 L 4.1875 -9.328125 L 4.1875 0 Z M 0.9375 -0.46875 L 3.71875 -0.46875 L 3.71875 -8.859375 L 0.9375 -8.859375 Z M 0.9375 -0.46875 \"/>\n</symbol>\n<symbol overflow=\"visible\" id=\"glyph0-1\">\n<path style=\"stroke:none;\" d=\"M 7.25 -2.109375 C 7.25 -1.765625 7.179688 -1.453125 7.046875 -1.171875 C 6.910156 -0.898438 6.710938 -0.664062 6.453125 -0.46875 C 6.203125 -0.269531 5.890625 -0.117188 5.515625 -0.015625 C 5.148438 0.0859375 4.726562 0.140625 4.25 0.140625 C 3.820312 0.140625 3.4375 0.109375 3.09375 0.046875 C 2.75 -0.015625 2.445312 -0.113281 2.1875 -0.25 C 1.925781 -0.394531 1.707031 -0.582031 1.53125 -0.8125 C 1.351562 -1.050781 1.222656 -1.347656 1.140625 -1.703125 L 2.234375 -1.90625 C 2.285156 -1.65625 2.367188 -1.457031 2.484375 -1.3125 C 2.609375 -1.164062 2.753906 -1.050781 2.921875 -0.96875 C 3.097656 -0.894531 3.296875 -0.84375 3.515625 -0.8125 C 3.742188 -0.789062 3.988281 -0.78125 4.25 -0.78125 C 4.507812 -0.78125 4.75 -0.796875 4.96875 -0.828125 C 5.195312 -0.867188 5.394531 -0.9375 5.5625 -1.03125 C 5.726562 -1.125 5.859375 -1.242188 5.953125 -1.390625 C 6.046875 -1.546875 6.09375 -1.734375 6.09375 -1.953125 C 6.09375 -2.179688 6.035156 -2.363281 5.921875 -2.5 C 5.804688 -2.632812 5.644531 -2.75 5.4375 -2.84375 C 5.238281 -2.945312 5 -3.03125 4.71875 -3.09375 C 4.445312 -3.164062 4.148438 -3.242188 3.828125 -3.328125 C 3.535156 -3.410156 3.242188 -3.492188 2.953125 -3.578125 C 2.671875 -3.671875 2.414062 -3.789062 2.1875 -3.9375 C 1.96875 -4.082031 1.785156 -4.269531 1.640625 -4.5 C 1.503906 -4.726562 1.4375 -5.019531 1.4375 -5.375 C 1.4375 -6.039062 1.675781 -6.5625 2.15625 -6.9375 C 2.644531 -7.320312 3.347656 -7.515625 4.265625 -7.515625 C 4.617188 -7.515625 4.953125 -7.476562 5.265625 -7.40625 C 5.585938 -7.34375 5.867188 -7.238281 6.109375 -7.09375 C 6.359375 -6.957031 6.566406 -6.773438 6.734375 -6.546875 C 6.898438 -6.316406 7.015625 -6.046875 7.078125 -5.734375 L 5.96875 -5.59375 C 5.9375 -5.800781 5.867188 -5.96875 5.765625 -6.09375 C 5.660156 -6.226562 5.53125 -6.332031 5.375 -6.40625 C 5.21875 -6.476562 5.046875 -6.523438 4.859375 -6.546875 C 4.671875 -6.578125 4.472656 -6.59375 4.265625 -6.59375 C 3.140625 -6.59375 2.578125 -6.25 2.578125 -5.5625 C 2.578125 -5.351562 2.625 -5.179688 2.71875 -5.046875 C 2.820312 -4.921875 2.960938 -4.8125 3.140625 -4.71875 C 3.316406 -4.632812 3.53125 -4.5625 3.78125 -4.5 C 4.03125 -4.445312 4.300781 -4.378906 4.59375 -4.296875 C 4.882812 -4.222656 5.1875 -4.140625 5.5 -4.046875 C 5.8125 -3.953125 6.097656 -3.820312 6.359375 -3.65625 C 6.617188 -3.5 6.832031 -3.296875 7 -3.046875 C 7.164062 -2.804688 7.25 -2.492188 7.25 -2.109375 Z M 7.25 -2.109375 \"/>\n</symbol>\n<symbol overflow=\"visible\" id=\"glyph0-2\">\n<path style=\"stroke:none;\" d=\"M 7.546875 -4.609375 C 7.546875 -3.722656 7.457031 -2.976562 7.28125 -2.375 C 7.101562 -1.769531 6.863281 -1.28125 6.5625 -0.90625 C 6.257812 -0.53125 5.898438 -0.257812 5.484375 -0.09375 C 5.078125 0.0625 4.640625 0.140625 4.171875 0.140625 C 3.703125 0.140625 3.265625 0.0625 2.859375 -0.09375 C 2.453125 -0.257812 2.097656 -0.53125 1.796875 -0.90625 C 1.503906 -1.28125 1.269531 -1.769531 1.09375 -2.375 C 0.925781 -2.976562 0.84375 -3.722656 0.84375 -4.609375 C 0.84375 -5.546875 0.925781 -6.316406 1.09375 -6.921875 C 1.269531 -7.535156 1.507812 -8.019531 1.8125 -8.375 C 2.113281 -8.738281 2.46875 -8.992188 2.875 -9.140625 C 3.289062 -9.285156 3.738281 -9.359375 4.21875 -9.359375 C 4.675781 -9.359375 5.109375 -9.285156 5.515625 -9.140625 C 5.921875 -8.992188 6.269531 -8.738281 6.5625 -8.375 C 6.863281 -8.019531 7.101562 -7.535156 7.28125 -6.921875 C 7.457031 -6.316406 7.546875 -5.546875 7.546875 -4.609375 Z M 6.296875 -4.609375 C 6.296875 -5.335938 6.25 -5.941406 6.15625 -6.421875 C 6.0625 -6.910156 5.925781 -7.296875 5.75 -7.578125 C 5.570312 -7.867188 5.351562 -8.070312 5.09375 -8.1875 C 4.832031 -8.3125 4.539062 -8.375 4.21875 -8.375 C 3.875 -8.375 3.566406 -8.3125 3.296875 -8.1875 C 3.035156 -8.0625 2.8125 -7.851562 2.625 -7.5625 C 2.445312 -7.28125 2.3125 -6.898438 2.21875 -6.421875 C 2.132812 -5.941406 2.09375 -5.335938 2.09375 -4.609375 C 2.09375 -3.910156 2.140625 -3.320312 2.234375 -2.84375 C 2.328125 -2.363281 2.460938 -1.976562 2.640625 -1.6875 C 2.816406 -1.394531 3.035156 -1.1875 3.296875 -1.0625 C 3.554688 -0.9375 3.851562 -0.875 4.1875 -0.875 C 4.507812 -0.875 4.800781 -0.9375 5.0625 -1.0625 C 5.320312 -1.1875 5.539062 -1.394531 5.71875 -1.6875 C 5.90625 -1.976562 6.046875 -2.363281 6.140625 -2.84375 C 6.242188 -3.320312 6.296875 -3.910156 6.296875 -4.609375 Z M 3.390625 -3.796875 L 3.390625 -5.5 L 5 -5.5 L 5 -3.796875 Z M 3.390625 -3.796875 \"/>\n</symbol>\n<symbol overflow=\"visible\" id=\"glyph0-3\">\n<path style=\"stroke:none;\" d=\"M 1.078125 0 L 1.078125 -0.984375 L 4.078125 -0.984375 L 4.078125 -7.96875 C 3.984375 -7.789062 3.828125 -7.617188 3.609375 -7.453125 C 3.390625 -7.296875 3.140625 -7.15625 2.859375 -7.03125 C 2.578125 -6.914062 2.273438 -6.820312 1.953125 -6.75 C 1.628906 -6.675781 1.316406 -6.640625 1.015625 -6.640625 L 1.015625 -7.65625 C 1.347656 -7.65625 1.675781 -7.691406 2 -7.765625 C 2.332031 -7.847656 2.640625 -7.957031 2.921875 -8.09375 C 3.203125 -8.238281 3.453125 -8.40625 3.671875 -8.59375 C 3.890625 -8.78125 4.054688 -8.988281 4.171875 -9.21875 L 5.3125 -9.21875 L 5.3125 -0.984375 L 7.71875 -0.984375 L 7.71875 0 Z M 1.078125 0 \"/>\n</symbol>\n<symbol overflow=\"visible\" id=\"glyph0-4\">\n<path style=\"stroke:none;\" d=\"M 0.984375 0 L 0.984375 -0.796875 C 1.179688 -1.242188 1.441406 -1.648438 1.765625 -2.015625 C 2.097656 -2.390625 2.453125 -2.742188 2.828125 -3.078125 C 3.203125 -3.410156 3.578125 -3.726562 3.953125 -4.03125 C 4.328125 -4.332031 4.664062 -4.628906 4.96875 -4.921875 C 5.269531 -5.210938 5.515625 -5.507812 5.703125 -5.8125 C 5.898438 -6.113281 6 -6.4375 6 -6.78125 C 6 -7.050781 5.953125 -7.285156 5.859375 -7.484375 C 5.773438 -7.679688 5.648438 -7.84375 5.484375 -7.96875 C 5.328125 -8.101562 5.132812 -8.203125 4.90625 -8.265625 C 4.6875 -8.328125 4.441406 -8.359375 4.171875 -8.359375 C 3.929688 -8.359375 3.703125 -8.320312 3.484375 -8.25 C 3.273438 -8.1875 3.085938 -8.082031 2.921875 -7.9375 C 2.765625 -7.800781 2.632812 -7.628906 2.53125 -7.421875 C 2.4375 -7.222656 2.375 -6.992188 2.34375 -6.734375 L 1.09375 -6.84375 C 1.132812 -7.1875 1.226562 -7.507812 1.375 -7.8125 C 1.519531 -8.125 1.71875 -8.394531 1.96875 -8.625 C 2.21875 -8.851562 2.523438 -9.03125 2.890625 -9.15625 C 3.265625 -9.289062 3.691406 -9.359375 4.171875 -9.359375 C 4.648438 -9.359375 5.078125 -9.300781 5.453125 -9.1875 C 5.835938 -9.082031 6.164062 -8.925781 6.4375 -8.71875 C 6.707031 -8.507812 6.910156 -8.242188 7.046875 -7.921875 C 7.191406 -7.609375 7.265625 -7.25 7.265625 -6.84375 C 7.265625 -6.414062 7.164062 -6.019531 6.96875 -5.65625 C 6.769531 -5.289062 6.515625 -4.941406 6.203125 -4.609375 C 5.898438 -4.285156 5.5625 -3.972656 5.1875 -3.671875 C 4.8125 -3.378906 4.445312 -3.085938 4.09375 -2.796875 C 3.738281 -2.503906 3.414062 -2.210938 3.125 -1.921875 C 2.832031 -1.628906 2.613281 -1.320312 2.46875 -1 L 7.40625 -1 L 7.40625 0 Z M 0.984375 0 \"/>\n</symbol>\n<symbol overflow=\"visible\" id=\"glyph0-5\">\n<path style=\"stroke:none;\" d=\"M 7.515625 -2.53125 C 7.515625 -2.113281 7.441406 -1.738281 7.296875 -1.40625 C 7.148438 -1.082031 6.9375 -0.804688 6.65625 -0.578125 C 6.382812 -0.347656 6.046875 -0.171875 5.640625 -0.046875 C 5.234375 0.078125 4.769531 0.140625 4.25 0.140625 C 3.65625 0.140625 3.148438 0.0664062 2.734375 -0.078125 C 2.328125 -0.234375 1.988281 -0.429688 1.71875 -0.671875 C 1.457031 -0.921875 1.257812 -1.195312 1.125 -1.5 C 1 -1.8125 0.914062 -2.132812 0.875 -2.46875 L 2.140625 -2.59375 C 2.179688 -2.332031 2.25 -2.097656 2.34375 -1.890625 C 2.445312 -1.679688 2.582031 -1.5 2.75 -1.34375 C 2.914062 -1.195312 3.125 -1.082031 3.375 -1 C 3.625 -0.914062 3.914062 -0.875 4.25 -0.875 C 4.863281 -0.875 5.347656 -1.019531 5.703125 -1.3125 C 6.054688 -1.601562 6.234375 -2.023438 6.234375 -2.578125 C 6.234375 -2.878906 6.15625 -3.132812 6 -3.34375 C 5.84375 -3.550781 5.644531 -3.710938 5.40625 -3.828125 C 5.175781 -3.953125 4.921875 -4.035156 4.640625 -4.078125 C 4.367188 -4.128906 4.117188 -4.15625 3.890625 -4.15625 L 3.1875 -4.15625 L 3.1875 -5.234375 L 3.859375 -5.234375 C 4.085938 -5.234375 4.328125 -5.257812 4.578125 -5.3125 C 4.828125 -5.375 5.054688 -5.46875 5.265625 -5.59375 C 5.472656 -5.71875 5.644531 -5.878906 5.78125 -6.078125 C 5.914062 -6.285156 5.984375 -6.53125 5.984375 -6.8125 C 5.984375 -7.300781 5.832031 -7.679688 5.53125 -7.953125 C 5.226562 -8.222656 4.773438 -8.359375 4.171875 -8.359375 C 3.628906 -8.359375 3.191406 -8.21875 2.859375 -7.9375 C 2.523438 -7.65625 2.332031 -7.265625 2.28125 -6.765625 L 1.046875 -6.859375 C 1.085938 -7.285156 1.195312 -7.65625 1.375 -7.96875 C 1.5625 -8.28125 1.796875 -8.539062 2.078125 -8.75 C 2.359375 -8.957031 2.675781 -9.109375 3.03125 -9.203125 C 3.394531 -9.304688 3.78125 -9.359375 4.1875 -9.359375 C 4.726562 -9.359375 5.191406 -9.296875 5.578125 -9.171875 C 5.960938 -9.046875 6.273438 -8.875 6.515625 -8.65625 C 6.765625 -8.4375 6.945312 -8.175781 7.0625 -7.875 C 7.1875 -7.582031 7.25 -7.273438 7.25 -6.953125 C 7.25 -6.691406 7.207031 -6.441406 7.125 -6.203125 C 7.039062 -5.972656 6.914062 -5.757812 6.75 -5.5625 C 6.582031 -5.375 6.367188 -5.207031 6.109375 -5.0625 C 5.859375 -4.914062 5.566406 -4.804688 5.234375 -4.734375 L 5.234375 -4.703125 C 5.609375 -4.671875 5.9375 -4.582031 6.21875 -4.4375 C 6.5 -4.300781 6.734375 -4.132812 6.921875 -3.9375 C 7.117188 -3.738281 7.265625 -3.519531 7.359375 -3.28125 C 7.460938 -3.039062 7.515625 -2.789062 7.515625 -2.53125 Z M 7.515625 -2.53125 \"/>\n</symbol>\n<symbol overflow=\"visible\" id=\"glyph0-6\">\n<path style=\"stroke:none;\" d=\"M 6.40625 -2.1875 L 6.40625 0 L 5.171875 0 L 5.171875 -2.1875 L 0.703125 -2.1875 L 0.703125 -3.140625 L 5.046875 -9.21875 L 6.40625 -9.21875 L 6.40625 -3.15625 L 7.6875 -3.15625 L 7.6875 -2.1875 Z M 5.171875 -7.890625 L 1.75 -3.15625 L 5.171875 -3.15625 Z M 5.171875 -7.890625 \"/>\n</symbol>\n<symbol overflow=\"visible\" id=\"glyph0-7\">\n<path style=\"stroke:none;\" d=\"M 7.515625 -3.03125 C 7.515625 -2.582031 7.441406 -2.160156 7.296875 -1.765625 C 7.148438 -1.378906 6.929688 -1.046875 6.640625 -0.765625 C 6.359375 -0.484375 6.003906 -0.257812 5.578125 -0.09375 C 5.148438 0.0625 4.65625 0.140625 4.09375 0.140625 C 3.59375 0.140625 3.148438 0.0820312 2.765625 -0.03125 C 2.390625 -0.15625 2.070312 -0.320312 1.8125 -0.53125 C 1.550781 -0.738281 1.34375 -0.976562 1.1875 -1.25 C 1.039062 -1.53125 0.9375 -1.832031 0.875 -2.15625 L 2.125 -2.296875 C 2.164062 -2.117188 2.234375 -1.941406 2.328125 -1.765625 C 2.421875 -1.597656 2.546875 -1.445312 2.703125 -1.3125 C 2.859375 -1.175781 3.050781 -1.066406 3.28125 -0.984375 C 3.507812 -0.910156 3.789062 -0.875 4.125 -0.875 C 4.4375 -0.875 4.722656 -0.921875 4.984375 -1.015625 C 5.242188 -1.109375 5.46875 -1.242188 5.65625 -1.421875 C 5.84375 -1.609375 5.984375 -1.835938 6.078125 -2.109375 C 6.179688 -2.378906 6.234375 -2.679688 6.234375 -3.015625 C 6.234375 -3.285156 6.1875 -3.535156 6.09375 -3.765625 C 6 -4.003906 5.863281 -4.207031 5.6875 -4.375 C 5.507812 -4.550781 5.289062 -4.6875 5.03125 -4.78125 C 4.769531 -4.882812 4.476562 -4.9375 4.15625 -4.9375 C 3.945312 -4.9375 3.753906 -4.914062 3.578125 -4.875 C 3.410156 -4.84375 3.25 -4.796875 3.09375 -4.734375 C 2.945312 -4.671875 2.8125 -4.59375 2.6875 -4.5 C 2.570312 -4.414062 2.460938 -4.332031 2.359375 -4.25 L 1.15625 -4.25 L 1.484375 -9.21875 L 6.953125 -9.21875 L 6.953125 -8.234375 L 2.609375 -8.234375 L 2.40625 -5.328125 C 2.625 -5.492188 2.894531 -5.632812 3.21875 -5.75 C 3.550781 -5.875 3.945312 -5.9375 4.40625 -5.9375 C 4.882812 -5.9375 5.3125 -5.863281 5.6875 -5.71875 C 6.070312 -5.570312 6.398438 -5.367188 6.671875 -5.109375 C 6.941406 -4.859375 7.148438 -4.554688 7.296875 -4.203125 C 7.441406 -3.847656 7.515625 -3.457031 7.515625 -3.03125 Z M 7.515625 -3.03125 \"/>\n</symbol>\n<symbol overflow=\"visible\" id=\"glyph0-8\">\n<path style=\"stroke:none;\" d=\"M 7.4375 -4.8125 C 7.4375 -4 7.351562 -3.285156 7.1875 -2.671875 C 7.03125 -2.054688 6.800781 -1.539062 6.5 -1.125 C 6.195312 -0.707031 5.832031 -0.390625 5.40625 -0.171875 C 4.976562 0.0351562 4.488281 0.140625 3.9375 0.140625 C 3.570312 0.140625 3.238281 0.0976562 2.9375 0.015625 C 2.644531 -0.0546875 2.382812 -0.171875 2.15625 -0.328125 C 1.925781 -0.484375 1.726562 -0.6875 1.5625 -0.9375 C 1.394531 -1.195312 1.257812 -1.507812 1.15625 -1.875 L 2.34375 -2.0625 C 2.46875 -1.644531 2.664062 -1.335938 2.9375 -1.140625 C 3.207031 -0.953125 3.550781 -0.859375 3.96875 -0.859375 C 4.300781 -0.859375 4.601562 -0.929688 4.875 -1.078125 C 5.15625 -1.234375 5.390625 -1.460938 5.578125 -1.765625 C 5.773438 -2.066406 5.925781 -2.441406 6.03125 -2.890625 C 6.144531 -3.335938 6.207031 -3.851562 6.21875 -4.4375 C 6.125 -4.226562 5.992188 -4.035156 5.828125 -3.859375 C 5.660156 -3.691406 5.46875 -3.550781 5.25 -3.4375 C 5.039062 -3.320312 4.8125 -3.234375 4.5625 -3.171875 C 4.320312 -3.109375 4.078125 -3.078125 3.828125 -3.078125 C 3.390625 -3.078125 2.992188 -3.15625 2.640625 -3.3125 C 2.285156 -3.46875 1.984375 -3.679688 1.734375 -3.953125 C 1.492188 -4.234375 1.304688 -4.566406 1.171875 -4.953125 C 1.035156 -5.335938 0.96875 -5.765625 0.96875 -6.234375 C 0.96875 -6.703125 1.035156 -7.128906 1.171875 -7.515625 C 1.316406 -7.898438 1.523438 -8.226562 1.796875 -8.5 C 2.078125 -8.78125 2.414062 -8.992188 2.8125 -9.140625 C 3.207031 -9.285156 3.660156 -9.359375 4.171875 -9.359375 C 5.242188 -9.359375 6.054688 -8.976562 6.609375 -8.21875 C 7.160156 -7.46875 7.4375 -6.332031 7.4375 -4.8125 Z M 6.09375 -5.890625 C 6.09375 -6.222656 6.050781 -6.535156 5.96875 -6.828125 C 5.882812 -7.128906 5.757812 -7.394531 5.59375 -7.625 C 5.425781 -7.851562 5.21875 -8.035156 4.96875 -8.171875 C 4.726562 -8.304688 4.445312 -8.375 4.125 -8.375 C 3.832031 -8.375 3.566406 -8.320312 3.328125 -8.21875 C 3.085938 -8.113281 2.882812 -7.96875 2.71875 -7.78125 C 2.5625 -7.59375 2.4375 -7.363281 2.34375 -7.09375 C 2.257812 -6.832031 2.21875 -6.546875 2.21875 -6.234375 C 2.21875 -5.929688 2.253906 -5.644531 2.328125 -5.375 C 2.410156 -5.113281 2.53125 -4.882812 2.6875 -4.6875 C 2.851562 -4.488281 3.050781 -4.332031 3.28125 -4.21875 C 3.519531 -4.101562 3.796875 -4.046875 4.109375 -4.046875 C 4.335938 -4.046875 4.566406 -4.082031 4.796875 -4.15625 C 5.035156 -4.238281 5.25 -4.359375 5.4375 -4.515625 C 5.632812 -4.671875 5.789062 -4.863281 5.90625 -5.09375 C 6.03125 -5.320312 6.09375 -5.585938 6.09375 -5.890625 Z M 6.09375 -5.890625 \"/>\n</symbol>\n<symbol overflow=\"visible\" id=\"glyph0-9\">\n<path style=\"stroke:none;\" d=\"M 7.484375 -2.578125 C 7.484375 -2.203125 7.414062 -1.847656 7.28125 -1.515625 C 7.15625 -1.179688 6.957031 -0.890625 6.6875 -0.640625 C 6.425781 -0.398438 6.085938 -0.207031 5.671875 -0.0625 C 5.253906 0.0703125 4.765625 0.140625 4.203125 0.140625 C 3.628906 0.140625 3.132812 0.0703125 2.71875 -0.0625 C 2.3125 -0.207031 1.972656 -0.398438 1.703125 -0.640625 C 1.429688 -0.890625 1.226562 -1.175781 1.09375 -1.5 C 0.96875 -1.832031 0.90625 -2.191406 0.90625 -2.578125 C 0.90625 -2.898438 0.957031 -3.191406 1.0625 -3.453125 C 1.175781 -3.710938 1.320312 -3.9375 1.5 -4.125 C 1.675781 -4.320312 1.878906 -4.476562 2.109375 -4.59375 C 2.347656 -4.707031 2.585938 -4.785156 2.828125 -4.828125 L 2.828125 -4.859375 C 2.554688 -4.921875 2.316406 -5.019531 2.109375 -5.15625 C 1.898438 -5.300781 1.722656 -5.46875 1.578125 -5.65625 C 1.429688 -5.851562 1.320312 -6.066406 1.25 -6.296875 C 1.175781 -6.523438 1.140625 -6.757812 1.140625 -7 C 1.140625 -7.3125 1.203125 -7.609375 1.328125 -7.890625 C 1.460938 -8.171875 1.65625 -8.421875 1.90625 -8.640625 C 2.164062 -8.859375 2.484375 -9.03125 2.859375 -9.15625 C 3.234375 -9.289062 3.671875 -9.359375 4.171875 -9.359375 C 4.691406 -9.359375 5.144531 -9.289062 5.53125 -9.15625 C 5.914062 -9.03125 6.234375 -8.859375 6.484375 -8.640625 C 6.742188 -8.421875 6.929688 -8.164062 7.046875 -7.875 C 7.171875 -7.59375 7.234375 -7.296875 7.234375 -6.984375 C 7.234375 -6.742188 7.195312 -6.507812 7.125 -6.28125 C 7.050781 -6.0625 6.941406 -5.851562 6.796875 -5.65625 C 6.648438 -5.46875 6.472656 -5.300781 6.265625 -5.15625 C 6.054688 -5.019531 5.8125 -4.925781 5.53125 -4.875 L 5.53125 -4.84375 C 5.8125 -4.800781 6.066406 -4.71875 6.296875 -4.59375 C 6.535156 -4.476562 6.742188 -4.320312 6.921875 -4.125 C 7.097656 -3.9375 7.234375 -3.710938 7.328125 -3.453125 C 7.429688 -3.191406 7.484375 -2.898438 7.484375 -2.578125 Z M 5.96875 -6.921875 C 5.96875 -7.128906 5.9375 -7.328125 5.875 -7.515625 C 5.8125 -7.703125 5.707031 -7.863281 5.5625 -8 C 5.425781 -8.132812 5.242188 -8.242188 5.015625 -8.328125 C 4.785156 -8.410156 4.503906 -8.453125 4.171875 -8.453125 C 3.847656 -8.453125 3.570312 -8.410156 3.34375 -8.328125 C 3.125 -8.242188 2.941406 -8.132812 2.796875 -8 C 2.648438 -7.863281 2.546875 -7.703125 2.484375 -7.515625 C 2.421875 -7.328125 2.390625 -7.128906 2.390625 -6.921875 C 2.390625 -6.753906 2.414062 -6.578125 2.46875 -6.390625 C 2.519531 -6.203125 2.609375 -6.03125 2.734375 -5.875 C 2.867188 -5.71875 3.050781 -5.585938 3.28125 -5.484375 C 3.519531 -5.378906 3.820312 -5.328125 4.1875 -5.328125 C 4.570312 -5.328125 4.878906 -5.378906 5.109375 -5.484375 C 5.347656 -5.585938 5.53125 -5.71875 5.65625 -5.875 C 5.78125 -6.03125 5.863281 -6.203125 5.90625 -6.390625 C 5.945312 -6.578125 5.96875 -6.753906 5.96875 -6.921875 Z M 6.203125 -2.703125 C 6.203125 -2.910156 6.171875 -3.113281 6.109375 -3.3125 C 6.046875 -3.507812 5.9375 -3.691406 5.78125 -3.859375 C 5.625 -4.023438 5.414062 -4.15625 5.15625 -4.25 C 4.894531 -4.351562 4.566406 -4.40625 4.171875 -4.40625 C 3.804688 -4.40625 3.5 -4.351562 3.25 -4.25 C 3 -4.15625 2.796875 -4.023438 2.640625 -3.859375 C 2.484375 -3.691406 2.367188 -3.503906 2.296875 -3.296875 C 2.222656 -3.097656 2.1875 -2.890625 2.1875 -2.671875 C 2.1875 -2.398438 2.222656 -2.148438 2.296875 -1.921875 C 2.367188 -1.691406 2.484375 -1.492188 2.640625 -1.328125 C 2.796875 -1.160156 3.003906 -1.023438 3.265625 -0.921875 C 3.523438 -0.828125 3.84375 -0.78125 4.21875 -0.78125 C 4.59375 -0.78125 4.90625 -0.828125 5.15625 -0.921875 C 5.40625 -1.015625 5.609375 -1.144531 5.765625 -1.3125 C 5.921875 -1.488281 6.03125 -1.691406 6.09375 -1.921875 C 6.164062 -2.160156 6.203125 -2.421875 6.203125 -2.703125 Z M 6.203125 -2.703125 \"/>\n</symbol>\n<symbol overflow=\"visible\" id=\"glyph0-10\">\n<path style=\"stroke:none;\" d=\"M 7.5 -3.046875 C 7.5 -2.585938 7.429688 -2.164062 7.296875 -1.78125 C 7.160156 -1.394531 6.957031 -1.054688 6.6875 -0.765625 C 6.425781 -0.484375 6.101562 -0.257812 5.71875 -0.09375 C 5.332031 0.0625 4.882812 0.140625 4.375 0.140625 C 3.820312 0.140625 3.332031 0.0351562 2.90625 -0.171875 C 2.488281 -0.390625 2.140625 -0.691406 1.859375 -1.078125 C 1.585938 -1.472656 1.378906 -1.945312 1.234375 -2.5 C 1.097656 -3.0625 1.03125 -3.691406 1.03125 -4.390625 C 1.03125 -5.191406 1.109375 -5.898438 1.265625 -6.515625 C 1.421875 -7.140625 1.644531 -7.660156 1.9375 -8.078125 C 2.238281 -8.503906 2.601562 -8.820312 3.03125 -9.03125 C 3.457031 -9.25 3.941406 -9.359375 4.484375 -9.359375 C 4.804688 -9.359375 5.109375 -9.320312 5.390625 -9.25 C 5.679688 -9.1875 5.941406 -9.078125 6.171875 -8.921875 C 6.410156 -8.773438 6.617188 -8.578125 6.796875 -8.328125 C 6.972656 -8.078125 7.113281 -7.769531 7.21875 -7.40625 L 6.046875 -7.1875 C 5.921875 -7.601562 5.71875 -7.90625 5.4375 -8.09375 C 5.15625 -8.28125 4.832031 -8.375 4.46875 -8.375 C 4.125 -8.375 3.816406 -8.289062 3.546875 -8.125 C 3.273438 -7.96875 3.039062 -7.738281 2.84375 -7.4375 C 2.65625 -7.132812 2.507812 -6.757812 2.40625 -6.3125 C 2.300781 -5.863281 2.25 -5.34375 2.25 -4.75 C 2.476562 -5.164062 2.796875 -5.476562 3.203125 -5.6875 C 3.609375 -5.90625 4.070312 -6.015625 4.59375 -6.015625 C 5.03125 -6.015625 5.425781 -5.941406 5.78125 -5.796875 C 6.144531 -5.660156 6.453125 -5.460938 6.703125 -5.203125 C 6.953125 -4.941406 7.144531 -4.628906 7.28125 -4.265625 C 7.425781 -3.898438 7.5 -3.492188 7.5 -3.046875 Z M 6.234375 -3 C 6.234375 -3.300781 6.191406 -3.578125 6.109375 -3.828125 C 6.035156 -4.085938 5.914062 -4.304688 5.75 -4.484375 C 5.582031 -4.671875 5.378906 -4.816406 5.140625 -4.921875 C 4.898438 -5.023438 4.617188 -5.078125 4.296875 -5.078125 C 4.078125 -5.078125 3.851562 -5.035156 3.625 -4.953125 C 3.394531 -4.878906 3.1875 -4.769531 3 -4.625 C 2.820312 -4.476562 2.671875 -4.289062 2.546875 -4.0625 C 2.429688 -3.84375 2.375 -3.582031 2.375 -3.28125 C 2.375 -2.957031 2.421875 -2.648438 2.515625 -2.359375 C 2.609375 -2.066406 2.738281 -1.804688 2.90625 -1.578125 C 3.082031 -1.359375 3.289062 -1.179688 3.53125 -1.046875 C 3.769531 -0.921875 4.039062 -0.859375 4.34375 -0.859375 C 4.632812 -0.859375 4.894531 -0.90625 5.125 -1 C 5.363281 -1.101562 5.566406 -1.25 5.734375 -1.4375 C 5.898438 -1.625 6.023438 -1.847656 6.109375 -2.109375 C 6.191406 -2.378906 6.234375 -2.675781 6.234375 -3 Z M 6.234375 -3 \"/>\n</symbol>\n<symbol overflow=\"visible\" id=\"glyph0-11\">\n<path style=\"stroke:none;\" d=\"M 7.3125 -8.265625 C 6.875 -7.640625 6.457031 -6.988281 6.0625 -6.3125 C 5.675781 -5.644531 5.332031 -4.960938 5.03125 -4.265625 C 4.738281 -3.578125 4.503906 -2.875 4.328125 -2.15625 C 4.160156 -1.445312 4.078125 -0.726562 4.078125 0 L 2.796875 0 C 2.796875 -0.71875 2.882812 -1.4375 3.0625 -2.15625 C 3.25 -2.875 3.492188 -3.582031 3.796875 -4.28125 C 4.097656 -4.976562 4.445312 -5.660156 4.84375 -6.328125 C 5.25 -6.992188 5.675781 -7.628906 6.125 -8.234375 L 1.078125 -8.234375 L 1.078125 -9.21875 L 7.3125 -9.21875 Z M 7.3125 -8.265625 \"/>\n</symbol>\n</g>\n</defs>\n<g id=\"surface195\">\n<rect x=\"0\" y=\"0\" width=\"300\" height=\"300\" style=\"fill:rgb(100%,100%,100%);fill-opacity:1;stroke:none;\"/>\n<path style=\"fill:none;stroke-width:1;stroke-linecap:butt;stroke-linejoin:miter;stroke:rgb(26.666667%,26.666667%,26.666667%);stroke-opacity:1;stroke-miterlimit:10;\" d=\"M 183.671875 194.339844 C 161.46875 193.574219 153.761719 210.242188 139.945312 224.839844 \"/>\n<path style=\" stroke:none;fill-rule:nonzero;fill:rgb(26.666667%,26.666667%,26.666667%);fill-opacity:1;\" d=\"M 130.136719 235.199219 L 136.578125 221.652344 L 143.3125 228.027344 L 130.136719 235.199219 \"/>\n<path style=\"fill:none;stroke-width:1;stroke-linecap:butt;stroke-linejoin:miter;stroke:rgb(26.666667%,26.666667%,26.666667%);stroke-opacity:1;stroke-miterlimit:10;\" d=\"M 183.671875 194.339844 C 173.574219 171.765625 155.191406 158.535156 131.78125 165.539062 \"/>\n<path style=\" stroke:none;fill-rule:nonzero;fill:rgb(26.666667%,26.666667%,26.666667%);fill-opacity:1;\" d=\"M 118.113281 169.625 L 130.449219 161.097656 L 133.109375 169.980469 L 118.113281 169.625 \"/>\n<path style=\"fill:none;stroke-width:1;stroke-linecap:butt;stroke-linejoin:miter;stroke:rgb(26.666667%,26.666667%,26.666667%);stroke-opacity:1;stroke-miterlimit:10;\" d=\"M 183.671875 194.339844 L 179.113281 151.671875 \"/>\n<path style=\" stroke:none;fill-rule:nonzero;fill:rgb(26.666667%,26.666667%,26.666667%);fill-opacity:1;\" d=\"M 177.597656 137.488281 L 183.722656 151.179688 L 174.503906 152.164062 L 177.597656 137.488281 \"/>\n<path style=\"fill:none;stroke-width:1;stroke-linecap:butt;stroke-linejoin:miter;stroke:rgb(26.666667%,26.666667%,26.666667%);stroke-opacity:1;stroke-miterlimit:10;\" d=\"M 183.671875 194.339844 C 198.789062 202.921875 211.339844 199.535156 225.054688 189.050781 \"/>\n<path style=\" stroke:none;fill-rule:nonzero;fill:rgb(26.666667%,26.666667%,26.666667%);fill-opacity:1;\" d=\"M 236.386719 180.386719 L 227.871094 192.734375 L 222.238281 185.367188 L 236.386719 180.386719 \"/>\n<path style=\"fill:none;stroke-width:1;stroke-linecap:butt;stroke-linejoin:miter;stroke:rgb(26.666667%,26.666667%,26.666667%);stroke-opacity:1;stroke-miterlimit:10;\" d=\"M 123.308594 242.414062 C 153 251.097656 199.605469 232.65625 192.816406 216.332031 \"/>\n<path style=\" stroke:none;fill-rule:nonzero;fill:rgb(26.666667%,26.666667%,26.666667%);fill-opacity:1;\" d=\"M 187.339844 203.160156 L 197.097656 214.550781 L 188.539062 218.113281 L 187.339844 203.160156 \"/>\n<path style=\"fill:none;stroke-width:1;stroke-linecap:butt;stroke-linejoin:miter;stroke:rgb(26.666667%,26.666667%,26.666667%);stroke-opacity:1;stroke-miterlimit:10;\" d=\"M 123.308594 242.414062 L 113.425781 196.273438 \"/>\n<path style=\" stroke:none;fill-rule:nonzero;fill:rgb(26.666667%,26.666667%,26.666667%);fill-opacity:1;\" d=\"M 110.4375 182.324219 L 117.960938 195.304688 L 108.894531 197.246094 L 110.4375 182.324219 \"/>\n<path style=\"fill:none;stroke-width:1;stroke-linecap:butt;stroke-linejoin:miter;stroke:rgb(26.666667%,26.666667%,26.666667%);stroke-opacity:1;stroke-miterlimit:10;\" d=\"M 123.308594 242.414062 L 100.28125 263.578125 \"/>\n<path style=\" stroke:none;fill-rule:nonzero;fill:rgb(26.666667%,26.666667%,26.666667%);fill-opacity:1;\" d=\"M 89.777344 273.234375 L 97.144531 260.167969 L 103.417969 266.992188 L 89.777344 273.234375 \"/>\n<path style=\"fill:none;stroke-width:1;stroke-linecap:butt;stroke-linejoin:miter;stroke:rgb(26.666667%,26.666667%,26.666667%);stroke-opacity:1;stroke-miterlimit:10;\" d=\"M 123.308594 242.414062 L 76.347656 227.277344 \"/>\n<path style=\" stroke:none;fill-rule:nonzero;fill:rgb(26.666667%,26.666667%,26.666667%);fill-opacity:1;\" d=\"M 62.769531 222.898438 L 77.769531 222.863281 L 74.925781 231.6875 L 62.769531 222.898438 \"/>\n<path style=\"fill:none;stroke-width:1;stroke-linecap:butt;stroke-linejoin:miter;stroke:rgb(26.666667%,26.666667%,26.666667%);stroke-opacity:1;stroke-miterlimit:10;\" d=\"M 108.34375 172.546875 C 118.359375 195.320312 137.074219 209.355469 160.363281 201.847656 \"/>\n<path style=\" stroke:none;fill-rule:nonzero;fill:rgb(26.666667%,26.666667%,26.666667%);fill-opacity:1;\" d=\"M 173.941406 197.472656 L 161.785156 206.261719 L 158.941406 197.4375 L 173.941406 197.472656 \"/>\n<path style=\"fill:none;stroke-width:1;stroke-linecap:butt;stroke-linejoin:miter;stroke:rgb(26.666667%,26.666667%,26.666667%);stroke-opacity:1;stroke-miterlimit:10;\" d=\"M 108.34375 172.546875 C 133.425781 179.464844 155.792969 173.214844 166.464844 149.714844 \"/>\n<path style=\" stroke:none;fill-rule:nonzero;fill:rgb(26.666667%,26.666667%,26.666667%);fill-opacity:1;\" d=\"M 172.367188 136.726562 L 170.6875 151.628906 L 162.246094 147.796875 L 172.367188 136.726562 \"/>\n<path style=\"fill:none;stroke-width:1;stroke-linecap:butt;stroke-linejoin:miter;stroke:rgb(26.666667%,26.666667%,26.666667%);stroke-opacity:1;stroke-miterlimit:10;\" d=\"M 108.34375 172.546875 L 158.519531 221.1875 \"/>\n<path style=\" stroke:none;fill-rule:nonzero;fill:rgb(26.666667%,26.666667%,26.666667%);fill-opacity:1;\" d=\"M 168.761719 231.117188 L 155.292969 224.515625 L 161.746094 217.859375 L 168.761719 231.117188 \"/>\n<path style=\"fill:none;stroke-width:1;stroke-linecap:butt;stroke-linejoin:miter;stroke:rgb(26.666667%,26.666667%,26.666667%);stroke-opacity:1;stroke-miterlimit:10;\" d=\"M 108.34375 172.546875 C 79.703125 163.878906 63.957031 183.40625 40.875 197.148438 \"/>\n<path style=\" stroke:none;fill-rule:nonzero;fill:rgb(26.666667%,26.666667%,26.666667%);fill-opacity:1;\" d=\"M 28.617188 204.445312 L 38.503906 193.164062 L 43.246094 201.132812 L 28.617188 204.445312 \"/>\n<path style=\"fill:none;stroke-width:1;stroke-linecap:butt;stroke-linejoin:miter;stroke:rgb(26.666667%,26.666667%,26.666667%);stroke-opacity:1;stroke-miterlimit:10;\" d=\"M 108.34375 172.546875 C 88.363281 174.417969 84.585938 195.769531 72.675781 204.914062 \"/>\n<path style=\" stroke:none;fill-rule:nonzero;fill:rgb(26.666667%,26.666667%,26.666667%);fill-opacity:1;\" d=\"M 61.363281 213.601562 L 69.851562 201.238281 L 75.5 208.589844 L 61.363281 213.601562 \"/>\n<path style=\"fill:none;stroke-width:1;stroke-linecap:butt;stroke-linejoin:miter;stroke:rgb(26.666667%,26.666667%,26.666667%);stroke-opacity:1;stroke-miterlimit:10;\" d=\"M 108.34375 172.546875 L 97.113281 137.238281 \"/>\n<path style=\" stroke:none;fill-rule:nonzero;fill:rgb(26.666667%,26.666667%,26.666667%);fill-opacity:1;\" d=\"M 92.789062 123.640625 L 101.53125 135.832031 L 92.695312 138.640625 L 92.789062 123.640625 \"/>\n<path style=\"fill:none;stroke-width:1;stroke-linecap:butt;stroke-linejoin:miter;stroke:rgb(26.666667%,26.666667%,26.666667%);stroke-opacity:1;stroke-miterlimit:10;\" d=\"M 108.34375 172.546875 L 126.253906 113.027344 \"/>\n<path style=\" stroke:none;fill-rule:nonzero;fill:rgb(26.666667%,26.666667%,26.666667%);fill-opacity:1;\" d=\"M 130.367188 99.367188 L 130.695312 114.363281 L 121.816406 111.691406 L 130.367188 99.367188 \"/>\n<path style=\"fill:none;stroke-width:1;stroke-linecap:butt;stroke-linejoin:miter;stroke:rgb(26.666667%,26.666667%,26.666667%);stroke-opacity:1;stroke-miterlimit:10;\" d=\"M 176.535156 127.542969 C 152.050781 121.570312 133.769531 129.652344 120.917969 151.332031 \"/>\n<path style=\" stroke:none;fill-rule:nonzero;fill:rgb(26.666667%,26.666667%,26.666667%);fill-opacity:1;\" d=\"M 113.644531 163.605469 L 116.929688 148.96875 L 124.90625 153.695312 L 113.644531 163.605469 \"/>\n<path style=\"fill:none;stroke-width:1;stroke-linecap:butt;stroke-linejoin:miter;stroke:rgb(26.666667%,26.666667%,26.666667%);stroke-opacity:1;stroke-miterlimit:10;\" d=\"M 176.535156 127.542969 L 212.441406 107.921875 \"/>\n<path style=\" stroke:none;fill-rule:nonzero;fill:rgb(26.666667%,26.666667%,26.666667%);fill-opacity:1;\" d=\"M 224.960938 101.082031 L 214.664062 111.988281 L 210.21875 103.855469 L 224.960938 101.082031 \"/>\n<path style=\"fill:none;stroke-width:1;stroke-linecap:butt;stroke-linejoin:miter;stroke:rgb(26.666667%,26.666667%,26.666667%);stroke-opacity:1;stroke-miterlimit:10;\" d=\"M 176.535156 127.542969 L 113.738281 117.824219 \"/>\n<path style=\" stroke:none;fill-rule:nonzero;fill:rgb(26.666667%,26.666667%,26.666667%);fill-opacity:1;\" d=\"M 99.640625 115.640625 L 114.445312 113.242188 L 113.027344 122.40625 L 99.640625 115.640625 \"/>\n<path style=\"fill:none;stroke-width:1;stroke-linecap:butt;stroke-linejoin:miter;stroke:rgb(26.666667%,26.666667%,26.666667%);stroke-opacity:1;stroke-miterlimit:10;\" d=\"M 176.535156 127.542969 L 151.535156 105.738281 \"/>\n<path style=\" stroke:none;fill-rule:nonzero;fill:rgb(26.666667%,26.666667%,26.666667%);fill-opacity:1;\" d=\"M 140.785156 96.363281 L 154.582031 102.246094 L 148.488281 109.234375 L 140.785156 96.363281 \"/>\n<path style=\"fill:none;stroke-width:1;stroke-linecap:butt;stroke-linejoin:miter;stroke:rgb(26.666667%,26.666667%,26.666667%);stroke-opacity:1;stroke-miterlimit:10;\" d=\"M 176.535156 127.542969 C 196.839844 110.898438 185.152344 84.671875 191.550781 66.347656 \"/>\n<path style=\" stroke:none;fill-rule:nonzero;fill:rgb(26.666667%,26.666667%,26.666667%);fill-opacity:1;\" d=\"M 196.253906 52.878906 L 195.929688 67.875 L 187.175781 64.820312 L 196.253906 52.878906 \"/>\n<path style=\"fill:none;stroke-width:1;stroke-linecap:butt;stroke-linejoin:miter;stroke:rgb(26.666667%,26.666667%,26.666667%);stroke-opacity:1;stroke-miterlimit:10;\" d=\"M 175.941406 238.078125 L 179.449219 218.234375 \"/>\n<path style=\" stroke:none;fill-rule:nonzero;fill:rgb(26.666667%,26.666667%,26.666667%);fill-opacity:1;\" d=\"M 181.929688 204.1875 L 184.011719 219.042969 L 174.882812 217.429688 L 181.929688 204.1875 \"/>\n<path style=\"fill:none;stroke-width:1;stroke-linecap:butt;stroke-linejoin:miter;stroke:rgb(26.666667%,26.666667%,26.666667%);stroke-opacity:1;stroke-miterlimit:10;\" d=\"M 175.941406 238.078125 L 147.496094 240.421875 \"/>\n<path style=\" stroke:none;fill-rule:nonzero;fill:rgb(26.666667%,26.666667%,26.666667%);fill-opacity:1;\" d=\"M 133.277344 241.59375 L 147.113281 235.800781 L 147.875 245.042969 L 133.277344 241.59375 \"/>\n<path style=\"fill:none;stroke-width:1;stroke-linecap:butt;stroke-linejoin:miter;stroke:rgb(26.666667%,26.666667%,26.666667%);stroke-opacity:1;stroke-miterlimit:10;\" d=\"M 175.941406 238.078125 L 104.554688 270.074219 \"/>\n<path style=\" stroke:none;fill-rule:nonzero;fill:rgb(26.666667%,26.666667%,26.666667%);fill-opacity:1;\" d=\"M 91.539062 275.910156 L 102.660156 265.84375 L 106.453125 274.304688 L 91.539062 275.910156 \"/>\n<path style=\"fill:none;stroke-width:1;stroke-linecap:butt;stroke-linejoin:miter;stroke:rgb(26.666667%,26.666667%,26.666667%);stroke-opacity:1;stroke-miterlimit:10;\" d=\"M 175.941406 238.078125 L 226.53125 190.902344 \"/>\n<path style=\" stroke:none;fill-rule:nonzero;fill:rgb(26.666667%,26.666667%,26.666667%);fill-opacity:1;\" d=\"M 236.964844 181.175781 L 229.695312 194.292969 L 223.371094 187.511719 L 236.964844 181.175781 \"/>\n<path style=\"fill:none;stroke-width:1;stroke-linecap:butt;stroke-linejoin:miter;stroke:rgb(26.666667%,26.666667%,26.666667%);stroke-opacity:1;stroke-miterlimit:10;\" d=\"M 233.734375 96.285156 C 254.527344 86.941406 251.929688 53.945312 260.199219 48.40625 \"/>\n<path style=\" stroke:none;fill-rule:nonzero;fill:rgb(26.666667%,26.666667%,26.666667%);fill-opacity:1;\" d=\"M 272.046875 40.464844 L 262.777344 52.257812 L 257.617188 44.554688 L 272.046875 40.464844 \"/>\n<path style=\"fill:none;stroke-width:1;stroke-linecap:butt;stroke-linejoin:miter;stroke:rgb(26.666667%,26.666667%,26.666667%);stroke-opacity:1;stroke-miterlimit:10;\" d=\"M 233.734375 96.285156 L 212.742188 63.679688 \"/>\n<path style=\" stroke:none;fill-rule:nonzero;fill:rgb(26.666667%,26.666667%,26.666667%);fill-opacity:1;\" d=\"M 205.019531 51.683594 L 216.640625 61.171875 L 208.847656 66.1875 L 205.019531 51.683594 \"/>\n<path style=\"fill:none;stroke-width:1;stroke-linecap:butt;stroke-linejoin:miter;stroke:rgb(26.666667%,26.666667%,26.666667%);stroke-opacity:1;stroke-miterlimit:10;\" d=\"M 20.960938 149.285156 L 84.894531 166.304688 \"/>\n<path style=\" stroke:none;fill-rule:nonzero;fill:rgb(26.666667%,26.666667%,26.666667%);fill-opacity:1;\" d=\"M 98.679688 169.972656 L 83.703125 170.785156 L 86.089844 161.824219 L 98.679688 169.972656 \"/>\n<path style=\"fill:none;stroke-width:1;stroke-linecap:butt;stroke-linejoin:miter;stroke:rgb(26.666667%,26.666667%,26.666667%);stroke-opacity:1;stroke-miterlimit:10;\" d=\"M 20.960938 149.285156 C 38.695312 159.957031 52.617188 185.890625 39.644531 195.3125 \"/>\n<path style=\" stroke:none;fill-rule:nonzero;fill:rgb(26.666667%,26.666667%,26.666667%);fill-opacity:1;\" d=\"M 28.101562 203.695312 L 36.921875 191.558594 L 42.367188 199.0625 L 28.101562 203.695312 \"/>\n<path style=\"fill:none;stroke-width:1;stroke-linecap:butt;stroke-linejoin:miter;stroke:rgb(26.666667%,26.666667%,26.666667%);stroke-opacity:1;stroke-miterlimit:10;\" d=\"M 20.960938 149.285156 L 43.152344 197.769531 \"/>\n<path style=\" stroke:none;fill-rule:nonzero;fill:rgb(26.666667%,26.666667%,26.666667%);fill-opacity:1;\" d=\"M 49.089844 210.738281 L 38.9375 199.695312 L 47.367188 195.839844 L 49.089844 210.738281 \"/>\n<path style=\"fill:none;stroke-width:1;stroke-linecap:butt;stroke-linejoin:miter;stroke:rgb(26.666667%,26.666667%,26.666667%);stroke-opacity:1;stroke-miterlimit:10;\" d=\"M 20.960938 149.285156 L 40.03125 91.304688 \"/>\n<path style=\" stroke:none;fill-rule:nonzero;fill:rgb(26.666667%,26.666667%,26.666667%);fill-opacity:1;\" d=\"M 44.488281 77.753906 L 44.433594 92.753906 L 35.628906 89.859375 L 44.488281 77.753906 \"/>\n<path style=\"fill:none;stroke-width:1;stroke-linecap:butt;stroke-linejoin:miter;stroke:rgb(26.666667%,26.666667%,26.666667%);stroke-opacity:1;stroke-miterlimit:10;\" d=\"M 20 209.574219 C 56.792969 229.308594 125.175781 207 119.058594 194.476562 \"/>\n<path style=\" stroke:none;fill-rule:nonzero;fill:rgb(26.666667%,26.666667%,26.666667%);fill-opacity:1;\" d=\"M 112.796875 181.660156 L 123.222656 192.445312 L 114.894531 196.511719 L 112.796875 181.660156 \"/>\n<path style=\"fill:none;stroke-width:1;stroke-linecap:butt;stroke-linejoin:miter;stroke:rgb(26.666667%,26.666667%,26.666667%);stroke-opacity:1;stroke-miterlimit:10;\" d=\"M 20 209.574219 C 9.132812 180.058594 14.617188 152.972656 41.644531 137.253906 \"/>\n<path style=\" stroke:none;fill-rule:nonzero;fill:rgb(26.666667%,26.666667%,26.666667%);fill-opacity:1;\" d=\"M 29.3125 144.425781 L 39.316406 133.246094 L 43.976562 141.261719 L 29.3125 144.425781 \"/>\n<path style=\"fill:none;stroke-width:1;stroke-linecap:butt;stroke-linejoin:miter;stroke:rgb(26.666667%,26.666667%,26.666667%);stroke-opacity:1;stroke-miterlimit:10;\" d=\"M 20 209.574219 L 66.320312 261.839844 \"/>\n<path style=\" stroke:none;fill-rule:nonzero;fill:rgb(26.666667%,26.666667%,26.666667%);fill-opacity:1;\" d=\"M 75.78125 272.515625 L 62.851562 264.914062 L 69.789062 258.765625 L 75.78125 272.515625 \"/>\n<path style=\"fill:none;stroke-width:1;stroke-linecap:butt;stroke-linejoin:miter;stroke:rgb(26.666667%,26.666667%,26.666667%);stroke-opacity:1;stroke-miterlimit:10;\" d=\"M 82.414062 280 L 63.835938 241.667969 \"/>\n<path style=\" stroke:none;fill-rule:nonzero;fill:rgb(26.666667%,26.666667%,26.666667%);fill-opacity:1;\" d=\"M 57.613281 228.832031 L 68.003906 239.648438 L 59.664062 243.691406 L 57.613281 228.832031 \"/>\n<path style=\"fill:none;stroke-width:1;stroke-linecap:butt;stroke-linejoin:miter;stroke:rgb(26.666667%,26.666667%,26.666667%);stroke-opacity:1;stroke-miterlimit:10;\" d=\"M 53.25 219.832031 C 87.730469 227.019531 129.8125 183.988281 129.796875 183.984375 \"/>\n<path style=\" stroke:none;fill-rule:nonzero;fill:rgb(26.666667%,26.666667%,26.666667%);fill-opacity:1;\" d=\"M 117.210938 177.273438 L 131.980469 179.894531 L 127.617188 188.074219 L 117.210938 177.273438 \"/>\n<path style=\"fill:none;stroke-width:1;stroke-linecap:butt;stroke-linejoin:miter;stroke:rgb(26.666667%,26.666667%,26.666667%);stroke-opacity:1;stroke-miterlimit:10;\" d=\"M 133.25 89.789062 L 209.519531 94.71875 \"/>\n<path style=\" stroke:none;fill-rule:nonzero;fill:rgb(26.666667%,26.666667%,26.666667%);fill-opacity:1;\" d=\"M 223.753906 95.640625 L 209.21875 99.347656 L 209.820312 90.09375 L 223.753906 95.640625 \"/>\n<path style=\"fill:none;stroke-width:1;stroke-linecap:butt;stroke-linejoin:miter;stroke:rgb(26.666667%,26.666667%,26.666667%);stroke-opacity:1;stroke-miterlimit:10;\" d=\"M 133.25 89.789062 C 143.511719 72.003906 137.570312 58.058594 127.34375 40.859375 \"/>\n<path style=\" stroke:none;fill-rule:nonzero;fill:rgb(26.666667%,26.666667%,26.666667%);fill-opacity:1;\" d=\"M 120.054688 28.597656 L 131.328125 38.488281 L 123.359375 43.226562 L 120.054688 28.597656 \"/>\n<path style=\"fill:none;stroke-width:1;stroke-linecap:butt;stroke-linejoin:miter;stroke:rgb(26.666667%,26.666667%,26.666667%);stroke-opacity:1;stroke-miterlimit:10;\" d=\"M 133.25 89.789062 L 71.144531 74.171875 \"/>\n<path style=\" stroke:none;fill-rule:nonzero;fill:rgb(26.666667%,26.666667%,26.666667%);fill-opacity:1;\" d=\"M 57.3125 70.695312 L 72.277344 69.675781 L 70.015625 78.667969 L 57.3125 70.695312 \"/>\n<path style=\"fill:none;stroke-width:1;stroke-linecap:butt;stroke-linejoin:miter;stroke:rgb(26.666667%,26.666667%,26.666667%);stroke-opacity:1;stroke-miterlimit:10;\" d=\"M 114.941406 20 C 96.226562 40.738281 91.527344 84.621094 108.875 86.769531 \"/>\n<path style=\" stroke:none;fill-rule:nonzero;fill:rgb(26.666667%,26.666667%,26.666667%);fill-opacity:1;\" d=\"M 123.03125 88.523438 L 108.304688 91.371094 L 109.445312 82.167969 L 123.03125 88.523438 \"/>\n<path style=\"fill:none;stroke-width:1;stroke-linecap:butt;stroke-linejoin:miter;stroke:rgb(26.666667%,26.666667%,26.666667%);stroke-opacity:1;stroke-miterlimit:10;\" d=\"M 114.941406 20 L 176.210938 36.84375 \"/>\n<path style=\" stroke:none;fill-rule:nonzero;fill:rgb(26.666667%,26.666667%,26.666667%);fill-opacity:1;\" d=\"M 189.964844 40.625 L 174.980469 41.3125 L 177.4375 32.375 L 189.964844 40.625 \"/>\n<path style=\"fill:none;stroke-width:1;stroke-linecap:butt;stroke-linejoin:miter;stroke:rgb(26.666667%,26.666667%,26.666667%);stroke-opacity:1;stroke-miterlimit:10;\" d=\"M 47.613281 68.253906 L 73.335938 96.246094 \"/>\n<path style=\" stroke:none;fill-rule:nonzero;fill:rgb(26.666667%,26.666667%,26.666667%);fill-opacity:1;\" d=\"M 82.992188 106.75 L 69.925781 99.382812 L 76.75 93.109375 L 82.992188 106.75 \"/>\n<path style=\"fill:none;stroke-width:1;stroke-linecap:butt;stroke-linejoin:miter;stroke:rgb(26.666667%,26.666667%,26.666667%);stroke-opacity:1;stroke-miterlimit:10;\" d=\"M 47.613281 68.253906 L 95.21875 34.136719 \"/>\n<path style=\" stroke:none;fill-rule:nonzero;fill:rgb(26.666667%,26.666667%,26.666667%);fill-opacity:1;\" d=\"M 106.816406 25.824219 L 97.917969 37.902344 L 92.519531 30.367188 L 106.816406 25.824219 \"/>\n<path style=\"fill:none;stroke-width:1;stroke-linecap:butt;stroke-linejoin:miter;stroke:rgb(26.666667%,26.666667%,26.666667%);stroke-opacity:1;stroke-miterlimit:10;\" d=\"M 244.28125 174.355469 C 228.6875 162.734375 208.246094 159.347656 197.605469 174.496094 \"/>\n<path style=\" stroke:none;fill-rule:nonzero;fill:rgb(26.666667%,26.666667%,26.666667%);fill-opacity:1;\" d=\"M 189.40625 186.171875 L 193.8125 171.832031 L 201.398438 177.160156 L 189.40625 186.171875 \"/>\n<path style=\"fill:none;stroke-width:1;stroke-linecap:butt;stroke-linejoin:miter;stroke:rgb(26.666667%,26.666667%,26.666667%);stroke-opacity:1;stroke-miterlimit:10;\" d=\"M 244.28125 174.355469 L 196.5 141.339844 \"/>\n<path style=\" stroke:none;fill-rule:nonzero;fill:rgb(26.666667%,26.666667%,26.666667%);fill-opacity:1;\" d=\"M 184.761719 133.230469 L 199.132812 137.523438 L 193.863281 145.152344 L 184.761719 133.230469 \"/>\n<path style=\"fill:none;stroke-width:1;stroke-linecap:butt;stroke-linejoin:miter;stroke:rgb(26.666667%,26.666667%,26.666667%);stroke-opacity:1;stroke-miterlimit:10;\" d=\"M 244.28125 174.355469 L 236.984375 120.332031 \"/>\n<path style=\" stroke:none;fill-rule:nonzero;fill:rgb(26.666667%,26.666667%,26.666667%);fill-opacity:1;\" d=\"M 235.074219 106.195312 L 241.578125 119.714844 L 232.390625 120.953125 L 235.074219 106.195312 \"/>\n<path style=\"fill:none;stroke-width:1;stroke-linecap:butt;stroke-linejoin:miter;stroke:rgb(26.666667%,26.666667%,26.666667%);stroke-opacity:1;stroke-miterlimit:10;\" d=\"M 280 35.132812 C 242.25 36.53125 212.460938 92.675781 209.53125 92.179688 \"/>\n<path style=\" stroke:none;fill-rule:nonzero;fill:rgb(26.666667%,26.666667%,26.666667%);fill-opacity:1;\" d=\"M 223.597656 94.566406 L 208.757812 96.75 L 210.308594 87.609375 L 223.597656 94.566406 \"/>\n<path style=\"fill:none;stroke-width:1;stroke-linecap:butt;stroke-linejoin:miter;stroke:rgb(26.666667%,26.666667%,26.666667%);stroke-opacity:1;stroke-miterlimit:10;\" d=\"M 280 35.132812 L 223.75 40.832031 \"/>\n<path style=\" stroke:none;fill-rule:nonzero;fill:rgb(26.666667%,26.666667%,26.666667%);fill-opacity:1;\" d=\"M 209.558594 42.269531 L 223.285156 36.21875 L 224.21875 45.441406 L 209.558594 42.269531 \"/>\n<path style=\"fill:none;stroke-width:1;stroke-linecap:butt;stroke-linejoin:miter;stroke:rgb(26.666667%,26.666667%,26.666667%);stroke-opacity:1;stroke-miterlimit:10;\" d=\"M 199.609375 43.277344 C 165.09375 57.304688 139.03125 115.089844 153.539062 119.90625 \"/>\n<path style=\" stroke:none;fill-rule:nonzero;fill:rgb(26.666667%,26.666667%,26.666667%);fill-opacity:1;\" d=\"M 167.078125 124.402344 L 152.078125 124.304688 L 155 115.507812 L 167.078125 124.402344 \"/>\n<path style=\"fill-rule:nonzero;fill:rgb(100%,0%,0%);fill-opacity:1;stroke-width:1;stroke-linecap:butt;stroke-linejoin:miter;stroke:rgb(0%,0%,0%);stroke-opacity:1;stroke-miterlimit:10;\" d=\"M 193.671875 194.339844 C 193.671875 199.863281 189.195312 204.339844 183.671875 204.339844 C 178.148438 204.339844 173.671875 199.863281 173.671875 194.339844 C 173.671875 188.816406 178.148438 184.339844 183.671875 184.339844 C 189.195312 184.339844 193.671875 188.816406 193.671875 194.339844 \"/>\n<path style=\"fill-rule:nonzero;fill:rgb(100%,0%,0%);fill-opacity:1;stroke-width:1;stroke-linecap:butt;stroke-linejoin:miter;stroke:rgb(0%,0%,0%);stroke-opacity:1;stroke-miterlimit:10;\" d=\"M 133.308594 242.414062 C 133.308594 247.9375 128.832031 252.414062 123.308594 252.414062 C 117.789062 252.414062 113.308594 247.9375 113.308594 242.414062 C 113.308594 236.890625 117.789062 232.414062 123.308594 232.414062 C 128.832031 232.414062 133.308594 236.890625 133.308594 242.414062 \"/>\n<path style=\"fill-rule:nonzero;fill:rgb(100%,0%,0%);fill-opacity:1;stroke-width:1;stroke-linecap:butt;stroke-linejoin:miter;stroke:rgb(0%,0%,0%);stroke-opacity:1;stroke-miterlimit:10;\" d=\"M 118.34375 172.546875 C 118.34375 178.070312 113.867188 182.546875 108.34375 182.546875 C 102.820312 182.546875 98.34375 178.070312 98.34375 172.546875 C 98.34375 167.023438 102.820312 162.546875 108.34375 162.546875 C 113.867188 162.546875 118.34375 167.023438 118.34375 172.546875 \"/>\n<path style=\"fill-rule:nonzero;fill:rgb(100%,0%,0%);fill-opacity:1;stroke-width:1;stroke-linecap:butt;stroke-linejoin:miter;stroke:rgb(0%,0%,0%);stroke-opacity:1;stroke-miterlimit:10;\" d=\"M 186.535156 127.542969 C 186.535156 133.066406 182.058594 137.542969 176.535156 137.542969 C 171.011719 137.542969 166.535156 133.066406 166.535156 127.542969 C 166.535156 122.023438 171.011719 117.542969 176.535156 117.542969 C 182.058594 117.542969 186.535156 122.023438 186.535156 127.542969 \"/>\n<path style=\"fill-rule:nonzero;fill:rgb(100%,0%,0%);fill-opacity:1;stroke-width:1;stroke-linecap:butt;stroke-linejoin:miter;stroke:rgb(0%,0%,0%);stroke-opacity:1;stroke-miterlimit:10;\" d=\"M 254.28125 174.355469 C 254.28125 179.878906 249.804688 184.355469 244.28125 184.355469 C 238.757812 184.355469 234.28125 179.878906 234.28125 174.355469 C 234.28125 168.832031 238.757812 164.355469 244.28125 164.355469 C 249.804688 164.355469 254.28125 168.832031 254.28125 174.355469 \"/>\n<path style=\"fill-rule:nonzero;fill:rgb(100%,0%,0%);fill-opacity:1;stroke-width:1;stroke-linecap:butt;stroke-linejoin:miter;stroke:rgb(0%,0%,0%);stroke-opacity:1;stroke-miterlimit:10;\" d=\"M 92.414062 280 C 92.414062 285.523438 87.9375 290 82.414062 290 C 76.890625 290 72.414062 285.523438 72.414062 280 C 72.414062 274.476562 76.890625 270 82.414062 270 C 87.9375 270 92.414062 274.476562 92.414062 280 \"/>\n<path style=\"fill-rule:nonzero;fill:rgb(100%,0%,0%);fill-opacity:1;stroke-width:1;stroke-linecap:butt;stroke-linejoin:miter;stroke:rgb(0%,0%,0%);stroke-opacity:1;stroke-miterlimit:10;\" d=\"M 63.25 219.832031 C 63.25 225.355469 58.773438 229.832031 53.25 229.832031 C 47.726562 229.832031 43.25 225.355469 43.25 219.832031 C 43.25 214.308594 47.726562 209.832031 53.25 209.832031 C 58.773438 209.832031 63.25 214.308594 63.25 219.832031 \"/>\n<path style=\"fill-rule:nonzero;fill:rgb(100%,0%,0%);fill-opacity:1;stroke-width:1;stroke-linecap:butt;stroke-linejoin:miter;stroke:rgb(0%,0%,0%);stroke-opacity:1;stroke-miterlimit:10;\" d=\"M 185.941406 238.078125 C 185.941406 243.601562 181.464844 248.078125 175.941406 248.078125 C 170.421875 248.078125 165.941406 243.601562 165.941406 238.078125 C 165.941406 232.554688 170.421875 228.078125 175.941406 228.078125 C 181.464844 228.078125 185.941406 232.554688 185.941406 238.078125 \"/>\n<path style=\"fill-rule:nonzero;fill:rgb(100%,0%,0%);fill-opacity:1;stroke-width:1;stroke-linecap:butt;stroke-linejoin:miter;stroke:rgb(0%,0%,0%);stroke-opacity:1;stroke-miterlimit:10;\" d=\"M 30 209.574219 C 30 215.097656 25.523438 219.574219 20 219.574219 C 14.476562 219.574219 10 215.097656 10 209.574219 C 10 204.054688 14.476562 199.574219 20 199.574219 C 25.523438 199.574219 30 204.054688 30 209.574219 \"/>\n<path style=\"fill-rule:nonzero;fill:rgb(100%,0%,0%);fill-opacity:1;stroke-width:1;stroke-linecap:butt;stroke-linejoin:miter;stroke:rgb(0%,0%,0%);stroke-opacity:1;stroke-miterlimit:10;\" d=\"M 99.757812 114.113281 C 99.757812 119.636719 95.28125 124.113281 89.757812 124.113281 C 84.234375 124.113281 79.757812 119.636719 79.757812 114.113281 C 79.757812 108.589844 84.234375 104.113281 89.757812 104.113281 C 95.28125 104.113281 99.757812 108.589844 99.757812 114.113281 \"/>\n<path style=\"fill-rule:nonzero;fill:rgb(100%,0%,0%);fill-opacity:1;stroke-width:1;stroke-linecap:butt;stroke-linejoin:miter;stroke:rgb(0%,0%,0%);stroke-opacity:1;stroke-miterlimit:10;\" d=\"M 143.25 89.789062 C 143.25 95.3125 138.769531 99.789062 133.25 99.789062 C 127.726562 99.789062 123.25 95.3125 123.25 89.789062 C 123.25 84.265625 127.726562 79.789062 133.25 79.789062 C 138.769531 79.789062 143.25 84.265625 143.25 89.789062 \"/>\n<path style=\"fill-rule:nonzero;fill:rgb(100%,0%,0%);fill-opacity:1;stroke-width:1;stroke-linecap:butt;stroke-linejoin:miter;stroke:rgb(0%,0%,0%);stroke-opacity:1;stroke-miterlimit:10;\" d=\"M 243.734375 96.285156 C 243.734375 101.808594 239.257812 106.285156 233.734375 106.285156 C 228.210938 106.285156 223.734375 101.808594 223.734375 96.285156 C 223.734375 90.761719 228.210938 86.285156 233.734375 86.285156 C 239.257812 86.285156 243.734375 90.761719 243.734375 96.285156 \"/>\n<path style=\"fill-rule:nonzero;fill:rgb(100%,0%,0%);fill-opacity:1;stroke-width:1;stroke-linecap:butt;stroke-linejoin:miter;stroke:rgb(0%,0%,0%);stroke-opacity:1;stroke-miterlimit:10;\" d=\"M 209.609375 43.277344 C 209.609375 48.800781 205.132812 53.277344 199.609375 53.277344 C 194.085938 53.277344 189.609375 48.800781 189.609375 43.277344 C 189.609375 37.753906 194.085938 33.277344 199.609375 33.277344 C 205.132812 33.277344 209.609375 37.753906 209.609375 43.277344 \"/>\n<path style=\"fill-rule:nonzero;fill:rgb(100%,0%,0%);fill-opacity:1;stroke-width:1;stroke-linecap:butt;stroke-linejoin:miter;stroke:rgb(0%,0%,0%);stroke-opacity:1;stroke-miterlimit:10;\" d=\"M 290 35.132812 C 290 40.65625 285.523438 45.132812 280 45.132812 C 274.476562 45.132812 270 40.65625 270 35.132812 C 270 29.609375 274.476562 25.132812 280 25.132812 C 285.523438 25.132812 290 29.609375 290 35.132812 \"/>\n<path style=\"fill-rule:nonzero;fill:rgb(100%,0%,0%);fill-opacity:1;stroke-width:1;stroke-linecap:butt;stroke-linejoin:miter;stroke:rgb(0%,0%,0%);stroke-opacity:1;stroke-miterlimit:10;\" d=\"M 30.960938 149.285156 C 30.960938 154.808594 26.480469 159.285156 20.960938 159.285156 C 15.4375 159.285156 10.960938 154.808594 10.960938 149.285156 C 10.960938 143.761719 15.4375 139.285156 20.960938 139.285156 C 26.480469 139.285156 30.960938 143.761719 30.960938 149.285156 \"/>\n<path style=\"fill-rule:nonzero;fill:rgb(100%,0%,0%);fill-opacity:1;stroke-width:1;stroke-linecap:butt;stroke-linejoin:miter;stroke:rgb(0%,0%,0%);stroke-opacity:1;stroke-miterlimit:10;\" d=\"M 57.613281 68.253906 C 57.613281 73.777344 53.136719 78.253906 47.613281 78.253906 C 42.089844 78.253906 37.613281 73.777344 37.613281 68.253906 C 37.613281 62.730469 42.089844 58.253906 47.613281 58.253906 C 53.136719 58.253906 57.613281 62.730469 57.613281 68.253906 \"/>\n<path style=\"fill-rule:nonzero;fill:rgb(100%,0%,0%);fill-opacity:1;stroke-width:1;stroke-linecap:butt;stroke-linejoin:miter;stroke:rgb(0%,0%,0%);stroke-opacity:1;stroke-miterlimit:10;\" d=\"M 124.941406 20 C 124.941406 25.523438 120.464844 30 114.941406 30 C 109.417969 30 104.941406 25.523438 104.941406 20 C 104.941406 14.476562 109.417969 10 114.941406 10 C 120.464844 10 124.941406 14.476562 124.941406 20 \"/>\n<g style=\"fill:rgb(0%,0%,0%);fill-opacity:1;\">\n  <use xlink:href=\"#glyph0-1\" x=\"170.835938\" y=\"201.125\"/>\n  <use xlink:href=\"#glyph0-2\" x=\"179.237305\" y=\"201.125\"/>\n  <use xlink:href=\"#glyph0-3\" x=\"187.638672\" y=\"201.125\"/>\n</g>\n<g style=\"fill:rgb(0%,0%,0%);fill-opacity:1;\">\n  <use xlink:href=\"#glyph0-1\" x=\"110.632812\" y=\"249.199219\"/>\n  <use xlink:href=\"#glyph0-2\" x=\"119.03418\" y=\"249.199219\"/>\n  <use xlink:href=\"#glyph0-4\" x=\"127.435547\" y=\"249.199219\"/>\n</g>\n<g style=\"fill:rgb(0%,0%,0%);fill-opacity:1;\">\n  <use xlink:href=\"#glyph0-1\" x=\"95.617188\" y=\"179.332031\"/>\n  <use xlink:href=\"#glyph0-2\" x=\"104.018555\" y=\"179.332031\"/>\n  <use xlink:href=\"#glyph0-5\" x=\"112.419922\" y=\"179.332031\"/>\n</g>\n<g style=\"fill:rgb(0%,0%,0%);fill-opacity:1;\">\n  <use xlink:href=\"#glyph0-1\" x=\"163.71875\" y=\"134.328125\"/>\n  <use xlink:href=\"#glyph0-2\" x=\"172.120117\" y=\"134.328125\"/>\n  <use xlink:href=\"#glyph0-6\" x=\"180.521484\" y=\"134.328125\"/>\n</g>\n<g style=\"fill:rgb(0%,0%,0%);fill-opacity:1;\">\n  <use xlink:href=\"#glyph0-1\" x=\"231.550781\" y=\"181.066406\"/>\n  <use xlink:href=\"#glyph0-3\" x=\"239.952148\" y=\"181.066406\"/>\n  <use xlink:href=\"#glyph0-7\" x=\"248.353516\" y=\"181.066406\"/>\n</g>\n<g style=\"fill:rgb(0%,0%,0%);fill-opacity:1;\">\n  <use xlink:href=\"#glyph0-1\" x=\"69.726562\" y=\"286.785156\"/>\n  <use xlink:href=\"#glyph0-2\" x=\"78.12793\" y=\"286.785156\"/>\n  <use xlink:href=\"#glyph0-8\" x=\"86.529297\" y=\"286.785156\"/>\n</g>\n<g style=\"fill:rgb(0%,0%,0%);fill-opacity:1;\">\n  <use xlink:href=\"#glyph0-1\" x=\"40.507812\" y=\"226.617188\"/>\n  <use xlink:href=\"#glyph0-3\" x=\"48.90918\" y=\"226.617188\"/>\n  <use xlink:href=\"#glyph0-2\" x=\"57.310547\" y=\"226.617188\"/>\n</g>\n<g style=\"fill:rgb(0%,0%,0%);fill-opacity:1;\">\n  <use xlink:href=\"#glyph0-1\" x=\"163.214844\" y=\"244.863281\"/>\n  <use xlink:href=\"#glyph0-2\" x=\"171.616211\" y=\"244.863281\"/>\n  <use xlink:href=\"#glyph0-7\" x=\"180.017578\" y=\"244.863281\"/>\n</g>\n<g style=\"fill:rgb(0%,0%,0%);fill-opacity:1;\">\n  <use xlink:href=\"#glyph0-1\" x=\"7.289062\" y=\"216.359375\"/>\n  <use xlink:href=\"#glyph0-2\" x=\"15.69043\" y=\"216.359375\"/>\n  <use xlink:href=\"#glyph0-9\" x=\"24.091797\" y=\"216.359375\"/>\n</g>\n<g style=\"fill:rgb(0%,0%,0%);fill-opacity:1;\">\n  <use xlink:href=\"#glyph0-1\" x=\"76.921875\" y=\"120.824219\"/>\n  <use xlink:href=\"#glyph0-3\" x=\"85.323242\" y=\"120.824219\"/>\n  <use xlink:href=\"#glyph0-3\" x=\"93.724609\" y=\"120.824219\"/>\n</g>\n<g style=\"fill:rgb(0%,0%,0%);fill-opacity:1;\">\n  <use xlink:href=\"#glyph0-1\" x=\"120.570312\" y=\"96.574219\"/>\n  <use xlink:href=\"#glyph0-3\" x=\"128.97168\" y=\"96.574219\"/>\n  <use xlink:href=\"#glyph0-4\" x=\"137.373047\" y=\"96.574219\"/>\n</g>\n<g style=\"fill:rgb(0%,0%,0%);fill-opacity:1;\">\n  <use xlink:href=\"#glyph0-1\" x=\"221.015625\" y=\"103.070312\"/>\n  <use xlink:href=\"#glyph0-2\" x=\"229.416992\" y=\"103.070312\"/>\n  <use xlink:href=\"#glyph0-10\" x=\"237.818359\" y=\"103.070312\"/>\n</g>\n<g style=\"fill:rgb(0%,0%,0%);fill-opacity:1;\">\n  <use xlink:href=\"#glyph0-1\" x=\"186.980469\" y=\"49.988281\"/>\n  <use xlink:href=\"#glyph0-3\" x=\"195.381836\" y=\"49.988281\"/>\n  <use xlink:href=\"#glyph0-11\" x=\"203.783203\" y=\"49.988281\"/>\n</g>\n<g style=\"fill:rgb(0%,0%,0%);fill-opacity:1;\">\n  <use xlink:href=\"#glyph0-1\" x=\"267.28125\" y=\"41.917969\"/>\n  <use xlink:href=\"#glyph0-3\" x=\"275.682617\" y=\"41.917969\"/>\n  <use xlink:href=\"#glyph0-10\" x=\"284.083984\" y=\"41.917969\"/>\n</g>\n<g style=\"fill:rgb(0%,0%,0%);fill-opacity:1;\">\n  <use xlink:href=\"#glyph0-1\" x=\"8.332031\" y=\"156.070312\"/>\n  <use xlink:href=\"#glyph0-2\" x=\"16.733398\" y=\"156.070312\"/>\n  <use xlink:href=\"#glyph0-11\" x=\"25.134766\" y=\"156.070312\"/>\n</g>\n<g style=\"fill:rgb(0%,0%,0%);fill-opacity:1;\">\n  <use xlink:href=\"#glyph0-1\" x=\"34.796875\" y=\"74.96875\"/>\n  <use xlink:href=\"#glyph0-3\" x=\"43.198242\" y=\"74.96875\"/>\n  <use xlink:href=\"#glyph0-6\" x=\"51.599609\" y=\"74.96875\"/>\n</g>\n<g style=\"fill:rgb(0%,0%,0%);fill-opacity:1;\">\n  <use xlink:href=\"#glyph0-1\" x=\"102.214844\" y=\"26.785156\"/>\n  <use xlink:href=\"#glyph0-3\" x=\"110.616211\" y=\"26.785156\"/>\n  <use xlink:href=\"#glyph0-5\" x=\"119.017578\" y=\"26.785156\"/>\n</g>\n</g>\n</svg>\n"
     },
     "metadata": {
      "image/svg+xml": {
       "isolated": true
      }
     },
     "execution_count": 125
    }
   ]
  },
  {
   "cell_type": "code",
   "metadata": {
    "id": "BBQfoaYd1DVk",
    "outputId": "11de1936-d590-44a4-aaa6-7c55974c6d82",
    "colab": {
     "base_uri": "https://localhost:8080/"
    }
   },
   "source": [
    "print(g)"
   ],
   "execution_count": null,
   "outputs": [
    {
     "output_type": "stream",
     "name": "stdout",
     "text": [
      "IGRAPH DNW- 17 48 --\n",
      "+ attr: audience.size (v), media (v), media.type (v), name (v), type.label\n",
      "  (v), type (e), weight (e)\n",
      "+ edges (vertex names):\n",
      "s01 -> s02, s03, s04, s15                  s12 -> s06, s14, s13\n",
      "s02 -> s01, s03, s09, s10                  s06 -> s17, s16\n",
      "s03 -> s01, s04, s10, s05, s08, s11, s12   s17 -> s04\n",
      "s04 -> s03, s11, s12, s06, s17             s16 -> s06, s17\n",
      "s15 -> s01, s04, s06                       s07 -> s03, s10, s08, s14\n",
      "s09 -> s10                                 s14 -> s11, s13\n",
      "s10 -> s03                                 s13 -> s12, s17\n",
      "s05 -> s01, s02, s15, s09\n",
      "s08 -> s03, s09, s07\n",
      "s11 ->\n"
     ]
    }
   ]
  },
  {
   "cell_type": "code",
   "metadata": {
    "id": "zPvO6oyu1DVl",
    "outputId": "a7d1422a-5079-425e-c307-75ccf6a545ab",
    "colab": {
     "base_uri": "https://localhost:8080/"
    }
   },
   "source": [
    "edges['type'].unique()"
   ],
   "execution_count": null,
   "outputs": [
    {
     "output_type": "execute_result",
     "data": {
      "text/plain": [
       "array(['hyperlink', 'mention'], dtype=object)"
      ]
     },
     "metadata": {},
     "execution_count": 127
    }
   ]
  },
  {
   "cell_type": "code",
   "metadata": {
    "id": "bScPyUi9pF46",
    "outputId": "6f5bfa99-7a94-4f07-cdc1-ed44fd13d532",
    "colab": {
     "base_uri": "https://localhost:8080/",
     "height": 554
    }
   },
   "source": [
    "vertex_type_dict = {\"Newspaper\": \"blue\", \"TV\": \"pink\", \"Online\": \"red\"}\n",
    "edge_type_dict = {\"hyperlink\": \"black\", \"mention\": \"gray\"}\n",
    "visual_style = {}\n",
    "visual_style[\"vertex_size\"] = 30\n",
    "visual_style[\"vertex_color\"] = [vertex_type_dict[type_label] for type_label in g.vs[\"type.label\"]]\n",
    "visual_style[\"vertex_label\"] = g.vs[\"name\"]\n",
    "visual_style[\"edge_width\"] = [weight/10 for weight in g.es['weight']]\n",
    "visual_style[\"edge_color\"] = [edge_type_dict[type_label] for type_label in g.es[\"type\"]]\n",
    "visual_style[\"layout\"] = layout1\n",
    "visual_style[\"bbox\"] = (400, 400)\n",
    "visual_style[\"margin\"] = 20\n",
    "ig.plot(g, \"Graph_color.png\", **visual_style)"
   ],
   "execution_count": null,
   "outputs": [
    {
     "output_type": "execute_result",
     "data": {
      "text/plain": [
       "<igraph.drawing.cairo.plot.CairoPlot at 0x7f48bebfaa60>"
      ],
      "image/svg+xml": "<?xml version=\"1.0\" encoding=\"UTF-8\"?>\n<svg xmlns=\"http://www.w3.org/2000/svg\" xmlns:xlink=\"http://www.w3.org/1999/xlink\" width=\"400pt\" height=\"400pt\" viewBox=\"0 0 400 400\" version=\"1.1\">\n<defs>\n<g>\n<symbol overflow=\"visible\" id=\"glyph0-0\">\n<path style=\"stroke:none;\" d=\"M 0.46875 0 L 0.46875 -9.328125 L 4.1875 -9.328125 L 4.1875 0 Z M 0.9375 -0.46875 L 3.71875 -0.46875 L 3.71875 -8.859375 L 0.9375 -8.859375 Z M 0.9375 -0.46875 \"/>\n</symbol>\n<symbol overflow=\"visible\" id=\"glyph0-1\">\n<path style=\"stroke:none;\" d=\"M 7.25 -2.109375 C 7.25 -1.765625 7.179688 -1.453125 7.046875 -1.171875 C 6.910156 -0.898438 6.710938 -0.664062 6.453125 -0.46875 C 6.203125 -0.269531 5.890625 -0.117188 5.515625 -0.015625 C 5.148438 0.0859375 4.726562 0.140625 4.25 0.140625 C 3.820312 0.140625 3.4375 0.109375 3.09375 0.046875 C 2.75 -0.015625 2.445312 -0.113281 2.1875 -0.25 C 1.925781 -0.394531 1.707031 -0.582031 1.53125 -0.8125 C 1.351562 -1.050781 1.222656 -1.347656 1.140625 -1.703125 L 2.234375 -1.90625 C 2.285156 -1.65625 2.367188 -1.457031 2.484375 -1.3125 C 2.609375 -1.164062 2.753906 -1.050781 2.921875 -0.96875 C 3.097656 -0.894531 3.296875 -0.84375 3.515625 -0.8125 C 3.742188 -0.789062 3.988281 -0.78125 4.25 -0.78125 C 4.507812 -0.78125 4.75 -0.796875 4.96875 -0.828125 C 5.195312 -0.867188 5.394531 -0.9375 5.5625 -1.03125 C 5.726562 -1.125 5.859375 -1.242188 5.953125 -1.390625 C 6.046875 -1.546875 6.09375 -1.734375 6.09375 -1.953125 C 6.09375 -2.179688 6.035156 -2.363281 5.921875 -2.5 C 5.804688 -2.632812 5.644531 -2.75 5.4375 -2.84375 C 5.238281 -2.945312 5 -3.03125 4.71875 -3.09375 C 4.445312 -3.164062 4.148438 -3.242188 3.828125 -3.328125 C 3.535156 -3.410156 3.242188 -3.492188 2.953125 -3.578125 C 2.671875 -3.671875 2.414062 -3.789062 2.1875 -3.9375 C 1.96875 -4.082031 1.785156 -4.269531 1.640625 -4.5 C 1.503906 -4.726562 1.4375 -5.019531 1.4375 -5.375 C 1.4375 -6.039062 1.675781 -6.5625 2.15625 -6.9375 C 2.644531 -7.320312 3.347656 -7.515625 4.265625 -7.515625 C 4.617188 -7.515625 4.953125 -7.476562 5.265625 -7.40625 C 5.585938 -7.34375 5.867188 -7.238281 6.109375 -7.09375 C 6.359375 -6.957031 6.566406 -6.773438 6.734375 -6.546875 C 6.898438 -6.316406 7.015625 -6.046875 7.078125 -5.734375 L 5.96875 -5.59375 C 5.9375 -5.800781 5.867188 -5.96875 5.765625 -6.09375 C 5.660156 -6.226562 5.53125 -6.332031 5.375 -6.40625 C 5.21875 -6.476562 5.046875 -6.523438 4.859375 -6.546875 C 4.671875 -6.578125 4.472656 -6.59375 4.265625 -6.59375 C 3.140625 -6.59375 2.578125 -6.25 2.578125 -5.5625 C 2.578125 -5.351562 2.625 -5.179688 2.71875 -5.046875 C 2.820312 -4.921875 2.960938 -4.8125 3.140625 -4.71875 C 3.316406 -4.632812 3.53125 -4.5625 3.78125 -4.5 C 4.03125 -4.445312 4.300781 -4.378906 4.59375 -4.296875 C 4.882812 -4.222656 5.1875 -4.140625 5.5 -4.046875 C 5.8125 -3.953125 6.097656 -3.820312 6.359375 -3.65625 C 6.617188 -3.5 6.832031 -3.296875 7 -3.046875 C 7.164062 -2.804688 7.25 -2.492188 7.25 -2.109375 Z M 7.25 -2.109375 \"/>\n</symbol>\n<symbol overflow=\"visible\" id=\"glyph0-2\">\n<path style=\"stroke:none;\" d=\"M 7.546875 -4.609375 C 7.546875 -3.722656 7.457031 -2.976562 7.28125 -2.375 C 7.101562 -1.769531 6.863281 -1.28125 6.5625 -0.90625 C 6.257812 -0.53125 5.898438 -0.257812 5.484375 -0.09375 C 5.078125 0.0625 4.640625 0.140625 4.171875 0.140625 C 3.703125 0.140625 3.265625 0.0625 2.859375 -0.09375 C 2.453125 -0.257812 2.097656 -0.53125 1.796875 -0.90625 C 1.503906 -1.28125 1.269531 -1.769531 1.09375 -2.375 C 0.925781 -2.976562 0.84375 -3.722656 0.84375 -4.609375 C 0.84375 -5.546875 0.925781 -6.316406 1.09375 -6.921875 C 1.269531 -7.535156 1.507812 -8.019531 1.8125 -8.375 C 2.113281 -8.738281 2.46875 -8.992188 2.875 -9.140625 C 3.289062 -9.285156 3.738281 -9.359375 4.21875 -9.359375 C 4.675781 -9.359375 5.109375 -9.285156 5.515625 -9.140625 C 5.921875 -8.992188 6.269531 -8.738281 6.5625 -8.375 C 6.863281 -8.019531 7.101562 -7.535156 7.28125 -6.921875 C 7.457031 -6.316406 7.546875 -5.546875 7.546875 -4.609375 Z M 6.296875 -4.609375 C 6.296875 -5.335938 6.25 -5.941406 6.15625 -6.421875 C 6.0625 -6.910156 5.925781 -7.296875 5.75 -7.578125 C 5.570312 -7.867188 5.351562 -8.070312 5.09375 -8.1875 C 4.832031 -8.3125 4.539062 -8.375 4.21875 -8.375 C 3.875 -8.375 3.566406 -8.3125 3.296875 -8.1875 C 3.035156 -8.0625 2.8125 -7.851562 2.625 -7.5625 C 2.445312 -7.28125 2.3125 -6.898438 2.21875 -6.421875 C 2.132812 -5.941406 2.09375 -5.335938 2.09375 -4.609375 C 2.09375 -3.910156 2.140625 -3.320312 2.234375 -2.84375 C 2.328125 -2.363281 2.460938 -1.976562 2.640625 -1.6875 C 2.816406 -1.394531 3.035156 -1.1875 3.296875 -1.0625 C 3.554688 -0.9375 3.851562 -0.875 4.1875 -0.875 C 4.507812 -0.875 4.800781 -0.9375 5.0625 -1.0625 C 5.320312 -1.1875 5.539062 -1.394531 5.71875 -1.6875 C 5.90625 -1.976562 6.046875 -2.363281 6.140625 -2.84375 C 6.242188 -3.320312 6.296875 -3.910156 6.296875 -4.609375 Z M 3.390625 -3.796875 L 3.390625 -5.5 L 5 -5.5 L 5 -3.796875 Z M 3.390625 -3.796875 \"/>\n</symbol>\n<symbol overflow=\"visible\" id=\"glyph0-3\">\n<path style=\"stroke:none;\" d=\"M 1.078125 0 L 1.078125 -0.984375 L 4.078125 -0.984375 L 4.078125 -7.96875 C 3.984375 -7.789062 3.828125 -7.617188 3.609375 -7.453125 C 3.390625 -7.296875 3.140625 -7.15625 2.859375 -7.03125 C 2.578125 -6.914062 2.273438 -6.820312 1.953125 -6.75 C 1.628906 -6.675781 1.316406 -6.640625 1.015625 -6.640625 L 1.015625 -7.65625 C 1.347656 -7.65625 1.675781 -7.691406 2 -7.765625 C 2.332031 -7.847656 2.640625 -7.957031 2.921875 -8.09375 C 3.203125 -8.238281 3.453125 -8.40625 3.671875 -8.59375 C 3.890625 -8.78125 4.054688 -8.988281 4.171875 -9.21875 L 5.3125 -9.21875 L 5.3125 -0.984375 L 7.71875 -0.984375 L 7.71875 0 Z M 1.078125 0 \"/>\n</symbol>\n<symbol overflow=\"visible\" id=\"glyph0-4\">\n<path style=\"stroke:none;\" d=\"M 0.984375 0 L 0.984375 -0.796875 C 1.179688 -1.242188 1.441406 -1.648438 1.765625 -2.015625 C 2.097656 -2.390625 2.453125 -2.742188 2.828125 -3.078125 C 3.203125 -3.410156 3.578125 -3.726562 3.953125 -4.03125 C 4.328125 -4.332031 4.664062 -4.628906 4.96875 -4.921875 C 5.269531 -5.210938 5.515625 -5.507812 5.703125 -5.8125 C 5.898438 -6.113281 6 -6.4375 6 -6.78125 C 6 -7.050781 5.953125 -7.285156 5.859375 -7.484375 C 5.773438 -7.679688 5.648438 -7.84375 5.484375 -7.96875 C 5.328125 -8.101562 5.132812 -8.203125 4.90625 -8.265625 C 4.6875 -8.328125 4.441406 -8.359375 4.171875 -8.359375 C 3.929688 -8.359375 3.703125 -8.320312 3.484375 -8.25 C 3.273438 -8.1875 3.085938 -8.082031 2.921875 -7.9375 C 2.765625 -7.800781 2.632812 -7.628906 2.53125 -7.421875 C 2.4375 -7.222656 2.375 -6.992188 2.34375 -6.734375 L 1.09375 -6.84375 C 1.132812 -7.1875 1.226562 -7.507812 1.375 -7.8125 C 1.519531 -8.125 1.71875 -8.394531 1.96875 -8.625 C 2.21875 -8.851562 2.523438 -9.03125 2.890625 -9.15625 C 3.265625 -9.289062 3.691406 -9.359375 4.171875 -9.359375 C 4.648438 -9.359375 5.078125 -9.300781 5.453125 -9.1875 C 5.835938 -9.082031 6.164062 -8.925781 6.4375 -8.71875 C 6.707031 -8.507812 6.910156 -8.242188 7.046875 -7.921875 C 7.191406 -7.609375 7.265625 -7.25 7.265625 -6.84375 C 7.265625 -6.414062 7.164062 -6.019531 6.96875 -5.65625 C 6.769531 -5.289062 6.515625 -4.941406 6.203125 -4.609375 C 5.898438 -4.285156 5.5625 -3.972656 5.1875 -3.671875 C 4.8125 -3.378906 4.445312 -3.085938 4.09375 -2.796875 C 3.738281 -2.503906 3.414062 -2.210938 3.125 -1.921875 C 2.832031 -1.628906 2.613281 -1.320312 2.46875 -1 L 7.40625 -1 L 7.40625 0 Z M 0.984375 0 \"/>\n</symbol>\n<symbol overflow=\"visible\" id=\"glyph0-5\">\n<path style=\"stroke:none;\" d=\"M 7.515625 -2.53125 C 7.515625 -2.113281 7.441406 -1.738281 7.296875 -1.40625 C 7.148438 -1.082031 6.9375 -0.804688 6.65625 -0.578125 C 6.382812 -0.347656 6.046875 -0.171875 5.640625 -0.046875 C 5.234375 0.078125 4.769531 0.140625 4.25 0.140625 C 3.65625 0.140625 3.148438 0.0664062 2.734375 -0.078125 C 2.328125 -0.234375 1.988281 -0.429688 1.71875 -0.671875 C 1.457031 -0.921875 1.257812 -1.195312 1.125 -1.5 C 1 -1.8125 0.914062 -2.132812 0.875 -2.46875 L 2.140625 -2.59375 C 2.179688 -2.332031 2.25 -2.097656 2.34375 -1.890625 C 2.445312 -1.679688 2.582031 -1.5 2.75 -1.34375 C 2.914062 -1.195312 3.125 -1.082031 3.375 -1 C 3.625 -0.914062 3.914062 -0.875 4.25 -0.875 C 4.863281 -0.875 5.347656 -1.019531 5.703125 -1.3125 C 6.054688 -1.601562 6.234375 -2.023438 6.234375 -2.578125 C 6.234375 -2.878906 6.15625 -3.132812 6 -3.34375 C 5.84375 -3.550781 5.644531 -3.710938 5.40625 -3.828125 C 5.175781 -3.953125 4.921875 -4.035156 4.640625 -4.078125 C 4.367188 -4.128906 4.117188 -4.15625 3.890625 -4.15625 L 3.1875 -4.15625 L 3.1875 -5.234375 L 3.859375 -5.234375 C 4.085938 -5.234375 4.328125 -5.257812 4.578125 -5.3125 C 4.828125 -5.375 5.054688 -5.46875 5.265625 -5.59375 C 5.472656 -5.71875 5.644531 -5.878906 5.78125 -6.078125 C 5.914062 -6.285156 5.984375 -6.53125 5.984375 -6.8125 C 5.984375 -7.300781 5.832031 -7.679688 5.53125 -7.953125 C 5.226562 -8.222656 4.773438 -8.359375 4.171875 -8.359375 C 3.628906 -8.359375 3.191406 -8.21875 2.859375 -7.9375 C 2.523438 -7.65625 2.332031 -7.265625 2.28125 -6.765625 L 1.046875 -6.859375 C 1.085938 -7.285156 1.195312 -7.65625 1.375 -7.96875 C 1.5625 -8.28125 1.796875 -8.539062 2.078125 -8.75 C 2.359375 -8.957031 2.675781 -9.109375 3.03125 -9.203125 C 3.394531 -9.304688 3.78125 -9.359375 4.1875 -9.359375 C 4.726562 -9.359375 5.191406 -9.296875 5.578125 -9.171875 C 5.960938 -9.046875 6.273438 -8.875 6.515625 -8.65625 C 6.765625 -8.4375 6.945312 -8.175781 7.0625 -7.875 C 7.1875 -7.582031 7.25 -7.273438 7.25 -6.953125 C 7.25 -6.691406 7.207031 -6.441406 7.125 -6.203125 C 7.039062 -5.972656 6.914062 -5.757812 6.75 -5.5625 C 6.582031 -5.375 6.367188 -5.207031 6.109375 -5.0625 C 5.859375 -4.914062 5.566406 -4.804688 5.234375 -4.734375 L 5.234375 -4.703125 C 5.609375 -4.671875 5.9375 -4.582031 6.21875 -4.4375 C 6.5 -4.300781 6.734375 -4.132812 6.921875 -3.9375 C 7.117188 -3.738281 7.265625 -3.519531 7.359375 -3.28125 C 7.460938 -3.039062 7.515625 -2.789062 7.515625 -2.53125 Z M 7.515625 -2.53125 \"/>\n</symbol>\n<symbol overflow=\"visible\" id=\"glyph0-6\">\n<path style=\"stroke:none;\" d=\"M 6.40625 -2.1875 L 6.40625 0 L 5.171875 0 L 5.171875 -2.1875 L 0.703125 -2.1875 L 0.703125 -3.140625 L 5.046875 -9.21875 L 6.40625 -9.21875 L 6.40625 -3.15625 L 7.6875 -3.15625 L 7.6875 -2.1875 Z M 5.171875 -7.890625 L 1.75 -3.15625 L 5.171875 -3.15625 Z M 5.171875 -7.890625 \"/>\n</symbol>\n<symbol overflow=\"visible\" id=\"glyph0-7\">\n<path style=\"stroke:none;\" d=\"M 7.515625 -3.03125 C 7.515625 -2.582031 7.441406 -2.160156 7.296875 -1.765625 C 7.148438 -1.378906 6.929688 -1.046875 6.640625 -0.765625 C 6.359375 -0.484375 6.003906 -0.257812 5.578125 -0.09375 C 5.148438 0.0625 4.65625 0.140625 4.09375 0.140625 C 3.59375 0.140625 3.148438 0.0820312 2.765625 -0.03125 C 2.390625 -0.15625 2.070312 -0.320312 1.8125 -0.53125 C 1.550781 -0.738281 1.34375 -0.976562 1.1875 -1.25 C 1.039062 -1.53125 0.9375 -1.832031 0.875 -2.15625 L 2.125 -2.296875 C 2.164062 -2.117188 2.234375 -1.941406 2.328125 -1.765625 C 2.421875 -1.597656 2.546875 -1.445312 2.703125 -1.3125 C 2.859375 -1.175781 3.050781 -1.066406 3.28125 -0.984375 C 3.507812 -0.910156 3.789062 -0.875 4.125 -0.875 C 4.4375 -0.875 4.722656 -0.921875 4.984375 -1.015625 C 5.242188 -1.109375 5.46875 -1.242188 5.65625 -1.421875 C 5.84375 -1.609375 5.984375 -1.835938 6.078125 -2.109375 C 6.179688 -2.378906 6.234375 -2.679688 6.234375 -3.015625 C 6.234375 -3.285156 6.1875 -3.535156 6.09375 -3.765625 C 6 -4.003906 5.863281 -4.207031 5.6875 -4.375 C 5.507812 -4.550781 5.289062 -4.6875 5.03125 -4.78125 C 4.769531 -4.882812 4.476562 -4.9375 4.15625 -4.9375 C 3.945312 -4.9375 3.753906 -4.914062 3.578125 -4.875 C 3.410156 -4.84375 3.25 -4.796875 3.09375 -4.734375 C 2.945312 -4.671875 2.8125 -4.59375 2.6875 -4.5 C 2.570312 -4.414062 2.460938 -4.332031 2.359375 -4.25 L 1.15625 -4.25 L 1.484375 -9.21875 L 6.953125 -9.21875 L 6.953125 -8.234375 L 2.609375 -8.234375 L 2.40625 -5.328125 C 2.625 -5.492188 2.894531 -5.632812 3.21875 -5.75 C 3.550781 -5.875 3.945312 -5.9375 4.40625 -5.9375 C 4.882812 -5.9375 5.3125 -5.863281 5.6875 -5.71875 C 6.070312 -5.570312 6.398438 -5.367188 6.671875 -5.109375 C 6.941406 -4.859375 7.148438 -4.554688 7.296875 -4.203125 C 7.441406 -3.847656 7.515625 -3.457031 7.515625 -3.03125 Z M 7.515625 -3.03125 \"/>\n</symbol>\n<symbol overflow=\"visible\" id=\"glyph0-8\">\n<path style=\"stroke:none;\" d=\"M 7.4375 -4.8125 C 7.4375 -4 7.351562 -3.285156 7.1875 -2.671875 C 7.03125 -2.054688 6.800781 -1.539062 6.5 -1.125 C 6.195312 -0.707031 5.832031 -0.390625 5.40625 -0.171875 C 4.976562 0.0351562 4.488281 0.140625 3.9375 0.140625 C 3.570312 0.140625 3.238281 0.0976562 2.9375 0.015625 C 2.644531 -0.0546875 2.382812 -0.171875 2.15625 -0.328125 C 1.925781 -0.484375 1.726562 -0.6875 1.5625 -0.9375 C 1.394531 -1.195312 1.257812 -1.507812 1.15625 -1.875 L 2.34375 -2.0625 C 2.46875 -1.644531 2.664062 -1.335938 2.9375 -1.140625 C 3.207031 -0.953125 3.550781 -0.859375 3.96875 -0.859375 C 4.300781 -0.859375 4.601562 -0.929688 4.875 -1.078125 C 5.15625 -1.234375 5.390625 -1.460938 5.578125 -1.765625 C 5.773438 -2.066406 5.925781 -2.441406 6.03125 -2.890625 C 6.144531 -3.335938 6.207031 -3.851562 6.21875 -4.4375 C 6.125 -4.226562 5.992188 -4.035156 5.828125 -3.859375 C 5.660156 -3.691406 5.46875 -3.550781 5.25 -3.4375 C 5.039062 -3.320312 4.8125 -3.234375 4.5625 -3.171875 C 4.320312 -3.109375 4.078125 -3.078125 3.828125 -3.078125 C 3.390625 -3.078125 2.992188 -3.15625 2.640625 -3.3125 C 2.285156 -3.46875 1.984375 -3.679688 1.734375 -3.953125 C 1.492188 -4.234375 1.304688 -4.566406 1.171875 -4.953125 C 1.035156 -5.335938 0.96875 -5.765625 0.96875 -6.234375 C 0.96875 -6.703125 1.035156 -7.128906 1.171875 -7.515625 C 1.316406 -7.898438 1.523438 -8.226562 1.796875 -8.5 C 2.078125 -8.78125 2.414062 -8.992188 2.8125 -9.140625 C 3.207031 -9.285156 3.660156 -9.359375 4.171875 -9.359375 C 5.242188 -9.359375 6.054688 -8.976562 6.609375 -8.21875 C 7.160156 -7.46875 7.4375 -6.332031 7.4375 -4.8125 Z M 6.09375 -5.890625 C 6.09375 -6.222656 6.050781 -6.535156 5.96875 -6.828125 C 5.882812 -7.128906 5.757812 -7.394531 5.59375 -7.625 C 5.425781 -7.851562 5.21875 -8.035156 4.96875 -8.171875 C 4.726562 -8.304688 4.445312 -8.375 4.125 -8.375 C 3.832031 -8.375 3.566406 -8.320312 3.328125 -8.21875 C 3.085938 -8.113281 2.882812 -7.96875 2.71875 -7.78125 C 2.5625 -7.59375 2.4375 -7.363281 2.34375 -7.09375 C 2.257812 -6.832031 2.21875 -6.546875 2.21875 -6.234375 C 2.21875 -5.929688 2.253906 -5.644531 2.328125 -5.375 C 2.410156 -5.113281 2.53125 -4.882812 2.6875 -4.6875 C 2.851562 -4.488281 3.050781 -4.332031 3.28125 -4.21875 C 3.519531 -4.101562 3.796875 -4.046875 4.109375 -4.046875 C 4.335938 -4.046875 4.566406 -4.082031 4.796875 -4.15625 C 5.035156 -4.238281 5.25 -4.359375 5.4375 -4.515625 C 5.632812 -4.671875 5.789062 -4.863281 5.90625 -5.09375 C 6.03125 -5.320312 6.09375 -5.585938 6.09375 -5.890625 Z M 6.09375 -5.890625 \"/>\n</symbol>\n<symbol overflow=\"visible\" id=\"glyph0-9\">\n<path style=\"stroke:none;\" d=\"M 7.484375 -2.578125 C 7.484375 -2.203125 7.414062 -1.847656 7.28125 -1.515625 C 7.15625 -1.179688 6.957031 -0.890625 6.6875 -0.640625 C 6.425781 -0.398438 6.085938 -0.207031 5.671875 -0.0625 C 5.253906 0.0703125 4.765625 0.140625 4.203125 0.140625 C 3.628906 0.140625 3.132812 0.0703125 2.71875 -0.0625 C 2.3125 -0.207031 1.972656 -0.398438 1.703125 -0.640625 C 1.429688 -0.890625 1.226562 -1.175781 1.09375 -1.5 C 0.96875 -1.832031 0.90625 -2.191406 0.90625 -2.578125 C 0.90625 -2.898438 0.957031 -3.191406 1.0625 -3.453125 C 1.175781 -3.710938 1.320312 -3.9375 1.5 -4.125 C 1.675781 -4.320312 1.878906 -4.476562 2.109375 -4.59375 C 2.347656 -4.707031 2.585938 -4.785156 2.828125 -4.828125 L 2.828125 -4.859375 C 2.554688 -4.921875 2.316406 -5.019531 2.109375 -5.15625 C 1.898438 -5.300781 1.722656 -5.46875 1.578125 -5.65625 C 1.429688 -5.851562 1.320312 -6.066406 1.25 -6.296875 C 1.175781 -6.523438 1.140625 -6.757812 1.140625 -7 C 1.140625 -7.3125 1.203125 -7.609375 1.328125 -7.890625 C 1.460938 -8.171875 1.65625 -8.421875 1.90625 -8.640625 C 2.164062 -8.859375 2.484375 -9.03125 2.859375 -9.15625 C 3.234375 -9.289062 3.671875 -9.359375 4.171875 -9.359375 C 4.691406 -9.359375 5.144531 -9.289062 5.53125 -9.15625 C 5.914062 -9.03125 6.234375 -8.859375 6.484375 -8.640625 C 6.742188 -8.421875 6.929688 -8.164062 7.046875 -7.875 C 7.171875 -7.59375 7.234375 -7.296875 7.234375 -6.984375 C 7.234375 -6.742188 7.195312 -6.507812 7.125 -6.28125 C 7.050781 -6.0625 6.941406 -5.851562 6.796875 -5.65625 C 6.648438 -5.46875 6.472656 -5.300781 6.265625 -5.15625 C 6.054688 -5.019531 5.8125 -4.925781 5.53125 -4.875 L 5.53125 -4.84375 C 5.8125 -4.800781 6.066406 -4.71875 6.296875 -4.59375 C 6.535156 -4.476562 6.742188 -4.320312 6.921875 -4.125 C 7.097656 -3.9375 7.234375 -3.710938 7.328125 -3.453125 C 7.429688 -3.191406 7.484375 -2.898438 7.484375 -2.578125 Z M 5.96875 -6.921875 C 5.96875 -7.128906 5.9375 -7.328125 5.875 -7.515625 C 5.8125 -7.703125 5.707031 -7.863281 5.5625 -8 C 5.425781 -8.132812 5.242188 -8.242188 5.015625 -8.328125 C 4.785156 -8.410156 4.503906 -8.453125 4.171875 -8.453125 C 3.847656 -8.453125 3.570312 -8.410156 3.34375 -8.328125 C 3.125 -8.242188 2.941406 -8.132812 2.796875 -8 C 2.648438 -7.863281 2.546875 -7.703125 2.484375 -7.515625 C 2.421875 -7.328125 2.390625 -7.128906 2.390625 -6.921875 C 2.390625 -6.753906 2.414062 -6.578125 2.46875 -6.390625 C 2.519531 -6.203125 2.609375 -6.03125 2.734375 -5.875 C 2.867188 -5.71875 3.050781 -5.585938 3.28125 -5.484375 C 3.519531 -5.378906 3.820312 -5.328125 4.1875 -5.328125 C 4.570312 -5.328125 4.878906 -5.378906 5.109375 -5.484375 C 5.347656 -5.585938 5.53125 -5.71875 5.65625 -5.875 C 5.78125 -6.03125 5.863281 -6.203125 5.90625 -6.390625 C 5.945312 -6.578125 5.96875 -6.753906 5.96875 -6.921875 Z M 6.203125 -2.703125 C 6.203125 -2.910156 6.171875 -3.113281 6.109375 -3.3125 C 6.046875 -3.507812 5.9375 -3.691406 5.78125 -3.859375 C 5.625 -4.023438 5.414062 -4.15625 5.15625 -4.25 C 4.894531 -4.351562 4.566406 -4.40625 4.171875 -4.40625 C 3.804688 -4.40625 3.5 -4.351562 3.25 -4.25 C 3 -4.15625 2.796875 -4.023438 2.640625 -3.859375 C 2.484375 -3.691406 2.367188 -3.503906 2.296875 -3.296875 C 2.222656 -3.097656 2.1875 -2.890625 2.1875 -2.671875 C 2.1875 -2.398438 2.222656 -2.148438 2.296875 -1.921875 C 2.367188 -1.691406 2.484375 -1.492188 2.640625 -1.328125 C 2.796875 -1.160156 3.003906 -1.023438 3.265625 -0.921875 C 3.523438 -0.828125 3.84375 -0.78125 4.21875 -0.78125 C 4.59375 -0.78125 4.90625 -0.828125 5.15625 -0.921875 C 5.40625 -1.015625 5.609375 -1.144531 5.765625 -1.3125 C 5.921875 -1.488281 6.03125 -1.691406 6.09375 -1.921875 C 6.164062 -2.160156 6.203125 -2.421875 6.203125 -2.703125 Z M 6.203125 -2.703125 \"/>\n</symbol>\n<symbol overflow=\"visible\" id=\"glyph0-10\">\n<path style=\"stroke:none;\" d=\"M 7.5 -3.046875 C 7.5 -2.585938 7.429688 -2.164062 7.296875 -1.78125 C 7.160156 -1.394531 6.957031 -1.054688 6.6875 -0.765625 C 6.425781 -0.484375 6.101562 -0.257812 5.71875 -0.09375 C 5.332031 0.0625 4.882812 0.140625 4.375 0.140625 C 3.820312 0.140625 3.332031 0.0351562 2.90625 -0.171875 C 2.488281 -0.390625 2.140625 -0.691406 1.859375 -1.078125 C 1.585938 -1.472656 1.378906 -1.945312 1.234375 -2.5 C 1.097656 -3.0625 1.03125 -3.691406 1.03125 -4.390625 C 1.03125 -5.191406 1.109375 -5.898438 1.265625 -6.515625 C 1.421875 -7.140625 1.644531 -7.660156 1.9375 -8.078125 C 2.238281 -8.503906 2.601562 -8.820312 3.03125 -9.03125 C 3.457031 -9.25 3.941406 -9.359375 4.484375 -9.359375 C 4.804688 -9.359375 5.109375 -9.320312 5.390625 -9.25 C 5.679688 -9.1875 5.941406 -9.078125 6.171875 -8.921875 C 6.410156 -8.773438 6.617188 -8.578125 6.796875 -8.328125 C 6.972656 -8.078125 7.113281 -7.769531 7.21875 -7.40625 L 6.046875 -7.1875 C 5.921875 -7.601562 5.71875 -7.90625 5.4375 -8.09375 C 5.15625 -8.28125 4.832031 -8.375 4.46875 -8.375 C 4.125 -8.375 3.816406 -8.289062 3.546875 -8.125 C 3.273438 -7.96875 3.039062 -7.738281 2.84375 -7.4375 C 2.65625 -7.132812 2.507812 -6.757812 2.40625 -6.3125 C 2.300781 -5.863281 2.25 -5.34375 2.25 -4.75 C 2.476562 -5.164062 2.796875 -5.476562 3.203125 -5.6875 C 3.609375 -5.90625 4.070312 -6.015625 4.59375 -6.015625 C 5.03125 -6.015625 5.425781 -5.941406 5.78125 -5.796875 C 6.144531 -5.660156 6.453125 -5.460938 6.703125 -5.203125 C 6.953125 -4.941406 7.144531 -4.628906 7.28125 -4.265625 C 7.425781 -3.898438 7.5 -3.492188 7.5 -3.046875 Z M 6.234375 -3 C 6.234375 -3.300781 6.191406 -3.578125 6.109375 -3.828125 C 6.035156 -4.085938 5.914062 -4.304688 5.75 -4.484375 C 5.582031 -4.671875 5.378906 -4.816406 5.140625 -4.921875 C 4.898438 -5.023438 4.617188 -5.078125 4.296875 -5.078125 C 4.078125 -5.078125 3.851562 -5.035156 3.625 -4.953125 C 3.394531 -4.878906 3.1875 -4.769531 3 -4.625 C 2.820312 -4.476562 2.671875 -4.289062 2.546875 -4.0625 C 2.429688 -3.84375 2.375 -3.582031 2.375 -3.28125 C 2.375 -2.957031 2.421875 -2.648438 2.515625 -2.359375 C 2.609375 -2.066406 2.738281 -1.804688 2.90625 -1.578125 C 3.082031 -1.359375 3.289062 -1.179688 3.53125 -1.046875 C 3.769531 -0.921875 4.039062 -0.859375 4.34375 -0.859375 C 4.632812 -0.859375 4.894531 -0.90625 5.125 -1 C 5.363281 -1.101562 5.566406 -1.25 5.734375 -1.4375 C 5.898438 -1.625 6.023438 -1.847656 6.109375 -2.109375 C 6.191406 -2.378906 6.234375 -2.675781 6.234375 -3 Z M 6.234375 -3 \"/>\n</symbol>\n<symbol overflow=\"visible\" id=\"glyph0-11\">\n<path style=\"stroke:none;\" d=\"M 7.3125 -8.265625 C 6.875 -7.640625 6.457031 -6.988281 6.0625 -6.3125 C 5.675781 -5.644531 5.332031 -4.960938 5.03125 -4.265625 C 4.738281 -3.578125 4.503906 -2.875 4.328125 -2.15625 C 4.160156 -1.445312 4.078125 -0.726562 4.078125 0 L 2.796875 0 C 2.796875 -0.71875 2.882812 -1.4375 3.0625 -2.15625 C 3.25 -2.875 3.492188 -3.582031 3.796875 -4.28125 C 4.097656 -4.976562 4.445312 -5.660156 4.84375 -6.328125 C 5.25 -6.992188 5.675781 -7.628906 6.125 -8.234375 L 1.078125 -8.234375 L 1.078125 -9.21875 L 7.3125 -9.21875 Z M 7.3125 -8.265625 \"/>\n</symbol>\n</g>\n</defs>\n<g id=\"surface218\">\n<rect x=\"0\" y=\"0\" width=\"400\" height=\"400\" style=\"fill:rgb(100%,100%,100%);fill-opacity:1;stroke:none;\"/>\n<path style=\"fill:none;stroke-width:2.2;stroke-linecap:butt;stroke-linejoin:miter;stroke:rgb(0%,0%,0%);stroke-opacity:1;stroke-miterlimit:10;\" d=\"M 246.621094 261.390625 C 214.074219 260.605469 203.121094 285.371094 183.003906 306.75 \"/>\n<path style=\" stroke:none;fill-rule:nonzero;fill:rgb(0%,0%,0%);fill-opacity:1;\" d=\"M 173.226562 317.136719 L 179.628906 303.570312 L 186.378906 309.925781 L 173.226562 317.136719 \"/>\n<path style=\"fill:none;stroke-width:2.2;stroke-linecap:butt;stroke-linejoin:miter;stroke:rgb(0%,0%,0%);stroke-opacity:1;stroke-miterlimit:10;\" d=\"M 246.621094 261.390625 C 230.933594 229.492188 204.375 212.578125 170.570312 222.734375 \"/>\n<path style=\" stroke:none;fill-rule:nonzero;fill:rgb(0%,0%,0%);fill-opacity:1;\" d=\"M 156.90625 226.835938 L 169.234375 218.292969 L 171.902344 227.171875 L 156.90625 226.835938 \"/>\n<path style=\"fill:none;stroke-width:2.1;stroke-linecap:butt;stroke-linejoin:miter;stroke:rgb(0%,0%,0%);stroke-opacity:1;stroke-miterlimit:10;\" d=\"M 246.621094 261.390625 L 239.851562 198.007812 \"/>\n<path style=\" stroke:none;fill-rule:nonzero;fill:rgb(0%,0%,0%);fill-opacity:1;\" d=\"M 238.335938 183.824219 L 244.457031 197.515625 L 235.242188 198.5 L 238.335938 183.824219 \"/>\n<path style=\"fill:none;stroke-width:2;stroke-linecap:butt;stroke-linejoin:miter;stroke:rgb(74.509804%,74.509804%,74.509804%);stroke-opacity:1;stroke-miterlimit:10;\" d=\"M 246.621094 261.390625 C 269.386719 273.285156 287.316406 266.910156 307.457031 251.445312 \"/>\n<path style=\" stroke:none;fill-rule:nonzero;fill:rgb(74.509804%,74.509804%,74.509804%);fill-opacity:1;\" d=\"M 318.773438 242.757812 L 310.28125 255.121094 L 304.632812 247.769531 L 318.773438 242.757812 \"/>\n<path style=\"fill:none;stroke-width:2.3;stroke-linecap:butt;stroke-linejoin:miter;stroke:rgb(0%,0%,0%);stroke-opacity:1;stroke-miterlimit:10;\" d=\"M 163.046875 327.957031 C 203.960938 338.476562 265.90625 314.394531 256.75 289.234375 \"/>\n<path style=\" stroke:none;fill-rule:nonzero;fill:rgb(0%,0%,0%);fill-opacity:1;\" d=\"M 251.875 275.828125 L 261.105469 287.652344 L 252.394531 290.820312 L 251.875 275.828125 \"/>\n<path style=\"fill:none;stroke-width:2.1;stroke-linecap:butt;stroke-linejoin:miter;stroke:rgb(0%,0%,0%);stroke-opacity:1;stroke-miterlimit:10;\" d=\"M 163.046875 327.957031 L 148.453125 259.835938 \"/>\n<path style=\" stroke:none;fill-rule:nonzero;fill:rgb(0%,0%,0%);fill-opacity:1;\" d=\"M 145.464844 245.886719 L 152.984375 258.863281 L 143.921875 260.804688 L 145.464844 245.886719 \"/>\n<path style=\"fill:none;stroke-width:0.1;stroke-linecap:butt;stroke-linejoin:miter;stroke:rgb(0%,0%,0%);stroke-opacity:1;stroke-miterlimit:10;\" d=\"M 163.046875 327.957031 L 127.964844 360.195312 \"/>\n<path style=\" stroke:none;fill-rule:nonzero;fill:rgb(0%,0%,0%);fill-opacity:1;\" d=\"M 117.460938 369.851562 L 124.828125 356.785156 L 131.101562 363.609375 L 117.460938 369.851562 \"/>\n<path style=\"fill:none;stroke-width:0.5;stroke-linecap:butt;stroke-linejoin:miter;stroke:rgb(0%,0%,0%);stroke-opacity:1;stroke-miterlimit:10;\" d=\"M 163.046875 327.957031 L 93.894531 305.667969 \"/>\n<path style=\" stroke:none;fill-rule:nonzero;fill:rgb(0%,0%,0%);fill-opacity:1;\" d=\"M 80.316406 301.292969 L 95.316406 301.257812 L 92.472656 310.082031 L 80.316406 301.292969 \"/>\n<path style=\"fill:none;stroke-width:2.1;stroke-linecap:butt;stroke-linejoin:miter;stroke:rgb(0%,0%,0%);stroke-opacity:1;stroke-miterlimit:10;\" d=\"M 142.324219 231.21875 C 157.921875 263.3125 184.824219 281.121094 218.480469 270.375 \"/>\n<path style=\" stroke:none;fill-rule:nonzero;fill:rgb(0%,0%,0%);fill-opacity:1;\" d=\"M 232.070312 266.039062 L 219.890625 274.792969 L 217.074219 265.960938 L 232.070312 266.039062 \"/>\n<path style=\"fill:none;stroke-width:2.2;stroke-linecap:butt;stroke-linejoin:miter;stroke:rgb(0%,0%,0%);stroke-opacity:1;stroke-miterlimit:10;\" d=\"M 142.324219 231.21875 C 178.628906 239.886719 209.015625 229.382812 224.507812 195.585938 \"/>\n<path style=\" stroke:none;fill-rule:nonzero;fill:rgb(0%,0%,0%);fill-opacity:1;\" d=\"M 230.457031 182.617188 L 228.722656 197.515625 L 220.296875 193.652344 L 230.457031 182.617188 \"/>\n<path style=\"fill:none;stroke-width:0.1;stroke-linecap:butt;stroke-linejoin:miter;stroke:rgb(0%,0%,0%);stroke-opacity:1;stroke-miterlimit:10;\" d=\"M 142.324219 231.21875 L 214.910156 301.585938 \"/>\n<path style=\" stroke:none;fill-rule:nonzero;fill:rgb(0%,0%,0%);fill-opacity:1;\" d=\"M 225.152344 311.515625 L 211.683594 304.914062 L 218.132812 298.257812 L 225.152344 311.515625 \"/>\n<path style=\"fill:none;stroke-width:0.4;stroke-linecap:butt;stroke-linejoin:miter;stroke:rgb(0%,0%,0%);stroke-opacity:1;stroke-miterlimit:10;\" d=\"M 142.324219 231.21875 C 100.859375 219 78.335938 247.601562 45.121094 267.464844 \"/>\n<path style=\" stroke:none;fill-rule:nonzero;fill:rgb(0%,0%,0%);fill-opacity:1;\" d=\"M 32.875 274.789062 L 42.742188 263.488281 L 47.5 271.445312 L 32.875 274.789062 \"/>\n<path style=\"fill:none;stroke-width:0.2;stroke-linecap:butt;stroke-linejoin:miter;stroke:rgb(74.509804%,74.509804%,74.509804%);stroke-opacity:1;stroke-miterlimit:10;\" d=\"M 142.324219 231.21875 C 112.839844 233.789062 107.082031 264.9375 89.417969 278.605469 \"/>\n<path style=\" stroke:none;fill-rule:nonzero;fill:rgb(74.509804%,74.509804%,74.509804%);fill-opacity:1;\" d=\"M 78.132812 287.335938 L 86.578125 274.941406 L 92.253906 282.273438 L 78.132812 287.335938 \"/>\n<path style=\"fill:none;stroke-width:0.1;stroke-linecap:butt;stroke-linejoin:miter;stroke:rgb(0%,0%,0%);stroke-opacity:1;stroke-miterlimit:10;\" d=\"M 142.324219 231.21875 L 125.457031 178.199219 \"/>\n<path style=\" stroke:none;fill-rule:nonzero;fill:rgb(0%,0%,0%);fill-opacity:1;\" d=\"M 121.132812 164.605469 L 129.875 176.792969 L 121.042969 179.605469 L 121.132812 164.605469 \"/>\n<path style=\"fill:none;stroke-width:0.1;stroke-linecap:butt;stroke-linejoin:miter;stroke:rgb(0%,0%,0%);stroke-opacity:1;stroke-miterlimit:10;\" d=\"M 142.324219 231.21875 L 168.371094 144.65625 \"/>\n<path style=\" stroke:none;fill-rule:nonzero;fill:rgb(0%,0%,0%);fill-opacity:1;\" d=\"M 172.484375 130.996094 L 172.808594 145.992188 L 163.933594 143.320312 L 172.484375 130.996094 \"/>\n<path style=\"fill:none;stroke-width:2.3;stroke-linecap:butt;stroke-linejoin:miter;stroke:rgb(0%,0%,0%);stroke-opacity:1;stroke-miterlimit:10;\" d=\"M 236.742188 168.90625 C 201.175781 161.335938 176.109375 174.351562 157.554688 205.582031 \"/>\n<path style=\" stroke:none;fill-rule:nonzero;fill:rgb(0%,0%,0%);fill-opacity:1;\" d=\"M 150.265625 217.847656 L 153.570312 203.214844 L 161.539062 207.953125 L 150.265625 217.847656 \"/>\n<path style=\"fill:none;stroke-width:0.1;stroke-linecap:butt;stroke-linejoin:miter;stroke:rgb(74.509804%,74.509804%,74.509804%);stroke-opacity:1;stroke-miterlimit:10;\" d=\"M 236.742188 168.90625 L 290.257812 139.660156 \"/>\n<path style=\" stroke:none;fill-rule:nonzero;fill:rgb(74.509804%,74.509804%,74.509804%);fill-opacity:1;\" d=\"M 302.777344 132.820312 L 292.480469 143.730469 L 288.035156 135.59375 L 302.777344 132.820312 \"/>\n<path style=\"fill:none;stroke-width:2.2;stroke-linecap:butt;stroke-linejoin:miter;stroke:rgb(74.509804%,74.509804%,74.509804%);stroke-opacity:1;stroke-miterlimit:10;\" d=\"M 236.742188 168.90625 L 145.507812 154.785156 \"/>\n<path style=\" stroke:none;fill-rule:nonzero;fill:rgb(74.509804%,74.509804%,74.509804%);fill-opacity:1;\" d=\"M 131.410156 152.605469 L 146.21875 150.207031 L 144.800781 159.367188 L 131.410156 152.605469 \"/>\n<path style=\"fill:none;stroke-width:0.3;stroke-linecap:butt;stroke-linejoin:miter;stroke:rgb(0%,0%,0%);stroke-opacity:1;stroke-miterlimit:10;\" d=\"M 236.742188 168.90625 L 198.859375 135.867188 \"/>\n<path style=\" stroke:none;fill-rule:nonzero;fill:rgb(0%,0%,0%);fill-opacity:1;\" d=\"M 188.109375 126.492188 L 201.90625 132.375 L 195.8125 139.363281 L 188.109375 126.492188 \"/>\n<path style=\"fill:none;stroke-width:0.2;stroke-linecap:butt;stroke-linejoin:miter;stroke:rgb(74.509804%,74.509804%,74.509804%);stroke-opacity:1;stroke-miterlimit:10;\" d=\"M 236.742188 168.90625 C 266.378906 144.90625 249.824219 107.058594 259.085938 80.140625 \"/>\n<path style=\" stroke:none;fill-rule:nonzero;fill:rgb(74.509804%,74.509804%,74.509804%);fill-opacity:1;\" d=\"M 263.726562 66.652344 L 263.46875 81.652344 L 254.703125 78.632812 L 263.726562 66.652344 \"/>\n<path style=\"fill:none;stroke-width:0.1;stroke-linecap:butt;stroke-linejoin:miter;stroke:rgb(74.509804%,74.509804%,74.509804%);stroke-opacity:1;stroke-miterlimit:10;\" d=\"M 235.921875 321.957031 L 241.527344 290.210938 \"/>\n<path style=\" stroke:none;fill-rule:nonzero;fill:rgb(74.509804%,74.509804%,74.509804%);fill-opacity:1;\" d=\"M 244.011719 276.164062 L 246.09375 291.019531 L 236.964844 289.40625 L 244.011719 276.164062 \"/>\n<path style=\"fill:none;stroke-width:2.1;stroke-linecap:butt;stroke-linejoin:miter;stroke:rgb(0%,0%,0%);stroke-opacity:1;stroke-miterlimit:10;\" d=\"M 235.921875 321.957031 L 192.210938 325.554688 \"/>\n<path style=\" stroke:none;fill-rule:nonzero;fill:rgb(0%,0%,0%);fill-opacity:1;\" d=\"M 177.996094 326.726562 L 191.832031 320.933594 L 192.59375 330.175781 L 177.996094 326.726562 \"/>\n<path style=\"fill:none;stroke-width:0.2;stroke-linecap:butt;stroke-linejoin:miter;stroke:rgb(0%,0%,0%);stroke-opacity:1;stroke-miterlimit:10;\" d=\"M 235.921875 321.957031 L 133.125 368.03125 \"/>\n<path style=\" stroke:none;fill-rule:nonzero;fill:rgb(0%,0%,0%);fill-opacity:1;\" d=\"M 120.105469 373.863281 L 131.226562 363.800781 L 135.019531 372.261719 L 120.105469 373.863281 \"/>\n<path style=\"fill:none;stroke-width:2.1;stroke-linecap:butt;stroke-linejoin:miter;stroke:rgb(74.509804%,74.509804%,74.509804%);stroke-opacity:1;stroke-miterlimit:10;\" d=\"M 235.921875 321.957031 L 309.136719 253.679688 \"/>\n<path style=\" stroke:none;fill-rule:nonzero;fill:rgb(74.509804%,74.509804%,74.509804%);fill-opacity:1;\" d=\"M 319.570312 243.953125 L 312.300781 257.070312 L 305.976562 250.289062 L 319.570312 243.953125 \"/>\n<path style=\"fill:none;stroke-width:2.1;stroke-linecap:butt;stroke-linejoin:miter;stroke:rgb(0%,0%,0%);stroke-opacity:1;stroke-miterlimit:10;\" d=\"M 315.941406 125.625 C 346.566406 112.824219 343.5625 65.542969 356.304688 56.945312 \"/>\n<path style=\" stroke:none;fill-rule:nonzero;fill:rgb(0%,0%,0%);fill-opacity:1;\" d=\"M 368.132812 48.964844 L 358.898438 60.785156 L 353.714844 53.101562 L 368.132812 48.964844 \"/>\n<path style=\"fill:none;stroke-width:2.1;stroke-linecap:butt;stroke-linejoin:miter;stroke:rgb(74.509804%,74.509804%,74.509804%);stroke-opacity:1;stroke-miterlimit:10;\" d=\"M 315.941406 125.625 L 284.53125 76.835938 \"/>\n<path style=\" stroke:none;fill-rule:nonzero;fill:rgb(74.509804%,74.509804%,74.509804%);fill-opacity:1;\" d=\"M 276.808594 64.839844 L 288.425781 74.328125 L 280.632812 79.347656 L 276.808594 64.839844 \"/>\n<path style=\"fill:none;stroke-width:0.1;stroke-linecap:butt;stroke-linejoin:miter;stroke:rgb(74.509804%,74.509804%,74.509804%);stroke-opacity:1;stroke-miterlimit:10;\" d=\"M 21.328125 199.007812 L 114.042969 223.691406 \"/>\n<path style=\" stroke:none;fill-rule:nonzero;fill:rgb(74.509804%,74.509804%,74.509804%);fill-opacity:1;\" d=\"M 127.828125 227.359375 L 112.851562 228.167969 L 115.234375 219.210938 L 127.828125 227.359375 \"/>\n<path style=\"fill:none;stroke-width:2.2;stroke-linecap:butt;stroke-linejoin:miter;stroke:rgb(74.509804%,74.509804%,74.509804%);stroke-opacity:1;stroke-miterlimit:10;\" d=\"M 21.328125 199.007812 C 45.339844 215.515625 62.789062 251.363281 43.660156 265.28125 \"/>\n<path style=\" stroke:none;fill-rule:nonzero;fill:rgb(74.509804%,74.509804%,74.509804%);fill-opacity:1;\" d=\"M 32.121094 273.671875 L 40.933594 261.53125 L 46.386719 269.027344 L 32.121094 273.671875 \"/>\n<path style=\"fill:none;stroke-width:2.1;stroke-linecap:butt;stroke-linejoin:miter;stroke:rgb(0%,0%,0%);stroke-opacity:1;stroke-miterlimit:10;\" d=\"M 21.328125 199.007812 L 53.859375 270.082031 \"/>\n<path style=\" stroke:none;fill-rule:nonzero;fill:rgb(0%,0%,0%);fill-opacity:1;\" d=\"M 59.796875 283.050781 L 49.644531 272.007812 L 58.074219 268.152344 L 59.796875 283.050781 \"/>\n<path style=\"fill:none;stroke-width:0.4;stroke-linecap:butt;stroke-linejoin:miter;stroke:rgb(74.509804%,74.509804%,74.509804%);stroke-opacity:1;stroke-miterlimit:10;\" d=\"M 21.328125 199.007812 L 49.089844 114.613281 \"/>\n<path style=\" stroke:none;fill-rule:nonzero;fill:rgb(74.509804%,74.509804%,74.509804%);fill-opacity:1;\" d=\"M 53.546875 101.0625 L 53.492188 116.0625 L 44.683594 113.167969 L 53.546875 101.0625 \"/>\n<path style=\"fill:none;stroke-width:0.2;stroke-linecap:butt;stroke-linejoin:miter;stroke:rgb(0%,0%,0%);stroke-opacity:1;stroke-miterlimit:10;\" d=\"M 20 282.488281 C 70.953125 307.722656 163.351562 277.980469 154.171875 257.566406 \"/>\n<path style=\" stroke:none;fill-rule:nonzero;fill:rgb(0%,0%,0%);fill-opacity:1;\" d=\"M 148.320312 244.554688 L 158.398438 255.664062 L 149.941406 259.464844 L 148.320312 244.554688 \"/>\n<path style=\"fill:none;stroke-width:2.1;stroke-linecap:butt;stroke-linejoin:miter;stroke:rgb(74.509804%,74.509804%,74.509804%);stroke-opacity:1;stroke-miterlimit:10;\" d=\"M 20 282.488281 C 4.234375 243.300781 10.011719 205.601562 46.160156 184.546875 \"/>\n<path style=\" stroke:none;fill-rule:nonzero;fill:rgb(74.509804%,74.509804%,74.509804%);fill-opacity:1;\" d=\"M 33.832031 191.726562 L 43.828125 180.542969 L 48.492188 188.554688 L 33.832031 191.726562 \"/>\n<path style=\"fill:none;stroke-width:2.3;stroke-linecap:butt;stroke-linejoin:miter;stroke:rgb(74.509804%,74.509804%,74.509804%);stroke-opacity:1;stroke-miterlimit:10;\" d=\"M 20 282.488281 L 87.007812 358.097656 \"/>\n<path style=\" stroke:none;fill-rule:nonzero;fill:rgb(74.509804%,74.509804%,74.509804%);fill-opacity:1;\" d=\"M 96.46875 368.773438 L 83.539062 361.171875 L 90.476562 355.023438 L 96.46875 368.773438 \"/>\n<path style=\"fill:none;stroke-width:2.1;stroke-linecap:butt;stroke-linejoin:miter;stroke:rgb(74.509804%,74.509804%,74.509804%);stroke-opacity:1;stroke-miterlimit:10;\" d=\"M 106.417969 380 L 78.804688 323.027344 \"/>\n<path style=\" stroke:none;fill-rule:nonzero;fill:rgb(74.509804%,74.509804%,74.509804%);fill-opacity:1;\" d=\"M 72.582031 310.1875 L 82.976562 321.003906 L 74.632812 325.046875 L 72.582031 310.1875 \"/>\n<path style=\"fill:none;stroke-width:0.2;stroke-linecap:butt;stroke-linejoin:miter;stroke:rgb(0%,0%,0%);stroke-opacity:1;stroke-miterlimit:10;\" d=\"M 66.039062 296.691406 C 113.058594 305.273438 169.988281 246.171875 168.675781 245.460938 \"/>\n<path style=\" stroke:none;fill-rule:nonzero;fill:rgb(0%,0%,0%);fill-opacity:1;\" d=\"M 156.128906 238.679688 L 170.882812 241.386719 L 166.472656 249.539062 L 156.128906 238.679688 \"/>\n<path style=\"fill:none;stroke-width:0.2;stroke-linecap:butt;stroke-linejoin:miter;stroke:rgb(74.509804%,74.509804%,74.509804%);stroke-opacity:1;stroke-miterlimit:10;\" d=\"M 176.804688 116.632812 L 286.734375 123.738281 \"/>\n<path style=\" stroke:none;fill-rule:nonzero;fill:rgb(74.509804%,74.509804%,74.509804%);fill-opacity:1;\" d=\"M 300.972656 124.660156 L 286.4375 128.363281 L 287.035156 119.113281 L 300.972656 124.660156 \"/>\n<path style=\"fill:none;stroke-width:2.2;stroke-linecap:butt;stroke-linejoin:miter;stroke:rgb(0%,0%,0%);stroke-opacity:1;stroke-miterlimit:10;\" d=\"M 176.804688 116.632812 C 191.183594 90.226562 181.203125 70.273438 166.382812 45.226562 \"/>\n<path style=\" stroke:none;fill-rule:nonzero;fill:rgb(0%,0%,0%);fill-opacity:1;\" d=\"M 159.121094 32.949219 L 170.375 42.867188 L 162.394531 47.585938 L 159.121094 32.949219 \"/>\n<path style=\"fill:none;stroke-width:2.2;stroke-linecap:butt;stroke-linejoin:miter;stroke:rgb(74.509804%,74.509804%,74.509804%);stroke-opacity:1;stroke-miterlimit:10;\" d=\"M 176.804688 116.632812 L 86.613281 93.953125 \"/>\n<path style=\" stroke:none;fill-rule:nonzero;fill:rgb(74.509804%,74.509804%,74.509804%);fill-opacity:1;\" d=\"M 72.78125 90.472656 L 87.746094 89.457031 L 85.484375 98.449219 L 72.78125 90.472656 \"/>\n<path style=\"fill:none;stroke-width:2.1;stroke-linecap:butt;stroke-linejoin:miter;stroke:rgb(0%,0%,0%);stroke-opacity:1;stroke-miterlimit:10;\" d=\"M 151.457031 20 C 126.863281 49.992188 121.953125 109.863281 147.421875 113.007812 \"/>\n<path style=\" stroke:none;fill-rule:nonzero;fill:rgb(0%,0%,0%);fill-opacity:1;\" d=\"M 161.582031 114.753906 L 146.855469 117.605469 L 147.992188 108.40625 L 161.582031 114.753906 \"/>\n<path style=\"fill:none;stroke-width:0.1;stroke-linecap:butt;stroke-linejoin:miter;stroke:rgb(74.509804%,74.509804%,74.509804%);stroke-opacity:1;stroke-miterlimit:10;\" d=\"M 151.457031 20 L 240.46875 44.472656 \"/>\n<path style=\" stroke:none;fill-rule:nonzero;fill:rgb(74.509804%,74.509804%,74.509804%);fill-opacity:1;\" d=\"M 254.226562 48.253906 L 239.242188 48.941406 L 241.699219 40 L 254.226562 48.253906 \"/>\n<path style=\"fill:none;stroke-width:0.1;stroke-linecap:butt;stroke-linejoin:miter;stroke:rgb(74.509804%,74.509804%,74.509804%);stroke-opacity:1;stroke-miterlimit:10;\" d=\"M 58.234375 86.816406 L 96.785156 128.761719 \"/>\n<path style=\" stroke:none;fill-rule:nonzero;fill:rgb(74.509804%,74.509804%,74.509804%);fill-opacity:1;\" d=\"M 106.4375 139.265625 L 93.371094 131.898438 L 100.195312 125.625 L 106.4375 139.265625 \"/>\n<path style=\"fill:none;stroke-width:2.1;stroke-linecap:butt;stroke-linejoin:miter;stroke:rgb(74.509804%,74.509804%,74.509804%);stroke-opacity:1;stroke-miterlimit:10;\" d=\"M 58.234375 86.816406 L 127.671875 37.046875 \"/>\n<path style=\" stroke:none;fill-rule:nonzero;fill:rgb(74.509804%,74.509804%,74.509804%);fill-opacity:1;\" d=\"M 139.265625 28.738281 L 130.371094 40.816406 L 124.972656 33.28125 L 139.265625 28.738281 \"/>\n<path style=\"fill:none;stroke-width:2.2;stroke-linecap:butt;stroke-linejoin:miter;stroke:rgb(0%,0%,0%);stroke-opacity:1;stroke-miterlimit:10;\" d=\"M 330.542969 233.722656 C 307.25 218.3125 279.421875 215.671875 263.632812 237.679688 \"/>\n<path style=\" stroke:none;fill-rule:nonzero;fill:rgb(0%,0%,0%);fill-opacity:1;\" d=\"M 255.316406 249.273438 L 259.867188 234.980469 L 267.398438 240.382812 L 255.316406 249.273438 \"/>\n<path style=\"fill:none;stroke-width:0.1;stroke-linecap:butt;stroke-linejoin:miter;stroke:rgb(0%,0%,0%);stroke-opacity:1;stroke-miterlimit:10;\" d=\"M 330.542969 233.722656 L 260.820312 185.542969 \"/>\n<path style=\" stroke:none;fill-rule:nonzero;fill:rgb(0%,0%,0%);fill-opacity:1;\" d=\"M 249.082031 177.433594 L 263.453125 181.730469 L 258.183594 189.359375 L 249.082031 177.433594 \"/>\n<path style=\"fill:none;stroke-width:0.4;stroke-linecap:butt;stroke-linejoin:miter;stroke:rgb(0%,0%,0%);stroke-opacity:1;stroke-miterlimit:10;\" d=\"M 330.542969 233.722656 L 319.859375 154.628906 \"/>\n<path style=\" stroke:none;fill-rule:nonzero;fill:rgb(0%,0%,0%);fill-opacity:1;\" d=\"M 317.949219 140.492188 L 324.453125 154.007812 L 315.265625 155.25 L 317.949219 140.492188 \"/>\n<path style=\"fill:none;stroke-width:2.3;stroke-linecap:butt;stroke-linejoin:miter;stroke:rgb(0%,0%,0%);stroke-opacity:1;stroke-miterlimit:10;\" d=\"M 380 40.953125 C 328.984375 44.238281 289.445312 121.167969 286.785156 120.722656 \"/>\n<path style=\" stroke:none;fill-rule:nonzero;fill:rgb(0%,0%,0%);fill-opacity:1;\" d=\"M 300.851562 123.089844 L 286.015625 125.292969 L 287.554688 116.152344 L 300.851562 123.089844 \"/>\n<path style=\"fill:none;stroke-width:2.1;stroke-linecap:butt;stroke-linejoin:miter;stroke:rgb(74.509804%,74.509804%,74.509804%);stroke-opacity:1;stroke-miterlimit:10;\" d=\"M 380 40.953125 L 297.804688 49.28125 \"/>\n<path style=\" stroke:none;fill-rule:nonzero;fill:rgb(74.509804%,74.509804%,74.509804%);fill-opacity:1;\" d=\"M 283.613281 50.71875 L 297.339844 44.667969 L 298.273438 53.890625 L 283.613281 50.71875 \"/>\n<path style=\"fill:none;stroke-width:0.4;stroke-linecap:butt;stroke-linejoin:miter;stroke:rgb(0%,0%,0%);stroke-opacity:1;stroke-miterlimit:10;\" d=\"M 268.6875 52.230469 C 221.960938 73.171875 187.621094 152.582031 209.128906 159.730469 \"/>\n<path style=\" stroke:none;fill-rule:nonzero;fill:rgb(0%,0%,0%);fill-opacity:1;\" d=\"M 222.664062 164.230469 L 207.664062 164.128906 L 210.589844 155.332031 L 222.664062 164.230469 \"/>\n<path style=\"fill-rule:nonzero;fill:rgb(0%,0%,100%);fill-opacity:1;stroke-width:1;stroke-linecap:butt;stroke-linejoin:miter;stroke:rgb(0%,0%,0%);stroke-opacity:1;stroke-miterlimit:10;\" d=\"M 261.621094 261.390625 C 261.621094 269.675781 254.90625 276.390625 246.621094 276.390625 C 238.335938 276.390625 231.621094 269.675781 231.621094 261.390625 C 231.621094 253.109375 238.335938 246.390625 246.621094 246.390625 C 254.90625 246.390625 261.621094 253.109375 261.621094 261.390625 \"/>\n<path style=\"fill-rule:nonzero;fill:rgb(0%,0%,100%);fill-opacity:1;stroke-width:1;stroke-linecap:butt;stroke-linejoin:miter;stroke:rgb(0%,0%,0%);stroke-opacity:1;stroke-miterlimit:10;\" d=\"M 178.046875 327.957031 C 178.046875 336.242188 171.328125 342.957031 163.046875 342.957031 C 154.761719 342.957031 148.046875 336.242188 148.046875 327.957031 C 148.046875 319.671875 154.761719 312.957031 163.046875 312.957031 C 171.328125 312.957031 178.046875 319.671875 178.046875 327.957031 \"/>\n<path style=\"fill-rule:nonzero;fill:rgb(0%,0%,100%);fill-opacity:1;stroke-width:1;stroke-linecap:butt;stroke-linejoin:miter;stroke:rgb(0%,0%,0%);stroke-opacity:1;stroke-miterlimit:10;\" d=\"M 157.324219 231.21875 C 157.324219 239.503906 150.609375 246.21875 142.324219 246.21875 C 134.039062 246.21875 127.324219 239.503906 127.324219 231.21875 C 127.324219 222.933594 134.039062 216.21875 142.324219 216.21875 C 150.609375 216.21875 157.324219 222.933594 157.324219 231.21875 \"/>\n<path style=\"fill-rule:nonzero;fill:rgb(0%,0%,100%);fill-opacity:1;stroke-width:1;stroke-linecap:butt;stroke-linejoin:miter;stroke:rgb(0%,0%,0%);stroke-opacity:1;stroke-miterlimit:10;\" d=\"M 251.742188 168.90625 C 251.742188 177.191406 245.027344 183.90625 236.742188 183.90625 C 228.457031 183.90625 221.742188 177.191406 221.742188 168.90625 C 221.742188 160.625 228.457031 153.90625 236.742188 153.90625 C 245.027344 153.90625 251.742188 160.625 251.742188 168.90625 \"/>\n<path style=\"fill-rule:nonzero;fill:rgb(100%,0%,0%);fill-opacity:1;stroke-width:1;stroke-linecap:butt;stroke-linejoin:miter;stroke:rgb(0%,0%,0%);stroke-opacity:1;stroke-miterlimit:10;\" d=\"M 345.542969 233.722656 C 345.542969 242.003906 338.824219 248.722656 330.542969 248.722656 C 322.257812 248.722656 315.542969 242.003906 315.542969 233.722656 C 315.542969 225.4375 322.257812 218.722656 330.542969 218.722656 C 338.824219 218.722656 345.542969 225.4375 345.542969 233.722656 \"/>\n<path style=\"fill-rule:nonzero;fill:rgb(100%,75.294118%,79.607843%);fill-opacity:1;stroke-width:1;stroke-linecap:butt;stroke-linejoin:miter;stroke:rgb(0%,0%,0%);stroke-opacity:1;stroke-miterlimit:10;\" d=\"M 121.417969 380 C 121.417969 388.285156 114.703125 395 106.417969 395 C 98.132812 395 91.417969 388.285156 91.417969 380 C 91.417969 371.714844 98.132812 365 106.417969 365 C 114.703125 365 121.417969 371.714844 121.417969 380 \"/>\n<path style=\"fill-rule:nonzero;fill:rgb(100%,75.294118%,79.607843%);fill-opacity:1;stroke-width:1;stroke-linecap:butt;stroke-linejoin:miter;stroke:rgb(0%,0%,0%);stroke-opacity:1;stroke-miterlimit:10;\" d=\"M 81.039062 296.691406 C 81.039062 304.976562 74.324219 311.691406 66.039062 311.691406 C 57.753906 311.691406 51.039062 304.976562 51.039062 296.691406 C 51.039062 288.40625 57.753906 281.691406 66.039062 281.691406 C 74.324219 281.691406 81.039062 288.40625 81.039062 296.691406 \"/>\n<path style=\"fill-rule:nonzero;fill:rgb(0%,0%,100%);fill-opacity:1;stroke-width:1;stroke-linecap:butt;stroke-linejoin:miter;stroke:rgb(0%,0%,0%);stroke-opacity:1;stroke-miterlimit:10;\" d=\"M 250.921875 321.957031 C 250.921875 330.238281 244.207031 336.957031 235.921875 336.957031 C 227.636719 336.957031 220.921875 330.238281 220.921875 321.957031 C 220.921875 313.671875 227.636719 306.957031 235.921875 306.957031 C 244.207031 306.957031 250.921875 313.671875 250.921875 321.957031 \"/>\n<path style=\"fill-rule:nonzero;fill:rgb(100%,75.294118%,79.607843%);fill-opacity:1;stroke-width:1;stroke-linecap:butt;stroke-linejoin:miter;stroke:rgb(0%,0%,0%);stroke-opacity:1;stroke-miterlimit:10;\" d=\"M 35 282.488281 C 35 290.773438 28.285156 297.488281 20 297.488281 C 11.714844 297.488281 5 290.773438 5 282.488281 C 5 274.207031 11.714844 267.488281 20 267.488281 C 28.285156 267.488281 35 274.207031 35 282.488281 \"/>\n<path style=\"fill-rule:nonzero;fill:rgb(100%,75.294118%,79.607843%);fill-opacity:1;stroke-width:1;stroke-linecap:butt;stroke-linejoin:miter;stroke:rgb(0%,0%,0%);stroke-opacity:1;stroke-miterlimit:10;\" d=\"M 131.585938 150.308594 C 131.585938 158.59375 124.871094 165.308594 116.585938 165.308594 C 108.304688 165.308594 101.585938 158.59375 101.585938 150.308594 C 101.585938 142.027344 108.304688 135.308594 116.585938 135.308594 C 124.871094 135.308594 131.585938 142.027344 131.585938 150.308594 \"/>\n<path style=\"fill-rule:nonzero;fill:rgb(100%,0%,0%);fill-opacity:1;stroke-width:1;stroke-linecap:butt;stroke-linejoin:miter;stroke:rgb(0%,0%,0%);stroke-opacity:1;stroke-miterlimit:10;\" d=\"M 191.804688 116.632812 C 191.804688 124.917969 185.089844 131.632812 176.804688 131.632812 C 168.519531 131.632812 161.804688 124.917969 161.804688 116.632812 C 161.804688 108.347656 168.519531 101.632812 176.804688 101.632812 C 185.089844 101.632812 191.804688 108.347656 191.804688 116.632812 \"/>\n<path style=\"fill-rule:nonzero;fill:rgb(0%,0%,100%);fill-opacity:1;stroke-width:1;stroke-linecap:butt;stroke-linejoin:miter;stroke:rgb(0%,0%,0%);stroke-opacity:1;stroke-miterlimit:10;\" d=\"M 330.941406 125.625 C 330.941406 133.910156 324.226562 140.625 315.941406 140.625 C 307.65625 140.625 300.941406 133.910156 300.941406 125.625 C 300.941406 117.34375 307.65625 110.625 315.941406 110.625 C 324.226562 110.625 330.941406 117.34375 330.941406 125.625 \"/>\n<path style=\"fill-rule:nonzero;fill:rgb(100%,0%,0%);fill-opacity:1;stroke-width:1;stroke-linecap:butt;stroke-linejoin:miter;stroke:rgb(0%,0%,0%);stroke-opacity:1;stroke-miterlimit:10;\" d=\"M 283.6875 52.230469 C 283.6875 60.511719 276.972656 67.230469 268.6875 67.230469 C 260.402344 67.230469 253.6875 60.511719 253.6875 52.230469 C 253.6875 43.945312 260.402344 37.230469 268.6875 37.230469 C 276.972656 37.230469 283.6875 43.945312 283.6875 52.230469 \"/>\n<path style=\"fill-rule:nonzero;fill:rgb(100%,0%,0%);fill-opacity:1;stroke-width:1;stroke-linecap:butt;stroke-linejoin:miter;stroke:rgb(0%,0%,0%);stroke-opacity:1;stroke-miterlimit:10;\" d=\"M 395 40.953125 C 395 49.238281 388.285156 55.953125 380 55.953125 C 371.714844 55.953125 365 49.238281 365 40.953125 C 365 32.667969 371.714844 25.953125 380 25.953125 C 388.285156 25.953125 395 32.667969 395 40.953125 \"/>\n<path style=\"fill-rule:nonzero;fill:rgb(100%,75.294118%,79.607843%);fill-opacity:1;stroke-width:1;stroke-linecap:butt;stroke-linejoin:miter;stroke:rgb(0%,0%,0%);stroke-opacity:1;stroke-miterlimit:10;\" d=\"M 36.328125 199.007812 C 36.328125 207.292969 29.613281 214.007812 21.328125 214.007812 C 13.042969 214.007812 6.328125 207.292969 6.328125 199.007812 C 6.328125 190.726562 13.042969 184.007812 21.328125 184.007812 C 29.613281 184.007812 36.328125 190.726562 36.328125 199.007812 \"/>\n<path style=\"fill-rule:nonzero;fill:rgb(100%,0%,0%);fill-opacity:1;stroke-width:1;stroke-linecap:butt;stroke-linejoin:miter;stroke:rgb(0%,0%,0%);stroke-opacity:1;stroke-miterlimit:10;\" d=\"M 73.234375 86.816406 C 73.234375 95.097656 66.515625 101.816406 58.234375 101.816406 C 49.949219 101.816406 43.234375 95.097656 43.234375 86.816406 C 43.234375 78.53125 49.949219 71.816406 58.234375 71.816406 C 66.515625 71.816406 73.234375 78.53125 73.234375 86.816406 \"/>\n<path style=\"fill-rule:nonzero;fill:rgb(100%,0%,0%);fill-opacity:1;stroke-width:1;stroke-linecap:butt;stroke-linejoin:miter;stroke:rgb(0%,0%,0%);stroke-opacity:1;stroke-miterlimit:10;\" d=\"M 166.457031 20 C 166.457031 28.285156 159.742188 35 151.457031 35 C 143.175781 35 136.457031 28.285156 136.457031 20 C 136.457031 11.714844 143.175781 5 151.457031 5 C 159.742188 5 166.457031 11.714844 166.457031 20 \"/>\n<g style=\"fill:rgb(0%,0%,0%);fill-opacity:1;\">\n  <use xlink:href=\"#glyph0-1\" x=\"233.785156\" y=\"268.175781\"/>\n  <use xlink:href=\"#glyph0-2\" x=\"242.186523\" y=\"268.175781\"/>\n  <use xlink:href=\"#glyph0-3\" x=\"250.587891\" y=\"268.175781\"/>\n</g>\n<g style=\"fill:rgb(0%,0%,0%);fill-opacity:1;\">\n  <use xlink:href=\"#glyph0-1\" x=\"150.367188\" y=\"334.742188\"/>\n  <use xlink:href=\"#glyph0-2\" x=\"158.768555\" y=\"334.742188\"/>\n  <use xlink:href=\"#glyph0-4\" x=\"167.169922\" y=\"334.742188\"/>\n</g>\n<g style=\"fill:rgb(0%,0%,0%);fill-opacity:1;\">\n  <use xlink:href=\"#glyph0-1\" x=\"129.59375\" y=\"238.003906\"/>\n  <use xlink:href=\"#glyph0-2\" x=\"137.995117\" y=\"238.003906\"/>\n  <use xlink:href=\"#glyph0-5\" x=\"146.396484\" y=\"238.003906\"/>\n</g>\n<g style=\"fill:rgb(0%,0%,0%);fill-opacity:1;\">\n  <use xlink:href=\"#glyph0-1\" x=\"223.925781\" y=\"175.691406\"/>\n  <use xlink:href=\"#glyph0-2\" x=\"232.327148\" y=\"175.691406\"/>\n  <use xlink:href=\"#glyph0-6\" x=\"240.728516\" y=\"175.691406\"/>\n</g>\n<g style=\"fill:rgb(0%,0%,0%);fill-opacity:1;\">\n  <use xlink:href=\"#glyph0-1\" x=\"317.8125\" y=\"240.433594\"/>\n  <use xlink:href=\"#glyph0-3\" x=\"326.213867\" y=\"240.433594\"/>\n  <use xlink:href=\"#glyph0-7\" x=\"334.615234\" y=\"240.433594\"/>\n</g>\n<g style=\"fill:rgb(0%,0%,0%);fill-opacity:1;\">\n  <use xlink:href=\"#glyph0-1\" x=\"93.730469\" y=\"386.785156\"/>\n  <use xlink:href=\"#glyph0-2\" x=\"102.131836\" y=\"386.785156\"/>\n  <use xlink:href=\"#glyph0-8\" x=\"110.533203\" y=\"386.785156\"/>\n</g>\n<g style=\"fill:rgb(0%,0%,0%);fill-opacity:1;\">\n  <use xlink:href=\"#glyph0-1\" x=\"53.296875\" y=\"303.476562\"/>\n  <use xlink:href=\"#glyph0-3\" x=\"61.698242\" y=\"303.476562\"/>\n  <use xlink:href=\"#glyph0-2\" x=\"70.099609\" y=\"303.476562\"/>\n</g>\n<g style=\"fill:rgb(0%,0%,0%);fill-opacity:1;\">\n  <use xlink:href=\"#glyph0-1\" x=\"223.191406\" y=\"328.738281\"/>\n  <use xlink:href=\"#glyph0-2\" x=\"231.592773\" y=\"328.738281\"/>\n  <use xlink:href=\"#glyph0-7\" x=\"239.994141\" y=\"328.738281\"/>\n</g>\n<g style=\"fill:rgb(0%,0%,0%);fill-opacity:1;\">\n  <use xlink:href=\"#glyph0-1\" x=\"7.289062\" y=\"289.273438\"/>\n  <use xlink:href=\"#glyph0-2\" x=\"15.69043\" y=\"289.273438\"/>\n  <use xlink:href=\"#glyph0-9\" x=\"24.091797\" y=\"289.273438\"/>\n</g>\n<g style=\"fill:rgb(0%,0%,0%);fill-opacity:1;\">\n  <use xlink:href=\"#glyph0-1\" x=\"103.753906\" y=\"157.023438\"/>\n  <use xlink:href=\"#glyph0-3\" x=\"112.155273\" y=\"157.023438\"/>\n  <use xlink:href=\"#glyph0-3\" x=\"120.556641\" y=\"157.023438\"/>\n</g>\n<g style=\"fill:rgb(0%,0%,0%);fill-opacity:1;\">\n  <use xlink:href=\"#glyph0-1\" x=\"164.128906\" y=\"123.417969\"/>\n  <use xlink:href=\"#glyph0-3\" x=\"172.530273\" y=\"123.417969\"/>\n  <use xlink:href=\"#glyph0-4\" x=\"180.931641\" y=\"123.417969\"/>\n</g>\n<g style=\"fill:rgb(0%,0%,0%);fill-opacity:1;\">\n  <use xlink:href=\"#glyph0-1\" x=\"303.222656\" y=\"132.410156\"/>\n  <use xlink:href=\"#glyph0-2\" x=\"311.624023\" y=\"132.410156\"/>\n  <use xlink:href=\"#glyph0-10\" x=\"320.025391\" y=\"132.410156\"/>\n</g>\n<g style=\"fill:rgb(0%,0%,0%);fill-opacity:1;\">\n  <use xlink:href=\"#glyph0-1\" x=\"256.0625\" y=\"58.941406\"/>\n  <use xlink:href=\"#glyph0-3\" x=\"264.463867\" y=\"58.941406\"/>\n  <use xlink:href=\"#glyph0-11\" x=\"272.865234\" y=\"58.941406\"/>\n</g>\n<g style=\"fill:rgb(0%,0%,0%);fill-opacity:1;\">\n  <use xlink:href=\"#glyph0-1\" x=\"367.28125\" y=\"47.738281\"/>\n  <use xlink:href=\"#glyph0-3\" x=\"375.682617\" y=\"47.738281\"/>\n  <use xlink:href=\"#glyph0-10\" x=\"384.083984\" y=\"47.738281\"/>\n</g>\n<g style=\"fill:rgb(0%,0%,0%);fill-opacity:1;\">\n  <use xlink:href=\"#glyph0-1\" x=\"8.703125\" y=\"205.792969\"/>\n  <use xlink:href=\"#glyph0-2\" x=\"17.104492\" y=\"205.792969\"/>\n  <use xlink:href=\"#glyph0-11\" x=\"25.505859\" y=\"205.792969\"/>\n</g>\n<g style=\"fill:rgb(0%,0%,0%);fill-opacity:1;\">\n  <use xlink:href=\"#glyph0-1\" x=\"45.414062\" y=\"93.527344\"/>\n  <use xlink:href=\"#glyph0-3\" x=\"53.81543\" y=\"93.527344\"/>\n  <use xlink:href=\"#glyph0-6\" x=\"62.216797\" y=\"93.527344\"/>\n</g>\n<g style=\"fill:rgb(0%,0%,0%);fill-opacity:1;\">\n  <use xlink:href=\"#glyph0-1\" x=\"138.730469\" y=\"26.785156\"/>\n  <use xlink:href=\"#glyph0-3\" x=\"147.131836\" y=\"26.785156\"/>\n  <use xlink:href=\"#glyph0-5\" x=\"155.533203\" y=\"26.785156\"/>\n</g>\n</g>\n</svg>\n"
     },
     "metadata": {
      "image/svg+xml": {
       "isolated": true
      }
     },
     "execution_count": 128
    }
   ]
  },
  {
   "cell_type": "code",
   "source": [],
   "metadata": {
    "id": "HPKgcNr5sGxa"
   },
   "execution_count": null,
   "outputs": []
  }
 ]
}
