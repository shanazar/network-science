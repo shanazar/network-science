{
 "nbformat": 4,
 "nbformat_minor": 0,
 "metadata": {
  "colab": {
   "provenance": [],
   "collapsed_sections": [
    "1Wtx7nkgG7d3",
    "y5Yn4BjipF3d",
    "z8-AgYruG7d8",
    "HCXHAiTEG7eC",
    "ZAIv0tT2G7eF",
    "z98rpcfcG7eJ"
   ]
  },
  "kernelspec": {
   "display_name": "Python 3",
   "language": "python",
   "name": "python3"
  },
  "language_info": {
   "codemirror_mode": {
    "name": "ipython",
    "version": 3
   },
   "file_extension": ".py",
   "mimetype": "text/x-python",
   "name": "python",
   "nbconvert_exporter": "python",
   "pygments_lexer": "ipython3",
   "version": "3.9.2"
  }
 },
 "cells": [
  {
   "cell_type": "markdown",
   "metadata": {
    "id": "kF9wFG4bMonS"
   },
   "source": [
    "\n",
    "<h1><center> <font color='black'>  Network Science (LTAT.02.011) - Homework - 01  </font></center></h1>\n",
    "<h2><center> <font color='black'> Introduction to Network Analysis</font></center></h3>\n",
    "<h2><center> <font color='black'> University of Tartu - 2024</font></center></h3>\n"
   ]
  },
  {
   "cell_type": "markdown",
   "metadata": {
    "id": "wvt4ACYmMonb"
   },
   "source": [
    "================================================================================================================"
   ]
  },
  {
   "cell_type": "markdown",
   "metadata": {
    "id": "IPfsIG7UEce-"
   },
   "source": [
    "# Homework instructions"
   ]
  },
  {
   "cell_type": "markdown",
   "metadata": {
    "id": "16vIDo5rEfk-"
   },
   "source": [
    "- This homework should be done individually or in group of 2 (max).\n",
    "\n",
    "- Please provide the names and student IDs of the team-members in the field \"Student info\" below. If you are not working in a team please insert only your name and student ID.\n",
    "\n",
    "- Only one of the teammates should submit the homework. We will grade the homework and the marks and feedback is applied for both the team members. So please communicate with your team member about marks and feedback if you are submitting the homework.\n",
    "\n",
    "- The accepted submission format is .ipynb file. Please upload the file on moodle.\n",
    "\n",
    "- The submission will automatically close on **<font color='red'>27 March 2024 at 23:59 pm</font>**, so please make sure you have enough time to submit the homework.\n",
    "\n",
    "- You do not necessarily need to work on Colab. Especially as the size and the complexity of datasets will increase through the course, you can install jupyter notebooks locally and work from there.\n",
    "\n",
    "- If you do not understand what a question is asking for, please ask in Moodle.\n"
   ]
  },
  {
   "cell_type": "markdown",
   "metadata": {
    "id": "4v9--6zLEtD0"
   },
   "source": [
    "**<h2><font color='red'>Student info:</font></h2>**\n",
    "\n",
    "\n",
    "<font color='red'>Full name: </font>Kristjan Lõhmus\n",
    "\n",
    "<font color='red'>Student ID: </font>B65854\n",
    "\n"
   ]
  },
  {
   "cell_type": "markdown",
   "metadata": {
    "id": "O3RaLGGrRU0M"
   },
   "source": [
    "# Dataset details:\n",
    "**The network data consists of trading countries. There are two files. The first file, *nodes.csv* file has information about the countries where each row consists of node id and the corresponding country name. The second file *edges.csv* contains information about trading countries. Each row represents two countries which trade which each other.**\n",
    "\n"
   ]
  },
  {
   "cell_type": "markdown",
   "metadata": {
    "id": "S_iUr47MMonk"
   },
   "source": [
    "# Libraries\n"
   ]
  },
  {
   "cell_type": "markdown",
   "source": [],
   "metadata": {
    "collapsed": false
   }
  },
  {
   "cell_type": "code",
   "source": [
    "# Installing additional dependencies\n",
    "!pip install cairocffi --quiet\n",
    "!pip install python-igraph --quiet\n",
    "!pip install networkx --quiet\n",
    "!pip install matplotlib --quiet\n",
    "!pip install pandas --quiet"
   ],
   "metadata": {
    "id": "LyW1BCzJRB_I",
    "ExecuteTime": {
     "end_time": "2024-03-19T12:12:52.864742Z",
     "start_time": "2024-03-19T12:12:43.853507Z"
    }
   },
   "execution_count": 1,
   "outputs": [
    {
     "name": "stderr",
     "output_type": "stream",
     "text": [
      "\n",
      "[notice] A new release of pip is available: 23.2.1 -> 24.0\n",
      "[notice] To update, run: c:\\users\\kristjanlõhmus\\appdata\\local\\programs\\python\\python38\\python.exe -m pip install --upgrade pip\n",
      "\n",
      "[notice] A new release of pip is available: 23.2.1 -> 24.0\n",
      "[notice] To update, run: c:\\users\\kristjanlõhmus\\appdata\\local\\programs\\python\\python38\\python.exe -m pip install --upgrade pip\n",
      "\n",
      "[notice] A new release of pip is available: 23.2.1 -> 24.0\n",
      "[notice] To update, run: c:\\users\\kristjanlõhmus\\appdata\\local\\programs\\python\\python38\\python.exe -m pip install --upgrade pip\n",
      "\n",
      "[notice] A new release of pip is available: 23.2.1 -> 24.0\n",
      "[notice] To update, run: c:\\users\\kristjanlõhmus\\appdata\\local\\programs\\python\\python38\\python.exe -m pip install --upgrade pip\n",
      "\n",
      "[notice] A new release of pip is available: 23.2.1 -> 24.0\n",
      "[notice] To update, run: c:\\users\\kristjanlõhmus\\appdata\\local\\programs\\python\\python38\\python.exe -m pip install --upgrade pip\n"
     ]
    }
   ]
  },
  {
   "cell_type": "code",
   "metadata": {
    "id": "VLehHD7rMonp",
    "ExecuteTime": {
     "end_time": "2024-03-19T12:12:54.510254Z",
     "start_time": "2024-03-19T12:12:52.867602Z"
    }
   },
   "source": [
    "# Importing libraries\n",
    "import igraph as ig\n",
    "import networkx as nx\n",
    "from networkx.algorithms import community\n",
    "import pandas as pd\n",
    "import matplotlib.pyplot as plt"
   ],
   "execution_count": 2,
   "outputs": []
  },
  {
   "cell_type": "markdown",
   "metadata": {
    "id": "1Wtx7nkgG7d3"
   },
   "source": [
    "# Reading the datasets"
   ]
  },
  {
   "cell_type": "code",
   "metadata": {
    "id": "nQYvKAJfG7d3",
    "ExecuteTime": {
     "end_time": "2024-03-19T12:12:54.571803Z",
     "start_time": "2024-03-19T12:12:54.511609Z"
    }
   },
   "source": [
    "nodes = pd.read_csv('nodes.csv')\n",
    "edges = pd.read_csv('edges.csv')"
   ],
   "execution_count": 3,
   "outputs": []
  },
  {
   "cell_type": "code",
   "metadata": {
    "id": "3KdqTWsZG7d4",
    "ExecuteTime": {
     "end_time": "2024-03-19T12:12:54.587233Z",
     "start_time": "2024-03-19T12:12:54.574443Z"
    }
   },
   "source": [
    "print('Nodes dataset dimension:', nodes.shape, '\\nEdges dataset dimension:', edges.shape)"
   ],
   "execution_count": 4,
   "outputs": [
    {
     "name": "stdout",
     "output_type": "stream",
     "text": [
      "Nodes dataset dimension: (214, 2) \n",
      "Edges dataset dimension: (318346, 2)\n"
     ]
    }
   ]
  },
  {
   "cell_type": "code",
   "metadata": {
    "id": "tpYttlrIG7d5",
    "ExecuteTime": {
     "end_time": "2024-03-19T12:12:54.617781Z",
     "start_time": "2024-03-19T12:12:54.591539Z"
    }
   },
   "source": [
    "nodes.head()"
   ],
   "execution_count": 5,
   "outputs": [
    {
     "data": {
      "text/plain": "   id         Name\n0   1  Afghanistan\n1   2    Australia\n2   3      Austria\n3   4      Belgium\n4   5       Brazil",
      "text/html": "<div>\n<style scoped>\n    .dataframe tbody tr th:only-of-type {\n        vertical-align: middle;\n    }\n\n    .dataframe tbody tr th {\n        vertical-align: top;\n    }\n\n    .dataframe thead th {\n        text-align: right;\n    }\n</style>\n<table border=\"1\" class=\"dataframe\">\n  <thead>\n    <tr style=\"text-align: right;\">\n      <th></th>\n      <th>id</th>\n      <th>Name</th>\n    </tr>\n  </thead>\n  <tbody>\n    <tr>\n      <th>0</th>\n      <td>1</td>\n      <td>Afghanistan</td>\n    </tr>\n    <tr>\n      <th>1</th>\n      <td>2</td>\n      <td>Australia</td>\n    </tr>\n    <tr>\n      <th>2</th>\n      <td>3</td>\n      <td>Austria</td>\n    </tr>\n    <tr>\n      <th>3</th>\n      <td>4</td>\n      <td>Belgium</td>\n    </tr>\n    <tr>\n      <th>4</th>\n      <td>5</td>\n      <td>Brazil</td>\n    </tr>\n  </tbody>\n</table>\n</div>"
     },
     "execution_count": 5,
     "metadata": {},
     "output_type": "execute_result"
    }
   ]
  },
  {
   "cell_type": "code",
   "metadata": {
    "id": "iGJn1wpfG7d5",
    "ExecuteTime": {
     "end_time": "2024-03-19T12:12:54.633940Z",
     "start_time": "2024-03-19T12:12:54.620181Z"
    }
   },
   "source": [
    "edges.head()"
   ],
   "execution_count": 6,
   "outputs": [
    {
     "data": {
      "text/plain": "   from  to\n0     2   1\n1     2   2\n2     2   3\n3     2   4\n4     2   6",
      "text/html": "<div>\n<style scoped>\n    .dataframe tbody tr th:only-of-type {\n        vertical-align: middle;\n    }\n\n    .dataframe tbody tr th {\n        vertical-align: top;\n    }\n\n    .dataframe thead th {\n        text-align: right;\n    }\n</style>\n<table border=\"1\" class=\"dataframe\">\n  <thead>\n    <tr style=\"text-align: right;\">\n      <th></th>\n      <th>from</th>\n      <th>to</th>\n    </tr>\n  </thead>\n  <tbody>\n    <tr>\n      <th>0</th>\n      <td>2</td>\n      <td>1</td>\n    </tr>\n    <tr>\n      <th>1</th>\n      <td>2</td>\n      <td>2</td>\n    </tr>\n    <tr>\n      <th>2</th>\n      <td>2</td>\n      <td>3</td>\n    </tr>\n    <tr>\n      <th>3</th>\n      <td>2</td>\n      <td>4</td>\n    </tr>\n    <tr>\n      <th>4</th>\n      <td>2</td>\n      <td>6</td>\n    </tr>\n  </tbody>\n</table>\n</div>"
     },
     "execution_count": 6,
     "metadata": {},
     "output_type": "execute_result"
    }
   ]
  },
  {
   "cell_type": "markdown",
   "metadata": {
    "id": "y5Yn4BjipF3d"
   },
   "source": [
    "# 1. Network creation (1.5 points)"
   ]
  },
  {
   "cell_type": "markdown",
   "metadata": {
    "id": "SaLHaHm2u6n8"
   },
   "source": [
    "**1.1. Create undirected and unweighted network using nodes and edges datasets (0.25 point)**\n",
    "\n",
    "<font color='red'>How you should answer the following questions: In the `#TODO` cell you have to write the code representing your solution.</font>"
   ]
  },
  {
   "cell_type": "code",
   "metadata": {
    "id": "-gUBmUIxG7d6",
    "ExecuteTime": {
     "end_time": "2024-03-19T12:12:55.452555Z",
     "start_time": "2024-03-19T12:12:54.636957Z"
    }
   },
   "source": [
    "\"\"\"\n",
    "Hint: Use igraph or networkx to create a correct graph type.\n",
    "\"\"\"\n",
    "G_unweighted_undirected = nx.from_pandas_edgelist(edges, source='from', target='to',edge_attr=None)\n",
    "nx.draw(G_unweighted_undirected)"
   ],
   "execution_count": 7,
   "outputs": [
    {
     "data": {
      "text/plain": "<Figure size 640x480 with 1 Axes>",
      "image/png": "[encoded data removed]"
     },
     "metadata": {},
     "output_type": "display_data"
    }
   ]
  },
  {
   "cell_type": "markdown",
   "metadata": {
    "id": "FANOIPpu_Vbq"
   },
   "source": [
    "**1.2. Create undirected and weighted network using nodes and edges datasets (0.25 point)**"
   ]
  },
  {
   "cell_type": "code",
   "metadata": {
    "id": "EMbYWjBxG7d6",
    "ExecuteTime": {
     "end_time": "2024-03-19T12:12:55.931220Z",
     "start_time": "2024-03-19T12:12:55.455616Z"
    }
   },
   "source": [
    "'''\n",
    "Hint: Create \"weight\" column in the \"edges\" dataframe by grouping on \"from\" and \"to\" columns.\n",
    "'''\n",
    "edges = edges.groupby(['from', 'to']).size().reset_index(name='weight')\n",
    "G_weighted_undirected = nx.from_pandas_edgelist(edges, source='from', target='to',edge_attr=True)\n",
    "nx.draw(G_weighted_undirected)"
   ],
   "execution_count": 8,
   "outputs": [
    {
     "data": {
      "text/plain": "<Figure size 640x480 with 1 Axes>",
      "image/png": "[encoded data removed]"
     },
     "metadata": {},
     "output_type": "display_data"
    }
   ]
  },
  {
   "cell_type": "markdown",
   "metadata": {
    "id": "h4vKYcyb_dZ-"
   },
   "source": [
    "**1.3. Create directed and unweighted network using nodes and edges datasets (0.25 point)**"
   ]
  },
  {
   "cell_type": "code",
   "metadata": {
    "id": "Ya6C7ns4G7d7",
    "ExecuteTime": {
     "end_time": "2024-03-19T12:13:48.443986Z",
     "start_time": "2024-03-19T12:12:55.933271Z"
    }
   },
   "source": [
    "G_unweighted_directed = nx.from_pandas_edgelist(edges, source='from', target='to',edge_attr=None, create_using=nx.DiGraph())\n",
    "nx.draw(G_unweighted_directed)"
   ],
   "execution_count": 9,
   "outputs": [
    {
     "data": {
      "text/plain": "<Figure size 640x480 with 1 Axes>",
      "image/png": "[encoded data removed]"
     },
     "metadata": {},
     "output_type": "display_data"
    }
   ]
  },
  {
   "cell_type": "markdown",
   "metadata": {
    "id": "9xXoUj25_jrw"
   },
   "source": [
    "**1.4. Create directed and weighted network using nodes and edges datasets (0.25 point)**"
   ]
  },
  {
   "cell_type": "code",
   "metadata": {
    "id": "cE7jb27DG7d7",
    "ExecuteTime": {
     "end_time": "2024-03-19T12:14:37.155541Z",
     "start_time": "2024-03-19T12:13:48.446426Z"
    }
   },
   "source": [
    "G_weighted_directed = nx.from_pandas_edgelist(edges, source='from', target='to',edge_attr=True, create_using=nx.DiGraph())\n",
    "nx.draw(G_weighted_directed)"
   ],
   "execution_count": 10,
   "outputs": [
    {
     "data": {
      "text/plain": "<Figure size 640x480 with 1 Axes>",
      "image/png": "[encoded data removed]"
     },
     "metadata": {},
     "output_type": "display_data"
    }
   ]
  },
  {
   "cell_type": "markdown",
   "metadata": {
    "id": "6t_ZEW2Z_pMD"
   },
   "source": [
    "**1.5. Check whether undirected and unweighted network is connected or disconected (0.5 point).**\n",
    "\n",
    "<font color='red'>How you should answer the following questions. First, in the `#TODO` cell you have to write the code representing your solution. And in the `Your answer` cell write the answer in your own words. It does not have to be a full sentence.</font>"
   ]
  },
  {
   "cell_type": "code",
   "metadata": {
    "id": "yEHLgW06G7d8",
    "ExecuteTime": {
     "end_time": "2024-03-19T12:18:17.150650Z",
     "start_time": "2024-03-19T12:18:17.141141Z"
    }
   },
   "source": [
    "#TODO\n",
    "nx.algorithms.components.number_connected_components(G_unweighted_undirected)"
   ],
   "execution_count": 45,
   "outputs": [
    {
     "data": {
      "text/plain": "1"
     },
     "execution_count": 45,
     "metadata": {},
     "output_type": "execute_result"
    }
   ]
  },
  {
   "cell_type": "markdown",
   "metadata": {
    "id": "7yu1FwG597Es"
   },
   "source": [
    "**<font color='red'>Your answer:</font>** The undirected and unweighted network is connected, since it has only one connected component."
   ]
  },
  {
   "cell_type": "markdown",
   "metadata": {
    "id": "z8-AgYruG7d8"
   },
   "source": [
    "# 2. Network properties (3 points)"
   ]
  },
  {
   "cell_type": "markdown",
   "metadata": {
    "id": "YONms-55G7d8"
   },
   "source": [
    "## 2.1. Edge density (0.5 points)."
   ]
  },
  {
   "cell_type": "markdown",
   "metadata": {
    "id": "JpVpGV9zAERc"
   },
   "source": [
    "**2.1.1. Calculate edge density for undirected and unweighted network (0.125 point);**"
   ]
  },
  {
   "cell_type": "code",
   "metadata": {
    "id": "sjes-lwQG7d8",
    "ExecuteTime": {
     "end_time": "2024-03-19T12:21:53.129941Z",
     "start_time": "2024-03-19T12:21:53.112391Z"
    }
   },
   "source": [
    "#TODO\n",
    "density_undirected_unweighted = nx.classes.function.density(G_unweighted_undirected)\n",
    "print(density_undirected_unweighted)"
   ],
   "execution_count": 46,
   "outputs": [
    {
     "name": "stdout",
     "output_type": "stream",
     "text": [
      "0.41424246413057786\n"
     ]
    }
   ]
  },
  {
   "cell_type": "markdown",
   "metadata": {
    "id": "F5WSBcN4G7d8"
   },
   "source": [
    "**<font color='red'>Your answer:</font>** 0.414"
   ]
  },
  {
   "cell_type": "markdown",
   "metadata": {
    "id": "gDrF2KyuAQ_a"
   },
   "source": [
    "**2.1.2. Calculate edge density for directed and unweighted network (0.125 point)**"
   ]
  },
  {
   "cell_type": "code",
   "metadata": {
    "id": "GWaAtV-YG7d9",
    "ExecuteTime": {
     "end_time": "2024-03-19T12:22:46.359825Z",
     "start_time": "2024-03-19T12:22:46.344393Z"
    }
   },
   "source": [
    "density_directed_unweighted = nx.classes.function.density(G_unweighted_directed)\n",
    "print(density_directed_unweighted)"
   ],
   "execution_count": 48,
   "outputs": [
    {
     "name": "stdout",
     "output_type": "stream",
     "text": [
      "0.30134702294765475\n"
     ]
    }
   ]
  },
  {
   "cell_type": "markdown",
   "metadata": {
    "id": "udomo4dOG7d9"
   },
   "source": [
    "**<font color='red'>Your answer:</font>** 0.301"
   ]
  },
  {
   "cell_type": "markdown",
   "source": [
    "**2.1.3 Compare the results you received. Which network has a higher edge density? Why? (0.25 point)**"
   ],
   "metadata": {
    "id": "_K8lNNu2VF05"
   }
  },
  {
   "cell_type": "markdown",
   "source": [
    "**<font color='red'>Your answer:</font>** The directed graph can have more edges compared to the undirected graph for the same number of nodes (since edges are bidirectional in undirected graphs). Therefore the edge density is lower in the directed graph."
   ],
   "metadata": {
    "id": "ynF6t4kJV9sN"
   }
  },
  {
   "cell_type": "markdown",
   "metadata": {
    "id": "H1DhbRKSG7d9"
   },
   "source": [
    "## 2.2. Clustering coefficient (1 point)"
   ]
  },
  {
   "cell_type": "markdown",
   "metadata": {
    "id": "H5noZ89bAc3k"
   },
   "source": [
    "**2.2.1. Calculate average clustering coefficient for undirected and unweighted network (0.125 point);**"
   ]
  },
  {
   "cell_type": "code",
   "metadata": {
    "id": "JG3qgDHbG7d9",
    "ExecuteTime": {
     "end_time": "2024-03-19T12:28:26.322198Z",
     "start_time": "2024-03-19T12:28:26.186501Z"
    }
   },
   "source": [
    "#TODO\n",
    "clustering_undirected_unweighted = nx.average_clustering(G_unweighted_undirected)\n",
    "print(clustering_undirected_unweighted)"
   ],
   "execution_count": 50,
   "outputs": [
    {
     "name": "stdout",
     "output_type": "stream",
     "text": [
      "0.8124991062175769\n"
     ]
    }
   ]
  },
  {
   "cell_type": "markdown",
   "metadata": {
    "id": "vE7jrxQGG7d9"
   },
   "source": [
    "**<font color='red'>Your answer:</font>** 0.812"
   ]
  },
  {
   "cell_type": "markdown",
   "metadata": {
    "id": "SUZZs6AFAhVw"
   },
   "source": [
    "**2.2.2. Calculate average clustering coefficient for directed and unweighted network (0.125 point);**"
   ]
  },
  {
   "cell_type": "code",
   "metadata": {
    "id": "yZto1olwG7d9",
    "ExecuteTime": {
     "end_time": "2024-03-19T12:28:28.750078Z",
     "start_time": "2024-03-19T12:28:27.926336Z"
    }
   },
   "source": [
    "#TODO\n",
    "clustering_directed_unweighted = nx.average_clustering(G_unweighted_directed)\n",
    "print(clustering_directed_unweighted)"
   ],
   "execution_count": 51,
   "outputs": [
    {
     "name": "stdout",
     "output_type": "stream",
     "text": [
      "0.7480679346326198\n"
     ]
    }
   ]
  },
  {
   "cell_type": "markdown",
   "metadata": {
    "id": "lU3l6i_1G7d-"
   },
   "source": [
    "**<font color='red'>Your answer:</font>** 0.748"
   ]
  },
  {
   "cell_type": "markdown",
   "source": [
    "**2.2.3 Compare the results you received for unweighted networks. Which network has a higher average clustering coefficient? Why? (0.25 point);**"
   ],
   "metadata": {
    "id": "XWwde31SYa4X"
   }
  },
  {
   "cell_type": "markdown",
   "source": [
    "**<font color='red'>Your answer:</font>** Clustering coefficients in directed graphs tend to be lower because the formation of triangles is less likely due to the directed nature of edges (there are more possible triangles). Therefore the clustering coefficient is lower in the directed graph."
   ],
   "metadata": {
    "id": "Nz6l0MRhYdL5"
   }
  },
  {
   "cell_type": "markdown",
   "metadata": {
    "id": "6KihTvrsAi-V"
   },
   "source": [
    "**2.2.4. Calculate average clustering coefficient for undirected and weighted network (0.125 point);**"
   ]
  },
  {
   "cell_type": "code",
   "metadata": {
    "id": "R7oFjLZdG7d-",
    "ExecuteTime": {
     "end_time": "2024-03-19T12:33:18.961015Z",
     "start_time": "2024-03-19T12:33:18.832557Z"
    }
   },
   "source": [
    "#TODO\n",
    "clustering_undirected_weighted = nx.average_clustering(G_weighted_undirected)\n",
    "print(clustering_undirected_weighted)"
   ],
   "execution_count": 53,
   "outputs": [
    {
     "name": "stdout",
     "output_type": "stream",
     "text": [
      "0.8124991062175769\n"
     ]
    }
   ]
  },
  {
   "cell_type": "markdown",
   "metadata": {
    "id": "3Es9S2NuG7d-"
   },
   "source": [
    "**<font color='red'>Your answer:</font>** 0.812"
   ]
  },
  {
   "cell_type": "markdown",
   "metadata": {
    "id": "XemdJ2MtAkML"
   },
   "source": [
    "**2.2.5. Calculate average clustering coefficient for directed and weighted network (0.125 point);**"
   ]
  },
  {
   "cell_type": "code",
   "metadata": {
    "id": "v_9fuKNQG7d-",
    "ExecuteTime": {
     "end_time": "2024-03-19T12:33:31.612138Z",
     "start_time": "2024-03-19T12:33:30.945891Z"
    }
   },
   "source": [
    "#TODO\n",
    "clustering_directed_weighted = nx.average_clustering(G_weighted_directed)\n",
    "print(clustering_directed_weighted)"
   ],
   "execution_count": 55,
   "outputs": [
    {
     "name": "stdout",
     "output_type": "stream",
     "text": [
      "0.7480679346326198\n"
     ]
    }
   ]
  },
  {
   "cell_type": "markdown",
   "metadata": {
    "id": "72LURaaxG7d-"
   },
   "source": [
    "**<font color='red'>Your answer:</font>** 0.748"
   ]
  },
  {
   "cell_type": "markdown",
   "source": [
    "**2.2.6 Compare the results you received for weighted networks. Which network has a higher average clustering coefficient? Why? (0.25 point);**"
   ],
   "metadata": {
    "id": "7FSoMIVNY4N1"
   }
  },
  {
   "cell_type": "markdown",
   "source": [
    "**<font color='red'>Your answer:</font>** Same results, leading to the conclusion that weights do not affect the clustering coefficient."
   ],
   "metadata": {
    "id": "AgomSAtxZEoH"
   }
  },
  {
   "cell_type": "markdown",
   "metadata": {
    "id": "krMdtTD8G7d_"
   },
   "source": [
    "## 2.3. Diameter (0.5 point)"
   ]
  },
  {
   "cell_type": "markdown",
   "metadata": {
    "id": "8fhUcsAtAnsW"
   },
   "source": [
    "**2.3.1. Calculate diameter for undirected and unweighted network (0.125 point); and interpret the result (0.125 point)**"
   ]
  },
  {
   "cell_type": "code",
   "metadata": {
    "id": "0cMakJtsG7d_",
    "ExecuteTime": {
     "end_time": "2024-03-19T12:40:09.939710Z",
     "start_time": "2024-03-19T12:40:09.848973Z"
    }
   },
   "source": [
    "#TODO\n",
    "diameter_undirected_unweighted = nx.diameter(G_unweighted_undirected)\n",
    "print(diameter_undirected_unweighted)"
   ],
   "execution_count": 56,
   "outputs": [
    {
     "name": "stdout",
     "output_type": "stream",
     "text": [
      "4\n"
     ]
    }
   ]
  },
  {
   "cell_type": "markdown",
   "metadata": {
    "id": "heTNrbknG7d_"
   },
   "source": [
    "**<font color='red'>Your answer:</font>** 4"
   ]
  },
  {
   "cell_type": "markdown",
   "metadata": {
    "id": "03O3AVaZApGX"
   },
   "source": [
    "**2.3.2. Calculate diameter for directed and unweighted network (0.125 point); and interpret the result (0.125 point)**"
   ]
  },
  {
   "cell_type": "code",
   "metadata": {
    "id": "UPMWLW36G7d_",
    "ExecuteTime": {
     "end_time": "2024-03-19T13:15:26.523234Z",
     "start_time": "2024-03-19T13:15:26.450999Z"
    }
   },
   "source": [
    "'''\n",
    "Hint: This will generate an error. Please find and explain the reason in your own words and suggest a possible solution.\n",
    "'''\n",
    "# diameter_directed_unweighted = nx.diameter(G_unweighted_directed)\n",
    "diameter_directed_unweighted = max([max(j.values()) for (i,j) in nx.shortest_path_length(G_unweighted_directed)])\n",
    "print(diameter_directed_unweighted)"
   ],
   "execution_count": 65,
   "outputs": [
    {
     "name": "stdout",
     "output_type": "stream",
     "text": [
      "3\n"
     ]
    }
   ]
  },
  {
   "cell_type": "markdown",
   "metadata": {
    "id": "z-FW0L61G7d_"
   },
   "source": [
    "[For further help](https://stackoverflow.com/questions/33114746/why-does-networkx-say-my-directed-graph-is-disconnected-when-finding-diameter)"
   ]
  },
  {
   "cell_type": "markdown",
   "metadata": {
    "id": "ovf1zMTWG7d_"
   },
   "source": [
    "**<font color='red'>Your answer:</font>**  There are nodes that cannot be reached from other nodes in the graph following the direction of edges. The alternative solution however provides us that the diameter should be 3 (maximum distance found)"
   ]
  },
  {
   "cell_type": "markdown",
   "metadata": {
    "id": "pS2JJgJzG7eA"
   },
   "source": [
    "## 2.4. Average path length (1 point)"
   ]
  },
  {
   "cell_type": "markdown",
   "metadata": {
    "id": "0xgdAM-cAqge"
   },
   "source": [
    "**2.4.1. Calculate average path lenth for undirected and unweighted network (0.125 point);**"
   ]
  },
  {
   "cell_type": "code",
   "metadata": {
    "id": "WmxjVYeyG7eB",
    "ExecuteTime": {
     "end_time": "2024-03-19T13:07:57.410509Z",
     "start_time": "2024-03-19T13:07:57.302510Z"
    }
   },
   "source": [
    "avg_path_undirected_unweighted = nx.average_shortest_path_length(G_unweighted_undirected)\n",
    "print(avg_path_undirected_unweighted)"
   ],
   "execution_count": 60,
   "outputs": [
    {
     "name": "stdout",
     "output_type": "stream",
     "text": [
      "1.601246105919003\n"
     ]
    }
   ]
  },
  {
   "cell_type": "markdown",
   "metadata": {
    "id": "_TU0iyvQG7eB"
   },
   "source": [
    "**<font color='red'>Your answer:</font>** 1.6"
   ]
  },
  {
   "cell_type": "markdown",
   "metadata": {
    "id": "PHwTk56pArtX"
   },
   "source": [
    "**2.4.2. Calculate average path lenth for directed and unweighted network (0.125 point);**"
   ]
  },
  {
   "cell_type": "code",
   "metadata": {
    "id": "EcJyWQB0G7eB",
    "ExecuteTime": {
     "end_time": "2024-03-19T13:17:34.322239Z",
     "start_time": "2024-03-19T13:17:34.226585Z"
    }
   },
   "source": [
    "from statistics import mean\n",
    "avg_path_directed_unweighted = mean([max(j.values()) for (i,j) in nx.shortest_path_length(G_unweighted_directed)])\n",
    "print(avg_path_directed_unweighted)"
   ],
   "execution_count": 67,
   "outputs": [
    {
     "name": "stdout",
     "output_type": "stream",
     "text": [
      "2.0093457943925235\n"
     ]
    }
   ]
  },
  {
   "cell_type": "markdown",
   "metadata": {
    "id": "ejdDRrljG7eB"
   },
   "source": [
    "**<font color='red'>Your answer:</font>** 2"
   ]
  },
  {
   "cell_type": "markdown",
   "source": [
    "**2.4.3 Compare the results you received for unweighted networks. Which network has a higher average path length? Why? (0.25 point);**"
   ],
   "metadata": {
    "id": "t0NZHaHya5ao"
   }
  },
  {
   "cell_type": "markdown",
   "source": [
    "**<font color='red'>Your answer:</font>** \n",
    "The average shortest path length typically increases in a directed graph compared to an undirected graph due to the presence of directed edges, which can restrict the traversal between nodes in certain directions. "
   ],
   "metadata": {
    "id": "E4VnRvEqboVa"
   }
  },
  {
   "cell_type": "markdown",
   "metadata": {
    "id": "5gM3Jw47As-K"
   },
   "source": [
    "**2.4.4. Calculate average path lenth for undirected and weighted network (0.125 point);**"
   ]
  },
  {
   "cell_type": "code",
   "metadata": {
    "id": "ChLI93bHG7eB",
    "ExecuteTime": {
     "end_time": "2024-03-19T13:24:55.451682Z",
     "start_time": "2024-03-19T13:24:54.314236Z"
    }
   },
   "source": [
    "#TODO\n",
    "avg_path_undirected_weighted = nx.average_shortest_path_length(G_weighted_undirected, weight='weight')\n",
    "print(avg_path_undirected_weighted)"
   ],
   "execution_count": 76,
   "outputs": [
    {
     "name": "stdout",
     "output_type": "stream",
     "text": [
      "2.084638673160458\n"
     ]
    }
   ]
  },
  {
   "cell_type": "markdown",
   "metadata": {
    "id": "ai07FzJ-G7eC"
   },
   "source": [
    "**<font color='red'>Your answer:</font>** 2.084"
   ]
  },
  {
   "cell_type": "markdown",
   "metadata": {
    "id": "MTHIRzHyAuCo"
   },
   "source": [
    "**2.4.5. Calculate average path lenth for directed and weighted network (0.125 point);**"
   ]
  },
  {
   "cell_type": "code",
   "metadata": {
    "id": "i2Af8JVbG7eC",
    "ExecuteTime": {
     "end_time": "2024-03-19T13:26:17.511679Z",
     "start_time": "2024-03-19T13:26:16.877850Z"
    }
   },
   "source": [
    "#TODO\n",
    "avg_path_directed_weighted = mean([max(j.values()) for (i,j) in nx.shortest_path_length(G_weighted_directed, weight='weight')])\n",
    "print(avg_path_directed_weighted)"
   ],
   "execution_count": 78,
   "outputs": [
    {
     "name": "stdout",
     "output_type": "stream",
     "text": [
      "3.2196261682242993\n"
     ]
    }
   ]
  },
  {
   "cell_type": "markdown",
   "metadata": {
    "id": "mQPof8kUG7eC"
   },
   "source": [
    "**<font color='red'>Your answer:</font>** 3.219"
   ]
  },
  {
   "cell_type": "markdown",
   "source": [
    "**2.4.6 Compare the results you received for weighted networks with unweighted networks. Which network type (unweighted vs weighted)  has a higher average path length? Why? (0.25 point);**"
   ],
   "metadata": {
    "id": "d_s91EdEbyNT"
   }
  },
  {
   "cell_type": "markdown",
   "source": [
    "**<font color='red'>Your answer:</font>** Weighted graphs tend to have increased average path length, since the \"cost\" of traversing an edge is increased in some cases due to weights."
   ],
   "metadata": {
    "id": "ss7csnuEb_dt"
   }
  },
  {
   "cell_type": "markdown",
   "metadata": {
    "id": "HCXHAiTEG7eC"
   },
   "source": [
    "# 3. Network centrality measures (2 points)"
   ]
  },
  {
   "cell_type": "markdown",
   "metadata": {
    "id": "r5mxP_jOG7eC"
   },
   "source": [
    "## 3.1. Degree centrality (0.5 points)."
   ]
  },
  {
   "cell_type": "markdown",
   "metadata": {
    "id": "0U4pMfPsAw0Z"
   },
   "source": [
    "**3.1.1. Find the top 4 countries based on degree centrality for undirected and unweighted network (0.25 point).**"
   ]
  },
  {
   "cell_type": "code",
   "metadata": {
    "id": "a89y1Pb8G7eC",
    "ExecuteTime": {
     "end_time": "2024-03-19T12:14:37.372155Z",
     "start_time": "2024-03-19T12:14:37.358737Z"
    }
   },
   "source": [
    "'''\n",
    "Hint: In case our network is created using edgelist, we need to map it with the actual country name provided in the \"nodes\" dataframe.\n",
    "'''\n",
    "#TODO"
   ],
   "execution_count": 24,
   "outputs": [
    {
     "data": {
      "text/plain": "'\\nHint: In case our network is created using edgelist, we need to map it with the actual country name provided in the \"nodes\" dataframe.\\n'"
     },
     "execution_count": 24,
     "metadata": {},
     "output_type": "execute_result"
    }
   ]
  },
  {
   "cell_type": "markdown",
   "metadata": {
    "id": "xUx8DywXG7eD"
   },
   "source": [
    "**<font color='red'>Your answer:</font>**"
   ]
  },
  {
   "cell_type": "markdown",
   "metadata": {
    "id": "iM7ND8hOAyIP"
   },
   "source": [
    "**3.1.2. Find the top 4 countries based on degree centrality for directed and unweighted network (0.25 point).**"
   ]
  },
  {
   "cell_type": "code",
   "metadata": {
    "id": "z6eh4YknG7eD",
    "ExecuteTime": {
     "end_time": "2024-03-19T12:14:37.387796Z",
     "start_time": "2024-03-19T12:14:37.374381Z"
    }
   },
   "source": [
    "#TODO"
   ],
   "execution_count": 25,
   "outputs": []
  },
  {
   "cell_type": "markdown",
   "metadata": {
    "id": "Z3RZ6duCG7eD"
   },
   "source": [
    "**<font color='red'>Your answer:</font>**"
   ]
  },
  {
   "cell_type": "markdown",
   "metadata": {
    "id": "99F1UMv5G7eD"
   },
   "source": [
    "## 3.2. Closeness centrality (0.5 points)."
   ]
  },
  {
   "cell_type": "markdown",
   "metadata": {
    "id": "-MlgjqS4AzRH"
   },
   "source": [
    "**3.2.1. Find the top 4 countries based on closeness centrality for undirected and weighted network (0.25 point)**"
   ]
  },
  {
   "cell_type": "code",
   "metadata": {
    "id": "F0-UXeymG7eD",
    "ExecuteTime": {
     "end_time": "2024-03-19T12:14:37.403659Z",
     "start_time": "2024-03-19T12:14:37.389796Z"
    }
   },
   "source": [
    "'''\n",
    "Hint: Create 'distance' using 'weight' feature. Refer lab 04 for detail.\n",
    "'''\n",
    "#TODO"
   ],
   "execution_count": 26,
   "outputs": [
    {
     "data": {
      "text/plain": "\"\\nHint: Create 'distance' using 'weight' feature. Refer lab 04 for detail.\\n\""
     },
     "execution_count": 26,
     "metadata": {},
     "output_type": "execute_result"
    }
   ]
  },
  {
   "cell_type": "markdown",
   "metadata": {
    "id": "ShPmYN8cG7eD"
   },
   "source": [
    "**<font color='red'>Your answer:</font>**"
   ]
  },
  {
   "cell_type": "markdown",
   "metadata": {
    "id": "vo-_uKxTA0av"
   },
   "source": [
    "**3.2.2. Find the top 4 countries based on closeness centrality for directed and weighted network (0.25 point)**"
   ]
  },
  {
   "cell_type": "code",
   "metadata": {
    "id": "_IX1WKFyG7eE",
    "ExecuteTime": {
     "end_time": "2024-03-19T12:14:37.419145Z",
     "start_time": "2024-03-19T12:14:37.405662Z"
    }
   },
   "source": [
    "'''\n",
    "Hint: Create 'distance' using 'weight' feature. Refer lab 04 for detail.\n",
    "'''\n",
    "#TODO"
   ],
   "execution_count": 27,
   "outputs": [
    {
     "data": {
      "text/plain": "\"\\nHint: Create 'distance' using 'weight' feature. Refer lab 04 for detail.\\n\""
     },
     "execution_count": 27,
     "metadata": {},
     "output_type": "execute_result"
    }
   ]
  },
  {
   "cell_type": "markdown",
   "metadata": {
    "id": "pS1DgOepG7eE"
   },
   "source": [
    "**<font color='red'>Your answer:</font>**"
   ]
  },
  {
   "cell_type": "markdown",
   "metadata": {
    "id": "zIZAOnqPG7eE"
   },
   "source": [
    "## 3.3. Betweenness centrality (0.5 points)."
   ]
  },
  {
   "cell_type": "markdown",
   "metadata": {
    "id": "v9bIAGLYA1e9"
   },
   "source": [
    "**3.3.1. Find the top 4 countries based on Betweenness centrality for undirected and unweighted network (0.25 point)**"
   ]
  },
  {
   "cell_type": "code",
   "metadata": {
    "id": "3HzWoCBTG7eE",
    "ExecuteTime": {
     "end_time": "2024-03-19T12:14:37.434674Z",
     "start_time": "2024-03-19T12:14:37.421780Z"
    }
   },
   "source": [
    "#TODO"
   ],
   "execution_count": 28,
   "outputs": []
  },
  {
   "cell_type": "markdown",
   "metadata": {
    "id": "CO9cIfqJG7eE"
   },
   "source": [
    "**<font color='red'>Your answer:</font>**"
   ]
  },
  {
   "cell_type": "markdown",
   "metadata": {
    "id": "ENYGaXRcA2rx"
   },
   "source": [
    "**3.3.2. Plotted the undirected and unweighted network by highlighting the most important nodes (according to betweenness centrality)\n",
    "using different size and/or color (0.25 point)**"
   ]
  },
  {
   "cell_type": "code",
   "metadata": {
    "id": "fHKE05esG7eE",
    "ExecuteTime": {
     "end_time": "2024-03-19T12:14:37.450136Z",
     "start_time": "2024-03-19T12:14:37.436676Z"
    }
   },
   "source": [
    "#TODO"
   ],
   "execution_count": 29,
   "outputs": []
  },
  {
   "cell_type": "markdown",
   "metadata": {
    "id": "81Pp91eYG7eF"
   },
   "source": [
    "## 3.4. Eigenvector centrality (0.5 points)."
   ]
  },
  {
   "cell_type": "markdown",
   "metadata": {
    "id": "dJiP-Of-A32g"
   },
   "source": [
    "**3.4.1. Find the top 4 countries based on Eigenvector centrality for undirected and unweighted network (0.25 point).**"
   ]
  },
  {
   "cell_type": "code",
   "metadata": {
    "id": "EanhA_erG7eF",
    "ExecuteTime": {
     "end_time": "2024-03-19T12:14:37.465557Z",
     "start_time": "2024-03-19T12:14:37.452223Z"
    }
   },
   "source": [
    "#TODO"
   ],
   "execution_count": 30,
   "outputs": []
  },
  {
   "cell_type": "markdown",
   "metadata": {
    "id": "h0MtKvs2G7eF"
   },
   "source": [
    "**<font color='red'>Your answer:</font>**"
   ]
  },
  {
   "cell_type": "markdown",
   "metadata": {
    "id": "-ApRsCNiA4-a"
   },
   "source": [
    "**3.4.2. Find the top 4 countries based on Eigenvector centrality for directed and weighted network (0.225 point).**"
   ]
  },
  {
   "cell_type": "code",
   "metadata": {
    "id": "oKbjBAtYG7eF",
    "ExecuteTime": {
     "end_time": "2024-03-19T12:14:37.480861Z",
     "start_time": "2024-03-19T12:14:37.467651Z"
    }
   },
   "source": [
    "#TODO"
   ],
   "execution_count": 31,
   "outputs": []
  },
  {
   "cell_type": "markdown",
   "metadata": {
    "id": "xyLCKQyAG7eF"
   },
   "source": [
    "**<font color='red'>Your answer:</font>**"
   ]
  },
  {
   "cell_type": "markdown",
   "metadata": {
    "id": "ZAIv0tT2G7eF"
   },
   "source": [
    "# 4. Community detection (2 points)"
   ]
  },
  {
   "cell_type": "markdown",
   "metadata": {
    "id": "Q82L3saiG7eG"
   },
   "source": [
    "## 4.1. Girvan–Newman (Edge betweenness) (0.5 points)"
   ]
  },
  {
   "cell_type": "markdown",
   "metadata": {
    "id": "dyPj_Dj0A8Ff"
   },
   "source": [
    "**4.1.1. Report the optimal number of communities you find using Girvan–Newman algorithm for undirected and unweighted network (0.25 point)**"
   ]
  },
  {
   "cell_type": "code",
   "metadata": {
    "id": "zhq2wdEwG7eG",
    "ExecuteTime": {
     "end_time": "2024-03-19T12:14:37.496705Z",
     "start_time": "2024-03-19T12:14:37.483291Z"
    }
   },
   "source": [
    "#TODO"
   ],
   "execution_count": 32,
   "outputs": []
  },
  {
   "cell_type": "markdown",
   "metadata": {
    "id": "OqMUzUZmG7eG"
   },
   "source": [
    "**<font color='red'>Your answer:</font>**"
   ]
  },
  {
   "cell_type": "markdown",
   "metadata": {
    "id": "0onpxvVkA9Q-"
   },
   "source": [
    "**4.1.2. Plotted the undirected and unweighted network by highlighting the nodes in various communities (according to the optimal number of communities based on Girvan–Newman algorithm) using different color (0.25 point).**"
   ]
  },
  {
   "cell_type": "code",
   "metadata": {
    "id": "y9GxH4GsG7eG",
    "ExecuteTime": {
     "end_time": "2024-03-19T12:14:37.511995Z",
     "start_time": "2024-03-19T12:14:37.499365Z"
    }
   },
   "source": [
    "#TODO"
   ],
   "execution_count": 33,
   "outputs": []
  },
  {
   "cell_type": "markdown",
   "metadata": {
    "id": "R8VzevcbG7eH"
   },
   "source": [
    "## 4.2. Louvian (0.5 points)"
   ]
  },
  {
   "cell_type": "markdown",
   "metadata": {
    "id": "PpSuUNLmA-pR"
   },
   "source": [
    "**4.2.1. Report the number of communities you find using Louvian algorithm for undirected and unweighted network (0.25 point)**"
   ]
  },
  {
   "cell_type": "code",
   "metadata": {
    "id": "ZMkZVhNJG7eH",
    "ExecuteTime": {
     "end_time": "2024-03-19T12:14:37.527647Z",
     "start_time": "2024-03-19T12:14:37.514152Z"
    }
   },
   "source": [
    "#TODO"
   ],
   "execution_count": 34,
   "outputs": []
  },
  {
   "cell_type": "markdown",
   "metadata": {
    "id": "rkHYonlLG7eH"
   },
   "source": [
    "**<font color='red'>Your answer:</font>**"
   ]
  },
  {
   "cell_type": "markdown",
   "metadata": {
    "id": "8v3M80ZBA_pU"
   },
   "source": [
    "**4.2.2. Plotted the undirected and unweighted network by highlighting the nodes in various communities (according to Louvian algorithm) using different color (0.25 point).**"
   ]
  },
  {
   "cell_type": "code",
   "metadata": {
    "id": "G8Mvq0iLG7eH",
    "ExecuteTime": {
     "end_time": "2024-03-19T12:14:37.542670Z",
     "start_time": "2024-03-19T12:14:37.529736Z"
    }
   },
   "source": [
    "#TODO"
   ],
   "execution_count": 35,
   "outputs": []
  },
  {
   "cell_type": "markdown",
   "metadata": {
    "id": "ZT9OLPNpG7eH"
   },
   "source": [
    "## 4.3. Walk Trap (0.5 points)"
   ]
  },
  {
   "cell_type": "markdown",
   "metadata": {
    "id": "WJFnhUMEBAha"
   },
   "source": [
    "**4.3.1. Report the number of communities you find using Walk Trap algorithm (with step size = 4) for undirected and unweighted network (0.25 point)**"
   ]
  },
  {
   "cell_type": "code",
   "metadata": {
    "id": "RB21PcoIG7eH",
    "ExecuteTime": {
     "end_time": "2024-03-19T12:14:37.558539Z",
     "start_time": "2024-03-19T12:14:37.544927Z"
    }
   },
   "source": [
    "#TODO"
   ],
   "execution_count": 36,
   "outputs": []
  },
  {
   "cell_type": "markdown",
   "metadata": {
    "id": "O9tM0-7FG7eI"
   },
   "source": [
    "**<font color='red'>Your answer:</font>**"
   ]
  },
  {
   "cell_type": "markdown",
   "metadata": {
    "id": "_-CUM4XfBBaJ"
   },
   "source": [
    "**4.3.2. Plotted the undirected and unweighted network by highlighting the nodes in various communities (according to Walk Trap algorithm with step size = 4) using different color (0.25 point).**"
   ]
  },
  {
   "cell_type": "code",
   "metadata": {
    "id": "zMPA4ox1G7eI",
    "ExecuteTime": {
     "end_time": "2024-03-19T12:14:37.574487Z",
     "start_time": "2024-03-19T12:14:37.560181Z"
    }
   },
   "source": [
    "#TODO"
   ],
   "execution_count": 37,
   "outputs": []
  },
  {
   "cell_type": "markdown",
   "metadata": {
    "id": "cRTvBWbCG7eI"
   },
   "source": [
    "## 4.4. Label propagation (0.5 points)"
   ]
  },
  {
   "cell_type": "markdown",
   "metadata": {
    "id": "M3G2TfxyBCYR"
   },
   "source": [
    "**4.4.1. Report the number of communities you find using Label propagation algorithm for undirected and unweighted network (0.25 point)**"
   ]
  },
  {
   "cell_type": "code",
   "metadata": {
    "id": "AOkJD6KEG7eI",
    "ExecuteTime": {
     "end_time": "2024-03-19T12:14:37.590458Z",
     "start_time": "2024-03-19T12:14:37.576487Z"
    }
   },
   "source": [
    "#TODO"
   ],
   "execution_count": 38,
   "outputs": []
  },
  {
   "cell_type": "markdown",
   "metadata": {
    "id": "GyMBXkpvG7eI"
   },
   "source": [
    "**<font color='red'>Your answer:</font>**"
   ]
  },
  {
   "cell_type": "markdown",
   "metadata": {
    "id": "Bcor1h-9BDpr"
   },
   "source": [
    "**4.4.2. Plotted the undirected and unweighted network by highlighting the nodes in various communities (according to Label propagation algorithm) using different color (0.25 point).**"
   ]
  },
  {
   "cell_type": "code",
   "metadata": {
    "id": "PwE6nX_TG7eJ",
    "ExecuteTime": {
     "end_time": "2024-03-19T12:14:37.606042Z",
     "start_time": "2024-03-19T12:14:37.592459Z"
    }
   },
   "source": [
    "#TODO"
   ],
   "execution_count": 39,
   "outputs": []
  },
  {
   "cell_type": "markdown",
   "metadata": {
    "id": "z98rpcfcG7eJ"
   },
   "source": [
    "# 5. Network Visualization Using Gephi (1.5 points)"
   ]
  },
  {
   "cell_type": "markdown",
   "metadata": {
    "id": "PdldGxPGbtbE"
   },
   "source": [
    "**5.1. Create graph using gephi. Adjust the node size based on degree centrality (for undirected network) and color them based on modularity value. Please import your network as png and attach to the notebook (0.5 point)**\n",
    "\n",
    "<font color='red'>Please note that you don't need to upload the png file. You can insert it and save the notebook and it will be available to us.</font>"
   ]
  },
  {
   "cell_type": "code",
   "metadata": {
    "id": "d4nsr-CAG7eJ",
    "ExecuteTime": {
     "end_time": "2024-03-19T12:14:39.313035Z",
     "start_time": "2024-03-19T12:14:37.608265Z"
    }
   },
   "source": [
    "from IPython.display import Image\n",
    "Image(\"ImageName.png\")"
   ],
   "execution_count": 40,
   "outputs": [
    {
     "ename": "FileNotFoundError",
     "evalue": "No such file or directory: 'ImageName.png'",
     "output_type": "error",
     "traceback": [
      "\u001B[1;31m---------------------------------------------------------------------------\u001B[0m",
      "\u001B[1;31mTypeError\u001B[0m                                 Traceback (most recent call last)",
      "File \u001B[1;32m~\\AppData\\Local\\Programs\\Python\\Python38\\lib\\site-packages\\IPython\\core\\display.py:1045\u001B[0m, in \u001B[0;36mImage._data_and_metadata\u001B[1;34m(self, always_both)\u001B[0m\n\u001B[0;32m   1044\u001B[0m \u001B[38;5;28;01mtry\u001B[39;00m:\n\u001B[1;32m-> 1045\u001B[0m     b64_data \u001B[38;5;241m=\u001B[39m \u001B[43mb2a_base64\u001B[49m\u001B[43m(\u001B[49m\u001B[38;5;28;43mself\u001B[39;49m\u001B[38;5;241;43m.\u001B[39;49m\u001B[43mdata\u001B[49m\u001B[43m,\u001B[49m\u001B[43m \u001B[49m\u001B[43mnewline\u001B[49m\u001B[38;5;241;43m=\u001B[39;49m\u001B[38;5;28;43;01mFalse\u001B[39;49;00m\u001B[43m)\u001B[49m\u001B[38;5;241m.\u001B[39mdecode(\u001B[38;5;124m\"\u001B[39m\u001B[38;5;124mascii\u001B[39m\u001B[38;5;124m\"\u001B[39m)\n\u001B[0;32m   1046\u001B[0m \u001B[38;5;28;01mexcept\u001B[39;00m \u001B[38;5;167;01mTypeError\u001B[39;00m \u001B[38;5;28;01mas\u001B[39;00m e:\n",
      "\u001B[1;31mTypeError\u001B[0m: a bytes-like object is required, not 'str'",
      "\nThe above exception was the direct cause of the following exception:\n",
      "\u001B[1;31mFileNotFoundError\u001B[0m                         Traceback (most recent call last)",
      "File \u001B[1;32m~\\AppData\\Local\\Programs\\Python\\Python38\\lib\\site-packages\\IPython\\core\\formatters.py:974\u001B[0m, in \u001B[0;36mMimeBundleFormatter.__call__\u001B[1;34m(self, obj, include, exclude)\u001B[0m\n\u001B[0;32m    971\u001B[0m     method \u001B[38;5;241m=\u001B[39m get_real_method(obj, \u001B[38;5;28mself\u001B[39m\u001B[38;5;241m.\u001B[39mprint_method)\n\u001B[0;32m    973\u001B[0m     \u001B[38;5;28;01mif\u001B[39;00m method \u001B[38;5;129;01mis\u001B[39;00m \u001B[38;5;129;01mnot\u001B[39;00m \u001B[38;5;28;01mNone\u001B[39;00m:\n\u001B[1;32m--> 974\u001B[0m         \u001B[38;5;28;01mreturn\u001B[39;00m \u001B[43mmethod\u001B[49m\u001B[43m(\u001B[49m\u001B[43minclude\u001B[49m\u001B[38;5;241;43m=\u001B[39;49m\u001B[43minclude\u001B[49m\u001B[43m,\u001B[49m\u001B[43m \u001B[49m\u001B[43mexclude\u001B[49m\u001B[38;5;241;43m=\u001B[39;49m\u001B[43mexclude\u001B[49m\u001B[43m)\u001B[49m\n\u001B[0;32m    975\u001B[0m     \u001B[38;5;28;01mreturn\u001B[39;00m \u001B[38;5;28;01mNone\u001B[39;00m\n\u001B[0;32m    976\u001B[0m \u001B[38;5;28;01melse\u001B[39;00m:\n",
      "File \u001B[1;32m~\\AppData\\Local\\Programs\\Python\\Python38\\lib\\site-packages\\IPython\\core\\display.py:1035\u001B[0m, in \u001B[0;36mImage._repr_mimebundle_\u001B[1;34m(self, include, exclude)\u001B[0m\n\u001B[0;32m   1033\u001B[0m \u001B[38;5;28;01mif\u001B[39;00m \u001B[38;5;28mself\u001B[39m\u001B[38;5;241m.\u001B[39membed:\n\u001B[0;32m   1034\u001B[0m     mimetype \u001B[38;5;241m=\u001B[39m \u001B[38;5;28mself\u001B[39m\u001B[38;5;241m.\u001B[39m_mimetype\n\u001B[1;32m-> 1035\u001B[0m     data, metadata \u001B[38;5;241m=\u001B[39m \u001B[38;5;28;43mself\u001B[39;49m\u001B[38;5;241;43m.\u001B[39;49m\u001B[43m_data_and_metadata\u001B[49m\u001B[43m(\u001B[49m\u001B[43malways_both\u001B[49m\u001B[38;5;241;43m=\u001B[39;49m\u001B[38;5;28;43;01mTrue\u001B[39;49;00m\u001B[43m)\u001B[49m\n\u001B[0;32m   1036\u001B[0m     \u001B[38;5;28;01mif\u001B[39;00m metadata:\n\u001B[0;32m   1037\u001B[0m         metadata \u001B[38;5;241m=\u001B[39m {mimetype: metadata}\n",
      "File \u001B[1;32m~\\AppData\\Local\\Programs\\Python\\Python38\\lib\\site-packages\\IPython\\core\\display.py:1047\u001B[0m, in \u001B[0;36mImage._data_and_metadata\u001B[1;34m(self, always_both)\u001B[0m\n\u001B[0;32m   1045\u001B[0m     b64_data \u001B[38;5;241m=\u001B[39m b2a_base64(\u001B[38;5;28mself\u001B[39m\u001B[38;5;241m.\u001B[39mdata, newline\u001B[38;5;241m=\u001B[39m\u001B[38;5;28;01mFalse\u001B[39;00m)\u001B[38;5;241m.\u001B[39mdecode(\u001B[38;5;124m\"\u001B[39m\u001B[38;5;124mascii\u001B[39m\u001B[38;5;124m\"\u001B[39m)\n\u001B[0;32m   1046\u001B[0m \u001B[38;5;28;01mexcept\u001B[39;00m \u001B[38;5;167;01mTypeError\u001B[39;00m \u001B[38;5;28;01mas\u001B[39;00m e:\n\u001B[1;32m-> 1047\u001B[0m     \u001B[38;5;28;01mraise\u001B[39;00m \u001B[38;5;167;01mFileNotFoundError\u001B[39;00m(\n\u001B[0;32m   1048\u001B[0m         \u001B[38;5;124m\"\u001B[39m\u001B[38;5;124mNo such file or directory: \u001B[39m\u001B[38;5;124m'\u001B[39m\u001B[38;5;132;01m%s\u001B[39;00m\u001B[38;5;124m'\u001B[39m\u001B[38;5;124m\"\u001B[39m \u001B[38;5;241m%\u001B[39m (\u001B[38;5;28mself\u001B[39m\u001B[38;5;241m.\u001B[39mdata)) \u001B[38;5;28;01mfrom\u001B[39;00m \u001B[38;5;21;01me\u001B[39;00m\n\u001B[0;32m   1049\u001B[0m md \u001B[38;5;241m=\u001B[39m {}\n\u001B[0;32m   1050\u001B[0m \u001B[38;5;28;01mif\u001B[39;00m \u001B[38;5;28mself\u001B[39m\u001B[38;5;241m.\u001B[39mmetadata:\n",
      "\u001B[1;31mFileNotFoundError\u001B[0m: No such file or directory: 'ImageName.png'"
     ]
    },
    {
     "ename": "FileNotFoundError",
     "evalue": "No such file or directory: 'ImageName.png'",
     "output_type": "error",
     "traceback": [
      "\u001B[1;31m---------------------------------------------------------------------------\u001B[0m",
      "\u001B[1;31mTypeError\u001B[0m                                 Traceback (most recent call last)",
      "File \u001B[1;32m~\\AppData\\Local\\Programs\\Python\\Python38\\lib\\site-packages\\IPython\\core\\display.py:1045\u001B[0m, in \u001B[0;36mImage._data_and_metadata\u001B[1;34m(self, always_both)\u001B[0m\n\u001B[0;32m   1044\u001B[0m \u001B[38;5;28;01mtry\u001B[39;00m:\n\u001B[1;32m-> 1045\u001B[0m     b64_data \u001B[38;5;241m=\u001B[39m \u001B[43mb2a_base64\u001B[49m\u001B[43m(\u001B[49m\u001B[38;5;28;43mself\u001B[39;49m\u001B[38;5;241;43m.\u001B[39;49m\u001B[43mdata\u001B[49m\u001B[43m,\u001B[49m\u001B[43m \u001B[49m\u001B[43mnewline\u001B[49m\u001B[38;5;241;43m=\u001B[39;49m\u001B[38;5;28;43;01mFalse\u001B[39;49;00m\u001B[43m)\u001B[49m\u001B[38;5;241m.\u001B[39mdecode(\u001B[38;5;124m\"\u001B[39m\u001B[38;5;124mascii\u001B[39m\u001B[38;5;124m\"\u001B[39m)\n\u001B[0;32m   1046\u001B[0m \u001B[38;5;28;01mexcept\u001B[39;00m \u001B[38;5;167;01mTypeError\u001B[39;00m \u001B[38;5;28;01mas\u001B[39;00m e:\n",
      "\u001B[1;31mTypeError\u001B[0m: a bytes-like object is required, not 'str'",
      "\nThe above exception was the direct cause of the following exception:\n",
      "\u001B[1;31mFileNotFoundError\u001B[0m                         Traceback (most recent call last)",
      "File \u001B[1;32m~\\AppData\\Local\\Programs\\Python\\Python38\\lib\\site-packages\\IPython\\core\\formatters.py:344\u001B[0m, in \u001B[0;36mBaseFormatter.__call__\u001B[1;34m(self, obj)\u001B[0m\n\u001B[0;32m    342\u001B[0m     method \u001B[38;5;241m=\u001B[39m get_real_method(obj, \u001B[38;5;28mself\u001B[39m\u001B[38;5;241m.\u001B[39mprint_method)\n\u001B[0;32m    343\u001B[0m     \u001B[38;5;28;01mif\u001B[39;00m method \u001B[38;5;129;01mis\u001B[39;00m \u001B[38;5;129;01mnot\u001B[39;00m \u001B[38;5;28;01mNone\u001B[39;00m:\n\u001B[1;32m--> 344\u001B[0m         \u001B[38;5;28;01mreturn\u001B[39;00m \u001B[43mmethod\u001B[49m\u001B[43m(\u001B[49m\u001B[43m)\u001B[49m\n\u001B[0;32m    345\u001B[0m     \u001B[38;5;28;01mreturn\u001B[39;00m \u001B[38;5;28;01mNone\u001B[39;00m\n\u001B[0;32m    346\u001B[0m \u001B[38;5;28;01melse\u001B[39;00m:\n",
      "File \u001B[1;32m~\\AppData\\Local\\Programs\\Python\\Python38\\lib\\site-packages\\IPython\\core\\display.py:1067\u001B[0m, in \u001B[0;36mImage._repr_png_\u001B[1;34m(self)\u001B[0m\n\u001B[0;32m   1065\u001B[0m \u001B[38;5;28;01mdef\u001B[39;00m \u001B[38;5;21m_repr_png_\u001B[39m(\u001B[38;5;28mself\u001B[39m):\n\u001B[0;32m   1066\u001B[0m     \u001B[38;5;28;01mif\u001B[39;00m \u001B[38;5;28mself\u001B[39m\u001B[38;5;241m.\u001B[39membed \u001B[38;5;129;01mand\u001B[39;00m \u001B[38;5;28mself\u001B[39m\u001B[38;5;241m.\u001B[39mformat \u001B[38;5;241m==\u001B[39m \u001B[38;5;28mself\u001B[39m\u001B[38;5;241m.\u001B[39m_FMT_PNG:\n\u001B[1;32m-> 1067\u001B[0m         \u001B[38;5;28;01mreturn\u001B[39;00m \u001B[38;5;28;43mself\u001B[39;49m\u001B[38;5;241;43m.\u001B[39;49m\u001B[43m_data_and_metadata\u001B[49m\u001B[43m(\u001B[49m\u001B[43m)\u001B[49m\n",
      "File \u001B[1;32m~\\AppData\\Local\\Programs\\Python\\Python38\\lib\\site-packages\\IPython\\core\\display.py:1047\u001B[0m, in \u001B[0;36mImage._data_and_metadata\u001B[1;34m(self, always_both)\u001B[0m\n\u001B[0;32m   1045\u001B[0m     b64_data \u001B[38;5;241m=\u001B[39m b2a_base64(\u001B[38;5;28mself\u001B[39m\u001B[38;5;241m.\u001B[39mdata, newline\u001B[38;5;241m=\u001B[39m\u001B[38;5;28;01mFalse\u001B[39;00m)\u001B[38;5;241m.\u001B[39mdecode(\u001B[38;5;124m\"\u001B[39m\u001B[38;5;124mascii\u001B[39m\u001B[38;5;124m\"\u001B[39m)\n\u001B[0;32m   1046\u001B[0m \u001B[38;5;28;01mexcept\u001B[39;00m \u001B[38;5;167;01mTypeError\u001B[39;00m \u001B[38;5;28;01mas\u001B[39;00m e:\n\u001B[1;32m-> 1047\u001B[0m     \u001B[38;5;28;01mraise\u001B[39;00m \u001B[38;5;167;01mFileNotFoundError\u001B[39;00m(\n\u001B[0;32m   1048\u001B[0m         \u001B[38;5;124m\"\u001B[39m\u001B[38;5;124mNo such file or directory: \u001B[39m\u001B[38;5;124m'\u001B[39m\u001B[38;5;132;01m%s\u001B[39;00m\u001B[38;5;124m'\u001B[39m\u001B[38;5;124m\"\u001B[39m \u001B[38;5;241m%\u001B[39m (\u001B[38;5;28mself\u001B[39m\u001B[38;5;241m.\u001B[39mdata)) \u001B[38;5;28;01mfrom\u001B[39;00m \u001B[38;5;21;01me\u001B[39;00m\n\u001B[0;32m   1049\u001B[0m md \u001B[38;5;241m=\u001B[39m {}\n\u001B[0;32m   1050\u001B[0m \u001B[38;5;28;01mif\u001B[39;00m \u001B[38;5;28mself\u001B[39m\u001B[38;5;241m.\u001B[39mmetadata:\n",
      "\u001B[1;31mFileNotFoundError\u001B[0m: No such file or directory: 'ImageName.png'"
     ]
    },
    {
     "data": {
      "text/plain": "<IPython.core.display.Image object>"
     },
     "execution_count": 40,
     "metadata": {},
     "output_type": "execute_result"
    }
   ]
  },
  {
   "cell_type": "markdown",
   "metadata": {
    "id": "fZm86RJ2czxI"
   },
   "source": [
    "**5.2. Create graph using gephi. Adjust the node size based on PageRank centrality (for undirected network) and color them based on modularity value. Please import your network as png and attach to the notebook (0.5 point)**"
   ]
  },
  {
   "cell_type": "code",
   "metadata": {
    "id": "Yah-KygXG7eJ",
    "ExecuteTime": {
     "end_time": "2024-03-19T12:14:39.328756Z",
     "start_time": "2024-03-19T12:14:39.319111Z"
    }
   },
   "source": [
    "#Image(\"ImageName.png\")"
   ],
   "execution_count": 41,
   "outputs": []
  },
  {
   "cell_type": "markdown",
   "metadata": {
    "id": "nf58Y08Kc1TT"
   },
   "source": [
    "**5.3. Create graph using gephi. Adjust the node size based on eigenvector centality (for undirected network) and color them based on modularity value. Please import your network as png and attach to the notebook (0.5 point)**"
   ]
  },
  {
   "cell_type": "code",
   "metadata": {
    "id": "iqDZmN3lcxB2",
    "ExecuteTime": {
     "end_time": "2024-03-19T12:14:39.344369Z",
     "start_time": "2024-03-19T12:14:39.331188Z"
    }
   },
   "source": [
    "#Image(\"ImageName.png\")"
   ],
   "execution_count": 42,
   "outputs": []
  },
  {
   "cell_type": "markdown",
   "source": [
    "# 6. Link prediction using varoius scoring method (5 points)"
   ],
   "metadata": {
    "id": "56qkVv84xKmW"
   }
  },
  {
   "cell_type": "markdown",
   "source": [
    "<font color='red'>At the start, we have provided the necessary codes. Please run all of these cells before starting tasks 6.1 through 6.3.</font>"
   ],
   "metadata": {
    "id": "JeSK6tqhxWlg"
   }
  },
  {
   "cell_type": "code",
   "source": [
    "#!pip install networkx==2.8 please install this version\n",
    "# !pip install scipy==1.8.0 please install this version\n",
    "!pip install networkx==2.8\n",
    "!pip install scipy==1.8.0"
   ],
   "metadata": {
    "id": "a4VSg0w8xZkC",
    "ExecuteTime": {
     "end_time": "2024-03-19T12:15:13.882242Z",
     "start_time": "2024-03-19T12:14:39.346655Z"
    }
   },
   "execution_count": 43,
   "outputs": [
    {
     "name": "stdout",
     "output_type": "stream",
     "text": [
      "Collecting networkx==2.8\n",
      "  Obtaining dependency information for networkx==2.8 from https://files.pythonhosted.org/packages/df/04/416751fe793a10a9b1c786d8dd93b80190ae745b3c9cb847c8f84fd119c2/networkx-2.8-py3-none-any.whl.metadata\n",
      "  Downloading networkx-2.8-py3-none-any.whl.metadata (5.0 kB)\n",
      "Downloading networkx-2.8-py3-none-any.whl (2.0 MB)\n",
      "   ---------------------------------------- 0.0/2.0 MB ? eta -:--:--\n",
      "   ---- ----------------------------------- 0.2/2.0 MB 4.6 MB/s eta 0:00:01\n",
      "   --------------------- ------------------ 1.1/2.0 MB 11.4 MB/s eta 0:00:01\n",
      "   ---------------------------------------- 2.0/2.0 MB 14.1 MB/s eta 0:00:00\n",
      "Installing collected packages: networkx\n",
      "  Attempting uninstall: networkx\n",
      "    Found existing installation: networkx 3.1\n",
      "    Uninstalling networkx-3.1:\n",
      "      Successfully uninstalled networkx-3.1\n",
      "Successfully installed networkx-2.8\n"
     ]
    },
    {
     "name": "stderr",
     "output_type": "stream",
     "text": [
      "\n",
      "[notice] A new release of pip is available: 23.2.1 -> 24.0\n",
      "[notice] To update, run: c:\\users\\kristjanlõhmus\\appdata\\local\\programs\\python\\python38\\python.exe -m pip install --upgrade pip\n"
     ]
    },
    {
     "name": "stdout",
     "output_type": "stream",
     "text": [
      "Collecting scipy==1.8.0\n",
      "  Obtaining dependency information for scipy==1.8.0 from https://files.pythonhosted.org/packages/56/a3/591dbf477c35f173279afa7b9ba8e13d9c7c3d001e09aebbf6100aae33a8/scipy-1.8.0-cp38-cp38-win_amd64.whl.metadata\n",
      "  Downloading scipy-1.8.0-cp38-cp38-win_amd64.whl.metadata (2.2 kB)\n",
      "Requirement already satisfied: numpy<1.25.0,>=1.17.3 in c:\\users\\kristjanlõhmus\\appdata\\local\\programs\\python\\python38\\lib\\site-packages (from scipy==1.8.0) (1.24.4)\n",
      "Downloading scipy-1.8.0-cp38-cp38-win_amd64.whl (36.9 MB)\n",
      "   ---------------------------------------- 0.0/36.9 MB ? eta -:--:--\n",
      "   ---------------------------------------- 0.3/36.9 MB 7.0 MB/s eta 0:00:06\n",
      "   - -------------------------------------- 1.0/36.9 MB 13.3 MB/s eta 0:00:03\n",
      "   - -------------------------------------- 1.0/36.9 MB 13.3 MB/s eta 0:00:03\n",
      "   - -------------------------------------- 1.8/36.9 MB 9.4 MB/s eta 0:00:04\n",
      "   -- ------------------------------------- 2.1/36.9 MB 10.2 MB/s eta 0:00:04\n",
      "   -- ------------------------------------- 2.7/36.9 MB 9.0 MB/s eta 0:00:04\n",
      "   --- ------------------------------------ 3.1/36.9 MB 9.6 MB/s eta 0:00:04\n",
      "   --- ------------------------------------ 3.3/36.9 MB 8.4 MB/s eta 0:00:05\n",
      "   ---- ----------------------------------- 4.2/36.9 MB 9.9 MB/s eta 0:00:04\n",
      "   ---- ----------------------------------- 4.2/36.9 MB 9.9 MB/s eta 0:00:04\n",
      "   ----- ---------------------------------- 4.7/36.9 MB 8.8 MB/s eta 0:00:04\n",
      "   ----- ---------------------------------- 5.2/36.9 MB 9.6 MB/s eta 0:00:04\n",
      "   ----- ---------------------------------- 5.2/36.9 MB 9.6 MB/s eta 0:00:04\n",
      "   ------ --------------------------------- 6.3/36.9 MB 9.3 MB/s eta 0:00:04\n",
      "   ------ --------------------------------- 6.3/36.9 MB 9.3 MB/s eta 0:00:04\n",
      "   ------ --------------------------------- 6.3/36.9 MB 9.3 MB/s eta 0:00:04\n",
      "   ------- -------------------------------- 6.6/36.9 MB 8.1 MB/s eta 0:00:04\n",
      "   ------- -------------------------------- 7.3/36.9 MB 8.7 MB/s eta 0:00:04\n",
      "   ------- -------------------------------- 7.3/36.9 MB 8.7 MB/s eta 0:00:04\n",
      "   -------- ------------------------------- 7.9/36.9 MB 8.4 MB/s eta 0:00:04\n",
      "   --------- ------------------------------ 8.4/36.9 MB 8.6 MB/s eta 0:00:04\n",
      "   --------- ------------------------------ 8.5/36.9 MB 8.1 MB/s eta 0:00:04\n",
      "   ---------- ----------------------------- 9.4/36.9 MB 8.7 MB/s eta 0:00:04\n",
      "   ---------- ----------------------------- 9.4/36.9 MB 8.7 MB/s eta 0:00:04\n",
      "   ---------- ----------------------------- 9.4/36.9 MB 8.7 MB/s eta 0:00:04\n",
      "   ---------- ----------------------------- 9.4/36.9 MB 8.7 MB/s eta 0:00:04\n",
      "   ---------- ----------------------------- 9.4/36.9 MB 8.7 MB/s eta 0:00:04\n",
      "   ---------- ----------------------------- 9.4/36.9 MB 8.7 MB/s eta 0:00:04\n",
      "   ---------- ----------------------------- 9.4/36.9 MB 6.7 MB/s eta 0:00:05\n",
      "   ----------- ---------------------------- 10.5/36.9 MB 7.2 MB/s eta 0:00:04\n",
      "   ----------- ---------------------------- 10.5/36.9 MB 7.2 MB/s eta 0:00:04\n",
      "   ------------ --------------------------- 11.1/36.9 MB 6.8 MB/s eta 0:00:04\n",
      "   ------------ --------------------------- 11.5/36.9 MB 7.3 MB/s eta 0:00:04\n",
      "   ------------ --------------------------- 11.5/36.9 MB 7.3 MB/s eta 0:00:04\n",
      "   ------------- -------------------------- 12.4/36.9 MB 7.2 MB/s eta 0:00:04\n",
      "   ------------- -------------------------- 12.6/36.9 MB 7.3 MB/s eta 0:00:04\n",
      "   -------------- ------------------------- 13.1/36.9 MB 6.9 MB/s eta 0:00:04\n",
      "   -------------- ------------------------- 13.6/36.9 MB 7.2 MB/s eta 0:00:04\n",
      "   -------------- ------------------------- 13.6/36.9 MB 7.2 MB/s eta 0:00:04\n",
      "   --------------- ------------------------ 14.7/36.9 MB 7.3 MB/s eta 0:00:04\n",
      "   --------------- ------------------------ 14.7/36.9 MB 7.3 MB/s eta 0:00:04\n",
      "   ---------------- ----------------------- 15.1/36.9 MB 6.8 MB/s eta 0:00:04\n",
      "   ----------------- ---------------------- 15.7/36.9 MB 7.3 MB/s eta 0:00:03\n",
      "   ----------------- ---------------------- 15.8/36.9 MB 7.0 MB/s eta 0:00:04\n",
      "   ------------------ --------------------- 16.8/36.9 MB 7.6 MB/s eta 0:00:03\n",
      "   ------------------ --------------------- 17.3/36.9 MB 7.3 MB/s eta 0:00:03\n",
      "   ------------------- -------------------- 17.8/36.9 MB 7.7 MB/s eta 0:00:03\n",
      "   ------------------- -------------------- 17.8/36.9 MB 7.7 MB/s eta 0:00:03\n",
      "   -------------------- ------------------- 18.5/36.9 MB 7.3 MB/s eta 0:00:03\n",
      "   -------------------- ------------------- 18.9/36.9 MB 7.5 MB/s eta 0:00:03\n",
      "   -------------------- ------------------- 19.3/36.9 MB 7.3 MB/s eta 0:00:03\n",
      "   --------------------- ------------------ 19.9/36.9 MB 9.5 MB/s eta 0:00:02\n",
      "   --------------------- ------------------ 19.9/36.9 MB 9.5 MB/s eta 0:00:02\n",
      "   ---------------------- ----------------- 20.7/36.9 MB 9.6 MB/s eta 0:00:02\n",
      "   ---------------------- ----------------- 21.0/36.9 MB 9.5 MB/s eta 0:00:02\n",
      "   ---------------------- ----------------- 21.0/36.9 MB 9.5 MB/s eta 0:00:02\n",
      "   ---------------------- ----------------- 21.0/36.9 MB 9.5 MB/s eta 0:00:02\n",
      "   ---------------------- ----------------- 21.0/36.9 MB 9.5 MB/s eta 0:00:02\n",
      "   ----------------------- ---------------- 21.3/36.9 MB 8.0 MB/s eta 0:00:02\n",
      "   ----------------------- ---------------- 22.0/36.9 MB 8.6 MB/s eta 0:00:02\n",
      "   ----------------------- ---------------- 22.0/36.9 MB 8.6 MB/s eta 0:00:02\n",
      "   ----------------------- ---------------- 22.0/36.9 MB 8.6 MB/s eta 0:00:02\n",
      "   ----------------------- ---------------- 22.1/36.9 MB 7.6 MB/s eta 0:00:02\n",
      "   ------------------------- -------------- 23.1/36.9 MB 8.0 MB/s eta 0:00:02\n",
      "   ------------------------- -------------- 23.1/36.9 MB 8.0 MB/s eta 0:00:02\n",
      "   ------------------------- -------------- 23.1/36.9 MB 8.0 MB/s eta 0:00:02\n",
      "   ------------------------- -------------- 23.1/36.9 MB 8.0 MB/s eta 0:00:02\n",
      "   ------------------------- -------------- 23.8/36.9 MB 7.0 MB/s eta 0:00:02\n",
      "   -------------------------- ------------- 24.1/36.9 MB 7.4 MB/s eta 0:00:02\n",
      "   -------------------------- ------------- 24.6/36.9 MB 7.1 MB/s eta 0:00:02\n",
      "   --------------------------- ------------ 25.2/36.9 MB 7.4 MB/s eta 0:00:02\n",
      "   --------------------------- ------------ 25.6/36.9 MB 7.0 MB/s eta 0:00:02\n",
      "   ---------------------------- ----------- 26.2/36.9 MB 7.4 MB/s eta 0:00:02\n",
      "   ---------------------------- ----------- 26.2/36.9 MB 7.4 MB/s eta 0:00:02\n",
      "   ---------------------------- ----------- 26.2/36.9 MB 7.4 MB/s eta 0:00:02\n",
      "   ---------------------------- ----------- 26.2/36.9 MB 7.4 MB/s eta 0:00:02\n",
      "   ---------------------------- ----------- 26.2/36.9 MB 7.4 MB/s eta 0:00:02\n",
      "   ---------------------------- ----------- 26.2/36.9 MB 7.4 MB/s eta 0:00:02\n",
      "   ---------------------------- ----------- 26.2/36.9 MB 7.4 MB/s eta 0:00:02\n",
      "   ----------------------------- ---------- 27.1/36.9 MB 6.2 MB/s eta 0:00:02\n",
      "   ----------------------------- ---------- 27.3/36.9 MB 6.2 MB/s eta 0:00:02\n",
      "   ------------------------------ --------- 27.9/36.9 MB 6.1 MB/s eta 0:00:02\n",
      "   ------------------------------ --------- 28.3/36.9 MB 6.4 MB/s eta 0:00:02\n",
      "   ------------------------------ --------- 28.3/36.9 MB 6.4 MB/s eta 0:00:02\n",
      "   ------------------------------- -------- 29.2/36.9 MB 6.2 MB/s eta 0:00:02\n",
      "   ------------------------------- -------- 29.4/36.9 MB 6.3 MB/s eta 0:00:02\n",
      "   -------------------------------- ------- 30.4/36.9 MB 6.3 MB/s eta 0:00:02\n",
      "   -------------------------------- ------- 30.4/36.9 MB 6.3 MB/s eta 0:00:02\n",
      "   --------------------------------- ------ 30.7/36.9 MB 6.0 MB/s eta 0:00:02\n",
      "   ---------------------------------- ----- 31.5/36.9 MB 6.9 MB/s eta 0:00:01\n",
      "   ---------------------------------- ----- 31.5/36.9 MB 6.9 MB/s eta 0:00:01\n",
      "   ----------------------------------- ---- 32.5/36.9 MB 7.4 MB/s eta 0:00:01\n",
      "   ----------------------------------- ---- 32.5/36.9 MB 7.4 MB/s eta 0:00:01\n",
      "   ----------------------------------- ---- 32.5/36.9 MB 6.9 MB/s eta 0:00:01\n",
      "   ------------------------------------ --- 33.5/36.9 MB 7.7 MB/s eta 0:00:01\n",
      "   ------------------------------------ --- 33.5/36.9 MB 7.7 MB/s eta 0:00:01\n",
      "   ------------------------------------- -- 34.3/36.9 MB 7.3 MB/s eta 0:00:01\n",
      "   ------------------------------------- -- 34.6/36.9 MB 7.7 MB/s eta 0:00:01\n",
      "   ------------------------------------- -- 34.8/36.9 MB 7.3 MB/s eta 0:00:01\n",
      "   -------------------------------------- - 35.6/36.9 MB 7.8 MB/s eta 0:00:01\n",
      "   -------------------------------------- - 35.6/36.9 MB 7.8 MB/s eta 0:00:01\n",
      "   ---------------------------------------  36.7/36.9 MB 9.6 MB/s eta 0:00:01\n",
      "   ---------------------------------------  36.7/36.9 MB 9.6 MB/s eta 0:00:01\n",
      "   ---------------------------------------  36.9/36.9 MB 9.0 MB/s eta 0:00:01\n",
      "   ---------------------------------------  36.9/36.9 MB 9.0 MB/s eta 0:00:01\n",
      "   ---------------------------------------  36.9/36.9 MB 9.0 MB/s eta 0:00:01\n",
      "   ---------------------------------------  36.9/36.9 MB 9.0 MB/s eta 0:00:01\n",
      "   ---------------------------------------  36.9/36.9 MB 9.0 MB/s eta 0:00:01\n",
      "   ---------------------------------------- 36.9/36.9 MB 7.1 MB/s eta 0:00:00\n",
      "Installing collected packages: scipy\n",
      "Successfully installed scipy-1.8.0\n"
     ]
    },
    {
     "name": "stderr",
     "output_type": "stream",
     "text": [
      "\n",
      "[notice] A new release of pip is available: 23.2.1 -> 24.0\n",
      "[notice] To update, run: c:\\users\\kristjanlõhmus\\appdata\\local\\programs\\python\\python38\\python.exe -m pip install --upgrade pip\n"
     ]
    }
   ]
  },
  {
   "cell_type": "code",
   "source": [
    "import pandas as pd\n",
    "import numpy as np\n",
    "from tqdm import tqdm\n",
    "import networkx as nx"
   ],
   "metadata": {
    "id": "lQATBDPpxZm1",
    "ExecuteTime": {
     "end_time": "2024-03-19T12:15:14.070490Z",
     "start_time": "2024-03-19T12:15:13.884245Z"
    }
   },
   "execution_count": 44,
   "outputs": [
    {
     "ename": "ModuleNotFoundError",
     "evalue": "No module named 'tqdm'",
     "output_type": "error",
     "traceback": [
      "\u001B[1;31m---------------------------------------------------------------------------\u001B[0m",
      "\u001B[1;31mModuleNotFoundError\u001B[0m                       Traceback (most recent call last)",
      "Cell \u001B[1;32mIn[44], line 3\u001B[0m\n\u001B[0;32m      1\u001B[0m \u001B[38;5;28;01mimport\u001B[39;00m \u001B[38;5;21;01mpandas\u001B[39;00m \u001B[38;5;28;01mas\u001B[39;00m \u001B[38;5;21;01mpd\u001B[39;00m\n\u001B[0;32m      2\u001B[0m \u001B[38;5;28;01mimport\u001B[39;00m \u001B[38;5;21;01mnumpy\u001B[39;00m \u001B[38;5;28;01mas\u001B[39;00m \u001B[38;5;21;01mnp\u001B[39;00m\n\u001B[1;32m----> 3\u001B[0m \u001B[38;5;28;01mfrom\u001B[39;00m \u001B[38;5;21;01mtqdm\u001B[39;00m \u001B[38;5;28;01mimport\u001B[39;00m tqdm\n\u001B[0;32m      4\u001B[0m \u001B[38;5;28;01mimport\u001B[39;00m \u001B[38;5;21;01mnetworkx\u001B[39;00m \u001B[38;5;28;01mas\u001B[39;00m \u001B[38;5;21;01mnx\u001B[39;00m\n",
      "\u001B[1;31mModuleNotFoundError\u001B[0m: No module named 'tqdm'"
     ]
    }
   ]
  },
  {
   "cell_type": "code",
   "source": [
    "# load nodes details\n",
    "with open(\"fb-pages-food.nodes\") as f:\n",
    "    fb_nodes = f.read().splitlines()\n",
    "\n",
    "# load edges (or links)\n",
    "with open(\"fb-pages-food.edges\") as f:\n",
    "    fb_links = f.read().splitlines()\n",
    "\n",
    "len(fb_nodes), len(fb_links)"
   ],
   "metadata": {
    "id": "hoCkEjPJxZpv",
    "ExecuteTime": {
     "end_time": "2024-03-19T12:15:14.073795Z",
     "start_time": "2024-03-19T12:15:14.073795Z"
    }
   },
   "execution_count": null,
   "outputs": []
  },
  {
   "cell_type": "code",
   "source": [
    "# capture nodes in 2 separate lists\n",
    "node_list_1 = []\n",
    "node_list_2 = []\n",
    "\n",
    "for i in tqdm(fb_links):\n",
    "  node_list_1.append(i.split(',')[0])\n",
    "  node_list_2.append(i.split(',')[1])\n",
    "\n",
    "fb_df = pd.DataFrame({'node_1': node_list_1, 'node_2': node_list_2})\n",
    "fb_df = fb_df[fb_df.node_1 != fb_df.node_2]\n",
    "fb_df.head()"
   ],
   "metadata": {
    "id": "w9BlV5wAxZtD",
    "ExecuteTime": {
     "start_time": "2024-03-19T12:15:14.077191Z"
    }
   },
   "execution_count": null,
   "outputs": []
  },
  {
   "cell_type": "code",
   "source": [
    "# create graph\n",
    "G = nx.from_pandas_edgelist(fb_df, \"node_1\", \"node_2\", create_using=nx.Graph())\n",
    "\n",
    "# combine all nodes in a list\n",
    "node_list = node_list_1 + node_list_2\n",
    "\n",
    "# remove duplicate items from the list\n",
    "node_list = list(dict.fromkeys(node_list))\n",
    "\n",
    "# build adjacency matrix\n",
    "adj_G = nx.to_numpy_matrix(G, nodelist = node_list)\n",
    "\n",
    "# get unconnected node-pairs\n",
    "all_unconnected_pairs = []\n",
    "\n",
    "# traverse adjacency matrix\n",
    "offset = 0\n",
    "for i in tqdm(range(adj_G.shape[0])):\n",
    "  for j in range(offset,adj_G.shape[1]):\n",
    "    if i != j:\n",
    "      if nx.shortest_path_length(G, str(i), str(j)) <= 2:\n",
    "        if adj_G[i,j] == 0:\n",
    "          all_unconnected_pairs.append([node_list[i],node_list[j]])\n",
    "\n",
    "  offset = offset + 1\n",
    "\n",
    "\n",
    "node_1_unlinked = [i[0] for i in all_unconnected_pairs]\n",
    "node_2_unlinked = [i[1] for i in all_unconnected_pairs]\n",
    "\n",
    "data = pd.DataFrame({'node_1':node_1_unlinked,\n",
    "                     'node_2':node_2_unlinked})\n",
    "\n",
    "# add target variable 'link'\n",
    "data['link'] = 0\n",
    "\n",
    "initial_node_count = len(G.nodes)\n",
    "\n",
    "fb_df_temp = fb_df.copy()\n",
    "\n",
    "# empty list to store removable links\n",
    "omissible_links_index = []\n",
    "\n",
    "for i in tqdm(fb_df.index.values):\n",
    "\n",
    "  # remove a node pair and build a new graph\n",
    "  G_temp = nx.from_pandas_edgelist(fb_df_temp.drop(index = i), \"node_1\", \"node_2\", create_using=nx.Graph())\n",
    "\n",
    "  # check there is no spliting of graph and number of nodes is same\n",
    "  if (nx.number_connected_components(G_temp) == 1) and (len(G_temp.nodes) == initial_node_count):\n",
    "    omissible_links_index.append(i)\n",
    "    fb_df_temp = fb_df_temp.drop(index = i)\n",
    "\n",
    "\n",
    "# create dataframe of removable edges\n",
    "fb_df_ghost = fb_df.loc[omissible_links_index]\n",
    "\n",
    "# add the target variable 'link'\n",
    "fb_df_ghost['link'] = 1\n",
    "\n",
    "data = data.append(fb_df_ghost[['node_1', 'node_2', 'link']], ignore_index=True)\n",
    "\n",
    "# drop removable edges\n",
    "fb_df_partial = fb_df.drop(index=fb_df_ghost.index.values)\n",
    "\n",
    "# build graph\n",
    "G_data = nx.from_pandas_edgelist(fb_df_partial, \"node_1\", \"node_2\", create_using=nx.Graph())"
   ],
   "metadata": {
    "id": "ALR2OmdqxpgO",
    "ExecuteTime": {
     "start_time": "2024-03-19T12:15:14.080100Z"
    }
   },
   "execution_count": null,
   "outputs": []
  },
  {
   "cell_type": "code",
   "source": [
    "data"
   ],
   "metadata": {
    "id": "ayDAw35bxpjj",
    "ExecuteTime": {
     "start_time": "2024-03-19T12:15:14.082823Z"
    }
   },
   "execution_count": null,
   "outputs": []
  },
  {
   "cell_type": "markdown",
   "source": [
    "## **6.1. Calculate all the scores for every pair in \"data\" using graph \"G_data\". (3.5 points)**\n",
    "\n",
    "<font color='red'>You can add extra cells if required.</font>"
   ],
   "metadata": {
    "id": "22DziKfMxujM"
   }
  },
  {
   "cell_type": "code",
   "source": [
    "# 1. Number of common neighbors\n",
    "data['common_neighbor'] = #TODO"
   ],
   "metadata": {
    "id": "3n2uscUQxwna"
   },
   "execution_count": null,
   "outputs": []
  },
  {
   "cell_type": "code",
   "source": [
    "# 2. Jaccard coefficient\n",
    "data['jaccard_similarity'] = #TODO"
   ],
   "metadata": {
    "id": "AGW8Ggodxwqn",
    "ExecuteTime": {
     "start_time": "2024-03-19T12:15:14.088028Z"
    }
   },
   "execution_count": null,
   "outputs": []
  },
  {
   "cell_type": "code",
   "source": [
    "# 3. Adamic/Adar\n",
    "data['adamic_adar_index'] = #TODO"
   ],
   "metadata": {
    "id": "7-kuSkuXxwuO"
   },
   "execution_count": null,
   "outputs": []
  },
  {
   "cell_type": "code",
   "source": [
    "# 4. Shortest path\n",
    "data['shortest_path'] = #TODO"
   ],
   "metadata": {
    "id": "qsatmD0nx4xS",
    "ExecuteTime": {
     "start_time": "2024-03-19T12:15:14.093132Z"
    }
   },
   "execution_count": null,
   "outputs": []
  },
  {
   "cell_type": "code",
   "source": [
    "# 5. Preferrential attachment\n",
    "data['preferrential_attachment'] = #TODO"
   ],
   "metadata": {
    "id": "f0xrCyy0x4zt",
    "ExecuteTime": {
     "start_time": "2024-03-19T12:15:14.095436Z"
    }
   },
   "execution_count": null,
   "outputs": []
  },
  {
   "cell_type": "code",
   "source": [
    "# 6. Hitting times\n",
    "data['hitting_time'] = #TODO"
   ],
   "metadata": {
    "id": "biVSIPNMx43G",
    "ExecuteTime": {
     "start_time": "2024-03-19T12:15:14.097878Z"
    }
   },
   "execution_count": null,
   "outputs": []
  },
  {
   "cell_type": "code",
   "source": [
    "# 7. SimRank\n",
    "data['simrank'] = #TODO"
   ],
   "metadata": {
    "id": "oBLaLjSMx5J8"
   },
   "execution_count": null,
   "outputs": []
  },
  {
   "cell_type": "markdown",
   "source": [
    "## **6.2. Create features and target value for the model. Split dataset into training and testing. (0.5 point)**"
   ],
   "metadata": {
    "id": "teY_0IBYx-8K"
   }
  },
  {
   "cell_type": "code",
   "source": [
    "from sklearn.linear_model import LogisticRegression\n",
    "from sklearn.metrics import roc_auc_score\n",
    "from sklearn.model_selection import train_test_split"
   ],
   "metadata": {
    "id": "dkZCU-vJyB3G"
   },
   "execution_count": null,
   "outputs": []
  },
  {
   "cell_type": "code",
   "source": [
    "'''\n",
    "Hint: Remove columns node_1, node_2 and link while creating \"x\" from data.\n",
    "'''\n",
    "x = #TODO\n",
    "y = #TODO"
   ],
   "metadata": {
    "id": "P_3EMXhIyB6D"
   },
   "execution_count": null,
   "outputs": []
  },
  {
   "cell_type": "code",
   "source": [
    "xtrain, xtest, ytrain, ytest = train_test_split(x, y, test_size = 0.3, random_state = 35)"
   ],
   "metadata": {
    "id": "fMvuhrJmyB8f"
   },
   "execution_count": null,
   "outputs": []
  },
  {
   "cell_type": "markdown",
   "source": [
    "## **6.3. Apply logistic regression model and report auc roc score. (1 point)**"
   ],
   "metadata": {
    "id": "E80KS-hNyJji"
   }
  },
  {
   "cell_type": "code",
   "source": [
    "lr = LogisticRegression(class_weight=\"balanced\")\n",
    "\n",
    "lr.fit(#TODO)"
   ],
   "metadata": {
    "id": "nSBGOqfJyB_4"
   },
   "execution_count": null,
   "outputs": []
  },
  {
   "cell_type": "code",
   "source": [
    "predictions = lr.predict_proba(xtest)\n",
    "roc_auc_score(#TODO)"
   ],
   "metadata": {
    "id": "PTRfHcYfyM1h"
   },
   "execution_count": null,
   "outputs": []
  },
  {
   "cell_type": "markdown",
   "metadata": {
    "id": "9glEtATCGeQs"
   },
   "source": [
    "## How long did it take you to solve the homework?\n",
    "\n",
    "* Please answer as precisely as you can. It does not affect your points or grade in any way. It is okay, if it took 0.5 hours or 24 hours. The collected information will be used to improve future homeworks. Please change X into your estimate.\n",
    "\n",
    "<font color='red'> **Answer:**</font> X hours\n",
    "\n",
    "## What is the level of difficulty for this homework?\n",
    "Please put a number between $0:10$ ($0:$ easy, $10:$ difficult)\n",
    "\n",
    "<font color='red'> **Answer:**</font>"
   ]
  }
 ]
}
